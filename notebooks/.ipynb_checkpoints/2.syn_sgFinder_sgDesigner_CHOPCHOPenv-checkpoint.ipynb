{
 "cells": [
  {
   "cell_type": "code",
   "execution_count": null,
   "id": "2e029c25",
   "metadata": {},
   "outputs": [],
   "source": [
    "# This is the consequence processor for sgRNA designed by CHOP CHOP\n",
    "# This notebook will process the local chopchop output and is tied to the source function sgFinder\n",
    "# Author: Yiyun\n",
    "# Date: Sep, 2022"
   ]
  },
  {
   "cell_type": "code",
   "execution_count": 1,
   "id": "1c0ccd22",
   "metadata": {},
   "outputs": [],
   "source": [
    "from os import listdir\n",
    "from os.path import join\n",
    "import itertools\n",
    "import pandas as pd \n",
    "from tqdm import tqdm\n",
    "import pickle\n",
    "from Bio import SeqIO\n",
    "\n",
    "from os.path import exists\n",
    "from os import listdir,makedirs\n",
    "\n",
    "import sys\n",
    "sys.path.append('../')\n",
    "from src import syn_sgFinder"
   ]
  },
  {
   "cell_type": "code",
   "execution_count": 2,
   "id": "cf035e10",
   "metadata": {
    "scrolled": true
   },
   "outputs": [],
   "source": [
    "%load_ext autoreload\n",
    "%autoreload 2"
   ]
  },
  {
   "cell_type": "code",
   "execution_count": 3,
   "id": "7c876bb7",
   "metadata": {},
   "outputs": [],
   "source": [
    "out_path = '../data/output/sg_Finder'\n",
    "mrna_path = '../data/MANE'\n",
    "fpath = '../data/output/sg_out/'\n",
    "\n",
    "# Load all expressed transcripts\n",
    "f_genelist = pd.read_csv('../data/output/k562_comm_ess.txt', header =None)\n",
    "list_exp_trsp = pickle.load(open('../data/22Q2_gene_effect/expressed_transcripts.pkl','rb'))\n",
    "# Parse mRNA sequence dictionary, for use when sequence aligned to intron-exon junctions\n",
    "record_dict = SeqIO.to_dict(SeqIO.parse(join(mrna_path,'GRCh38_latest_rna.fna'), \"fasta\"))"
   ]
  },
  {
   "cell_type": "code",
   "execution_count": 52,
   "id": "dc15d1e1",
   "metadata": {},
   "outputs": [],
   "source": [
    "def run_sgFinder(input_genes, tag = 'ess', sg_p ='../data/output/sg_out' ):\n",
    "    out_path = '../data/output/sg_Finder'\n",
    "    \n",
    "    df_synsg_abe = pd.DataFrame()\n",
    "    df_synsg_cbe = pd.DataFrame()\n",
    "    df_abeCT = pd.DataFrame()\n",
    "    df_cbeCT = pd.DataFrame()\n",
    "\n",
    "    for genes in tqdm(input_genes):\n",
    "        sg_gene = syn_sgFinder.sgFinder_gene(genes, sg_path = sg_p)\n",
    "        try:\n",
    "            sg_gene.gene_cds_proc()\n",
    "        except ValueError as e:\n",
    "            print(e)\n",
    "            continue\n",
    "\n",
    "        df_synsg_abe_dt = pd.DataFrame()\n",
    "        df_synsg_cbe_dt = pd.DataFrame()\n",
    "        for idx, transcripts in list(itertools.product(sg_gene.sg_file.index,\\\n",
    "                                                           sg_gene.dict_exons.keys())):\n",
    "            if not transcripts in list_exp_trsp:\n",
    "    #             print(f'{transcripts} not expressed, skipping...')\n",
    "                continue # Pass the transcripts that are not expressed\n",
    "            else:\n",
    "                sg_sg = syn_sgFinder.sgFinder_sg(sg_gene.gene,idx)\n",
    "                check_point = sg_sg.process_BE_window(sg_gene)\n",
    "                if check_point:\n",
    "                    sg_trsp = syn_sgFinder.sgFinder_transcript(sg_gene.gene,idx,transcripts)\n",
    "                    sg_trsp.all_pos_consq(sg_gene,sg_sg,record_dict)\n",
    "\n",
    "                    df_synsg_abe = df_synsg_abe.append(sg_trsp.df_abe,ignore_index = True)\n",
    "                    df_synsg_cbe = df_synsg_cbe.append(sg_trsp.df_cbe,ignore_index = True)\n",
    "\n",
    "                    df_abeCT = df_abeCT.append(sg_trsp.df_abe_control,ignore_index = True)\n",
    "                    df_cbeCT = df_cbeCT.append(sg_trsp.df_cbe_control,ignore_index = True)\n",
    "\n",
    "                    df_synsg_abe_dt = df_synsg_abe_dt.append(sg_trsp.df_abe_ind,ignore_index = True)\n",
    "                    df_synsg_cbe_dt = df_synsg_cbe_dt.append(sg_trsp.df_cbe_ind,ignore_index = True)\n",
    "\n",
    "        df_synsg_abe_dt.to_csv(join(out_path,genes,f'df_abe_detail.csv'))\n",
    "        df_synsg_cbe_dt.to_csv(join(out_path,genes,f'df_cbe_detail.csv'))\n",
    "    \n",
    "    # Process and saving final result\n",
    "    ABE_synsg = df_synsg_abe[df_synsg_abe['syn_or_not'].apply(lambda x: all(x)&any(x))]\n",
    "    CBE_synsg = df_synsg_cbe[df_synsg_cbe['syn_or_not'].apply(lambda x: all(x)&any(x))]\n",
    "    \n",
    "    if not exists(join(out_path,tag)):\n",
    "        makedirs(join(out_path,tag))\n",
    "    ABE_synsg.to_csv(join(out_path,tag,'ABE_synsg.csv'))\n",
    "    CBE_synsg.to_csv(join(out_path,tag,'CBE_synsg.csv'))\n",
    "\n",
    "    df_abeCT.to_csv(join(out_path,tag,'ABE_CT.csv'))\n",
    "    df_cbeCT.to_csv(join(out_path,tag,'CBE_CT.csv'))\n",
    "    \n",
    "    return(ABE_synsg)"
   ]
  },
  {
   "cell_type": "markdown",
   "id": "a9a13c35",
   "metadata": {},
   "source": [
    "***Run essential gene list***"
   ]
  },
  {
   "cell_type": "code",
   "execution_count": 54,
   "id": "ecfab450",
   "metadata": {
    "scrolled": true
   },
   "outputs": [
    {
     "name": "stderr",
     "output_type": "stream",
     "text": [
      "\r",
      "  0%|                                                   | 0/122 [00:00<?, ?it/s]"
     ]
    },
    {
     "name": "stdout",
     "output_type": "stream",
     "text": [
      "Processing CLP1...Keep 423/477 low off-target sgRNAs...\n",
      "ATTACATCTCGTTTAGCAGA in gene CLP1 not aligned, skip...\n",
      "Finding mrna sequence in another exon...\n",
      "57661427 is in start/stop codon ...skippingCTACTTCAGAT\n",
      "57661427 is in start/stop codon ...skippingCTACTTCAGAT\n",
      "CTACTTCAGATCCATGAACC in gene CLP1 not aligned, skip...\n"
     ]
    },
    {
     "name": "stderr",
     "output_type": "stream",
     "text": [
      "\r",
      "  1%|▎                                          | 1/122 [00:03<06:45,  3.36s/it]"
     ]
    },
    {
     "name": "stdout",
     "output_type": "stream",
     "text": [
      "57659487 is in start/stop codon ...skippingATGGGAGAAGA\n",
      "ATGGGAGAAGAGGCTAATGA in gene CLP1 not aligned, skip...\n",
      "Processing RBBP4...Keep 4/354 low off-target sgRNAs...\n",
      "Processing EIF4A3...Keep 371/443 low off-target sgRNAs...\n",
      "CGTAAGCGTAGATGCCCCGC in gene EIF4A3 not aligned, skip...\n",
      "80146951 is in start/stop codon ...skippingATGGCGACCAC\n",
      "ATGGCGACCACGGCCACGAT in gene EIF4A3 not aligned, skip...\n",
      "CGTTTCACCAAGATGCGGAT in gene EIF4A3 not aligned, skip...\n",
      "Finding mrna sequence in another exon...\n",
      "Finding extra sequence in mRNA failed, skip...\n",
      "Finding mrna sequence in another exon...\n",
      "Finding extra sequence in mRNA failed, skip...\n"
     ]
    },
    {
     "name": "stderr",
     "output_type": "stream",
     "text": [
      "\r",
      "  2%|█                                          | 3/122 [00:06<03:55,  1.98s/it]"
     ]
    },
    {
     "name": "stdout",
     "output_type": "stream",
     "text": [
      "CTGAATATCCAAACACTGGA in gene EIF4A3 not aligned, skip...\n",
      "Processing RPS2...Keep 1/391 low off-target sgRNAs...\n",
      "Processing SFPQ...Keep 723/924 low off-target sgRNAs...\n",
      "CGTACTGAGCGCTTTGGGCA in gene SFPQ not aligned, skip...\n",
      "AACTCCTCGTCCAGTCATTG in gene SFPQ not aligned, skip...\n",
      "CGGGAAAGAGACATGCGAAT in gene SFPQ not aligned, skip...\n",
      "CTTGGCGCAAAAGATTTGCC in gene SFPQ not aligned, skip...\n",
      "Finding mrna sequence in another exon...\n",
      "Finding extra sequence in mRNA failed, skip...\n",
      "Finding mrna sequence in another exon...\n",
      "Finding extra sequence in mRNA failed, skip...\n",
      "35184463 is in start/stop codon ...skippingAAAATCGGGGT\n",
      "Finding mrna sequence in another exon...\n",
      "Finding extra sequence in mRNA failed, skip...\n"
     ]
    },
    {
     "name": "stderr",
     "output_type": "stream",
     "text": [
      "\r",
      "  4%|█▊                                         | 5/122 [00:12<04:51,  2.49s/it]"
     ]
    },
    {
     "name": "stdout",
     "output_type": "stream",
     "text": [
      "Processing MARS1...Keep 879/1027 low off-target sgRNAs...\n",
      "GCAAAAACGTCCCCGAAGCC in gene MARS1 not aligned, skip...\n",
      "CTTAAGCTCGACAGCATTGA in gene MARS1 not aligned, skip...\n",
      "Finding mrna sequence in another exon...\n",
      "57488097 is in start/stop codon ...skippingATGAGACTGTT\n",
      "ATGAGACTGTTCGTGAGTGA in gene MARS1 not aligned, skip...\n",
      "AGTACCTGAACTATGAGGAT in gene MARS1 not aligned, skip...\n",
      "Finding mrna sequence in another exon...\n",
      "Finding mrna sequence in another exon...\n",
      "CTTAGGCAGGTCCAGAAACA in gene MARS1 not aligned, skip...\n",
      "Finding mrna sequence in another exon...\n",
      "CAGGGAGGTAGGCGGGATCT in gene MARS1 not aligned, skip...\n",
      "AGCTGGGATGTTTGTGTCTA in gene MARS1 not aligned, skip...\n",
      "Finding mrna sequence in another exon...\n",
      "AATCACCCAGGACATTTTCC in gene MARS1 not aligned, skip...\n",
      "Finding mrna sequence in another exon...\n",
      "AGGAGCTGAGTGCCCTGCAC in gene MARS1 not aligned, skip...\n",
      "Finding mrna sequence in another exon...\n"
     ]
    },
    {
     "name": "stderr",
     "output_type": "stream",
     "text": [
      "\r",
      "  5%|██                                         | 6/122 [00:19<07:19,  3.79s/it]"
     ]
    },
    {
     "name": "stdout",
     "output_type": "stream",
     "text": [
      "57516572 is in start/stop codon ...skippingTACTTTTTCTT\n",
      "TACTTTTTCTTCTTGCCTTT in gene MARS1 need sequence not included in fasta file...\n",
      "Finding mrna sequence in another exon...\n",
      "Processing ATP6V0C...Keep 82/211 low off-target sgRNAs...\n",
      "Finding mrna sequence in another exon...\n",
      "Finding mrna sequence in another exon...\n"
     ]
    },
    {
     "name": "stderr",
     "output_type": "stream",
     "text": [
      "\r",
      "  6%|██▍                                        | 7/122 [00:20<05:37,  2.93s/it]"
     ]
    },
    {
     "name": "stdout",
     "output_type": "stream",
     "text": [
      "Processing PCNA...Keep 112/269 low off-target sgRNAs...\n",
      "CTGGTGAGGTTCACGCCCAT in gene PCNA not aligned, skip...\n"
     ]
    },
    {
     "name": "stderr",
     "output_type": "stream",
     "text": [
      "\r",
      "  7%|██▊                                        | 8/122 [00:21<04:28,  2.35s/it]"
     ]
    },
    {
     "name": "stdout",
     "output_type": "stream",
     "text": [
      "GAACAGGAGTACAGCTGTGT in gene PCNA not aligned, skip...\n",
      "5115291 is in start/stop codon ...skippingCTAAGATCCTT\n",
      "5115291 is in start/stop codon ...skippingCTAAGATCCTT\n",
      "CTAAGATCCTTCTTCATCCT in gene PCNA not aligned, skip...\n",
      "Processing PRC1...Keep 451/529 low off-target sgRNAs...\n",
      "Finding mrna sequence in another exon...\n",
      "Finding extra sequence in mRNA failed, skip...\n",
      "Finding mrna sequence in another exon...\n",
      "Finding extra sequence in mRNA failed, skip...\n",
      "CACTCAGGATGCTGCCGTTG in gene PRC1 not aligned, skip...\n",
      "Finding mrna sequence in another exon...\n",
      "Finding extra sequence in mRNA failed, skip...\n",
      "90967185 is in start/stop codon ...skippingCAGATTTGGAA\n",
      "90967185 is in start/stop codon ...skippingCAGATTTGGAA\n",
      "CAGATTTGGAAGCCTTTGAA in gene PRC1 need sequence not included in fasta file...\n"
     ]
    },
    {
     "name": "stderr",
     "output_type": "stream",
     "text": [
      "\r",
      "  7%|███▏                                       | 9/122 [00:25<05:18,  2.81s/it]"
     ]
    },
    {
     "name": "stdout",
     "output_type": "stream",
     "text": [
      "Processing DHX15...Keep 710/810 low off-target sgRNAs...\n",
      "24584384 is in start/stop codon ...skippingATGTCCAAGCG\n",
      "ATGTCCAAGCGGCACCGGTT in gene DHX15 not aligned, skip...\n",
      "ATCATGAATCGGTTCAGTGG in gene DHX15 not aligned, skip...\n",
      "Finding mrna sequence in another exon...\n",
      "Finding extra sequence in mRNA failed, skip...\n",
      "GAAGGATCGAGATCGAGACC in gene DHX15 not aligned, skip...\n",
      "Finding mrna sequence in another exon...\n",
      "Finding extra sequence in mRNA failed, skip...\n",
      "Finding mrna sequence in another exon...\n",
      "Finding extra sequence in mRNA failed, skip...\n",
      "24527930 is in start/stop codon ...skippingTCAGTACTGTG\n",
      "24527930 is in start/stop codon ...skippingTCAGTACTGTG\n",
      "TCAGTACTGTGAATATTCCT in gene DHX15 not aligned, skip...\n",
      "Finding mrna sequence in another exon...\n",
      "Finding extra sequence in mRNA failed, skip...\n",
      "Finding mrna sequence in another exon...\n",
      "Finding extra sequence in mRNA failed, skip...\n",
      "Finding mrna sequence in another exon...\n",
      "Finding extra sequence in mRNA failed, skip...\n"
     ]
    },
    {
     "name": "stderr",
     "output_type": "stream",
     "text": [
      "\r",
      "  8%|███▍                                      | 10/122 [00:31<06:54,  3.70s/it]"
     ]
    },
    {
     "name": "stdout",
     "output_type": "stream",
     "text": [
      "Processing SNRNP200...Keep 1979/2502 low off-target sgRNAs...\n",
      "Finding mrna sequence in another exon...\n",
      "Finding extra sequence in mRNA failed, skip...\n",
      "CCCATTCTCGCCCCCGATAA in gene SNRNP200 not aligned, skip...\n",
      "Finding mrna sequence in another exon...\n",
      "Finding extra sequence in mRNA failed, skip...\n",
      "Finding mrna sequence in another exon...\n",
      "Finding extra sequence in mRNA failed, skip...\n",
      "Finding mrna sequence in another exon...\n",
      "Finding extra sequence in mRNA failed, skip...\n",
      "Finding mrna sequence in another exon...\n",
      "Finding extra sequence in mRNA failed, skip...\n",
      "AACTCGAATCTTGTGCTCCA in gene SNRNP200 not aligned, skip...\n",
      "Finding mrna sequence in another exon...\n",
      "Finding extra sequence in mRNA failed, skip...\n",
      "Finding mrna sequence in another exon...\n",
      "Finding extra sequence in mRNA failed, skip...\n",
      "Finding mrna sequence in another exon...\n",
      "Finding extra sequence in mRNA failed, skip...\n",
      "TCGGATCAGATCCTCCTTCT in gene SNRNP200 not aligned, skip...\n",
      "Finding mrna sequence in another exon...\n",
      "Finding extra sequence in mRNA failed, skip...\n",
      "Finding mrna sequence in another exon...\n",
      "Finding extra sequence in mRNA failed, skip...\n",
      "Finding mrna sequence in another exon...\n",
      "Finding extra sequence in mRNA failed, skip...\n",
      "CTGGAAGTTGCCCGTCTTCT in gene SNRNP200 not aligned, skip...\n",
      "CTCTGCCGTTGGATGTCTGC in gene SNRNP200 not aligned, skip...\n",
      "Finding mrna sequence in another exon...\n",
      "Finding extra sequence in mRNA failed, skip...\n",
      "Finding mrna sequence in another exon...\n",
      "Finding extra sequence in mRNA failed, skip...\n",
      "Finding mrna sequence in another exon...\n",
      "Finding extra sequence in mRNA failed, skip...\n",
      "CCTGCAGGTTGTAGTAATTG in gene SNRNP200 not aligned, skip...\n",
      "GAAGGTGATGAAGACGTATA in gene SNRNP200 not aligned, skip...\n",
      "CTTAGCACTGGGTTCCTCAA in gene SNRNP200 not aligned, skip...\n",
      "Finding mrna sequence in another exon...\n",
      "Finding extra sequence in mRNA failed, skip...\n",
      "Finding mrna sequence in another exon...\n",
      "Finding extra sequence in mRNA failed, skip...\n",
      "Finding mrna sequence in another exon...\n",
      "Finding extra sequence in mRNA failed, skip...\n",
      "Finding mrna sequence in another exon...\n",
      "Finding extra sequence in mRNA failed, skip...\n",
      "Finding mrna sequence in another exon...\n",
      "Finding extra sequence in mRNA failed, skip...\n",
      "Finding mrna sequence in another exon...\n",
      "Finding extra sequence in mRNA failed, skip...\n",
      "Finding mrna sequence in another exon...\n",
      "Finding extra sequence in mRNA failed, skip...\n",
      "Finding mrna sequence in another exon...\n",
      "Finding extra sequence in mRNA failed, skip...\n",
      "Finding mrna sequence in another exon...\n",
      "Finding extra sequence in mRNA failed, skip...\n",
      "CTGGTCCCCAAGAGCAGCCT in gene SNRNP200 not aligned, skip...\n",
      "CTCTCTCACTGTGATGTTCT in gene SNRNP200 not aligned, skip...\n",
      "Finding mrna sequence in another exon...\n",
      "Finding extra sequence in mRNA failed, skip...\n",
      "CTGCTCTGCCAGGGCCTCCA in gene SNRNP200 not aligned, skip...\n"
     ]
    },
    {
     "name": "stderr",
     "output_type": "stream",
     "text": [
      "\r",
      "  9%|███▊                                      | 11/122 [00:49<14:59,  8.11s/it]"
     ]
    },
    {
     "name": "stdout",
     "output_type": "stream",
     "text": [
      "Processing YARS1...Keep 500/574 low off-target sgRNAs...\n",
      "CTGCAGTCCGGGGTATAAGA in gene YARS1 not aligned, skip...\n",
      "Finding mrna sequence in another exon...\n",
      "Finding extra sequence in mRNA failed, skip...\n",
      "Finding mrna sequence in another exon...\n",
      "Finding extra sequence in mRNA failed, skip...\n",
      "CTGCAGGTTCCGGGTGATAA in gene YARS1 not aligned, skip...\n",
      "32775993 is in start/stop codon ...skippingAGCTAATGTTC\n",
      "Finding mrna sequence in another exon...\n",
      "Finding extra sequence in mRNA failed, skip...\n",
      "Finding mrna sequence in another exon...\n",
      "Finding extra sequence in mRNA failed, skip...\n",
      "GAGTCCAAGATTGATCTCCT in gene YARS1 not aligned, skip...\n",
      "32817234 is in start/stop codon ...skippingATGGGGGACGC\n",
      "ATGGGGGACGCTCCCAGCCC in gene YARS1 not aligned, skip...\n",
      "Finding mrna sequence in another exon...\n",
      "Finding extra sequence in mRNA failed, skip...\n",
      "Finding mrna sequence in another exon...\n",
      "Finding extra sequence in mRNA failed, skip...\n",
      "CTCTTCTGAAGAGCTCATTT in gene YARS1 not aligned, skip...\n",
      "CTCACACCCTGCCTTTAAGA in gene YARS1 not aligned, skip...\n"
     ]
    },
    {
     "name": "stderr",
     "output_type": "stream",
     "text": [
      "\r",
      " 10%|████▏                                     | 12/122 [00:53<12:44,  6.95s/it]"
     ]
    },
    {
     "name": "stdout",
     "output_type": "stream",
     "text": [
      "Processing VCP...Keep 762/856 low off-target sgRNAs...\n",
      "Finding mrna sequence in another exon...\n",
      "Finding extra sequence in mRNA failed, skip...\n",
      "Finding mrna sequence in another exon...\n",
      "Finding extra sequence in mRNA failed, skip...\n",
      "Finding mrna sequence in another exon...\n",
      "Finding extra sequence in mRNA failed, skip...\n",
      "CTTCACACCAATTGCCTTAA in gene VCP not aligned, skip...\n",
      "GATGTGGACTTGGAGTTCCT in gene VCP not aligned, skip...\n",
      "Finding mrna sequence in another exon...\n",
      "Finding extra sequence in mRNA failed, skip...\n",
      "GAGACATTTTTCTTGTCCGT in gene VCP not aligned, skip...\n",
      "CATCCAGCCATGCCCTGATG in gene VCP not aligned, skip...\n",
      "GAGGTAGAAGAGGATGATCC in gene VCP not aligned, skip...\n",
      "GATGAGGAAGAGTCCTTGAA in gene VCP not aligned, skip...\n"
     ]
    },
    {
     "name": "stderr",
     "output_type": "stream",
     "text": [
      "\r",
      " 11%|████▍                                     | 13/122 [01:00<12:36,  6.94s/it]"
     ]
    },
    {
     "name": "stdout",
     "output_type": "stream",
     "text": [
      "Processing GPN3...Keep 187/253 low off-target sgRNAs...\n",
      "Finding mrna sequence in another exon...\n",
      "Finding extra sequence in mRNA failed, skip...\n",
      "Finding mrna sequence in another exon...\n",
      "Finding extra sequence in mRNA failed, skip...\n",
      "Finding mrna sequence in another exon...\n",
      "Finding extra sequence in mRNA failed, skip...\n",
      "AGCACCTACTGTGCCACCAT in gene GPN3 not aligned, skip...\n"
     ]
    },
    {
     "name": "stderr",
     "output_type": "stream",
     "text": [
      "\r",
      " 11%|████▊                                     | 14/122 [01:02<09:39,  5.37s/it]"
     ]
    },
    {
     "name": "stdout",
     "output_type": "stream",
     "text": [
      "CTTTGGTTCTTTAAATTCTA in gene GPN3 not aligned, skip...\n",
      "Processing ANAPC4...Keep 525/624 low off-target sgRNAs...\n",
      "Finding mrna sequence in another exon...\n",
      "Finding mrna sequence in another exon...\n",
      "Finding mrna sequence in another exon...\n",
      "CTTCGATTCCTGCAGCATCT in gene ANAPC4 not aligned, skip...\n",
      "Finding mrna sequence in another exon...\n",
      "CTTTAAGGTGGCTGCTATTT in gene ANAPC4 not aligned, skip...\n",
      "25418370 is in start/stop codon ...skippingAGGAGTCTAGC\n",
      "Finding mrna sequence in another exon...\n",
      "Finding mrna sequence in another exon...\n",
      "CTTCTGGTATCTCTATACAA in gene ANAPC4 not aligned, skip...\n",
      "Finding mrna sequence in another exon...\n",
      "GAAAAGAACACAACCACATC in gene ANAPC4 not aligned, skip...\n",
      "Finding mrna sequence in another exon...\n",
      "CTTCTTCTGACTTTTTCTGT in gene ANAPC4 not aligned, skip...\n"
     ]
    },
    {
     "name": "stderr",
     "output_type": "stream",
     "text": [
      "\r",
      " 12%|█████▏                                    | 15/122 [01:07<09:14,  5.18s/it]"
     ]
    },
    {
     "name": "stdout",
     "output_type": "stream",
     "text": [
      "Processing KARS1...Keep 239/442 low off-target sgRNAs...\n",
      "CTTGATGTTGTTGGAGTCCG in gene KARS1 not aligned, skip...\n",
      "CTTGTTGGGGAGTTCCTGGA in gene KARS1 not aligned, skip...\n",
      "Finding mrna sequence in another exon...\n",
      "Finding extra sequence in mRNA failed, skip...\n"
     ]
    },
    {
     "name": "stderr",
     "output_type": "stream",
     "text": [
      "\r",
      " 13%|█████▌                                    | 16/122 [01:09<07:31,  4.26s/it]"
     ]
    },
    {
     "name": "stdout",
     "output_type": "stream",
     "text": [
      "Processing SSU72...Keep 170/216 low off-target sgRNAs...\n",
      "1574547 is in start/stop codon ...skippingATGCCGTCGTC\n",
      "ATGCCGTCGTCCCCGCTGCG in gene SSU72 not aligned, skip...\n",
      "ATCCAGCACACGGAAGACAT in gene SSU72 not aligned, skip...\n",
      "Finding mrna sequence in another exon...\n",
      "Finding extra sequence in mRNA failed, skip...\n"
     ]
    },
    {
     "name": "stderr",
     "output_type": "stream",
     "text": [
      "\r",
      " 14%|█████▊                                    | 17/122 [01:10<05:57,  3.40s/it]"
     ]
    },
    {
     "name": "stdout",
     "output_type": "stream",
     "text": [
      "Processing POLR1A...Keep 1784/2028 low off-target sgRNAs...\n",
      "Finding mrna sequence in another exon...\n",
      "Finding extra sequence in mRNA failed, skip...\n",
      "Finding mrna sequence in another exon...\n",
      "Finding extra sequence in mRNA failed, skip...\n",
      "CTCGTAGTTGCTGGCCAGGA in gene POLR1A not aligned, skip...\n",
      "Finding mrna sequence in another exon...\n",
      "Finding extra sequence in mRNA failed, skip...\n",
      "Finding mrna sequence in another exon...\n",
      "Finding extra sequence in mRNA failed, skip...\n",
      "Finding mrna sequence in another exon...\n",
      "Finding extra sequence in mRNA failed, skip...\n",
      "Finding mrna sequence in another exon...\n",
      "Finding extra sequence in mRNA failed, skip...\n",
      "AAGCTGTACCTGCTGCTTCG in gene POLR1A not aligned, skip...\n",
      "CATGGGAATTCCAATTTCGT in gene POLR1A not aligned, skip...\n",
      "Finding mrna sequence in another exon...\n",
      "Finding extra sequence in mRNA failed, skip...\n",
      "CTGCCTAATGCCTGGGTACT in gene POLR1A not aligned, skip...\n",
      "AGGAGGTTTGATGCCGGTGA in gene POLR1A not aligned, skip...\n",
      "ATGTGCGCCCTGGGACCCCA in gene POLR1A not aligned, skip...\n",
      "CCAAGGTGAAGCCTCTGTAG in gene POLR1A not aligned, skip...\n",
      "GAGTTCTTCTTCCACTGCAT in gene POLR1A not aligned, skip...\n",
      "GAATTGAGGAAGCTCAGATA in gene POLR1A not aligned, skip...\n",
      "Finding mrna sequence in another exon...\n",
      "Finding extra sequence in mRNA failed, skip...\n",
      "Finding mrna sequence in another exon...\n",
      "Finding extra sequence in mRNA failed, skip...\n",
      "Finding mrna sequence in another exon...\n",
      "Finding extra sequence in mRNA failed, skip...\n",
      "Finding mrna sequence in another exon...\n",
      "Finding extra sequence in mRNA failed, skip...\n",
      "Finding mrna sequence in another exon...\n",
      "Finding extra sequence in mRNA failed, skip...\n",
      "Finding mrna sequence in another exon...\n",
      "Finding extra sequence in mRNA failed, skip...\n",
      "Finding mrna sequence in another exon...\n",
      "Finding extra sequence in mRNA failed, skip...\n",
      "Finding mrna sequence in another exon...\n",
      "Finding extra sequence in mRNA failed, skip...\n",
      "Finding mrna sequence in another exon...\n",
      "Finding extra sequence in mRNA failed, skip...\n"
     ]
    },
    {
     "name": "stderr",
     "output_type": "stream",
     "text": [
      "\r",
      " 15%|██████▏                                   | 18/122 [01:27<12:57,  7.47s/it]"
     ]
    },
    {
     "name": "stdout",
     "output_type": "stream",
     "text": [
      "CCAGCATGGTGGCTTGCTTC in gene POLR1A not aligned, skip...\n",
      "Processing PFDN2...Keep 152/180 low off-target sgRNAs...\n",
      "161118016 is in start/stop codon ...skippingATGGCGGAGAA\n",
      "ATGGCGGAGAACAGCGGTCG in gene PFDN2 not aligned, skip...\n",
      "161100694 is in start/stop codon ...skippingTAGGAGACCAA\n",
      "TAGGAGACCAACACTCCAGC in gene PFDN2 need sequence not included in fasta file...\n",
      "Finding mrna sequence in another exon...\n",
      "Finding extra sequence in mRNA failed, skip...\n"
     ]
    },
    {
     "name": "stderr",
     "output_type": "stream",
     "text": [
      "\r",
      " 16%|██████▌                                   | 19/122 [01:28<09:38,  5.62s/it]"
     ]
    },
    {
     "name": "stdout",
     "output_type": "stream",
     "text": [
      "Processing RPL19...Keep 0/220 low off-target sgRNAs...\n",
      "Processing RRM2...Keep 99/407 low off-target sgRNAs...\n",
      "CGTGTTCTCCTTGTCGACCA in gene RRM2 not aligned, skip...\n",
      "CTGTTCTATCCGAACAGCAT in gene RRM2 not aligned, skip...\n"
     ]
    },
    {
     "name": "stderr",
     "output_type": "stream",
     "text": [
      "\r",
      " 17%|███████▏                                  | 21/122 [01:29<05:25,  3.22s/it]"
     ]
    },
    {
     "name": "stdout",
     "output_type": "stream",
     "text": [
      "CGGCTCCGTGGGCTCCTGGA in gene RRM2 not aligned, skip...\n",
      "Processing SNRPB...Keep 204/284 low off-target sgRNAs...\n",
      "Finding mrna sequence in another exon...\n",
      "Finding extra sequence in mRNA failed, skip...\n"
     ]
    },
    {
     "name": "stderr",
     "output_type": "stream",
     "text": [
      "\r",
      " 18%|███████▌                                  | 22/122 [01:31<04:48,  2.88s/it]"
     ]
    },
    {
     "name": "stdout",
     "output_type": "stream",
     "text": [
      "Processing SRSF7...Keep 213/233 low off-target sgRNAs...\n",
      "Finding mrna sequence in another exon...\n",
      "Finding extra sequence in mRNA failed, skip...\n",
      "38751246 is in start/stop codon ...skippingATGTCGCGTTA\n",
      "ATGTCGCGTTACGGGCGGTA in gene SRSF7 not aligned, skip...\n",
      "CTCCTCCGTACCGCCCGTAA in gene SRSF7 not aligned, skip...\n",
      "CTCGATCCTTTTATAGAACC in gene SRSF7 not aligned, skip...\n",
      "Finding mrna sequence in another exon...\n",
      "Finding extra sequence in mRNA failed, skip...\n",
      "CTGCTTCTTGGTCGTGAAAT in gene SRSF7 not aligned, skip...\n",
      "38745143 is in start/stop codon ...skippingCAGTCCATTCT\n",
      "38745143 is in start/stop codon ...skippingCAGTCCATTCT\n",
      "CAGTCCATTCTTTCAGGACT in gene SRSF7 need sequence not included in fasta file...\n",
      "Finding mrna sequence in another exon...\n",
      "Finding extra sequence in mRNA failed, skip...\n"
     ]
    },
    {
     "name": "stderr",
     "output_type": "stream",
     "text": [
      "\r",
      " 19%|███████▉                                  | 23/122 [01:33<04:20,  2.63s/it]"
     ]
    },
    {
     "name": "stdout",
     "output_type": "stream",
     "text": [
      "Processing EIF2S1...Keep 252/296 low off-target sgRNAs...\n",
      "CTGCTCGAATTTTGACAGCC in gene EIF2S1 not aligned, skip...\n",
      "Finding mrna sequence in another exon...\n",
      "CCCAAAGTGGTCACAGATAC in gene EIF2S1 not aligned, skip...\n",
      "ATATTGAAGTGGCTTGTTAT in gene EIF2S1 not aligned, skip...\n"
     ]
    },
    {
     "name": "stderr",
     "output_type": "stream",
     "text": [
      "\r",
      " 20%|████████▎                                 | 24/122 [01:35<04:04,  2.50s/it]"
     ]
    },
    {
     "name": "stdout",
     "output_type": "stream",
     "text": [
      "Processing CSE1L...Keep 621/743 low off-target sgRNAs...\n",
      "Finding mrna sequence in another exon...\n",
      "Finding mrna sequence in another exon...\n",
      "Finding mrna sequence in another exon...\n",
      "Finding mrna sequence in another exon...\n",
      "GACTCCATTATTACAGTCTT in gene CSE1L not aligned, skip...\n",
      "GATCTCCCTGAATTTTTTGA in gene CSE1L not aligned, skip...\n",
      "Finding mrna sequence in another exon...\n",
      "Finding mrna sequence in another exon...\n",
      "CATGGAATTACACAAGCAAA in gene CSE1L not aligned, skip...\n",
      "Finding mrna sequence in another exon...\n",
      "Finding mrna sequence in another exon...\n",
      "CATTAGCTGATTTTAAATCA in gene CSE1L not aligned, skip...\n",
      "CTGCTTCTGAATTTGCTCTG in gene CSE1L not aligned, skip...\n",
      "Finding mrna sequence in another exon...\n"
     ]
    },
    {
     "name": "stderr",
     "output_type": "stream",
     "text": [
      "\r",
      " 20%|████████▌                                 | 25/122 [01:42<05:45,  3.57s/it]"
     ]
    },
    {
     "name": "stdout",
     "output_type": "stream",
     "text": [
      "Processing ABCE1...Keep 44/486 low off-target sgRNAs...\n"
     ]
    },
    {
     "name": "stderr",
     "output_type": "stream",
     "text": [
      "\r",
      " 21%|████████▉                                 | 26/122 [01:42<04:14,  2.65s/it]"
     ]
    },
    {
     "name": "stdout",
     "output_type": "stream",
     "text": [
      "ATTTAACCCACCTAAAAGAA in gene ABCE1 not aligned, skip...\n",
      "CTGTGAAGTTTGAAGGCATT in gene ABCE1 not aligned, skip...\n",
      "Processing DYNC1H1...Keep 4860/5487 low off-target sgRNAs...\n",
      "Finding mrna sequence in another exon...\n",
      "Finding mrna sequence in another exon...\n",
      "GCAATGGGCCGGATCTTTGT in gene DYNC1H1 not aligned, skip...\n",
      "Finding mrna sequence in another exon...\n",
      "CTTTCACTAGCTCGTTGATC in gene DYNC1H1 not aligned, skip...\n",
      "Finding mrna sequence in another exon...\n",
      "CTCATAATCGATAATGGGTA in gene DYNC1H1 not aligned, skip...\n",
      "GATGTGGAAAGCTACGATCC in gene DYNC1H1 not aligned, skip...\n",
      "Finding mrna sequence in another exon...\n",
      "Finding mrna sequence in another exon...\n",
      "Finding mrna sequence in another exon...\n",
      "GATTACATCCCAGTAGACCA in gene DYNC1H1 not aligned, skip...\n",
      "AGTTGGATCCCGGGTGGACA in gene DYNC1H1 not aligned, skip...\n",
      "Finding mrna sequence in another exon...\n",
      "CGATTGCAATTGAAGTGATC in gene DYNC1H1 not aligned, skip...\n",
      "Finding mrna sequence in another exon...\n",
      "Finding mrna sequence in another exon...\n",
      "CTATCTTGGAAGAGACGCAG in gene DYNC1H1 not aligned, skip...\n",
      "CTGGACCAGAAGGGGGTTAC in gene DYNC1H1 not aligned, skip...\n",
      "ACTCGTAGAGGATGAGGAGA in gene DYNC1H1 not aligned, skip...\n",
      "GCGAGAGGAGTTTGTGCAGT in gene DYNC1H1 not aligned, skip...\n",
      "Finding mrna sequence in another exon...\n",
      "Finding mrna sequence in another exon...\n",
      "Finding mrna sequence in another exon...\n",
      "Finding mrna sequence in another exon...\n",
      "Finding mrna sequence in another exon...\n",
      "Finding mrna sequence in another exon...\n",
      "Finding mrna sequence in another exon...\n",
      "Finding mrna sequence in another exon...\n",
      "Finding mrna sequence in another exon...\n",
      "Finding mrna sequence in another exon...\n",
      "101964702 is in start/stop codon ...skippingATGTCGGAGCC\n",
      "ATGTCGGAGCCCGGGGGCGG in gene DYNC1H1 not aligned, skip...\n",
      "CTGGTATTTATCAATCCAAG in gene DYNC1H1 not aligned, skip...\n",
      "AACATCCACGTGTGCCTGGG in gene DYNC1H1 not aligned, skip...\n",
      "Finding mrna sequence in another exon...\n",
      "Finding mrna sequence in another exon...\n",
      "GCCCAGCTTGTGGTTTTGTC in gene DYNC1H1 not aligned, skip...\n",
      "CACACTGGCCTTCTTCTCGG in gene DYNC1H1 not aligned, skip...\n",
      "Finding mrna sequence in another exon...\n",
      "Finding mrna sequence in another exon...\n",
      "Finding mrna sequence in another exon...\n",
      "GATCCTTTGTTCAGGTTCTT in gene DYNC1H1 not aligned, skip...\n",
      "CTGCTTGAGGGACTCCATGG in gene DYNC1H1 not aligned, skip...\n",
      "102050553 is in start/stop codon ...skippingTTACTCTGTGC\n",
      "Finding mrna sequence in another exon...\n",
      "Finding mrna sequence in another exon...\n",
      "Finding mrna sequence in another exon...\n",
      "CTCCATGTCAGGCAAGGCCC in gene DYNC1H1 not aligned, skip...\n",
      "Finding mrna sequence in another exon...\n",
      "CTTGGGGTTGATCTCCATGG in gene DYNC1H1 not aligned, skip...\n",
      "ATTCTGATACAGAGCGTCTG in gene DYNC1H1 not aligned, skip...\n",
      "CTGTGGCCTCAGGACCCTGA in gene DYNC1H1 not aligned, skip...\n"
     ]
    },
    {
     "name": "stderr",
     "output_type": "stream",
     "text": [
      "\r",
      " 22%|█████████▎                                | 27/122 [02:43<30:49, 19.47s/it]"
     ]
    },
    {
     "name": "stdout",
     "output_type": "stream",
     "text": [
      "Processing TUBB...Keep 0/213 low off-target sgRNAs...\n",
      "Processing IARS1...Keep 800/940 low off-target sgRNAs...\n",
      "GAGGACTATCGGGTCTGTAT in gene IARS1 not aligned, skip...\n",
      "Finding mrna sequence in another exon...\n",
      "Finding extra sequence in mRNA failed, skip...\n",
      "AGCACCGAAGTAAGGAGCTT in gene IARS1 not aligned, skip...\n",
      "Finding mrna sequence in another exon...\n",
      "Finding extra sequence in mRNA failed, skip...\n",
      "Finding mrna sequence in another exon...\n",
      "Finding extra sequence in mRNA failed, skip...\n",
      "Finding mrna sequence in another exon...\n",
      "Finding extra sequence in mRNA failed, skip...\n",
      "CAGACTGATTCCATGAATTG in gene IARS1 not aligned, skip...\n",
      "Finding mrna sequence in another exon...\n",
      "Finding extra sequence in mRNA failed, skip...\n",
      "Finding mrna sequence in another exon...\n",
      "Finding extra sequence in mRNA failed, skip...\n",
      "Finding mrna sequence in another exon...\n",
      "Finding extra sequence in mRNA failed, skip...\n",
      "Finding mrna sequence in another exon...\n",
      "Finding extra sequence in mRNA failed, skip...\n",
      "CTTATAATTCTGGTGTGACT in gene IARS1 not aligned, skip...\n",
      "Finding mrna sequence in another exon...\n",
      "Finding extra sequence in mRNA failed, skip...\n",
      "CTTTTTGCGAAGTTTCTGTA in gene IARS1 not aligned, skip...\n",
      "Finding mrna sequence in another exon...\n",
      "Finding extra sequence in mRNA failed, skip...\n",
      "Finding mrna sequence in another exon...\n",
      "Finding extra sequence in mRNA failed, skip...\n",
      "Finding mrna sequence in another exon...\n",
      "Finding extra sequence in mRNA failed, skip...\n",
      "Finding mrna sequence in another exon...\n",
      "Finding extra sequence in mRNA failed, skip...\n",
      "CTTTATGGGAATAGTTTTTC in gene IARS1 not aligned, skip...\n",
      "CTTCAGGAAATAGTCAAACA in gene IARS1 not aligned, skip...\n",
      "Finding mrna sequence in another exon...\n",
      "Finding extra sequence in mRNA failed, skip...\n"
     ]
    },
    {
     "name": "stderr",
     "output_type": "stream",
     "text": [
      "\r",
      " 24%|█████████▉                                | 29/122 [02:55<20:42, 13.36s/it]"
     ]
    },
    {
     "name": "stdout",
     "output_type": "stream",
     "text": [
      "CTGTGTTTTTTCTTGAATAA in gene IARS1 not aligned, skip...\n",
      "Processing RPL11...Keep 50/174 low off-target sgRNAs...\n"
     ]
    },
    {
     "name": "stderr",
     "output_type": "stream",
     "text": [
      "\r",
      " 25%|██████████▎                               | 30/122 [02:55<15:40, 10.22s/it]"
     ]
    },
    {
     "name": "stdout",
     "output_type": "stream",
     "text": [
      "Finding mrna sequence in another exon...\n",
      "Processing UBTF...Keep 553/835 low off-target sgRNAs...\n",
      "Finding mrna sequence in another exon...\n",
      "Finding extra sequence in mRNA failed, skip...\n",
      "Finding mrna sequence in another exon...\n",
      "Finding extra sequence in mRNA failed, skip...\n",
      "Finding mrna sequence in another exon...\n",
      "Finding extra sequence in mRNA failed, skip...\n",
      "Finding mrna sequence in another exon...\n",
      "Finding extra sequence in mRNA failed, skip...\n",
      "Finding mrna sequence in another exon...\n",
      "Finding extra sequence in mRNA failed, skip...\n",
      "Finding mrna sequence in another exon...\n",
      "Finding extra sequence in mRNA failed, skip...\n",
      "Finding mrna sequence in another exon...\n",
      "Finding extra sequence in mRNA failed, skip...\n",
      "Finding mrna sequence in another exon...\n",
      "Finding extra sequence in mRNA failed, skip...\n",
      "CTGATCACACTTCTTGTGAT in gene UBTF not aligned, skip...\n",
      "CTCATATCGCTTTTGGTCTT in gene UBTF not aligned, skip...\n",
      "AGCCTGTCTCCCCAGGACCG in gene UBTF not aligned, skip...\n",
      "Finding mrna sequence in another exon...\n",
      "Finding extra sequence in mRNA failed, skip...\n",
      "CTTCTTCTTCTCAGACAGGT in gene UBTF not aligned, skip...\n",
      "AGAGAGCTGAGTGAGATGCG in gene UBTF not aligned, skip...\n"
     ]
    },
    {
     "name": "stderr",
     "output_type": "stream",
     "text": [
      "\r",
      " 25%|██████████▋                               | 31/122 [03:01<13:50,  9.12s/it]"
     ]
    },
    {
     "name": "stdout",
     "output_type": "stream",
     "text": [
      "Processing SEC61A1...Keep 411/527 low off-target sgRNAs...\n",
      "Finding mrna sequence in another exon...\n",
      "CGGTTGAGTTCATGGACCAT in gene SEC61A1 not aligned, skip...\n",
      "GACACGTCTTCTGGGGGCCC in gene SEC61A1 not aligned, skip...\n",
      "CTCTTTGTTGCTGGCTTAAT in gene SEC61A1 not aligned, skip...\n",
      "CGACCAGGTGCCCAGCAGGC in gene SEC61A1 not aligned, skip...\n"
     ]
    },
    {
     "name": "stderr",
     "output_type": "stream",
     "text": [
      "\r",
      " 26%|███████████                               | 32/122 [03:05<11:31,  7.68s/it]"
     ]
    },
    {
     "name": "stdout",
     "output_type": "stream",
     "text": [
      "Processing HINFP...Keep 144/158 low off-target sgRNAs...\n",
      "119134133 is in start/stop codon ...skippingCTACACTCTCG\n",
      "119134133 is in start/stop codon ...skippingCTACACTCTCG\n",
      "CTACACTCTCGTAGCGAACC in gene HINFP not aligned, skip...\n",
      "CGAAAACGGGGATGCCCTGA in gene HINFP not aligned, skip...\n",
      "Finding mrna sequence in another exon...\n",
      "Finding mrna sequence in another exon...\n"
     ]
    },
    {
     "name": "stderr",
     "output_type": "stream",
     "text": [
      "\r",
      " 27%|███████████▎                              | 33/122 [03:07<09:00,  6.08s/it]"
     ]
    },
    {
     "name": "stdout",
     "output_type": "stream",
     "text": [
      "Processing COPA...Keep 1123/1279 low off-target sgRNAs...\n",
      "Finding mrna sequence in another exon...\n",
      "Finding extra sequence in mRNA failed, skip...\n",
      "Finding mrna sequence in another exon...\n",
      "Finding extra sequence in mRNA failed, skip...\n",
      "CCGCATGGCTGTTTCGAAAG in gene COPA not aligned, skip...\n",
      "GATATATCCCCTGGGGCAGC in gene COPA not aligned, skip...\n",
      "CAATCTTCATCATCTTGCGA in gene COPA not aligned, skip...\n",
      "Finding mrna sequence in another exon...\n",
      "Finding extra sequence in mRNA failed, skip...\n",
      "Finding mrna sequence in another exon...\n",
      "Finding extra sequence in mRNA failed, skip...\n",
      "Finding mrna sequence in another exon...\n",
      "Finding extra sequence in mRNA failed, skip...\n",
      "Finding mrna sequence in another exon...\n",
      "Finding extra sequence in mRNA failed, skip...\n",
      "Finding mrna sequence in another exon...\n",
      "Finding extra sequence in mRNA failed, skip...\n",
      "Finding mrna sequence in another exon...\n",
      "Finding extra sequence in mRNA failed, skip...\n",
      "160290166 is in start/stop codon ...skippingTTAGCGAAACT\n",
      "Finding mrna sequence in another exon...\n",
      "Finding extra sequence in mRNA failed, skip...\n",
      "CTGTTGGGCCACCTCAGGCT in gene COPA not aligned, skip...\n",
      "ATCCCAGACATTGACCCTAA in gene COPA not aligned, skip...\n",
      "GAATATCCCTGGATTCTGAG in gene COPA not aligned, skip...\n",
      "CTCCTTCATGACCAAGTAGG in gene COPA not aligned, skip...\n",
      "CTGAGTTGGACTTGTTCCCT in gene COPA not aligned, skip...\n",
      "Finding mrna sequence in another exon...\n",
      "Finding extra sequence in mRNA failed, skip...\n",
      "ATTGCTCTGGAAGCAGCCAA in gene COPA not aligned, skip...\n",
      "Finding mrna sequence in another exon...\n",
      "Finding extra sequence in mRNA failed, skip...\n",
      "Finding mrna sequence in another exon...\n",
      "Finding extra sequence in mRNA failed, skip...\n",
      "Finding mrna sequence in another exon...\n",
      "Finding extra sequence in mRNA failed, skip...\n",
      "Finding mrna sequence in another exon...\n",
      "Finding extra sequence in mRNA failed, skip...\n",
      "Finding mrna sequence in another exon...\n",
      "Finding extra sequence in mRNA failed, skip...\n",
      "Finding mrna sequence in another exon...\n",
      "Finding extra sequence in mRNA failed, skip...\n",
      "CTGAGATCAGAAAGGACATG in gene COPA not aligned, skip...\n",
      "Finding mrna sequence in another exon...\n",
      "Finding extra sequence in mRNA failed, skip...\n"
     ]
    },
    {
     "name": "stderr",
     "output_type": "stream",
     "text": [
      "\r",
      " 28%|███████████▋                              | 34/122 [03:19<11:20,  7.73s/it]"
     ]
    },
    {
     "name": "stdout",
     "output_type": "stream",
     "text": [
      "CTCTGCAATCTCTTGTTTAT in gene COPA not aligned, skip...\n",
      "Processing PSMA3...Keep 91/171 low off-target sgRNAs...\n",
      "ATGAAAGAAATGACCTGCCG in gene PSMA3 not aligned, skip...\n",
      "GCAGTAGCAGGTTTGTTGGC in gene PSMA3 not aligned, skip...\n"
     ]
    },
    {
     "name": "stderr",
     "output_type": "stream",
     "text": [
      "\r",
      " 29%|████████████                              | 35/122 [03:20<08:20,  5.75s/it]"
     ]
    },
    {
     "name": "stdout",
     "output_type": "stream",
     "text": [
      "Processing RPS18...Keep 0/163 low off-target sgRNAs...\n",
      "Processing PRPF19...Keep 481/555 low off-target sgRNAs...\n",
      "AGCATAGCGGCCTGACCACA in gene PRPF19 not aligned, skip...\n",
      "Finding mrna sequence in another exon...\n",
      "Finding extra sequence in mRNA failed, skip...\n",
      "Finding mrna sequence in another exon...\n",
      "Finding extra sequence in mRNA failed, skip...\n",
      "CTGATCATCGGAGGAGCTCA in gene PRPF19 not aligned, skip...\n",
      "Finding mrna sequence in another exon...\n",
      "Finding extra sequence in mRNA failed, skip...\n",
      "Finding mrna sequence in another exon...\n",
      "Finding extra sequence in mRNA failed, skip...\n",
      "Finding mrna sequence in another exon...\n",
      "Finding extra sequence in mRNA failed, skip...\n",
      "60891173 is in start/stop codon ...skippingCTACAGGCTGT\n",
      "60891173 is in start/stop codon ...skippingCTACAGGCTGT\n",
      "CTACAGGCTGTAGAACTTGA in gene PRPF19 not aligned, skip...\n",
      "CACGTGGGATGCCACCTGCC in gene PRPF19 not aligned, skip...\n",
      "Finding mrna sequence in another exon...\n",
      "Finding extra sequence in mRNA failed, skip...\n",
      "Finding mrna sequence in another exon...\n",
      "Finding extra sequence in mRNA failed, skip...\n",
      "Finding mrna sequence in another exon...\n",
      "Finding extra sequence in mRNA failed, skip...\n",
      "Finding mrna sequence in another exon...\n",
      "Finding extra sequence in mRNA failed, skip...\n",
      "CTGGGAAGGGTGAAACACCA in gene PRPF19 not aligned, skip...\n",
      "AGAGGGAAGACTGTGCCTGA in gene PRPF19 not aligned, skip...\n",
      "Finding mrna sequence in another exon...\n",
      "Finding extra sequence in mRNA failed, skip...\n"
     ]
    },
    {
     "name": "stderr",
     "output_type": "stream",
     "text": [
      "\r",
      " 30%|████████████▋                             | 37/122 [03:24<06:02,  4.27s/it]"
     ]
    },
    {
     "name": "stdout",
     "output_type": "stream",
     "text": [
      "Processing PSMB5...Keep 60/79 low off-target sgRNAs...\n"
     ]
    },
    {
     "name": "stderr",
     "output_type": "stream",
     "text": [
      " 32%|█████████████▍                            | 39/122 [03:25<03:29,  2.53s/it]"
     ]
    },
    {
     "name": "stdout",
     "output_type": "stream",
     "text": [
      "Processing RPL4...Keep 12/456 low off-target sgRNAs...\n",
      "Processing CDC45...Keep 490/554 low off-target sgRNAs...\n",
      "GATGAAGGACATGCGCGTGC in gene CDC45 not aligned, skip...\n",
      "Finding mrna sequence in another exon...\n",
      "Finding mrna sequence in another exon...\n",
      "Finding mrna sequence in another exon...\n",
      "Finding mrna sequence in another exon...\n",
      "Finding mrna sequence in another exon...\n",
      "Finding mrna sequence in another exon...\n",
      "CCTCCGCCTGGTGCTCTACC in gene CDC45 not aligned, skip...\n",
      "Finding mrna sequence in another exon...\n",
      "Finding mrna sequence in another exon...\n",
      "CTCCATGAGAGAGCAGTACA in gene CDC45 not aligned, skip...\n",
      "CTTTTTTGGGAGGGCGTTTG in gene CDC45 not aligned, skip...\n",
      "Finding mrna sequence in another exon...\n",
      "Finding mrna sequence in another exon...\n",
      "CTGAGAGGTCAAAATGGTTG in gene CDC45 not aligned, skip...\n",
      "Finding mrna sequence in another exon...\n",
      "GCCTTGTTCCAGTGTGACCA in gene CDC45 not aligned, skip...\n",
      "Finding mrna sequence in another exon...\n",
      "TCTTCCCCTGAAGCAGGTGA in gene CDC45 not aligned, skip...\n",
      "19518898 is in start/stop codon ...skippingTAGGACAGGAG\n",
      "TAGGACAGGAGGGAAATAAG in gene CDC45 need sequence not included in fasta file...\n"
     ]
    },
    {
     "name": "stderr",
     "output_type": "stream",
     "text": [
      "\r",
      " 33%|█████████████▊                            | 40/122 [03:31<04:37,  3.39s/it]"
     ]
    },
    {
     "name": "stdout",
     "output_type": "stream",
     "text": [
      "Processing RPS29...Keep 0/38 low off-target sgRNAs...\n",
      "Processing CPSF3...Keep 397/478 low off-target sgRNAs...\n",
      "Finding mrna sequence in another exon...\n",
      "Finding mrna sequence in another exon...\n",
      "Finding mrna sequence in another exon...\n",
      "Finding mrna sequence in another exon...\n",
      "ATTATACTGACCTGGCCATG in gene CPSF3 not aligned, skip...\n",
      "Finding mrna sequence in another exon...\n",
      "CTAGAATCAAGAGCAGCTCC in gene CPSF3 not aligned, skip...\n",
      "CTTGAGGTTACTAATGTGTT in gene CPSF3 not aligned, skip...\n",
      "CACATCATGTCTGAACCTGA in gene CPSF3 not aligned, skip...\n",
      "Finding mrna sequence in another exon...\n",
      "Finding mrna sequence in another exon...\n",
      "9430839 is in start/stop codon ...skippingATGCCACAAAA\n",
      "ATGCCACAAAAGCTATTTAT in gene CPSF3 not aligned, skip...\n",
      "Finding mrna sequence in another exon...\n",
      "Finding mrna sequence in another exon...\n"
     ]
    },
    {
     "name": "stderr",
     "output_type": "stream",
     "text": [
      "\r",
      " 34%|██████████████▍                           | 42/122 [03:35<03:52,  2.90s/it]"
     ]
    },
    {
     "name": "stdout",
     "output_type": "stream",
     "text": [
      "Processing FBL...Keep 297/390 low off-target sgRNAs...\n",
      "GATTCAGTCCCCGTGGGGGT in gene FBL not aligned, skip...\n",
      "GATGGTCTAGTCTATGCAGT in gene FBL not aligned, skip...\n",
      "39834549 is in start/stop codon ...skippingCAGTTCTTCAC\n",
      "39834549 is in start/stop codon ...skippingCAGTTCTTCAC\n",
      "CAGTTCTTCACCTTGGGGGG in gene FBL need sequence not included in fasta file...\n",
      "Finding mrna sequence in another exon...\n",
      "Finding extra sequence in mRNA failed, skip...\n",
      "CTGTACACTCCCACGACCAC in gene FBL not aligned, skip...\n",
      "Finding mrna sequence in another exon...\n",
      "Finding extra sequence in mRNA failed, skip...\n",
      "Finding mrna sequence in another exon...\n",
      "Finding extra sequence in mRNA failed, skip...\n",
      "39834550 is in start/stop codon ...skippingAGTTCTTCACC\n",
      "Finding mrna sequence in another exon...\n",
      "Finding extra sequence in mRNA failed, skip...\n"
     ]
    },
    {
     "name": "stderr",
     "output_type": "stream",
     "text": [
      "\r",
      " 35%|██████████████▊                           | 43/122 [03:38<03:50,  2.92s/it]"
     ]
    },
    {
     "name": "stdout",
     "output_type": "stream",
     "text": [
      "Processing EEF2...Keep 1082/1197 low off-target sgRNAs...\n",
      "ATCGATCCTGTCCTCGGTAC in gene EEF2 not aligned, skip...\n",
      "CAAAGGACTCGTTGACGGGC in gene EEF2 not aligned, skip...\n",
      "Finding mrna sequence in another exon...\n",
      "Finding extra sequence in mRNA failed, skip...\n",
      "CTGCACCATGGGGTCGGACT in gene EEF2 not aligned, skip...\n",
      "Finding mrna sequence in another exon...\n",
      "Finding extra sequence in mRNA failed, skip...\n",
      "CTTGATGGGGATGCAGGCGT in gene EEF2 not aligned, skip...\n",
      "Finding mrna sequence in another exon...\n",
      "Finding extra sequence in mRNA failed, skip...\n",
      "Finding mrna sequence in another exon...\n",
      "Finding extra sequence in mRNA failed, skip...\n",
      "3976559 is in start/stop codon ...skippingCTACAATTTGT\n",
      "3976559 is in start/stop codon ...skippingCTACAATTTGT\n",
      "CTACAATTTGTCCAGGAAGT in gene EEF2 not aligned, skip...\n",
      "CATGATGTTGCCCATGGGGC in gene EEF2 not aligned, skip...\n",
      "Finding mrna sequence in another exon...\n",
      "Finding extra sequence in mRNA failed, skip...\n",
      "CTGGATCTCCACAAGGTAGA in gene EEF2 not aligned, skip...\n",
      "CTCCTTGGTGGCCCACTGGA in gene EEF2 not aligned, skip...\n",
      "Finding mrna sequence in another exon...\n",
      "Finding extra sequence in mRNA failed, skip...\n",
      "Finding mrna sequence in another exon...\n",
      "Finding extra sequence in mRNA failed, skip...\n",
      "CCATGGCAGCCTCGTCGTCC in gene EEF2 not aligned, skip...\n",
      "Finding mrna sequence in another exon...\n",
      "Finding extra sequence in mRNA failed, skip...\n"
     ]
    },
    {
     "name": "stderr",
     "output_type": "stream",
     "text": [
      "\r",
      " 36%|███████████████▏                          | 44/122 [03:50<06:36,  5.09s/it]"
     ]
    },
    {
     "name": "stdout",
     "output_type": "stream",
     "text": [
      "Processing SNRPD2...Keep 23/62 low off-target sgRNAs...\n",
      "Processing CDC16...Keep 337/416 low off-target sgRNAs...\n",
      "GCCCTTGGTCTTAGGCGAGA in gene CDC16 not aligned, skip...\n",
      "114272436 is in start/stop codon ...skippingCACGTGCTGTG\n",
      "114272436 is in start/stop codon ...skippingCACGTGCTGTG\n",
      "CACGTGCTGTGGTCTGACAT in gene CDC16 need sequence not included in fasta file...\n",
      "CTTCTTGTGCTGTCAGCATG in gene CDC16 not aligned, skip...\n",
      "ATGGAAAACAGCCGAAAAAT in gene CDC16 not aligned, skip...\n"
     ]
    },
    {
     "name": "stderr",
     "output_type": "stream",
     "text": [
      "\r",
      " 38%|███████████████▊                          | 46/122 [03:54<04:46,  3.77s/it]"
     ]
    },
    {
     "name": "stdout",
     "output_type": "stream",
     "text": [
      "Processing PSMB4...Keep 291/306 low off-target sgRNAs...\n",
      "CTTCCTCGGTTATGTGGACA in gene PSMB4 not aligned, skip...\n",
      "CCTCTGCTGCGAGAAGTTCT in gene PSMB4 not aligned, skip...\n",
      "Finding mrna sequence in another exon...\n",
      "Finding mrna sequence in another exon...\n"
     ]
    },
    {
     "name": "stderr",
     "output_type": "stream",
     "text": [
      "\r",
      " 39%|████████████████▏                         | 47/122 [03:57<04:27,  3.57s/it]"
     ]
    },
    {
     "name": "stdout",
     "output_type": "stream",
     "text": [
      "Finding mrna sequence in another exon...\n",
      "Processing PSMA2...Keep 48/184 low off-target sgRNAs...\n"
     ]
    },
    {
     "name": "stderr",
     "output_type": "stream",
     "text": [
      "\r",
      " 39%|████████████████▌                         | 48/122 [03:57<03:27,  2.80s/it]"
     ]
    },
    {
     "name": "stdout",
     "output_type": "stream",
     "text": [
      "Processing SF3A1...Keep 826/1012 low off-target sgRNAs...\n",
      "30356784 is in start/stop codon ...skippingATGCCGGCCGG\n",
      "ATGCCGGCCGGACCCGTGCA in gene SF3A1 not aligned, skip...\n",
      "CTGATCCAAAACTTCTCGGG in gene SF3A1 not aligned, skip...\n",
      "CTGTTGGCACAATCATGGGG in gene SF3A1 not aligned, skip...\n",
      "Finding mrna sequence in another exon...\n",
      "Finding extra sequence in mRNA failed, skip...\n",
      "CTGTTTGGGCTCCGTGGGCA in gene SF3A1 not aligned, skip...\n",
      "CTCATCCATATCTTGTACTT in gene SF3A1 not aligned, skip...\n",
      "CTGGTCCGTGAGTGGGAGGG in gene SF3A1 not aligned, skip...\n",
      "CTTTGGGATCATAATCCTTG in gene SF3A1 not aligned, skip...\n",
      "Finding mrna sequence in another exon...\n",
      "Finding extra sequence in mRNA failed, skip...\n",
      "Finding mrna sequence in another exon...\n",
      "Finding extra sequence in mRNA failed, skip...\n"
     ]
    },
    {
     "name": "stderr",
     "output_type": "stream",
     "text": [
      "\r",
      " 40%|████████████████▊                         | 49/122 [04:06<05:21,  4.40s/it]"
     ]
    },
    {
     "name": "stdout",
     "output_type": "stream",
     "text": [
      "Processing PSMA5...Keep 133/158 low off-target sgRNAs...\n",
      "AACCACTGGTTCACCTACAA in gene PSMA5 not aligned, skip...\n",
      "CTTGTGGTAAACTTCTTGCA in gene PSMA5 not aligned, skip...\n"
     ]
    },
    {
     "name": "stderr",
     "output_type": "stream",
     "text": [
      "\r",
      " 41%|█████████████████▏                        | 50/122 [04:08<04:19,  3.60s/it]"
     ]
    },
    {
     "name": "stdout",
     "output_type": "stream",
     "text": [
      "Finding mrna sequence in another exon...\n",
      "Finding extra sequence in mRNA failed, skip...\n",
      "Processing BUD31...Keep 116/152 low off-target sgRNAs...\n",
      "CTGAAACAGAACCGCATGAG in gene BUD31 not aligned, skip...\n",
      "Finding mrna sequence in another exon...\n"
     ]
    },
    {
     "name": "stderr",
     "output_type": "stream",
     "text": [
      "\r",
      " 42%|█████████████████▌                        | 51/122 [04:09<03:28,  2.94s/it]"
     ]
    },
    {
     "name": "stdout",
     "output_type": "stream",
     "text": [
      "Processing TXNL4A...Keep 54/81 low off-target sgRNAs...\n",
      "79973692 is in start/stop codon ...skippingTCAGTAGCGGT\n",
      "79973692 is in start/stop codon ...skippingTCAGTAGCGGT\n",
      "TCAGTAGCGGTACTTGGTGG in gene TXNL4A not aligned, skip...\n"
     ]
    },
    {
     "name": "stderr",
     "output_type": "stream",
     "text": [
      "\r",
      " 43%|█████████████████▉                        | 52/122 [04:09<02:39,  2.28s/it]"
     ]
    },
    {
     "name": "stdout",
     "output_type": "stream",
     "text": [
      "Processing RPS4X...Keep 7/290 low off-target sgRNAs...\n",
      "Processing PLK1...Keep 406/797 low off-target sgRNAs...\n",
      "Finding mrna sequence in another exon...\n",
      "23690054 is in start/stop codon ...skippingTTAGGAGGCCT\n",
      "Finding mrna sequence in another exon...\n",
      "CTTTATTGAGGACTGTGAGG in gene PLK1 not aligned, skip...\n",
      "23678943 is in start/stop codon ...skippingATGAGTGCTGC\n",
      "ATGAGTGCTGCAGTGACTGC in gene PLK1 not aligned, skip...\n",
      "Finding mrna sequence in another exon...\n"
     ]
    },
    {
     "name": "stderr",
     "output_type": "stream",
     "text": [
      "\r",
      " 44%|██████████████████▌                       | 54/122 [04:14<02:35,  2.28s/it]"
     ]
    },
    {
     "name": "stdout",
     "output_type": "stream",
     "text": [
      "Processing SPC24...Keep 74/98 low off-target sgRNAs...\n",
      "Finding mrna sequence in another exon...\n",
      "Finding extra sequence in mRNA failed, skip...\n",
      "ACGGCCGAGGGGATTGTGAC in gene SPC24 not aligned, skip...\n",
      "AGGAGGCTGGCCTTCAGACG in gene SPC24 not aligned, skip...\n"
     ]
    },
    {
     "name": "stderr",
     "output_type": "stream",
     "text": [
      "\r",
      " 45%|██████████████████▉                       | 55/122 [04:15<02:09,  1.94s/it]"
     ]
    },
    {
     "name": "stdout",
     "output_type": "stream",
     "text": [
      "Finding mrna sequence in another exon...\n",
      "Finding extra sequence in mRNA failed, skip...\n",
      "Processing UBA1...Keep 1123/1263 low off-target sgRNAs...\n",
      "GCATGTACATGGACCGCCGC in gene UBA1 not aligned, skip...\n",
      "Finding mrna sequence in another exon...\n",
      "Finding mrna sequence in another exon...\n",
      "CTGGTGACGTGGTGCGGCAA in gene UBA1 not aligned, skip...\n",
      "AAGTTAAAGTCTGACACGGC in gene UBA1 not aligned, skip...\n",
      "Finding mrna sequence in another exon...\n",
      "Finding mrna sequence in another exon...\n",
      "Finding mrna sequence in another exon...\n",
      "AAATCCTTGGTGGCCTCACT in gene UBA1 not aligned, skip...\n",
      "Finding mrna sequence in another exon...\n",
      "Finding mrna sequence in another exon...\n",
      "CTGGAGGCACTTGTCCTCTG in gene UBA1 not aligned, skip...\n",
      "GAGGATGCAGCAGAACTGGT in gene UBA1 not aligned, skip...\n",
      "Finding mrna sequence in another exon...\n"
     ]
    },
    {
     "name": "stderr",
     "output_type": "stream",
     "text": [
      "\r",
      " 46%|███████████████████▎                      | 56/122 [04:28<05:17,  4.81s/it]"
     ]
    },
    {
     "name": "stdout",
     "output_type": "stream",
     "text": [
      "Finding mrna sequence in another exon...\n",
      "Processing GRPEL1...Keep 211/265 low off-target sgRNAs...\n",
      "CTGAGAGACAACGCCAAAGC in gene GRPEL1 not aligned, skip...\n",
      "GAAAAATATAAACGAGCTTT in gene GRPEL1 not aligned, skip...\n"
     ]
    },
    {
     "name": "stderr",
     "output_type": "stream",
     "text": [
      "\r",
      " 47%|███████████████████▌                      | 57/122 [04:30<04:25,  4.09s/it]"
     ]
    },
    {
     "name": "stdout",
     "output_type": "stream",
     "text": [
      "Processing SNW1...Keep 192/536 low off-target sgRNAs...\n",
      "CTCTAATAACCGAGGTATCC in gene SNW1 not aligned, skip...\n",
      "CTTTTTACCTGCACCTACTC in gene SNW1 not aligned, skip...\n",
      "Finding mrna sequence in another exon...\n",
      "Finding extra sequence in mRNA failed, skip...\n",
      "Finding mrna sequence in another exon...\n",
      "Finding extra sequence in mRNA failed, skip...\n"
     ]
    },
    {
     "name": "stderr",
     "output_type": "stream",
     "text": [
      " 48%|████████████████████▎                     | 59/122 [04:32<02:43,  2.59s/it]"
     ]
    },
    {
     "name": "stdout",
     "output_type": "stream",
     "text": [
      "Processing PHB...Keep 16/165 low off-target sgRNAs...\n",
      "Processing RPS15A...Keep 1/121 low off-target sgRNAs...\n",
      "Processing DDX56...Keep 424/571 low off-target sgRNAs...\n",
      "Finding mrna sequence in another exon...\n",
      "Finding extra sequence in mRNA failed, skip...\n",
      "CTGCCAGCTCGATGGATGTA in gene DDX56 not aligned, skip...\n",
      "CTGAAGGAGCCGGGGATCGA in gene DDX56 not aligned, skip...\n",
      "Finding mrna sequence in another exon...\n",
      "Finding extra sequence in mRNA failed, skip...\n",
      "Finding mrna sequence in another exon...\n",
      "Finding extra sequence in mRNA failed, skip...\n",
      "Finding mrna sequence in another exon...\n",
      "Finding extra sequence in mRNA failed, skip...\n",
      "CTCTGAGAGACTGAGTCTTC in gene DDX56 not aligned, skip...\n"
     ]
    },
    {
     "name": "stderr",
     "output_type": "stream",
     "text": [
      "\r",
      " 50%|█████████████████████                     | 61/122 [04:37<02:33,  2.51s/it]"
     ]
    },
    {
     "name": "stdout",
     "output_type": "stream",
     "text": [
      "Finding mrna sequence in another exon...\n",
      "Finding extra sequence in mRNA failed, skip...\n",
      "Processing RAN...Keep 4/131 low off-target sgRNAs...\n",
      "Processing ANAPC11...Keep 88/103 low off-target sgRNAs...\n",
      "GCAAGGTGCCCGGCGACGAC in gene ANAPC11 not aligned, skip...\n",
      "Finding mrna sequence in another exon...\n"
     ]
    },
    {
     "name": "stderr",
     "output_type": "stream",
     "text": [
      "\r",
      " 52%|█████████████████████▋                    | 63/122 [04:38<01:44,  1.77s/it]"
     ]
    },
    {
     "name": "stdout",
     "output_type": "stream",
     "text": [
      "Processing POLD1...Keep 1335/1521 low off-target sgRNAs...\n",
      "CGGATCTCAAAGTCGACGTT in gene POLD1 not aligned, skip...\n",
      "Finding mrna sequence in another exon...\n",
      "50398862 is in start/stop codon ...skippingATGGATGGCAA\n",
      "ATGGATGGCAAGCGGCGGCC in gene POLD1 not aligned, skip...\n",
      "Finding mrna sequence in another exon...\n",
      "Finding mrna sequence in another exon...\n",
      "CTGCCGCAACAGCTGGGATA in gene POLD1 not aligned, skip...\n",
      "GCTACGCAGTGCCAGCTGGA in gene POLD1 not aligned, skip...\n",
      "CTCTCGGCCAGCTCCACGTG in gene POLD1 not aligned, skip...\n",
      "Finding mrna sequence in another exon...\n",
      "Finding mrna sequence in another exon...\n",
      "CTTCTCAAACTCCAGCCGGA in gene POLD1 not aligned, skip...\n",
      "Finding mrna sequence in another exon...\n",
      "GATGAGGAAGCGGGACCCCG in gene POLD1 not aligned, skip...\n",
      "Finding mrna sequence in another exon...\n",
      "Finding mrna sequence in another exon...\n",
      "Finding mrna sequence in another exon...\n",
      "CTGCAGGTCGGTGATGATGC in gene POLD1 not aligned, skip...\n",
      "Finding mrna sequence in another exon...\n",
      "Finding mrna sequence in another exon...\n",
      "Finding mrna sequence in another exon...\n",
      "50417936 is in start/stop codon ...skippingCACCAGGCCTC\n",
      "50417936 is in start/stop codon ...skippingCACCAGGCCTC\n",
      "CACCAGGCCTCAGGTCCAGG in gene POLD1 need sequence not included in fasta file...\n",
      "Finding mrna sequence in another exon...\n",
      "Finding mrna sequence in another exon...\n"
     ]
    },
    {
     "name": "stderr",
     "output_type": "stream",
     "text": [
      "\r",
      " 52%|██████████████████████                    | 64/122 [04:55<04:47,  4.96s/it]"
     ]
    },
    {
     "name": "stdout",
     "output_type": "stream",
     "text": [
      "Processing HNRNPK...Keep 19/406 low off-target sgRNAs...\n",
      "Finding mrna sequence in another exon...\n",
      "Finding extra sequence in mRNA failed, skip...\n"
     ]
    },
    {
     "name": "stderr",
     "output_type": "stream",
     "text": [
      "\r",
      " 53%|██████████████████████▍                   | 65/122 [04:55<03:39,  3.84s/it]"
     ]
    },
    {
     "name": "stdout",
     "output_type": "stream",
     "text": [
      "Processing HCFC1...Keep 2481/2967 low off-target sgRNAs...\n",
      "153970830 is in start/stop codon ...skippingATGGCTTCGGC\n",
      "ATGGCTTCGGCCGTGTCGCC in gene HCFC1 not aligned, skip...\n",
      "Finding mrna sequence in another exon...\n",
      "Finding extra sequence in mRNA failed, skip...\n",
      "Finding mrna sequence in another exon...\n",
      "Finding extra sequence in mRNA failed, skip...\n",
      "Finding mrna sequence in another exon...\n",
      "Finding extra sequence in mRNA failed, skip...\n",
      "GATGATTTGGGCACCGTCCC in gene HCFC1 not aligned, skip...\n",
      "CTGGAGTTCGTAGAGGTCAT in gene HCFC1 not aligned, skip...\n",
      "Finding mrna sequence in another exon...\n",
      "Finding extra sequence in mRNA failed, skip...\n",
      "AATGTACGTGTTTGGTGGCT in gene HCFC1 not aligned, skip...\n",
      "Finding mrna sequence in another exon...\n",
      "Finding extra sequence in mRNA failed, skip...\n",
      "Finding mrna sequence in another exon...\n",
      "Finding extra sequence in mRNA failed, skip...\n",
      "Finding mrna sequence in another exon...\n",
      "Finding extra sequence in mRNA failed, skip...\n",
      "TCTCAGTGGCCGTTGAGGGC in gene HCFC1 not aligned, skip...\n",
      "Finding mrna sequence in another exon...\n",
      "Finding extra sequence in mRNA failed, skip...\n",
      "Finding mrna sequence in another exon...\n",
      "Finding extra sequence in mRNA failed, skip...\n",
      "Finding mrna sequence in another exon...\n",
      "Finding extra sequence in mRNA failed, skip...\n",
      "Finding mrna sequence in another exon...\n",
      "Finding extra sequence in mRNA failed, skip...\n",
      "AAACCAGTAAAGACAGCTCT in gene HCFC1 not aligned, skip...\n",
      "Finding mrna sequence in another exon...\n",
      "Finding extra sequence in mRNA failed, skip...\n",
      "CTTGAGTCCTGGCTGCGGTG in gene HCFC1 not aligned, skip...\n",
      "Finding mrna sequence in another exon...\n",
      "Finding extra sequence in mRNA failed, skip...\n",
      "CTGGGTCACTCCCTGCTGCC in gene HCFC1 not aligned, skip...\n"
     ]
    },
    {
     "name": "stderr",
     "output_type": "stream",
     "text": [
      "\r",
      " 54%|██████████████████████▋                   | 66/122 [05:26<09:55, 10.63s/it]"
     ]
    },
    {
     "name": "stdout",
     "output_type": "stream",
     "text": [
      "Processing RPS6...Keep 21/265 low off-target sgRNAs...\n"
     ]
    },
    {
     "name": "stderr",
     "output_type": "stream",
     "text": [
      " 56%|███████████████████████▍                  | 68/122 [05:26<05:09,  5.74s/it]"
     ]
    },
    {
     "name": "stdout",
     "output_type": "stream",
     "text": [
      "Processing UBL5...Keep 13/60 low off-target sgRNAs...\n",
      "Processing DTL...Keep 455/540 low off-target sgRNAs...\n",
      "TAACAGTAACGAGTAGCCAG in gene DTL not aligned, skip...\n",
      "CGGGCTTGGCAATTTCTTTC in gene DTL not aligned, skip...\n",
      "212102932 is in start/stop codon ...skippingATAATTCTGTT\n",
      "Finding mrna sequence in another exon...\n",
      "212102932 is in start/stop codon ...skippingTATAATTCTGT\n",
      "TATAATTCTGTTGAGTGTTC in gene DTL need sequence not included in fasta file...\n"
     ]
    },
    {
     "name": "stderr",
     "output_type": "stream",
     "text": [
      "\r",
      " 57%|███████████████████████▊                  | 69/122 [05:31<04:54,  5.55s/it]"
     ]
    },
    {
     "name": "stdout",
     "output_type": "stream",
     "text": [
      "Processing RPS8...Keep 1/220 low off-target sgRNAs...\n",
      "Processing NEDD1...Keep 423/503 low off-target sgRNAs...\n",
      "Finding mrna sequence in another exon...\n",
      "Finding mrna sequence in another exon...\n",
      "Finding mrna sequence in another exon...\n",
      "Finding mrna sequence in another exon...\n",
      "Finding mrna sequence in another exon...\n",
      "Finding mrna sequence in another exon...\n",
      "Finding mrna sequence in another exon...\n",
      "Finding mrna sequence in another exon...\n",
      "ATGCTGTAGTTAACAAGGGA in gene NEDD1 not aligned, skip...\n",
      "Finding mrna sequence in another exon...\n",
      "AATGAAATGCATTCTTTGCT in gene NEDD1 not aligned, skip...\n"
     ]
    },
    {
     "name": "stderr",
     "output_type": "stream",
     "text": [
      "\r",
      " 58%|████████████████████████▍                 | 71/122 [05:36<03:36,  4.25s/it]"
     ]
    },
    {
     "name": "stdout",
     "output_type": "stream",
     "text": [
      "Processing COPB2...Keep 733/856 low off-target sgRNAs...\n",
      "Finding mrna sequence in another exon...\n",
      "Finding extra sequence in mRNA failed, skip...\n",
      "Finding mrna sequence in another exon...\n",
      "Finding extra sequence in mRNA failed, skip...\n",
      "AGTTTACTCGAACTAGAAGT in gene COPB2 not aligned, skip...\n",
      "CTTGATAGTCCTGTCCAAAG in gene COPB2 not aligned, skip...\n",
      "TCTGAAGAATCGTGGGCCCA in gene COPB2 not aligned, skip...\n",
      "CTGTTGAGCTGTAGATCTTG in gene COPB2 not aligned, skip...\n",
      "Finding mrna sequence in another exon...\n",
      "Finding extra sequence in mRNA failed, skip...\n",
      "Finding mrna sequence in another exon...\n",
      "Finding extra sequence in mRNA failed, skip...\n",
      "CGTGACAAGTGGGTATTGTT in gene COPB2 not aligned, skip...\n",
      "Finding mrna sequence in another exon...\n",
      "Finding extra sequence in mRNA failed, skip...\n",
      "ATGACATGCTTATTAAGCTC in gene COPB2 not aligned, skip...\n",
      "Finding mrna sequence in another exon...\n",
      "Finding extra sequence in mRNA failed, skip...\n",
      "ATTTTCTGGTCTGACTCTGG in gene COPB2 not aligned, skip...\n",
      "CTCTGCTTCCACTGCTAACT in gene COPB2 not aligned, skip...\n",
      "Finding mrna sequence in another exon...\n",
      "Finding extra sequence in mRNA failed, skip...\n",
      "Finding mrna sequence in another exon...\n",
      "Finding extra sequence in mRNA failed, skip...\n",
      "CACTGCTAGTTAGAATGAAA in gene COPB2 not aligned, skip...\n",
      "Finding mrna sequence in another exon...\n",
      "Finding extra sequence in mRNA failed, skip...\n"
     ]
    },
    {
     "name": "stderr",
     "output_type": "stream",
     "text": [
      "\r",
      " 59%|████████████████████████▊                 | 72/122 [05:45<04:25,  5.31s/it]"
     ]
    },
    {
     "name": "stdout",
     "output_type": "stream",
     "text": [
      "Processing KPNB1...Keep 554/729 low off-target sgRNAs...\n",
      "AATGAGAACGTCCACAGGTC in gene KPNB1 not aligned, skip...\n",
      "Finding mrna sequence in another exon...\n",
      "47657023 is in start/stop codon ...skippingATGAAGGAGTC\n",
      "ATGAAGGAGTCGACATTGGA in gene KPNB1 not aligned, skip...\n",
      "Finding mrna sequence in another exon...\n",
      "TCACATATCCAGAGCACATC in gene KPNB1 not aligned, skip...\n",
      "CTGTTTAGTTAGTGTCTGTG in gene KPNB1 not aligned, skip...\n",
      "CTCTTTATCAAAGTTTGCTT in gene KPNB1 not aligned, skip...\n"
     ]
    },
    {
     "name": "stderr",
     "output_type": "stream",
     "text": [
      "\r",
      " 60%|█████████████████████████▏                | 73/122 [05:51<04:32,  5.57s/it]"
     ]
    },
    {
     "name": "stdout",
     "output_type": "stream",
     "text": [
      "Processing WEE1...Keep 261/414 low off-target sgRNAs...\n",
      "Finding mrna sequence in another exon...\n",
      "Finding mrna sequence in another exon...\n"
     ]
    },
    {
     "name": "stderr",
     "output_type": "stream",
     "text": [
      "\r",
      " 61%|█████████████████████████▍                | 74/122 [05:55<03:55,  4.92s/it]"
     ]
    },
    {
     "name": "stdout",
     "output_type": "stream",
     "text": [
      "AGAACTCAAGAAAGCACAGA in gene WEE1 not aligned, skip...\n",
      "Finding mrna sequence in another exon...\n",
      "Finding mrna sequence in another exon...\n",
      "Processing CDC123...Keep 254/283 low off-target sgRNAs...\n",
      "Finding mrna sequence in another exon...\n",
      "Finding mrna sequence in another exon...\n",
      "GCACCAGAATTTCCTGAGTT in gene CDC123 not aligned, skip...\n",
      "Finding mrna sequence in another exon...\n"
     ]
    },
    {
     "name": "stderr",
     "output_type": "stream",
     "text": [
      "\r",
      " 61%|█████████████████████████▊                | 75/122 [05:57<03:24,  4.36s/it]"
     ]
    },
    {
     "name": "stdout",
     "output_type": "stream",
     "text": [
      "CTCGTTCTCCGAAAATGGTG in gene CDC123 not aligned, skip...\n",
      "Processing RPAP1...Keep 1518/1875 low off-target sgRNAs...\n",
      "41537116 is in start/stop codon ...skippingATGCTGTCGAG\n",
      "ATGCTGTCGAGACCGAAGCC in gene RPAP1 not aligned, skip...\n",
      "AGAGCGGGGTATTCCCTACA in gene RPAP1 not aligned, skip...\n",
      "Finding mrna sequence in another exon...\n",
      "Finding extra sequence in mRNA failed, skip...\n",
      "CTGTGTGTCCCGCGAGCGAA in gene RPAP1 not aligned, skip...\n",
      "Finding mrna sequence in another exon...\n",
      "Finding extra sequence in mRNA failed, skip...\n",
      "Finding mrna sequence in another exon...\n",
      "Finding extra sequence in mRNA failed, skip...\n",
      "CAAGCTGGGCCAGCAACCGC in gene RPAP1 not aligned, skip...\n",
      "CCTCTGGTGGGCCCACGTTG in gene RPAP1 not aligned, skip...\n",
      "Finding mrna sequence in another exon...\n",
      "Finding extra sequence in mRNA failed, skip...\n",
      "41517553 is in start/stop codon ...skippingAGGTCTCTGAT\n",
      "Finding mrna sequence in another exon...\n",
      "Finding extra sequence in mRNA failed, skip...\n",
      "Finding mrna sequence in another exon...\n",
      "Finding extra sequence in mRNA failed, skip...\n",
      "GAACGAGATACAAGTTCAGT in gene RPAP1 not aligned, skip...\n",
      "Finding mrna sequence in another exon...\n",
      "Finding extra sequence in mRNA failed, skip...\n",
      "Finding mrna sequence in another exon...\n",
      "Finding extra sequence in mRNA failed, skip...\n",
      "Finding mrna sequence in another exon...\n",
      "Finding extra sequence in mRNA failed, skip...\n",
      "Finding mrna sequence in another exon...\n",
      "Finding extra sequence in mRNA failed, skip...\n",
      "Finding mrna sequence in another exon...\n",
      "Finding extra sequence in mRNA failed, skip...\n",
      "CTGGCCACACAGCCCCTTGT in gene RPAP1 not aligned, skip...\n",
      "Finding mrna sequence in another exon...\n",
      "Finding extra sequence in mRNA failed, skip...\n",
      "CTCCTGTGTCTGCTGCCGCC in gene RPAP1 not aligned, skip...\n",
      "CTCTGCCTCCTCTCCATGGT in gene RPAP1 not aligned, skip...\n"
     ]
    },
    {
     "name": "stderr",
     "output_type": "stream",
     "text": [
      "\r",
      " 62%|██████████████████████████▏               | 76/122 [06:16<06:27,  8.43s/it]"
     ]
    },
    {
     "name": "stdout",
     "output_type": "stream",
     "text": [
      "Processing POLR2C...Keep 173/272 low off-target sgRNAs...\n",
      "Finding mrna sequence in another exon...\n",
      "CGGAATGACCCGGGGGCTGT in gene POLR2C not aligned, skip...\n",
      "Finding mrna sequence in another exon...\n",
      "ACATCCTCATCGTCAAGTTG in gene POLR2C not aligned, skip...\n",
      "GCCAAAGAGTGAGTACTCGG in gene POLR2C not aligned, skip...\n",
      "Finding mrna sequence in another exon...\n"
     ]
    },
    {
     "name": "stderr",
     "output_type": "stream",
     "text": [
      "\r",
      " 63%|██████████████████████████▌               | 77/122 [06:18<04:56,  6.60s/it]"
     ]
    },
    {
     "name": "stdout",
     "output_type": "stream",
     "text": [
      "Finding mrna sequence in another exon...\n",
      "Processing RRM1...Keep 350/434 low off-target sgRNAs...\n",
      "Finding mrna sequence in another exon...\n"
     ]
    },
    {
     "name": "stderr",
     "output_type": "stream",
     "text": [
      "\r",
      " 64%|██████████████████████████▊               | 78/122 [06:22<04:19,  5.91s/it]"
     ]
    },
    {
     "name": "stdout",
     "output_type": "stream",
     "text": [
      "Processing RANGAP1...Keep 589/735 low off-target sgRNAs...\n",
      "41246615 is in start/stop codon ...skippingAGACCTTGTAC\n",
      "Finding mrna sequence in another exon...\n",
      "Finding extra sequence in mRNA failed, skip...\n",
      "CTTGCCGCCGCCAATGCCCA in gene RANGAP1 not aligned, skip...\n",
      "CTTTAGCTTGGGCAGGCCGC in gene RANGAP1 not aligned, skip...\n",
      "CTTGAGCAGACCCATGTGCA in gene RANGAP1 not aligned, skip...\n",
      "Finding mrna sequence in another exon...\n",
      "Finding extra sequence in mRNA failed, skip...\n",
      "GAGCTGAACTTGTCATTCTG in gene RANGAP1 not aligned, skip...\n",
      "CTGAGGGACGCCAGCACCTT in gene RANGAP1 not aligned, skip...\n",
      "Finding mrna sequence in another exon...\n",
      "Finding extra sequence in mRNA failed, skip...\n",
      "CTGCTGGGCTATCAGCACGG in gene RANGAP1 not aligned, skip...\n",
      "Finding mrna sequence in another exon...\n",
      "Finding extra sequence in mRNA failed, skip...\n",
      "CATTCAGGTCCAGCTTCTCC in gene RANGAP1 not aligned, skip...\n",
      "ATCCTGGCTGCAGCTCTGAC in gene RANGAP1 not aligned, skip...\n"
     ]
    },
    {
     "name": "stderr",
     "output_type": "stream",
     "text": [
      "\r",
      " 65%|███████████████████████████▏              | 79/122 [06:30<04:31,  6.31s/it]"
     ]
    },
    {
     "name": "stdout",
     "output_type": "stream",
     "text": [
      "Finding mrna sequence in another exon...\n",
      "Finding extra sequence in mRNA failed, skip...\n",
      "Processing SRSF2...Keep 256/337 low off-target sgRNAs...\n",
      "Finding mrna sequence in another exon...\n",
      "Finding extra sequence in mRNA failed, skip...\n"
     ]
    },
    {
     "name": "stderr",
     "output_type": "stream",
     "text": [
      "\r",
      " 66%|███████████████████████████▌              | 80/122 [06:33<03:44,  5.35s/it]"
     ]
    },
    {
     "name": "stdout",
     "output_type": "stream",
     "text": [
      "Processing RPA1...Keep 499/545 low off-target sgRNAs...\n",
      "Finding mrna sequence in another exon...\n",
      "Finding mrna sequence in another exon...\n",
      "AACATCCGTCCCATTACTAC in gene RPA1 not aligned, skip...\n",
      "Finding mrna sequence in another exon...\n",
      "Finding mrna sequence in another exon...\n",
      "ACATCATCGGGATCTGCAAG in gene RPA1 not aligned, skip...\n",
      "Finding mrna sequence in another exon...\n",
      "Finding mrna sequence in another exon...\n",
      "Finding mrna sequence in another exon...\n"
     ]
    },
    {
     "name": "stderr",
     "output_type": "stream",
     "text": [
      "\r",
      " 66%|███████████████████████████▉              | 81/122 [06:39<03:51,  5.65s/it]"
     ]
    },
    {
     "name": "stdout",
     "output_type": "stream",
     "text": [
      "Finding mrna sequence in another exon...\n",
      "AATGAACAGGCATTTGAAGA in gene RPA1 not aligned, skip...\n",
      "Processing POLR2E...Keep 68/133 low off-target sgRNAs...\n",
      "1089496 is in start/stop codon ...skippingCTACTGCACCA\n",
      "1089496 is in start/stop codon ...skippingCTACTGCACCA\n",
      "CTACTGCACCAGCCGGTAGG in gene POLR2E not aligned, skip...\n",
      "Finding mrna sequence in another exon...\n",
      "Finding extra sequence in mRNA failed, skip...\n",
      "Finding mrna sequence in another exon...\n",
      "Finding extra sequence in mRNA failed, skip...\n",
      "CTCGTGCTCCGTGATGTTGA in gene POLR2E not aligned, skip...\n",
      "CTGCTTGGCGGAGGGTGTCA in gene POLR2E not aligned, skip...\n"
     ]
    },
    {
     "name": "stderr",
     "output_type": "stream",
     "text": [
      "\r",
      " 67%|████████████████████████████▏             | 82/122 [06:40<02:48,  4.22s/it]"
     ]
    },
    {
     "name": "stdout",
     "output_type": "stream",
     "text": [
      "Processing PAFAH1B1...Keep 141/408 low off-target sgRNAs...\n",
      "Finding mrna sequence in another exon...\n",
      "Finding mrna sequence in another exon...\n",
      "Finding mrna sequence in another exon...\n",
      "ACTAAAAAAAGTGGTAAACC in gene PAFAH1B1 not aligned, skip...\n"
     ]
    },
    {
     "name": "stderr",
     "output_type": "stream",
     "text": [
      "\r",
      " 68%|████████████████████████████▌             | 83/122 [06:42<02:15,  3.48s/it]"
     ]
    },
    {
     "name": "stdout",
     "output_type": "stream",
     "text": [
      "Processing POLR2B...Keep 893/1017 low off-target sgRNAs...\n",
      "57030978 is in start/stop codon ...skippingTAAACACTCAT\n",
      "TAAACACTCATCATTCGCGG in gene POLR2B need sequence not included in fasta file...\n",
      "CTGAAGAAGCCGCGGTCTAC in gene POLR2B not aligned, skip...\n",
      "Finding mrna sequence in another exon...\n",
      "CCACGATATTTGCTGAAGTT in gene POLR2B not aligned, skip...\n",
      "Finding mrna sequence in another exon...\n",
      "Finding mrna sequence in another exon...\n",
      "Finding mrna sequence in another exon...\n",
      "Finding mrna sequence in another exon...\n",
      "Finding mrna sequence in another exon...\n",
      "Finding mrna sequence in another exon...\n",
      "GATATGCCTTTCACCTGTGA in gene POLR2B not aligned, skip...\n",
      "CTGCTGGCAGCTCTCTAAAT in gene POLR2B not aligned, skip...\n",
      "Finding mrna sequence in another exon...\n",
      "Finding mrna sequence in another exon...\n",
      "CTCATTTCCTCTGAGATGAT in gene POLR2B not aligned, skip...\n",
      "CTGTCCTCCTCTTGCCAGCA in gene POLR2B not aligned, skip...\n",
      "Finding mrna sequence in another exon...\n",
      "Finding mrna sequence in another exon...\n",
      "Finding mrna sequence in another exon...\n",
      "CTTTTCTGATCCATTAATAA in gene POLR2B not aligned, skip...\n"
     ]
    },
    {
     "name": "stderr",
     "output_type": "stream",
     "text": [
      "\r",
      " 69%|████████████████████████████▉             | 84/122 [06:53<03:42,  5.86s/it]"
     ]
    },
    {
     "name": "stdout",
     "output_type": "stream",
     "text": [
      "Processing RNGTT...Keep 360/454 low off-target sgRNAs...\n",
      "AAATACAAACCTGGTCGATG in gene RNGTT not aligned, skip...\n",
      "Finding mrna sequence in another exon...\n",
      "Finding extra sequence in mRNA failed, skip...\n",
      "Finding mrna sequence in another exon...\n",
      "Finding extra sequence in mRNA failed, skip...\n",
      "Finding mrna sequence in another exon...\n",
      "Finding extra sequence in mRNA failed, skip...\n"
     ]
    },
    {
     "name": "stderr",
     "output_type": "stream",
     "text": [
      "\r",
      " 70%|█████████████████████████████▎            | 85/122 [06:58<03:21,  5.44s/it]"
     ]
    },
    {
     "name": "stdout",
     "output_type": "stream",
     "text": [
      "Processing RPL15...Keep 0/143 low off-target sgRNAs...\n",
      "Processing POLR2L...Keep 67/80 low off-target sgRNAs...\n",
      "Finding mrna sequence in another exon...\n",
      "Finding extra sequence in mRNA failed, skip...\n"
     ]
    },
    {
     "name": "stderr",
     "output_type": "stream",
     "text": [
      " 73%|██████████████████████████████▋           | 89/122 [06:59<01:03,  1.92s/it]"
     ]
    },
    {
     "name": "stdout",
     "output_type": "stream",
     "text": [
      "Processing EEF1A1...Keep 0/526 low off-target sgRNAs...\n",
      "Processing SNRPF...Keep 13/82 low off-target sgRNAs...\n",
      "Processing NUDT21...Keep 166/226 low off-target sgRNAs...\n",
      "ATACTGGGTCGTCAGGATGG in gene NUDT21 not aligned, skip...\n",
      "Finding mrna sequence in another exon...\n",
      "Finding extra sequence in mRNA failed, skip...\n",
      "AGGTTGATGGTGCGCTCCAG in gene NUDT21 not aligned, skip...\n",
      "CTTTTTCTTGAAGCTGAACC in gene NUDT21 not aligned, skip...\n"
     ]
    },
    {
     "name": "stderr",
     "output_type": "stream",
     "text": [
      "\r",
      " 74%|██████████████████████████████▉           | 90/122 [07:01<01:01,  1.92s/it]"
     ]
    },
    {
     "name": "stdout",
     "output_type": "stream",
     "text": [
      "Processing WDR70...Keep 284/571 low off-target sgRNAs...\n",
      "Finding mrna sequence in another exon...\n",
      "CCATCAGATCAAGTCATTAC in gene WDR70 not aligned, skip...\n",
      "Finding mrna sequence in another exon...\n",
      "Finding mrna sequence in another exon...\n",
      "AATCCTGTTCACAAGATTCC in gene WDR70 not aligned, skip...\n",
      "Finding mrna sequence in another exon...\n"
     ]
    },
    {
     "name": "stderr",
     "output_type": "stream",
     "text": [
      "\r",
      " 75%|███████████████████████████████▎          | 91/122 [07:04<01:12,  2.32s/it]"
     ]
    },
    {
     "name": "stdout",
     "output_type": "stream",
     "text": [
      "Processing CDC5L...Keep 630/765 low off-target sgRNAs...\n",
      "Finding mrna sequence in another exon...\n",
      "GCCATACGAGATGCAGAGCG in gene CDC5L not aligned, skip...\n",
      "44387833 is in start/stop codon ...skippingATGCCTCGAAT\n",
      "ATGCCTCGAATTATGATCAA in gene CDC5L not aligned, skip...\n",
      "GCCCAGGATGTTTTGGTGCA in gene CDC5L not aligned, skip...\n",
      "Finding mrna sequence in another exon...\n",
      "CATCTGGCTTTGCACTGCTT in gene CDC5L not aligned, skip...\n",
      "Finding mrna sequence in another exon...\n",
      "Finding mrna sequence in another exon...\n",
      "CTGAATGGAGTAGAGAGAAC in gene CDC5L not aligned, skip...\n",
      "GATGAAATTCTGAAAGCAGC in gene CDC5L not aligned, skip...\n",
      "Finding mrna sequence in another exon...\n"
     ]
    },
    {
     "name": "stderr",
     "output_type": "stream",
     "text": [
      "\r",
      " 75%|███████████████████████████████▋          | 92/122 [07:12<01:50,  3.68s/it]"
     ]
    },
    {
     "name": "stdout",
     "output_type": "stream",
     "text": [
      "Processing DONSON...Keep 449/652 low off-target sgRNAs...\n",
      "Finding mrna sequence in another exon...\n",
      "Finding extra sequence in mRNA failed, skip...\n",
      "33578317 is in start/stop codon ...skippingTCAGGATCTCC\n",
      "33578317 is in start/stop codon ...skippingTCAGGATCTCC\n",
      "TCAGGATCTCCAATTATAAA in gene DONSON not aligned, skip...\n"
     ]
    },
    {
     "name": "stderr",
     "output_type": "stream",
     "text": [
      "\r",
      " 76%|████████████████████████████████          | 93/122 [07:17<02:00,  4.16s/it]"
     ]
    },
    {
     "name": "stdout",
     "output_type": "stream",
     "text": [
      "Processing U2AF2...Keep 556/608 low off-target sgRNAs...\n",
      "55655113 is in start/stop codon ...skippingATGTCGGACTT\n",
      "ATGTCGGACTTCGACGAGTT in gene U2AF2 not aligned, skip...\n",
      "CTGCGTCGTCGCCTGTCCCG in gene U2AF2 not aligned, skip...\n",
      "TCGTTCCCCCCGCCACGAGA in gene U2AF2 not aligned, skip...\n",
      "Finding mrna sequence in another exon...\n",
      "CTTTCCGCAGCCGGGCACCT in gene U2AF2 not aligned, skip...\n",
      "CTGGTCATCGTTCAGGTAGT in gene U2AF2 not aligned, skip...\n",
      "AGCACCATCAATCAGACGCC in gene U2AF2 not aligned, skip...\n",
      "Finding mrna sequence in another exon...\n",
      "Finding mrna sequence in another exon...\n",
      "CTTGTTTATTCTCGTTGAGC in gene U2AF2 not aligned, skip...\n",
      "ATCTTTGTGGAGTTCACCTC in gene U2AF2 not aligned, skip...\n",
      "CTCAGTGATGCCAAAGGGGA in gene U2AF2 not aligned, skip...\n"
     ]
    },
    {
     "name": "stderr",
     "output_type": "stream",
     "text": [
      "\r",
      " 77%|████████████████████████████████▎         | 94/122 [07:24<02:17,  4.92s/it]"
     ]
    },
    {
     "name": "stdout",
     "output_type": "stream",
     "text": [
      "CTCCAAAAAGGCAAAATTCT in gene U2AF2 not aligned, skip...\n",
      "Finding mrna sequence in another exon...\n",
      "Processing SDE2...Keep 451/540 low off-target sgRNAs...\n",
      "CTTTGAGGACGGAATCCTCC in gene SDE2 not aligned, skip...\n",
      "Finding mrna sequence in another exon...\n",
      "Finding extra sequence in mRNA failed, skip...\n",
      "CTGATCTTGGCAGTGCCGGT in gene SDE2 not aligned, skip...\n",
      "Finding mrna sequence in another exon...\n",
      "Finding extra sequence in mRNA failed, skip...\n",
      "Finding mrna sequence in another exon...\n",
      "Finding extra sequence in mRNA failed, skip...\n",
      "225999302 is in start/stop codon ...skippingATGGCGGAGGC\n",
      "ATGGCGGAGGCCGCGGCGCT in gene SDE2 not aligned, skip...\n",
      "Finding mrna sequence in another exon...\n",
      "Finding extra sequence in mRNA failed, skip...\n"
     ]
    },
    {
     "name": "stderr",
     "output_type": "stream",
     "text": [
      "\r",
      " 78%|████████████████████████████████▋         | 95/122 [07:30<02:17,  5.08s/it]"
     ]
    },
    {
     "name": "stdout",
     "output_type": "stream",
     "text": [
      "Processing SF1...Keep 417/514 low off-target sgRNAs...\n",
      "CTGTTATCGTCTTCCCGAAG in gene SF1 not aligned, skip...\n",
      "TACCTGGGAAGTACGCCTGT in gene SF1 not aligned, skip...\n",
      "Finding mrna sequence in another exon...\n",
      "Finding extra sequence in mRNA failed, skip...\n",
      "Finding mrna sequence in another exon...\n",
      "Finding extra sequence in mRNA failed, skip...\n",
      "Finding mrna sequence in another exon...\n",
      "Finding extra sequence in mRNA failed, skip...\n",
      "Finding mrna sequence in another exon...\n",
      "Finding extra sequence in mRNA failed, skip...\n",
      "CTGTTCCACTGCCTTTTTGA in gene SF1 not aligned, skip...\n",
      "CGGTGGAGGTGGGTTGTTGG in gene SF1 not aligned, skip...\n",
      "CCATTGGAGGAGGGCCATGG in gene SF1 not aligned, skip...\n",
      "ATAAGAAACATCCTGAAGCA in gene SF1 not aligned, skip...\n",
      "CTTTGGAATTTACAGTCTGA in gene SF1 not aligned, skip...\n"
     ]
    },
    {
     "name": "stderr",
     "output_type": "stream",
     "text": [
      "\r",
      " 79%|█████████████████████████████████         | 96/122 [07:36<02:19,  5.36s/it]"
     ]
    },
    {
     "name": "stdout",
     "output_type": "stream",
     "text": [
      "Processing POLR3A...Keep 1351/1530 low off-target sgRNAs...\n",
      "Finding mrna sequence in another exon...\n",
      "Finding extra sequence in mRNA failed, skip...\n",
      "CTTGTAGGTCATGAGGTCGG in gene POLR3A not aligned, skip...\n",
      "Finding mrna sequence in another exon...\n",
      "Finding extra sequence in mRNA failed, skip...\n",
      "CTAACCGTGGTTTCTCAATT in gene POLR3A not aligned, skip...\n",
      "CGAAGGCTTGTCAAATCTCT in gene POLR3A not aligned, skip...\n",
      "Finding mrna sequence in another exon...\n",
      "Finding extra sequence in mRNA failed, skip...\n",
      "CATTAAAAGCGCCACAGTGA in gene POLR3A not aligned, skip...\n",
      "CTCATAGGTGTTATTGGAGG in gene POLR3A not aligned, skip...\n",
      "Finding mrna sequence in another exon...\n",
      "Finding extra sequence in mRNA failed, skip...\n",
      "77977488 is in start/stop codon ...skippingCTATGTGACAA\n",
      "77977488 is in start/stop codon ...skippingCTATGTGACAA\n",
      "CTATGTGACAAGGGGGATGT in gene POLR3A not aligned, skip...\n",
      "Finding mrna sequence in another exon...\n",
      "Finding extra sequence in mRNA failed, skip...\n",
      "Finding mrna sequence in another exon...\n",
      "Finding extra sequence in mRNA failed, skip...\n",
      "CTCTGTTGTGCCGTTATCAT in gene POLR3A not aligned, skip...\n",
      "CTTTAGGATTGTAGGCGGTG in gene POLR3A not aligned, skip...\n",
      "ATTTCCGAGTATATTGAAGA in gene POLR3A not aligned, skip...\n",
      "78029397 is in start/stop codon ...skippingATGGTGAAGGA\n",
      "ATGGTGAAGGAGCAGTTCCG in gene POLR3A not aligned, skip...\n",
      "Finding mrna sequence in another exon...\n",
      "Finding extra sequence in mRNA failed, skip...\n",
      "Finding mrna sequence in another exon...\n",
      "Finding extra sequence in mRNA failed, skip...\n",
      "CTCATGTACTTGTCCCTACA in gene POLR3A not aligned, skip...\n",
      "Finding mrna sequence in another exon...\n",
      "Finding extra sequence in mRNA failed, skip...\n",
      "CTTGGGGAGATCCTCTTTCA in gene POLR3A not aligned, skip...\n",
      "Finding mrna sequence in another exon...\n",
      "Finding extra sequence in mRNA failed, skip...\n",
      "CCTGTTTTCCCTTCAGGCGT in gene POLR3A not aligned, skip...\n",
      "GAAAACTTGAATCCCTTAGT in gene POLR3A not aligned, skip...\n",
      "CACTCCAATTATCACAGCAC in gene POLR3A not aligned, skip...\n",
      "CTCCCAGCTGCCAAAGGCTT in gene POLR3A not aligned, skip...\n",
      "Finding mrna sequence in another exon...\n",
      "Finding extra sequence in mRNA failed, skip...\n",
      "AAGCCACATCTGTTTTGGAA in gene POLR3A not aligned, skip...\n",
      "Finding mrna sequence in another exon...\n",
      "Finding extra sequence in mRNA failed, skip...\n",
      "Finding mrna sequence in another exon...\n",
      "Finding extra sequence in mRNA failed, skip...\n",
      "CTCCAGGGTCTCCTCAGCAG in gene POLR3A not aligned, skip...\n"
     ]
    },
    {
     "name": "stderr",
     "output_type": "stream",
     "text": [
      "\r",
      " 80%|█████████████████████████████████▍        | 97/122 [07:54<03:44,  8.98s/it]"
     ]
    },
    {
     "name": "stdout",
     "output_type": "stream",
     "text": [
      "Processing PSMA7...Keep 231/264 low off-target sgRNAs...\n",
      "Finding mrna sequence in another exon...\n",
      "Finding extra sequence in mRNA failed, skip...\n",
      "Finding mrna sequence in another exon...\n",
      "Finding extra sequence in mRNA failed, skip...\n",
      "CGCGGTCGAGCCCTTCTTGA in gene PSMA7 not aligned, skip...\n",
      "Finding mrna sequence in another exon...\n",
      "Finding extra sequence in mRNA failed, skip...\n",
      "CTGCTTCAGACTGGCGATGT in gene PSMA7 not aligned, skip...\n"
     ]
    },
    {
     "name": "stderr",
     "output_type": "stream",
     "text": [
      "\r",
      " 80%|█████████████████████████████████▋        | 98/122 [07:56<02:52,  7.20s/it]"
     ]
    },
    {
     "name": "stdout",
     "output_type": "stream",
     "text": [
      "Finding mrna sequence in another exon...\n",
      "Finding extra sequence in mRNA failed, skip...\n",
      "Processing RPS15...Keep 0/192 low off-target sgRNAs...\n",
      "Processing RPS12...Keep 1/121 low off-target sgRNAs...\n",
      "Processing GARS1...Keep 561/689 low off-target sgRNAs...\n",
      "GAGCTGGCGTTACAGCCCAA in gene GARS1 not aligned, skip...\n",
      "CTTTTAATAGATGGTCAGCA in gene GARS1 not aligned, skip...\n",
      "CTTGATAACTATGGACAGCA in gene GARS1 not aligned, skip...\n",
      "30595094 is in start/stop codon ...skippingATGGACGGCGC\n",
      "ATGGACGGCGCGGGGGCTGA in gene GARS1 not aligned, skip...\n",
      "CTGTTCAACAGCATCTCCCA in gene GARS1 not aligned, skip...\n",
      "CTCCATAAATAGCAAAAGCT in gene GARS1 not aligned, skip...\n",
      "ATCTCTGAGCTGCCCAGCAT in gene GARS1 not aligned, skip...\n",
      "Finding mrna sequence in another exon...\n",
      "Finding mrna sequence in another exon...\n"
     ]
    },
    {
     "name": "stderr",
     "output_type": "stream",
     "text": [
      "\r",
      " 83%|█████████████████████████████████▉       | 101/122 [08:04<01:34,  4.51s/it]"
     ]
    },
    {
     "name": "stdout",
     "output_type": "stream",
     "text": [
      "Finding mrna sequence in another exon...\n",
      "Processing ANKLE2...Keep 998/1165 low off-target sgRNAs...\n",
      "Finding mrna sequence in another exon...\n",
      "Finding extra sequence in mRNA failed, skip...\n",
      "Finding mrna sequence in another exon...\n",
      "Finding extra sequence in mRNA failed, skip...\n",
      "CAGACGTGGTGGCTTTATCT in gene ANKLE2 not aligned, skip...\n",
      "Finding mrna sequence in another exon...\n",
      "Finding extra sequence in mRNA failed, skip...\n",
      "CATCTTGTCGGGGGTGTTGA in gene ANKLE2 not aligned, skip...\n",
      "Finding mrna sequence in another exon...\n",
      "Finding extra sequence in mRNA failed, skip...\n",
      "Finding mrna sequence in another exon...\n",
      "Finding extra sequence in mRNA failed, skip...\n",
      "132727254 is in start/stop codon ...skippingACAGGGCGGCA\n",
      "Finding mrna sequence in another exon...\n",
      "Finding extra sequence in mRNA failed, skip...\n",
      "CCAAAAAGGAAGAGCCGCCT in gene ANKLE2 not aligned, skip...\n",
      "Finding mrna sequence in another exon...\n",
      "Finding extra sequence in mRNA failed, skip...\n",
      "132761788 is in start/stop codon ...skippingATGCTGTGGCC\n",
      "ATGCTGTGGCCGCGGCTGGC in gene ANKLE2 not aligned, skip...\n",
      "Finding mrna sequence in another exon...\n",
      "Finding extra sequence in mRNA failed, skip...\n"
     ]
    },
    {
     "name": "stderr",
     "output_type": "stream",
     "text": [
      " 84%|██████████████████████████████████▌      | 103/122 [08:17<01:32,  4.89s/it]"
     ]
    },
    {
     "name": "stdout",
     "output_type": "stream",
     "text": [
      "Processing RPS13...Keep 8/120 low off-target sgRNAs...\n",
      "Processing SF3B3...Keep 1202/1364 low off-target sgRNAs...\n",
      "Finding mrna sequence in another exon...\n",
      "Finding mrna sequence in another exon...\n",
      "Finding mrna sequence in another exon...\n",
      "CTGTAATAAGGAAGTTGCCG in gene SF3B3 not aligned, skip...\n",
      "AACGGTGTGCTGCTGAGGAC in gene SF3B3 not aligned, skip...\n",
      "CGTAGGGTGTTGGTGGAGAT in gene SF3B3 not aligned, skip...\n",
      "GAAGCAGACAATGATCCAAC in gene SF3B3 not aligned, skip...\n",
      "Finding mrna sequence in another exon...\n",
      "Finding mrna sequence in another exon...\n",
      "ATAGCTGATCTGGCCAATGA in gene SF3B3 not aligned, skip...\n",
      "CACACATATGTTGCCAAACT in gene SF3B3 not aligned, skip...\n",
      "GACCATGACTTCTTCCAGCA in gene SF3B3 not aligned, skip...\n",
      "Finding mrna sequence in another exon...\n",
      "Finding mrna sequence in another exon...\n",
      "CTTCACAGGGAAGTAGTAGG in gene SF3B3 not aligned, skip...\n",
      "Finding mrna sequence in another exon...\n",
      "Finding mrna sequence in another exon...\n",
      "Finding mrna sequence in another exon...\n",
      "CTGGCAAAACAGAATGGGAG in gene SF3B3 not aligned, skip...\n",
      "Finding mrna sequence in another exon...\n",
      "Finding mrna sequence in another exon...\n",
      "Finding mrna sequence in another exon...\n",
      "GAAATGGTGGAAGCAGCAGG in gene SF3B3 not aligned, skip...\n"
     ]
    },
    {
     "name": "stderr",
     "output_type": "stream",
     "text": [
      "\r",
      " 85%|██████████████████████████████████▉      | 104/122 [08:33<02:18,  7.67s/it]"
     ]
    },
    {
     "name": "stdout",
     "output_type": "stream",
     "text": [
      "Processing HSPA9...Keep 181/670 low off-target sgRNAs...\n",
      "Finding mrna sequence in another exon...\n",
      "Finding extra sequence in mRNA failed, skip...\n",
      "Finding mrna sequence in another exon...\n",
      "Finding extra sequence in mRNA failed, skip...\n"
     ]
    },
    {
     "name": "stderr",
     "output_type": "stream",
     "text": [
      "\r",
      " 86%|███████████████████████████████████▎     | 105/122 [08:35<01:46,  6.28s/it]"
     ]
    },
    {
     "name": "stdout",
     "output_type": "stream",
     "text": [
      "Processing RUVBL1...Keep 284/330 low off-target sgRNAs...\n",
      "Finding mrna sequence in another exon...\n",
      "Finding extra sequence in mRNA failed, skip...\n",
      "Finding mrna sequence in another exon...\n",
      "Finding extra sequence in mRNA failed, skip...\n"
     ]
    },
    {
     "name": "stderr",
     "output_type": "stream",
     "text": [
      "\r",
      " 87%|███████████████████████████████████▌     | 106/122 [08:39<01:29,  5.58s/it]"
     ]
    },
    {
     "name": "stdout",
     "output_type": "stream",
     "text": [
      "Processing SF3A2...Keep 404/727 low off-target sgRNAs...\n",
      "ATTGACTACCCTGAGATCGC in gene SF3A2 not aligned, skip...\n",
      "Finding mrna sequence in another exon...\n",
      "CTTGAAGGCAATGGTCTCGT in gene SF3A2 not aligned, skip...\n",
      "Finding mrna sequence in another exon...\n",
      "Finding mrna sequence in another exon...\n",
      "CTCATTGTTGTGAAGTGTCA in gene SF3A2 not aligned, skip...\n",
      "CTGGAAGAGGAGGCTCTGCT in gene SF3A2 not aligned, skip...\n"
     ]
    },
    {
     "name": "stderr",
     "output_type": "stream",
     "text": [
      "\r",
      " 88%|███████████████████████████████████▉     | 107/122 [08:44<01:21,  5.47s/it]"
     ]
    },
    {
     "name": "stdout",
     "output_type": "stream",
     "text": [
      "2248544 is in start/stop codon ...skippingCAGTTGGTTGG\n",
      "2248544 is in start/stop codon ...skippingCAGTTGGTTGG\n",
      "CAGTTGGTTGGGGGAGGGGG in gene SF3A2 need sequence not included in fasta file...\n",
      "Processing PSMA1...Keep 45/92 low off-target sgRNAs...\n",
      "CATAACAGTCTAGCATCAGC in gene PSMA1 not aligned, skip...\n"
     ]
    },
    {
     "name": "stderr",
     "output_type": "stream",
     "text": [
      "\r",
      " 89%|████████████████████████████████████▎    | 108/122 [08:45<00:57,  4.07s/it]"
     ]
    },
    {
     "name": "stdout",
     "output_type": "stream",
     "text": [
      "AGGGCGCAATCAGAGCTTGC in gene PSMA1 not aligned, skip...\n",
      "Processing ECD...Keep 504/594 low off-target sgRNAs...\n",
      "CCTCTGATGCGCCTATTCAC in gene ECD not aligned, skip...\n",
      "GAACCTGTATCCCAGACTAC in gene ECD not aligned, skip...\n",
      "Finding mrna sequence in another exon...\n",
      "Finding extra sequence in mRNA failed, skip...\n",
      "Finding mrna sequence in another exon...\n",
      "Finding extra sequence in mRNA failed, skip...\n",
      "Finding mrna sequence in another exon...\n",
      "Finding extra sequence in mRNA failed, skip...\n",
      "Finding mrna sequence in another exon...\n",
      "Finding extra sequence in mRNA failed, skip...\n",
      "73163927 is in start/stop codon ...skippingATGGAAGAAAC\n",
      "ATGGAAGAAACCATGAAGCT in gene ECD not aligned, skip...\n",
      "Finding mrna sequence in another exon...\n",
      "Finding extra sequence in mRNA failed, skip...\n",
      "CTTTCCCAGGTTTATATTTA in gene ECD not aligned, skip...\n",
      "Finding mrna sequence in another exon...\n",
      "Finding extra sequence in mRNA failed, skip...\n"
     ]
    },
    {
     "name": "stderr",
     "output_type": "stream",
     "text": [
      "\r",
      " 89%|████████████████████████████████████▋    | 109/122 [08:52<01:03,  4.89s/it]"
     ]
    },
    {
     "name": "stdout",
     "output_type": "stream",
     "text": [
      "Finding mrna sequence in another exon...\n",
      "Finding extra sequence in mRNA failed, skip...\n",
      "Processing RPL18A...Keep 0/227 low off-target sgRNAs...\n",
      "Processing ISCU...Keep 80/98 low off-target sgRNAs...\n",
      "Finding mrna sequence in another exon...\n",
      "Finding mrna sequence in another exon...\n"
     ]
    },
    {
     "name": "stderr",
     "output_type": "stream",
     "text": [
      "\r",
      " 91%|█████████████████████████████████████▎   | 111/122 [08:53<00:32,  2.94s/it]"
     ]
    },
    {
     "name": "stdout",
     "output_type": "stream",
     "text": [
      "Processing KIF11...Keep 732/887 low off-target sgRNAs...\n",
      "92653784 is in start/stop codon ...skippingAAAGGTTGATC\n",
      "Finding mrna sequence in another exon...\n",
      "CTAGAGTATGCATTCATCAG in gene KIF11 not aligned, skip...\n",
      "Finding mrna sequence in another exon...\n",
      "CTGTTGGGATATCCAGTTTC in gene KIF11 not aligned, skip...\n",
      "CGGAATTGTCTCTTCTTTGT in gene KIF11 not aligned, skip...\n",
      "Finding mrna sequence in another exon...\n",
      "CTTAATAAGAGCTTTTTTGG in gene KIF11 not aligned, skip...\n",
      "Finding mrna sequence in another exon...\n",
      "Finding mrna sequence in another exon...\n",
      "GATGTGGATGTAGAAGAGGC in gene KIF11 not aligned, skip...\n"
     ]
    },
    {
     "name": "stderr",
     "output_type": "stream",
     "text": [
      "\r",
      " 92%|█████████████████████████████████████▋   | 112/122 [09:03<00:46,  4.61s/it]"
     ]
    },
    {
     "name": "stdout",
     "output_type": "stream",
     "text": [
      "Processing DDX54...Keep 1019/1194 low off-target sgRNAs...\n",
      "AATTATTGCCACGCCCGGAC in gene DDX54 not aligned, skip...\n",
      "CTCAGTGAGGTACTCGGCGT in gene DDX54 not aligned, skip...\n",
      "ATGTCGGGATTTTCGTGCAG in gene DDX54 not aligned, skip...\n",
      "Finding mrna sequence in another exon...\n",
      "Finding extra sequence in mRNA failed, skip...\n",
      "Finding mrna sequence in another exon...\n",
      "Finding extra sequence in mRNA failed, skip...\n",
      "113185441 is in start/stop codon ...skippingATGGCGGCCGA\n",
      "ATGGCGGCCGACAAGGGCCC in gene DDX54 not aligned, skip...\n",
      "Finding mrna sequence in another exon...\n",
      "Finding extra sequence in mRNA failed, skip...\n",
      "Finding mrna sequence in another exon...\n",
      "Finding extra sequence in mRNA failed, skip...\n",
      "CAGCCCGGGCAAATTCCACC in gene DDX54 not aligned, skip...\n",
      "Finding mrna sequence in another exon...\n",
      "Finding extra sequence in mRNA failed, skip...\n",
      "Finding mrna sequence in another exon...\n",
      "Finding extra sequence in mRNA failed, skip...\n",
      "Finding mrna sequence in another exon...\n",
      "Finding extra sequence in mRNA failed, skip...\n",
      "Finding mrna sequence in another exon...\n",
      "Finding extra sequence in mRNA failed, skip...\n",
      "CTTCAGCTGCTCGTTGAGCT in gene DDX54 not aligned, skip...\n",
      "GACATTTTCTCAGAGGTCGT in gene DDX54 not aligned, skip...\n",
      "Finding mrna sequence in another exon...\n",
      "Finding extra sequence in mRNA failed, skip...\n",
      "Finding mrna sequence in another exon...\n",
      "Finding extra sequence in mRNA failed, skip...\n",
      "CTGTCTCCACCCAGGATCAG in gene DDX54 not aligned, skip...\n",
      "Finding mrna sequence in another exon...\n",
      "Finding extra sequence in mRNA failed, skip...\n",
      "Finding mrna sequence in another exon...\n",
      "Finding extra sequence in mRNA failed, skip...\n"
     ]
    },
    {
     "name": "stderr",
     "output_type": "stream",
     "text": [
      "\r",
      " 93%|█████████████████████████████████████▉   | 113/122 [09:17<01:03,  7.06s/it]"
     ]
    },
    {
     "name": "stdout",
     "output_type": "stream",
     "text": [
      "Processing TARS1...Keep 567/681 low off-target sgRNAs...\n",
      "CTATAGACTGTGGTAGTTGG in gene TARS1 not aligned, skip...\n",
      "Finding mrna sequence in another exon...\n",
      "Finding mrna sequence in another exon...\n",
      "AATTCCTCCACGTACTGGGA in gene TARS1 not aligned, skip...\n",
      "Finding mrna sequence in another exon...\n",
      "CATTTGCCCCCATAGTTTTC in gene TARS1 not aligned, skip...\n",
      "CTTTTGGGCATATTCATCAC in gene TARS1 not aligned, skip...\n",
      "CTGCTCCATGGCACAGAATA in gene TARS1 not aligned, skip...\n",
      "CAACTTGAAAACAGTCTGAA in gene TARS1 not aligned, skip...\n",
      "ATTGACATACAGATTAAAGA in gene TARS1 not aligned, skip...\n"
     ]
    },
    {
     "name": "stderr",
     "output_type": "stream",
     "text": [
      "\r",
      " 93%|██████████████████████████████████████▎  | 114/122 [09:25<00:58,  7.34s/it]"
     ]
    },
    {
     "name": "stdout",
     "output_type": "stream",
     "text": [
      "Processing NAPA...Keep 282/312 low off-target sgRNAs...\n",
      "CTTGGCGTTGAGCATGTCGA in gene NAPA not aligned, skip...\n",
      "AAATTGCTAGAGGCCCACGA in gene NAPA not aligned, skip...\n",
      "47488295 is in start/stop codon ...skippingTTAGCGCAGGT\n",
      "Finding mrna sequence in another exon...\n",
      "Finding extra sequence in mRNA failed, skip...\n",
      "47514930 is in start/stop codon ...skippingATGGACAATTC\n",
      "ATGGACAATTCCGGGAAGGA in gene NAPA not aligned, skip...\n",
      "Finding mrna sequence in another exon...\n",
      "Finding extra sequence in mRNA failed, skip...\n",
      "CTGGCTGTCCAAAAGTATGA in gene NAPA not aligned, skip...\n"
     ]
    },
    {
     "name": "stderr",
     "output_type": "stream",
     "text": [
      "\r",
      " 94%|██████████████████████████████████████▋  | 115/122 [09:29<00:44,  6.36s/it]"
     ]
    },
    {
     "name": "stdout",
     "output_type": "stream",
     "text": [
      "CCAAAGAGGCCAGAGAAGAA in gene NAPA not aligned, skip...\n",
      "Finding mrna sequence in another exon...\n",
      "Finding extra sequence in mRNA failed, skip...\n",
      "Processing POLE...Keep 2486/2818 low off-target sgRNAs...\n",
      "Finding mrna sequence in another exon...\n",
      "Finding extra sequence in mRNA failed, skip...\n",
      "Finding mrna sequence in another exon...\n",
      "Finding extra sequence in mRNA failed, skip...\n",
      "Finding mrna sequence in another exon...\n",
      "Finding extra sequence in mRNA failed, skip...\n",
      "GATCCTGAAGAGCATGGTCG in gene POLE not aligned, skip...\n",
      "CTGAGTCTCATATACGCCCT in gene POLE not aligned, skip...\n",
      "Finding mrna sequence in another exon...\n",
      "Finding extra sequence in mRNA failed, skip...\n",
      "Finding mrna sequence in another exon...\n",
      "Finding extra sequence in mRNA failed, skip...\n",
      "Finding mrna sequence in another exon...\n",
      "Finding extra sequence in mRNA failed, skip...\n",
      "CTGCACAATCTGCCACGGAA in gene POLE not aligned, skip...\n",
      "Finding mrna sequence in another exon...\n",
      "Finding extra sequence in mRNA failed, skip...\n",
      "Finding mrna sequence in another exon...\n",
      "Finding extra sequence in mRNA failed, skip...\n",
      "Finding mrna sequence in another exon...\n",
      "Finding extra sequence in mRNA failed, skip...\n",
      "Finding mrna sequence in another exon...\n",
      "Finding extra sequence in mRNA failed, skip...\n",
      "Finding mrna sequence in another exon...\n",
      "Finding extra sequence in mRNA failed, skip...\n",
      "CACGTGGATCTTCAGGTCAA in gene POLE not aligned, skip...\n",
      "Finding mrna sequence in another exon...\n",
      "Finding extra sequence in mRNA failed, skip...\n",
      "AGGATGCATGTTAATGAGCC in gene POLE not aligned, skip...\n",
      "CTTGTGGAGCCCTTTGAACT in gene POLE not aligned, skip...\n",
      "Finding mrna sequence in another exon...\n",
      "Finding extra sequence in mRNA failed, skip...\n",
      "Finding mrna sequence in another exon...\n",
      "Finding extra sequence in mRNA failed, skip...\n",
      "ATCAGCGAGACCAGCCAGGC in gene POLE not aligned, skip...\n",
      "CAAGTCCAGATCCTCTTTGG in gene POLE not aligned, skip...\n",
      "CTGCAGGCGGTTGGTCAGGA in gene POLE not aligned, skip...\n",
      "Finding mrna sequence in another exon...\n",
      "Finding extra sequence in mRNA failed, skip...\n",
      "Finding mrna sequence in another exon...\n",
      "Finding extra sequence in mRNA failed, skip...\n",
      "Finding mrna sequence in another exon...\n",
      "Finding extra sequence in mRNA failed, skip...\n",
      "CTGGTTCCAGGTAGCTGAAC in gene POLE not aligned, skip...\n",
      "CTGCTCATCTCGAAGGCCTG in gene POLE not aligned, skip...\n",
      "Finding mrna sequence in another exon...\n",
      "Finding extra sequence in mRNA failed, skip...\n",
      "Finding mrna sequence in another exon...\n",
      "Finding extra sequence in mRNA failed, skip...\n",
      "Finding mrna sequence in another exon...\n",
      "Finding extra sequence in mRNA failed, skip...\n",
      "CTGAAGGTGTTAGAGCACAG in gene POLE not aligned, skip...\n",
      "GACCCTGTGGTTTTGGCATT in gene POLE not aligned, skip...\n",
      "CTGGAAAGCAGAGCTGTGTA in gene POLE not aligned, skip...\n",
      "Finding mrna sequence in another exon...\n",
      "Finding extra sequence in mRNA failed, skip...\n",
      "CTTGACCATGATGTTCAACA in gene POLE not aligned, skip...\n",
      "Finding mrna sequence in another exon...\n",
      "Finding extra sequence in mRNA failed, skip...\n",
      "CTGCTGCAGGGCCGCAGGGA in gene POLE not aligned, skip...\n",
      "CTGTCTCCTGCCCTCCAGGG in gene POLE not aligned, skip...\n"
     ]
    },
    {
     "name": "stderr",
     "output_type": "stream",
     "text": [
      "\r",
      " 95%|██████████████████████████████████████▉  | 116/122 [12:51<06:11, 62.00s/it]"
     ]
    },
    {
     "name": "stdout",
     "output_type": "stream",
     "text": [
      "Processing AARS1...Keep 1039/1167 low off-target sgRNAs...\n",
      "Finding mrna sequence in another exon...\n",
      "Finding extra sequence in mRNA failed, skip...\n",
      "Finding mrna sequence in another exon...\n",
      "Finding extra sequence in mRNA failed, skip...\n",
      "70252733 is in start/stop codon ...skippingAGTTCTTTACA\n",
      "Finding mrna sequence in another exon...\n",
      "Finding extra sequence in mRNA failed, skip...\n",
      "70252731 is in start/stop codon ...skippingTCAGTTCTTTA\n",
      "70252731 is in start/stop codon ...skippingTCAGTTCTTTA\n",
      "TCAGTTCTTTACATCCCCGA in gene AARS1 not aligned, skip...\n",
      "Finding mrna sequence in another exon...\n",
      "Finding extra sequence in mRNA failed, skip...\n",
      "Finding mrna sequence in another exon...\n",
      "Finding extra sequence in mRNA failed, skip...\n",
      "TCGTTTCTGGACATCGGCTT in gene AARS1 not aligned, skip...\n",
      "Finding mrna sequence in another exon...\n",
      "Finding extra sequence in mRNA failed, skip...\n",
      "Finding mrna sequence in another exon...\n",
      "Finding extra sequence in mRNA failed, skip...\n",
      "Finding mrna sequence in another exon...\n",
      "Finding extra sequence in mRNA failed, skip...\n",
      "Finding mrna sequence in another exon...\n",
      "Finding extra sequence in mRNA failed, skip...\n",
      "Finding mrna sequence in another exon...\n",
      "Finding extra sequence in mRNA failed, skip...\n",
      "Finding mrna sequence in another exon...\n",
      "Finding extra sequence in mRNA failed, skip...\n"
     ]
    },
    {
     "name": "stderr",
     "output_type": "stream",
     "text": [
      "\r",
      " 96%|███████████████████████████████████████▎ | 117/122 [13:06<04:02, 48.48s/it]"
     ]
    },
    {
     "name": "stdout",
     "output_type": "stream",
     "text": [
      "Processing VARS1...Keep 0/1631 low off-target sgRNAs...\n",
      "Processing TUT1...Keep 564/683 low off-target sgRNAs...\n",
      "62591478 is in start/stop codon ...skippingATGGCGGCGGT\n",
      "ATGGCGGCGGTGGATTCGGA in gene TUT1 not aligned, skip...\n",
      "Finding mrna sequence in another exon...\n",
      "Finding extra sequence in mRNA failed, skip...\n",
      "Finding mrna sequence in another exon...\n",
      "Finding extra sequence in mRNA failed, skip...\n",
      "Finding mrna sequence in another exon...\n",
      "Finding extra sequence in mRNA failed, skip...\n",
      "Finding mrna sequence in another exon...\n",
      "Finding extra sequence in mRNA failed, skip...\n"
     ]
    },
    {
     "name": "stderr",
     "output_type": "stream",
     "text": [
      "\r",
      " 98%|███████████████████████████████████████▉ | 119/122 [13:14<01:24, 28.32s/it]"
     ]
    },
    {
     "name": "stdout",
     "output_type": "stream",
     "text": [
      "Processing NCBP2...Keep 70/81 low off-target sgRNAs...\n",
      "CTGGCCCCCAGATCGCCCAC in gene NCBP2 not aligned, skip...\n"
     ]
    },
    {
     "name": "stderr",
     "output_type": "stream",
     "text": [
      "\r",
      " 98%|████████████████████████████████████████▎| 120/122 [13:14<00:43, 21.64s/it]"
     ]
    },
    {
     "name": "stdout",
     "output_type": "stream",
     "text": [
      "Processing EIF3I...Keep 207/348 low off-target sgRNAs...\n",
      "CAATCTGGCTCGGATCCCGC in gene EIF3I not aligned, skip...\n",
      "Finding mrna sequence in another exon...\n",
      "AGGGTCCTTGGCCACAGTAA in gene EIF3I not aligned, skip...\n",
      "Finding mrna sequence in another exon...\n",
      "32231186 is in start/stop codon ...skippingTTAAGCCTCAA\n"
     ]
    },
    {
     "name": "stderr",
     "output_type": "stream",
     "text": [
      "\r",
      " 99%|████████████████████████████████████████▋| 121/122 [13:17<00:16, 16.76s/it]"
     ]
    },
    {
     "name": "stdout",
     "output_type": "stream",
     "text": [
      "CTGTTTCACAGTCCCAGAGA in gene EIF3I not aligned, skip...\n",
      "Processing CDT1...Keep 692/822 low off-target sgRNAs...\n",
      "88803841 is in start/stop codon ...skippingATGGAGCAGCG\n",
      "ATGGAGCAGCGCCGCGTCAC in gene CDT1 not aligned, skip...\n",
      "CTGGTCCTGCGCGGATGTCA in gene CDT1 not aligned, skip...\n",
      "Finding mrna sequence in another exon...\n",
      "Finding mrna sequence in another exon...\n",
      "Finding mrna sequence in another exon...\n",
      "Finding mrna sequence in another exon...\n",
      "88808267 is in start/stop codon ...skippingCACAGCCCCTC\n",
      "88808267 is in start/stop codon ...skippingCACAGCCCCTC\n",
      "CACAGCCCCTCCTCAGCACG in gene CDT1 need sequence not included in fasta file...\n"
     ]
    },
    {
     "name": "stderr",
     "output_type": "stream",
     "text": [
      "100%|█████████████████████████████████████████| 122/122 [13:27<00:00,  6.62s/it]"
     ]
    },
    {
     "name": "stdout",
     "output_type": "stream",
     "text": [
      "Finding mrna sequence in another exon...\n"
     ]
    },
    {
     "name": "stderr",
     "output_type": "stream",
     "text": [
      "\n"
     ]
    }
   ],
   "source": [
    "fpath = '../data/output/sg_out/'\n",
    "list_gene = [i for i in listdir(fpath) if not i.startswith('.')]\n",
    "list_gene = [i for i in list_gene if len(listdir(join(fpath,i))) > 5]\n",
    "list_gene = [i for i in list_gene if i in list(f_genelist[0])]\n",
    "abe_df = run_sgFinder(list_gene, tag = 'ess' )"
   ]
  },
  {
   "cell_type": "markdown",
   "id": "e5e4d463",
   "metadata": {},
   "source": [
    "***Run opposite + depletion gene list***"
   ]
  },
  {
   "cell_type": "code",
   "execution_count": 77,
   "id": "dcf67b49",
   "metadata": {
    "collapsed": true
   },
   "outputs": [
    {
     "name": "stderr",
     "output_type": "stream",
     "text": [
      "  6%|██▌                                         | 1/17 [00:00<00:02,  5.99it/s]"
     ]
    },
    {
     "name": "stdout",
     "output_type": "stream",
     "text": [
      "Processing AMN...Keep 574/648 low off-target sgRNAs...\n",
      "Processing NKX6-1...Keep 436/601 low off-target sgRNAs...\n"
     ]
    },
    {
     "name": "stderr",
     "output_type": "stream",
     "text": [
      "\r",
      " 12%|█████▏                                      | 2/17 [00:00<00:02,  6.27it/s]"
     ]
    },
    {
     "name": "stdout",
     "output_type": "stream",
     "text": [
      "Processing ZBTB20...Keep 905/1017 low off-target sgRNAs...\n"
     ]
    },
    {
     "name": "stderr",
     "output_type": "stream",
     "text": [
      " 24%|██████████▎                                 | 4/17 [00:13<00:48,  3.75s/it]"
     ]
    },
    {
     "name": "stdout",
     "output_type": "stream",
     "text": [
      "Processing PCDHA8...Keep 253/1176 low off-target sgRNAs...\n",
      "Processing ICAM4...Keep 350/369 low off-target sgRNAs...\n",
      "Finding mrna sequence in another exon...\n",
      "Finding mrna sequence in another exon...\n"
     ]
    },
    {
     "name": "stderr",
     "output_type": "stream",
     "text": [
      "\r",
      " 29%|████████████▉                               | 5/17 [00:18<00:47,  3.97s/it]"
     ]
    },
    {
     "name": "stdout",
     "output_type": "stream",
     "text": [
      "Processing PFN3...Keep 228/235 low off-target sgRNAs...\n",
      "Processing ING1...Keep 252/330 low off-target sgRNAs...\n",
      "Finding mrna sequence in another exon...\n",
      "110719308 is in start/stop codon ...skippingATGCTGCACTG\n",
      "ATGCTGCACTGTGTGCAGCG in gene ING1 not aligned, skip...\n"
     ]
    },
    {
     "name": "stderr",
     "output_type": "stream",
     "text": [
      "\r",
      " 41%|██████████████████                          | 7/17 [00:21<00:28,  2.84s/it]"
     ]
    },
    {
     "name": "stdout",
     "output_type": "stream",
     "text": [
      "Processing CALY...Keep 153/174 low off-target sgRNAs...\n",
      "Processing SIGLEC5...Keep 140/532 low off-target sgRNAs...\n",
      "Finding mrna sequence in another exon...\n",
      "Finding extra sequence in mRNA failed, skip...\n",
      "Finding mrna sequence in another exon...\n",
      "Finding extra sequence in mRNA failed, skip...\n",
      "51612313 is in start/stop codon ...skippingCATCTCAGAAA\n",
      "51612313 is in start/stop codon ...skippingCATCTCAGAAA\n",
      "CATCTCAGAAAAACTAAGGG in gene SIGLEC5 need sequence not included in fasta file...\n",
      "51612314 is in start/stop codon ...skippingATCTCAGAAAA\n",
      "Finding mrna sequence in another exon...\n",
      "Finding extra sequence in mRNA failed, skip...\n"
     ]
    },
    {
     "name": "stderr",
     "output_type": "stream",
     "text": [
      "\r",
      " 53%|███████████████████████▎                    | 9/17 [00:23<00:15,  1.97s/it]"
     ]
    },
    {
     "name": "stdout",
     "output_type": "stream",
     "text": [
      "Processing CHST13...Keep 488/570 low off-target sgRNAs...\n",
      "Finding mrna sequence in another exon...\n",
      "Finding mrna sequence in another exon...\n",
      "126542568 is in start/stop codon ...skippingTAGAGCAGCCG\n",
      "TAGAGCAGCCGCAGGTAGGA in gene CHST13 need sequence not included in fasta file...\n",
      "126542568 is in start/stop codon ...skippingCTAGAGCAGCC\n",
      "126542568 is in start/stop codon ...skippingCTAGAGCAGCC\n",
      "CTAGAGCAGCCGCAGGTAGG in gene CHST13 not aligned, skip...\n"
     ]
    },
    {
     "name": "stderr",
     "output_type": "stream",
     "text": [
      "\r",
      " 59%|█████████████████████████▎                 | 10/17 [00:28<00:19,  2.82s/it]"
     ]
    },
    {
     "name": "stdout",
     "output_type": "stream",
     "text": [
      "Processing HHEX...Keep 296/372 low off-target sgRNAs...\n",
      "Finding mrna sequence in another exon...\n",
      "Finding mrna sequence in another exon...\n"
     ]
    },
    {
     "name": "stderr",
     "output_type": "stream",
     "text": [
      "\r",
      " 65%|███████████████████████████▊               | 11/17 [00:32<00:18,  3.05s/it]"
     ]
    },
    {
     "name": "stdout",
     "output_type": "stream",
     "text": [
      "Finding mrna sequence in another exon...\n",
      "Processing ZIC4...Keep 134/181 low off-target sgRNAs...\n"
     ]
    },
    {
     "name": "stderr",
     "output_type": "stream",
     "text": [
      " 76%|████████████████████████████████▉          | 13/17 [00:32<00:06,  1.71s/it]"
     ]
    },
    {
     "name": "stdout",
     "output_type": "stream",
     "text": [
      "Processing GSC...Keep 382/414 low off-target sgRNAs...\n",
      "Processing ACOT1...Keep 16/620 low off-target sgRNAs...\n"
     ]
    },
    {
     "name": "stderr",
     "output_type": "stream",
     "text": [
      "\r",
      " 82%|███████████████████████████████████▍       | 14/17 [00:32<00:03,  1.26s/it]"
     ]
    },
    {
     "name": "stdout",
     "output_type": "stream",
     "text": [
      "Processing AOAH...Keep 423/494 low off-target sgRNAs...\n"
     ]
    },
    {
     "name": "stderr",
     "output_type": "stream",
     "text": [
      " 94%|████████████████████████████████████████▍  | 16/17 [00:33<00:00,  1.35it/s]"
     ]
    },
    {
     "name": "stdout",
     "output_type": "stream",
     "text": [
      "Processing HOXD1...Keep 450/527 low off-target sgRNAs...\n",
      "Processing C2CD4B...Keep 294/673 low off-target sgRNAs...\n"
     ]
    },
    {
     "name": "stderr",
     "output_type": "stream",
     "text": [
      "100%|███████████████████████████████████████████| 17/17 [00:33<00:00,  1.96s/it]\n"
     ]
    }
   ],
   "source": [
    "list_gene_enrich = [i for i in listdir('../data/output/sg_out_enrich') if not i.startswith('.')]\n",
    "list_gene_enrich = [i for i in list_gene_enrich if len(listdir(join('../data/output/sg_out_enrich',i))) > 5]\n",
    "run_sgFinder(list_gene_enrich, tag = 'enr' , sg_p ='../data/output/sg_out_enrich' )"
   ]
  },
  {
   "cell_type": "markdown",
   "id": "b924a0e6",
   "metadata": {},
   "source": [
    "***For Debugging...***\n",
    "***Single gene checks***"
   ]
  },
  {
   "cell_type": "code",
   "execution_count": 13,
   "id": "dc9834ae",
   "metadata": {},
   "outputs": [
    {
     "ename": "FileNotFoundError",
     "evalue": "[Errno 2] No such file or directory: '../data/output/sg_out_enrich/MARS1/MARS1.txt'",
     "output_type": "error",
     "traceback": [
      "\u001b[0;31m---------------------------------------------------------------------------\u001b[0m",
      "\u001b[0;31mFileNotFoundError\u001b[0m                         Traceback (most recent call last)",
      "\u001b[0;32m/var/folders/14/sq2grljd6hbc7y021h7v10t00000gn/T/ipykernel_71858/2828139994.py\u001b[0m in \u001b[0;36m<module>\u001b[0;34m\u001b[0m\n\u001b[0;32m----> 1\u001b[0;31m \u001b[0msg_gene\u001b[0m \u001b[0;34m=\u001b[0m \u001b[0msyn_sgFinder\u001b[0m\u001b[0;34m.\u001b[0m\u001b[0msgFinder_gene\u001b[0m\u001b[0;34m(\u001b[0m\u001b[0;34m'MARS1'\u001b[0m\u001b[0;34m)\u001b[0m\u001b[0;34m\u001b[0m\u001b[0;34m\u001b[0m\u001b[0m\n\u001b[0m\u001b[1;32m      2\u001b[0m \u001b[0msg_gene\u001b[0m\u001b[0;34m.\u001b[0m\u001b[0mgene_cds_proc\u001b[0m\u001b[0;34m(\u001b[0m\u001b[0;34m)\u001b[0m\u001b[0;34m\u001b[0m\u001b[0;34m\u001b[0m\u001b[0m\n\u001b[1;32m      3\u001b[0m \u001b[0msg_sg\u001b[0m \u001b[0;34m=\u001b[0m \u001b[0msyn_sgFinder\u001b[0m\u001b[0;34m.\u001b[0m\u001b[0msgFinder_sg\u001b[0m\u001b[0;34m(\u001b[0m\u001b[0msg_gene\u001b[0m\u001b[0;34m.\u001b[0m\u001b[0mgene\u001b[0m\u001b[0;34m,\u001b[0m\u001b[0;36m2\u001b[0m\u001b[0;34m)\u001b[0m\u001b[0;34m\u001b[0m\u001b[0;34m\u001b[0m\u001b[0m\n\u001b[1;32m      4\u001b[0m \u001b[0msg_sg\u001b[0m\u001b[0;34m.\u001b[0m\u001b[0mprocess_BE_window\u001b[0m\u001b[0;34m(\u001b[0m\u001b[0msg_gene\u001b[0m\u001b[0;34m)\u001b[0m\u001b[0;34m\u001b[0m\u001b[0;34m\u001b[0m\u001b[0m\n\u001b[1;32m      5\u001b[0m \u001b[0msg_trsp\u001b[0m \u001b[0;34m=\u001b[0m \u001b[0msyn_sgFinder\u001b[0m\u001b[0;34m.\u001b[0m\u001b[0msgFinder_transcript\u001b[0m\u001b[0;34m(\u001b[0m\u001b[0msg_gene\u001b[0m\u001b[0;34m.\u001b[0m\u001b[0mgene\u001b[0m\u001b[0;34m,\u001b[0m\u001b[0;36m2\u001b[0m\u001b[0;34m,\u001b[0m \u001b[0;34m'NM_021960'\u001b[0m\u001b[0;34m)\u001b[0m\u001b[0;34m\u001b[0m\u001b[0;34m\u001b[0m\u001b[0m\n",
      "\u001b[0;32m~/git/syn_SgFinder/src/syn_sgFinder.py\u001b[0m in \u001b[0;36m__init__\u001b[0;34m(self, gene, sg_path)\u001b[0m\n\u001b[1;32m     33\u001b[0m         \u001b[0mself\u001b[0m\u001b[0;34m.\u001b[0m\u001b[0msg_path\u001b[0m \u001b[0;34m=\u001b[0m \u001b[0msg_path\u001b[0m\u001b[0;34m\u001b[0m\u001b[0;34m\u001b[0m\u001b[0m\n\u001b[1;32m     34\u001b[0m         \u001b[0;31m# The gene class contains all the sgRNAs\u001b[0m\u001b[0;34m\u001b[0m\u001b[0;34m\u001b[0m\u001b[0;34m\u001b[0m\u001b[0m\n\u001b[0;32m---> 35\u001b[0;31m         \u001b[0msg_file\u001b[0m \u001b[0;34m=\u001b[0m \u001b[0mpd\u001b[0m\u001b[0;34m.\u001b[0m\u001b[0mread_csv\u001b[0m\u001b[0;34m(\u001b[0m\u001b[0mjoin\u001b[0m\u001b[0;34m(\u001b[0m\u001b[0msg_path\u001b[0m\u001b[0;34m,\u001b[0m\u001b[0mgene\u001b[0m\u001b[0;34m,\u001b[0m\u001b[0;34mf'{gene}.txt'\u001b[0m\u001b[0;34m)\u001b[0m\u001b[0;34m,\u001b[0m \u001b[0msep\u001b[0m \u001b[0;34m=\u001b[0m \u001b[0;34m'\\t'\u001b[0m\u001b[0;34m,\u001b[0m \u001b[0mindex_col\u001b[0m \u001b[0;34m=\u001b[0m \u001b[0;36m0\u001b[0m\u001b[0;34m)\u001b[0m\u001b[0;34m\u001b[0m\u001b[0;34m\u001b[0m\u001b[0m\n\u001b[0m\u001b[1;32m     36\u001b[0m         \u001b[0mself\u001b[0m\u001b[0;34m.\u001b[0m\u001b[0msg_file\u001b[0m \u001b[0;34m=\u001b[0m \u001b[0msg_file\u001b[0m\u001b[0;34m[\u001b[0m\u001b[0;34m(\u001b[0m\u001b[0msg_file\u001b[0m\u001b[0;34m[\u001b[0m\u001b[0;34m'MM0'\u001b[0m\u001b[0;34m]\u001b[0m\u001b[0;34m==\u001b[0m\u001b[0;36m0\u001b[0m\u001b[0;34m)\u001b[0m\u001b[0;34m&\u001b[0m\u001b[0;34m(\u001b[0m\u001b[0msg_file\u001b[0m\u001b[0;34m[\u001b[0m\u001b[0;34m'MM1'\u001b[0m\u001b[0;34m]\u001b[0m\u001b[0;34m==\u001b[0m\u001b[0;36m0\u001b[0m\u001b[0;34m)\u001b[0m\u001b[0;34m]\u001b[0m\u001b[0;34m\u001b[0m\u001b[0;34m\u001b[0m\u001b[0m\n\u001b[1;32m     37\u001b[0m         \u001b[0mprint\u001b[0m\u001b[0;34m(\u001b[0m\u001b[0;34mf'Processing {gene}...Keep {len(self.sg_file)}/{len(sg_file)} low off-target sgRNAs...'\u001b[0m\u001b[0;34m)\u001b[0m\u001b[0;34m\u001b[0m\u001b[0;34m\u001b[0m\u001b[0m\n",
      "\u001b[0;32m~/opt/miniconda3/envs/synSg/lib/python3.7/site-packages/pandas/util/_decorators.py\u001b[0m in \u001b[0;36mwrapper\u001b[0;34m(*args, **kwargs)\u001b[0m\n\u001b[1;32m    309\u001b[0m                     \u001b[0mstacklevel\u001b[0m\u001b[0;34m=\u001b[0m\u001b[0mstacklevel\u001b[0m\u001b[0;34m,\u001b[0m\u001b[0;34m\u001b[0m\u001b[0;34m\u001b[0m\u001b[0m\n\u001b[1;32m    310\u001b[0m                 )\n\u001b[0;32m--> 311\u001b[0;31m             \u001b[0;32mreturn\u001b[0m \u001b[0mfunc\u001b[0m\u001b[0;34m(\u001b[0m\u001b[0;34m*\u001b[0m\u001b[0margs\u001b[0m\u001b[0;34m,\u001b[0m \u001b[0;34m**\u001b[0m\u001b[0mkwargs\u001b[0m\u001b[0;34m)\u001b[0m\u001b[0;34m\u001b[0m\u001b[0;34m\u001b[0m\u001b[0m\n\u001b[0m\u001b[1;32m    312\u001b[0m \u001b[0;34m\u001b[0m\u001b[0m\n\u001b[1;32m    313\u001b[0m         \u001b[0;32mreturn\u001b[0m \u001b[0mwrapper\u001b[0m\u001b[0;34m\u001b[0m\u001b[0;34m\u001b[0m\u001b[0m\n",
      "\u001b[0;32m~/opt/miniconda3/envs/synSg/lib/python3.7/site-packages/pandas/io/parsers/readers.py\u001b[0m in \u001b[0;36mread_csv\u001b[0;34m(filepath_or_buffer, sep, delimiter, header, names, index_col, usecols, squeeze, prefix, mangle_dupe_cols, dtype, engine, converters, true_values, false_values, skipinitialspace, skiprows, skipfooter, nrows, na_values, keep_default_na, na_filter, verbose, skip_blank_lines, parse_dates, infer_datetime_format, keep_date_col, date_parser, dayfirst, cache_dates, iterator, chunksize, compression, thousands, decimal, lineterminator, quotechar, quoting, doublequote, escapechar, comment, encoding, encoding_errors, dialect, error_bad_lines, warn_bad_lines, on_bad_lines, delim_whitespace, low_memory, memory_map, float_precision, storage_options)\u001b[0m\n\u001b[1;32m    584\u001b[0m     \u001b[0mkwds\u001b[0m\u001b[0;34m.\u001b[0m\u001b[0mupdate\u001b[0m\u001b[0;34m(\u001b[0m\u001b[0mkwds_defaults\u001b[0m\u001b[0;34m)\u001b[0m\u001b[0;34m\u001b[0m\u001b[0;34m\u001b[0m\u001b[0m\n\u001b[1;32m    585\u001b[0m \u001b[0;34m\u001b[0m\u001b[0m\n\u001b[0;32m--> 586\u001b[0;31m     \u001b[0;32mreturn\u001b[0m \u001b[0m_read\u001b[0m\u001b[0;34m(\u001b[0m\u001b[0mfilepath_or_buffer\u001b[0m\u001b[0;34m,\u001b[0m \u001b[0mkwds\u001b[0m\u001b[0;34m)\u001b[0m\u001b[0;34m\u001b[0m\u001b[0;34m\u001b[0m\u001b[0m\n\u001b[0m\u001b[1;32m    587\u001b[0m \u001b[0;34m\u001b[0m\u001b[0m\n\u001b[1;32m    588\u001b[0m \u001b[0;34m\u001b[0m\u001b[0m\n",
      "\u001b[0;32m~/opt/miniconda3/envs/synSg/lib/python3.7/site-packages/pandas/io/parsers/readers.py\u001b[0m in \u001b[0;36m_read\u001b[0;34m(filepath_or_buffer, kwds)\u001b[0m\n\u001b[1;32m    480\u001b[0m \u001b[0;34m\u001b[0m\u001b[0m\n\u001b[1;32m    481\u001b[0m     \u001b[0;31m# Create the parser.\u001b[0m\u001b[0;34m\u001b[0m\u001b[0;34m\u001b[0m\u001b[0;34m\u001b[0m\u001b[0m\n\u001b[0;32m--> 482\u001b[0;31m     \u001b[0mparser\u001b[0m \u001b[0;34m=\u001b[0m \u001b[0mTextFileReader\u001b[0m\u001b[0;34m(\u001b[0m\u001b[0mfilepath_or_buffer\u001b[0m\u001b[0;34m,\u001b[0m \u001b[0;34m**\u001b[0m\u001b[0mkwds\u001b[0m\u001b[0;34m)\u001b[0m\u001b[0;34m\u001b[0m\u001b[0;34m\u001b[0m\u001b[0m\n\u001b[0m\u001b[1;32m    483\u001b[0m \u001b[0;34m\u001b[0m\u001b[0m\n\u001b[1;32m    484\u001b[0m     \u001b[0;32mif\u001b[0m \u001b[0mchunksize\u001b[0m \u001b[0;32mor\u001b[0m \u001b[0miterator\u001b[0m\u001b[0;34m:\u001b[0m\u001b[0;34m\u001b[0m\u001b[0;34m\u001b[0m\u001b[0m\n",
      "\u001b[0;32m~/opt/miniconda3/envs/synSg/lib/python3.7/site-packages/pandas/io/parsers/readers.py\u001b[0m in \u001b[0;36m__init__\u001b[0;34m(self, f, engine, **kwds)\u001b[0m\n\u001b[1;32m    809\u001b[0m             \u001b[0mself\u001b[0m\u001b[0;34m.\u001b[0m\u001b[0moptions\u001b[0m\u001b[0;34m[\u001b[0m\u001b[0;34m\"has_index_names\"\u001b[0m\u001b[0;34m]\u001b[0m \u001b[0;34m=\u001b[0m \u001b[0mkwds\u001b[0m\u001b[0;34m[\u001b[0m\u001b[0;34m\"has_index_names\"\u001b[0m\u001b[0;34m]\u001b[0m\u001b[0;34m\u001b[0m\u001b[0;34m\u001b[0m\u001b[0m\n\u001b[1;32m    810\u001b[0m \u001b[0;34m\u001b[0m\u001b[0m\n\u001b[0;32m--> 811\u001b[0;31m         \u001b[0mself\u001b[0m\u001b[0;34m.\u001b[0m\u001b[0m_engine\u001b[0m \u001b[0;34m=\u001b[0m \u001b[0mself\u001b[0m\u001b[0;34m.\u001b[0m\u001b[0m_make_engine\u001b[0m\u001b[0;34m(\u001b[0m\u001b[0mself\u001b[0m\u001b[0;34m.\u001b[0m\u001b[0mengine\u001b[0m\u001b[0;34m)\u001b[0m\u001b[0;34m\u001b[0m\u001b[0;34m\u001b[0m\u001b[0m\n\u001b[0m\u001b[1;32m    812\u001b[0m \u001b[0;34m\u001b[0m\u001b[0m\n\u001b[1;32m    813\u001b[0m     \u001b[0;32mdef\u001b[0m \u001b[0mclose\u001b[0m\u001b[0;34m(\u001b[0m\u001b[0mself\u001b[0m\u001b[0;34m)\u001b[0m\u001b[0;34m:\u001b[0m\u001b[0;34m\u001b[0m\u001b[0;34m\u001b[0m\u001b[0m\n",
      "\u001b[0;32m~/opt/miniconda3/envs/synSg/lib/python3.7/site-packages/pandas/io/parsers/readers.py\u001b[0m in \u001b[0;36m_make_engine\u001b[0;34m(self, engine)\u001b[0m\n\u001b[1;32m   1038\u001b[0m             )\n\u001b[1;32m   1039\u001b[0m         \u001b[0;31m# error: Too many arguments for \"ParserBase\"\u001b[0m\u001b[0;34m\u001b[0m\u001b[0;34m\u001b[0m\u001b[0;34m\u001b[0m\u001b[0m\n\u001b[0;32m-> 1040\u001b[0;31m         \u001b[0;32mreturn\u001b[0m \u001b[0mmapping\u001b[0m\u001b[0;34m[\u001b[0m\u001b[0mengine\u001b[0m\u001b[0;34m]\u001b[0m\u001b[0;34m(\u001b[0m\u001b[0mself\u001b[0m\u001b[0;34m.\u001b[0m\u001b[0mf\u001b[0m\u001b[0;34m,\u001b[0m \u001b[0;34m**\u001b[0m\u001b[0mself\u001b[0m\u001b[0;34m.\u001b[0m\u001b[0moptions\u001b[0m\u001b[0;34m)\u001b[0m  \u001b[0;31m# type: ignore[call-arg]\u001b[0m\u001b[0;34m\u001b[0m\u001b[0;34m\u001b[0m\u001b[0m\n\u001b[0m\u001b[1;32m   1041\u001b[0m \u001b[0;34m\u001b[0m\u001b[0m\n\u001b[1;32m   1042\u001b[0m     \u001b[0;32mdef\u001b[0m \u001b[0m_failover_to_python\u001b[0m\u001b[0;34m(\u001b[0m\u001b[0mself\u001b[0m\u001b[0;34m)\u001b[0m\u001b[0;34m:\u001b[0m\u001b[0;34m\u001b[0m\u001b[0;34m\u001b[0m\u001b[0m\n",
      "\u001b[0;32m~/opt/miniconda3/envs/synSg/lib/python3.7/site-packages/pandas/io/parsers/c_parser_wrapper.py\u001b[0m in \u001b[0;36m__init__\u001b[0;34m(self, src, **kwds)\u001b[0m\n\u001b[1;32m     49\u001b[0m \u001b[0;34m\u001b[0m\u001b[0m\n\u001b[1;32m     50\u001b[0m         \u001b[0;31m# open handles\u001b[0m\u001b[0;34m\u001b[0m\u001b[0;34m\u001b[0m\u001b[0;34m\u001b[0m\u001b[0m\n\u001b[0;32m---> 51\u001b[0;31m         \u001b[0mself\u001b[0m\u001b[0;34m.\u001b[0m\u001b[0m_open_handles\u001b[0m\u001b[0;34m(\u001b[0m\u001b[0msrc\u001b[0m\u001b[0;34m,\u001b[0m \u001b[0mkwds\u001b[0m\u001b[0;34m)\u001b[0m\u001b[0;34m\u001b[0m\u001b[0;34m\u001b[0m\u001b[0m\n\u001b[0m\u001b[1;32m     52\u001b[0m         \u001b[0;32massert\u001b[0m \u001b[0mself\u001b[0m\u001b[0;34m.\u001b[0m\u001b[0mhandles\u001b[0m \u001b[0;32mis\u001b[0m \u001b[0;32mnot\u001b[0m \u001b[0;32mNone\u001b[0m\u001b[0;34m\u001b[0m\u001b[0;34m\u001b[0m\u001b[0m\n\u001b[1;32m     53\u001b[0m \u001b[0;34m\u001b[0m\u001b[0m\n",
      "\u001b[0;32m~/opt/miniconda3/envs/synSg/lib/python3.7/site-packages/pandas/io/parsers/base_parser.py\u001b[0m in \u001b[0;36m_open_handles\u001b[0;34m(self, src, kwds)\u001b[0m\n\u001b[1;32m    227\u001b[0m             \u001b[0mmemory_map\u001b[0m\u001b[0;34m=\u001b[0m\u001b[0mkwds\u001b[0m\u001b[0;34m.\u001b[0m\u001b[0mget\u001b[0m\u001b[0;34m(\u001b[0m\u001b[0;34m\"memory_map\"\u001b[0m\u001b[0;34m,\u001b[0m \u001b[0;32mFalse\u001b[0m\u001b[0;34m)\u001b[0m\u001b[0;34m,\u001b[0m\u001b[0;34m\u001b[0m\u001b[0;34m\u001b[0m\u001b[0m\n\u001b[1;32m    228\u001b[0m             \u001b[0mstorage_options\u001b[0m\u001b[0;34m=\u001b[0m\u001b[0mkwds\u001b[0m\u001b[0;34m.\u001b[0m\u001b[0mget\u001b[0m\u001b[0;34m(\u001b[0m\u001b[0;34m\"storage_options\"\u001b[0m\u001b[0;34m,\u001b[0m \u001b[0;32mNone\u001b[0m\u001b[0;34m)\u001b[0m\u001b[0;34m,\u001b[0m\u001b[0;34m\u001b[0m\u001b[0;34m\u001b[0m\u001b[0m\n\u001b[0;32m--> 229\u001b[0;31m             \u001b[0merrors\u001b[0m\u001b[0;34m=\u001b[0m\u001b[0mkwds\u001b[0m\u001b[0;34m.\u001b[0m\u001b[0mget\u001b[0m\u001b[0;34m(\u001b[0m\u001b[0;34m\"encoding_errors\"\u001b[0m\u001b[0;34m,\u001b[0m \u001b[0;34m\"strict\"\u001b[0m\u001b[0;34m)\u001b[0m\u001b[0;34m,\u001b[0m\u001b[0;34m\u001b[0m\u001b[0;34m\u001b[0m\u001b[0m\n\u001b[0m\u001b[1;32m    230\u001b[0m         )\n\u001b[1;32m    231\u001b[0m \u001b[0;34m\u001b[0m\u001b[0m\n",
      "\u001b[0;32m~/opt/miniconda3/envs/synSg/lib/python3.7/site-packages/pandas/io/common.py\u001b[0m in \u001b[0;36mget_handle\u001b[0;34m(path_or_buf, mode, encoding, compression, memory_map, is_text, errors, storage_options)\u001b[0m\n\u001b[1;32m    705\u001b[0m                 \u001b[0mencoding\u001b[0m\u001b[0;34m=\u001b[0m\u001b[0mioargs\u001b[0m\u001b[0;34m.\u001b[0m\u001b[0mencoding\u001b[0m\u001b[0;34m,\u001b[0m\u001b[0;34m\u001b[0m\u001b[0;34m\u001b[0m\u001b[0m\n\u001b[1;32m    706\u001b[0m                 \u001b[0merrors\u001b[0m\u001b[0;34m=\u001b[0m\u001b[0merrors\u001b[0m\u001b[0;34m,\u001b[0m\u001b[0;34m\u001b[0m\u001b[0;34m\u001b[0m\u001b[0m\n\u001b[0;32m--> 707\u001b[0;31m                 \u001b[0mnewline\u001b[0m\u001b[0;34m=\u001b[0m\u001b[0;34m\"\"\u001b[0m\u001b[0;34m,\u001b[0m\u001b[0;34m\u001b[0m\u001b[0;34m\u001b[0m\u001b[0m\n\u001b[0m\u001b[1;32m    708\u001b[0m             )\n\u001b[1;32m    709\u001b[0m         \u001b[0;32melse\u001b[0m\u001b[0;34m:\u001b[0m\u001b[0;34m\u001b[0m\u001b[0;34m\u001b[0m\u001b[0m\n",
      "\u001b[0;31mFileNotFoundError\u001b[0m: [Errno 2] No such file or directory: '../data/output/sg_out_enrich/MARS1/MARS1.txt'"
     ]
    }
   ],
   "source": [
    "sg_gene = syn_sgFinder.sgFinder_gene('MARS1')\n",
    "sg_gene.gene_cds_proc()\n",
    "sg_sg = syn_sgFinder.sgFinder_sg(sg_gene.gene,2)\n",
    "sg_sg.process_BE_window(sg_gene)\n",
    "sg_trsp = syn_sgFinder.sgFinder_transcript(sg_gene.gene,2, 'NM_021960')\n",
    "sg_trsp.all_pos_consq(sg_gene,sg_sg)"
   ]
  }
 ],
 "metadata": {
  "kernelspec": {
   "display_name": "Python 3 (ipykernel)",
   "language": "python",
   "name": "python3"
  },
  "language_info": {
   "codemirror_mode": {
    "name": "ipython",
    "version": 3
   },
   "file_extension": ".py",
   "mimetype": "text/x-python",
   "name": "python",
   "nbconvert_exporter": "python",
   "pygments_lexer": "ipython3",
   "version": "3.7.12"
  }
 },
 "nbformat": 4,
 "nbformat_minor": 5
}
