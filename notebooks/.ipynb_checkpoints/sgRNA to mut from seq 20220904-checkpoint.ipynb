{
 "cells": [
  {
   "cell_type": "code",
   "execution_count": 1,
   "metadata": {},
   "outputs": [],
   "source": [
    "import pandas as pd"
   ]
  },
  {
   "cell_type": "code",
   "execution_count": 2,
   "metadata": {},
   "outputs": [],
   "source": [
    "import os\n",
    "path1 ='./'\n",
    "os.chdir(path1)"
   ]
  },
  {
   "cell_type": "code",
   "execution_count": 3,
   "metadata": {},
   "outputs": [],
   "source": [
    "def RevComplment(s): #Case-senstive reverse complmnentarty conversion\n",
    "    comp = []\n",
    "    for i in s[::-1]:\n",
    "        if i == 'a':\n",
    "            comp.append('t')\n",
    "        if i == 'A':\n",
    "            comp.append('T')\n",
    "        if i == 't':\n",
    "            comp.append('a')\n",
    "        if i == 'T':\n",
    "            comp.append('A')\n",
    "        if i == 'c':\n",
    "            comp.append('g')\n",
    "        if i == 'C':\n",
    "            comp.append('G')\n",
    "        if i == 'g':\n",
    "            comp.append('c')\n",
    "        if i == 'G':\n",
    "            comp.append('C')\n",
    "    return ''.join(comp)"
   ]
  },
  {
   "cell_type": "code",
   "execution_count": 4,
   "metadata": {},
   "outputs": [],
   "source": [
    "Codons = []\n",
    "with open(\"CodonTable.txt\") as File:\n",
    "    for line in File:\n",
    "        line = line.split()\n",
    "        Codons.append(line)"
   ]
  },
  {
   "cell_type": "code",
   "execution_count": 5,
   "metadata": {},
   "outputs": [
    {
     "data": {
      "text/plain": [
       "[['Codon', 'Codon_LC', 'AminoAcid', 'Letter', 'FullName'],\n",
       " ['AAA', 'aaa', 'Lys', 'K', 'Lysine'],\n",
       " ['AAC', 'aac', 'Asn', 'N', 'Asparagine'],\n",
       " ['AAG', 'aag', 'Lys', 'K', 'Lysine'],\n",
       " ['AAT', 'aat', 'Asn', 'N', 'Asparagine']]"
      ]
     },
     "execution_count": 5,
     "metadata": {},
     "output_type": "execute_result"
    }
   ],
   "source": [
    "Codons[0:5]"
   ]
  },
  {
   "cell_type": "code",
   "execution_count": 6,
   "metadata": {},
   "outputs": [],
   "source": [
    "#Codon Dictionary recognizes upper and lower case inputs\n",
    "CodonID = {}\n",
    "for cod in Codons[1:]:\n",
    "    CodonID[cod[1]] = cod[4]\n",
    "    CodonID[cod[0]] = cod[4]"
   ]
  },
  {
   "cell_type": "code",
   "execution_count": 7,
   "metadata": {},
   "outputs": [
    {
     "data": {
      "text/plain": [
       "'Stop'"
      ]
     },
     "execution_count": 7,
     "metadata": {},
     "output_type": "execute_result"
    }
   ],
   "source": [
    "CodonID['tga']"
   ]
  },
  {
   "cell_type": "code",
   "execution_count": 8,
   "metadata": {},
   "outputs": [],
   "source": [
    "#Codon Name to Letter\n",
    "CodonLetter = {}\n",
    "for cod in Codons[1:]:\n",
    "    CodonLetter[cod[4]] = cod[3]"
   ]
  },
  {
   "cell_type": "code",
   "execution_count": 9,
   "metadata": {},
   "outputs": [
    {
     "data": {
      "text/plain": [
       "'K'"
      ]
     },
     "execution_count": 9,
     "metadata": {},
     "output_type": "execute_result"
    }
   ],
   "source": [
    "CodonLetter['Lysine']"
   ]
  },
  {
   "cell_type": "code",
   "execution_count": 10,
   "metadata": {},
   "outputs": [],
   "source": [
    "#Custom Base Editor to any nucleotide\n",
    "def BaseEditor_Nuc(codon_seq, nuc_num, letter):\n",
    "    seq_list = list(codon_seq)\n",
    "    seq_list[nuc_num] = letter\n",
    "    return(''.join(seq_list))"
   ]
  },
  {
   "cell_type": "code",
   "execution_count": 11,
   "metadata": {},
   "outputs": [
    {
     "data": {
      "text/plain": [
       "'CCt'"
      ]
     },
     "execution_count": 11,
     "metadata": {},
     "output_type": "execute_result"
    }
   ],
   "source": [
    "BaseEditor_Nuc('CCC', 2, 't')"
   ]
  },
  {
   "cell_type": "code",
   "execution_count": 12,
   "metadata": {},
   "outputs": [],
   "source": [
    "#open cDNA sequence \n",
    "cDNA_seq = open(\"CLIP1-LTKseq_cDNA.txt\", \"r\").read()"
   ]
  },
  {
   "cell_type": "code",
   "execution_count": 13,
   "metadata": {},
   "outputs": [
    {
     "data": {
      "text/plain": [
       "'agaatcccgggccttctagaggatccaccATGAGTATGCTAAAGCCAAGTGGGCTTAAGGCCCCCACCAAGATCCTGAAGCCTGGAAGCACAGCTCTGAAGACACCTACGGCTGTTGTAGCTCCAGTAGAAAAAACCATATCCAGTGAAAAAGCATCAAGCACTCCATCATCTGAGACTCAGGAGGAATTTGTGGATGACTTTCGAGTTGGGGAGCGAGTTTGGGTGAATGGAAATAAGCCTGGATTTATCCAGTTTCTTGGAGAAACCCAGTTTGCACCAGGCCAGTGGGCTGGAATTGTTTTAGATGAACCCATAGGCAAGAACGATGGTTCGGTGGCAGGAGTTCGGTATTTCCAGTGTGAACCTTTAAAGGGCATATTTACCCGACCTTCAAAGTTAACAAGGAAGGTGCAAGCAGAAGATGAAGCTAATGGCCTGCAGACAACGCCCGCCTCCCGAGCTACTTCACCGCTGTGCACTTCTACGGCCAGCATGGTGTCTTCCTCCCCCTCCACCCCTTCAAACATCCCTCAGAAACCATCACAGCCAGCAGCAAAGGAACCTTCAGCTACGCCTCCGATCAGCAACCTTACAAAAACTGCCAGTGAATCTATCTCCAACCTTTCAGAGGCTGGCTCAATCAAGAAAGGAGAAAGAGAGCTCAAAATCGGAGACAGAGTATTGGTTGGTGGCACTAAGGCTGGTGTAGTCCGGTTTCTTGGGGAGACCGACTTTGCCAAGGGGGAGTGGTGTGGCGTGGAGTTAGATGAGCCACTTGGGAAGAATGATGGCGCTGTTGCTGGAACAAGGTATTTTCAGTGTCAACCCAAATATGGCTTGTTCGCTCCTGTCCACAAAGTTACCAAGATTGGCTTCCCTTCCACTACACCAGCCAAAGCCAAGGCCAACGCAGTGAGGCGAGTGATGGCGACCACGTCCGCCAGCCTGAAGCGCAGCCCTTCTGCCTCTTCCCTCAGCTCCATGAGCTCAGTGGCCTCCTCTGTGAGCAGCAGGCCCAGTCGGACAGGACTATTGACTGAAACCTCCTCCCGTTACGCCAGGAAGATCTCCGGTACCACTGCCCTCCAGGAGGCCCTGAAGGAGAAGCAGCAGCACATTGAGCAGCTGCTGGCGGAACGGGATCTGGAGAGGGCGGAGGTGGCCAAGGCCACGAGCCACGTGGGGGAGATAGAGCAGGAGCTAGCTCTGGCCCGGGACGGACATGACCAGCATGTCCTGGAATTGGAAGCCAAAATGGACCAGCTGCGAACAATGGTGGAAGCTGCTGACAGGGAGAAGGTGGAGCTTCTCAACCAGCTTGAAGAGGAGAAAAGGAAGGTTGAGGACCTTCAGTTCCGGGTTGAAGAAGAATCAATTACCAAAGGTGATCTTGAGCAAAAGAGCCAGATTTCTGAAGATCCTGAGAATACGCAGACCAAACTGGAGCATGCCCGCATTAAGGAGCTTGAACAGAGCCTGCTCTTTGAAAAGACCAAAGCTGACAAACTCCAGAGGGAGTTAGAAGACACTAGGGTGGCTACAGTTTCAGAAAAGTCACGTATAATGGAACTGGAGAAAGACCTAGCATTGAGAGTACAGGAAGTAGCTGAGCTCCGAAGAAGGCTAGAGTCCAATAAGCCTGCTGGGGATGTGGACATGTCACTTTCCCTTTTGCAAGAGATAAGCTCTTTGCAAGAAAAGTTAGAAGTCACCCGTACTGACCACCAGAGAGAAATAACTTCTCTGAAGGAGCATTTTGGAGCCCGGGAAGAAACTCATCAGAAGGAGATAAAGGCTCTGTATACCGCCACGGAAAAGCTTTCCAAAGAGAACGAGTCATTGAAAAGCAAGCTGGAGCATGCCAACAAAGAGAACTCAGATGTGATAGCTCTATGGAAGTCCAAACTGGAGACTGCCATCGCATCCCACCAGCAGGCGATGGAAGAACTGAAGGTATCTTTCAGCAAAGGGCTTGGAACAGAGACGGCAGAATTTGCTGAACTAAAAACACAAATAGAGAAAATGAGACTAGATTACCAACACGAAATAGAAAATTTGCAGAATCAACAAGACTCTGAACGGGCTGCCCATGCTAAAGAGATGGAAGCCTTGAGGGCTAAACTGATGAAAGTTATTAAAGAAAAGGAAAACAGTCTGGAAGCCATCAGGTCGAAACTGGACAAAGCAGAAGACCAGCATCTCGTAGAAATGGAAGACACGTTAAACAAATTACAGGAAGCTGAAATAAAGGTAAAGGAGCTAGAGGTACTGCAAGCCAAATGCAATGAACAAACCAAGGTTATTGATAATTTTACATCACAGCTCAAGGCTACTGAAGAAAAGCTCTTGGATCTTGATGCACTTCGGAAAGCCAGTTCCGAAGGTAAATCGGAAATGAAGAAACTTAGACAGCAGCTTGAGGCAGCTGAGAAACAGATTAAACATTTAGAGATTGAAAAGAATGCTGAAAGTAGCAAGGCTAGTAGCATTACCAGAGAGCTCCAGGGGAGAGAGCTAAAGCTTACTAACCTTCAGGAAAATTTGAGTGAAGTCAGTCAAGTGAAAGAGACTTTGGAAAAAGAACTTCAGATTTTGAAAGAAAAGTTTGCTGAAGCTTCAGAGGAGGCAGTCTCTGTTCAGAGAAGTATGCAAGAAACTGTAAATAAGTTACACCAAAAGGAGGAACAGTTTAACATGCTGTCTTCTGACTTGGAGAAGCTGAGAGAAAACTTAGCAGATATGGAGGCAAAATTTAGAGAGAAAGATGAGAGAGAAGAGCAGCTGATAAAGGCAAAGGAAAAACTGGAAAATGACATTGCAGAAATAATGAAGATGTCAGGAGATAACTCTTCTCAGCTGACAAAAATGAACGATGAATTACGTCTGAAAGAAAGAGATGTAGAAGAATTACAGCTAAAACTTACAAAGGCTAATGAAAATGCAAGTTTTCTGCAAAAAAGTATTGAGGACATGACTGTCAAAGCTGAACAGAGCCAGCAAGAAGCAGCTAAAAAGCATGAGGAAGAAAAGAAAGAATTGGAGAGGAAATTGTCGGACCTGGAAAAGAAAATGGAAACAAGCCACAACCAGTGTCAGGAGCTGAAAGCCAGGTATGAGAGAGCCACTTCTGAGACAAAAACCAAGCATGAAGAAATCCTACAGAACCTCCAGAAGACGCTGCTGGACACAGAGGACAAGCTGAAGGGCGCACGGGAGGAGAACAGTGGCTTGCTGCAGGAGCTGGAGGAGCTGAGAAAGCAAGCCGACAAAGCCAAAGTGGGGCTTGGCCCGGCCCAGTCCTGGCCTCTGCCACCAGGTGTCACCGAGGTTTCCCCAGCCAATGTTACTCTGCTCAGAGCCCTGGGCCATGGTGCCTTTGGGGAGGTGTATGAGGGACTGGTAATTGGCCTTCCTGGGGACTCCAGTCCCCTGCAGGTAGCTATCAAGACCCTGCCAGAACTCTGCTCGCCTCAGGATGAGCTGGATTTCCTCATGGAGGCCCTCATCATCAGCAAGTTTCGCCATCAGAACATTGTGCGGTGTGTGGGGCTCAGCCTCAGGGCCACCCCTCGCCTCATTCTGCTGGAACTGATGTCTGGAGGGGACATGAAGAGTTTCCTGAGGCACAGTCGGCCACACCTGGGCCAGCCATCACCTCTGGTCATGCGGGACCTGCTGCAACTGGCCCAGGACATAGCCCAGGGCTGCCACTACCTGGAGGAAAATCACTTCATCCACAGGGATATTGCCGCCCGGAACTGCCTGCTGAGCTGCGCTGGACCCAGCCGAGTGGCCAAGATTGGGGACTTTGGGATGGCACGAGATATCTACCGGGCCAGTTATTACCGCAGGGGGGACCGGGCCTTGCTCCCAGTCAAGTGGATGCCCCCAGAGGCCTTCCTGGAGGGCATCTTCACATCCAAGACAGATTCCTGGTCTTTTGGGGTGCTGCTCTGGGAGATCTTCTCACTGGGCTACATGCCCTATCCTGGGCGCACCAACCAGGAGGTGCTGGACTTCGTCGTTGGAGGAGGCCGGATGGACCCTCCTAGGGGCTGCCCAGGGCCTGTGTACCGCATCATGACCCAGTGTTGGCAGCACGAGCCTGAGCTCCGCCCTAGCTTTGCCAGCATCTTGGAGCGTCTGCAGTACTGCACTCAGGACCCGGATGTGCTGAATTCACTCCTGCCAATGGAGCTGGGGCCCACCCCAGAGGAGGAAGGGACTTCTGGGCTGGGGAACAGATCTTTGGAGTGCCTAAGACCCCCACAGCCCCAGGAACTGAGTCCAGAGAAGTTGAAAAGCTGGGGAGGTAGCCCTCTTGGCCCCTGGCTGTCCTCTGGCCTCAAGCCCCTCAAATCCAGGGGCCTCCAACCTCAGAACCTTTGGAATCCCACTTATCGCTCCTGAgtcgactcgacaatcaacctctg'"
      ]
     },
     "execution_count": 13,
     "metadata": {},
     "output_type": "execute_result"
    }
   ],
   "source": [
    "cDNA_seq"
   ]
  },
  {
   "cell_type": "code",
   "execution_count": 14,
   "metadata": {},
   "outputs": [
    {
     "data": {
      "text/plain": [
       "4435"
      ]
     },
     "execution_count": 14,
     "metadata": {},
     "output_type": "execute_result"
    }
   ],
   "source": [
    "len(cDNA_seq)"
   ]
  },
  {
   "cell_type": "code",
   "execution_count": 15,
   "metadata": {},
   "outputs": [
    {
     "data": {
      "text/plain": [
       "'ATG'"
      ]
     },
     "execution_count": 15,
     "metadata": {},
     "output_type": "execute_result"
    }
   ],
   "source": [
    "cDNA_seq[29:32] #start site"
   ]
  },
  {
   "cell_type": "code",
   "execution_count": 9,
   "metadata": {},
   "outputs": [],
   "source": [
    "#make cDNA all UPPER case\n",
    "cDNA_seq = cDNA_seq.upper()"
   ]
  },
  {
   "cell_type": "code",
   "execution_count": 16,
   "metadata": {},
   "outputs": [],
   "source": [
    "#List of sgRNAs\n",
    "sg = []\n",
    "with open(\"CLIPLTK_NG sgRNA that passed QC.txt\") as File:\n",
    "    for line in File:\n",
    "        line = line.split()\n",
    "        sg.append(line)"
   ]
  },
  {
   "cell_type": "code",
   "execution_count": 17,
   "metadata": {},
   "outputs": [
    {
     "data": {
      "text/plain": [
       "1908"
      ]
     },
     "execution_count": 17,
     "metadata": {},
     "output_type": "execute_result"
    }
   ],
   "source": [
    "len(sg)"
   ]
  },
  {
   "cell_type": "code",
   "execution_count": 20,
   "metadata": {},
   "outputs": [],
   "source": [
    "#Make as flat list of sgRNA in upper case\n",
    "sgRNA_Seq_List = [i[0].upper() for i in sg]"
   ]
  },
  {
   "cell_type": "code",
   "execution_count": 21,
   "metadata": {},
   "outputs": [
    {
     "ename": "NameError",
     "evalue": "name 'sgRNA_Seq' is not defined",
     "output_type": "error",
     "traceback": [
      "\u001b[0;31m---------------------------------------------------------------------------\u001b[0m",
      "\u001b[0;31mNameError\u001b[0m                                 Traceback (most recent call last)",
      "\u001b[0;32m/var/folders/14/sq2grljd6hbc7y021h7v10t00000gn/T/ipykernel_37731/765705602.py\u001b[0m in \u001b[0;36m<module>\u001b[0;34m\u001b[0m\n\u001b[1;32m      1\u001b[0m \u001b[0;31m#Confirm the presence of sgRNA that bind the negative strand\u001b[0m\u001b[0;34m\u001b[0m\u001b[0;34m\u001b[0m\u001b[0;34m\u001b[0m\u001b[0m\n\u001b[0;32m----> 2\u001b[0;31m \u001b[0msgRNA_Seq\u001b[0m\u001b[0;34m[\u001b[0m\u001b[0;36m2\u001b[0m\u001b[0;34m]\u001b[0m \u001b[0;32min\u001b[0m \u001b[0mRev_cDNA_Seq\u001b[0m\u001b[0;34m\u001b[0m\u001b[0;34m\u001b[0m\u001b[0m\n\u001b[0m",
      "\u001b[0;31mNameError\u001b[0m: name 'sgRNA_Seq' is not defined"
     ]
    }
   ],
   "source": [
    "#Confirm the presence of sgRNA that bind the negative strand\n",
    "sgRNA_Seq[2] in Rev_cDNA_Seq"
   ]
  },
  {
   "cell_type": "code",
   "execution_count": 22,
   "metadata": {},
   "outputs": [
    {
     "ename": "NameError",
     "evalue": "name 'sgRNA_Seq' is not defined",
     "output_type": "error",
     "traceback": [
      "\u001b[0;31m---------------------------------------------------------------------------\u001b[0m",
      "\u001b[0;31mNameError\u001b[0m                                 Traceback (most recent call last)",
      "\u001b[0;32m/var/folders/14/sq2grljd6hbc7y021h7v10t00000gn/T/ipykernel_37731/24938112.py\u001b[0m in \u001b[0;36m<module>\u001b[0;34m\u001b[0m\n\u001b[0;32m----> 1\u001b[0;31m \u001b[0msgRNA_Seq\u001b[0m\u001b[0;34m[\u001b[0m\u001b[0;36m0\u001b[0m\u001b[0;34m]\u001b[0m\u001b[0;34m\u001b[0m\u001b[0;34m\u001b[0m\u001b[0m\n\u001b[0m",
      "\u001b[0;31mNameError\u001b[0m: name 'sgRNA_Seq' is not defined"
     ]
    }
   ],
   "source": [
    "sgRNA_Seq[0]"
   ]
  },
  {
   "cell_type": "code",
   "execution_count": 69,
   "metadata": {},
   "outputs": [
    {
     "data": {
      "text/plain": [
       "1908"
      ]
     },
     "execution_count": 69,
     "metadata": {},
     "output_type": "execute_result"
    }
   ],
   "source": [
    "#check if any duplicates in sgRNA list\n",
    "full_list = []\n",
    "for i in sgRNA_Seq:\n",
    "    if i in full_list:\n",
    "        print(i)\n",
    "    if i not in full_list:\n",
    "        full_list.append(i)\n",
    "len(full_list)"
   ]
  },
  {
   "cell_type": "code",
   "execution_count": 85,
   "metadata": {},
   "outputs": [
    {
     "data": {
      "text/plain": [
       "['TTTTCCGTGGCGGTATACAG']"
      ]
     },
     "execution_count": 85,
     "metadata": {},
     "output_type": "execute_result"
    }
   ],
   "source": [
    "sgRNA_Seq[2:3]"
   ]
  },
  {
   "cell_type": "markdown",
   "metadata": {},
   "source": [
    "## Goal is to create function where input is sequence, start site, and sgRNA and spit out the mutations possible by the sgRNA"
   ]
  },
  {
   "cell_type": "markdown",
   "metadata": {},
   "source": [
    "# Align sgRNAs to Sequence, Determine Mutagenesis"
   ]
  },
  {
   "cell_type": "code",
   "execution_count": 23,
   "metadata": {},
   "outputs": [
    {
     "ename": "NameError",
     "evalue": "name 'BaseEditing_sgRNA' is not defined",
     "output_type": "error",
     "traceback": [
      "\u001b[0;31m---------------------------------------------------------------------------\u001b[0m",
      "\u001b[0;31mNameError\u001b[0m                                 Traceback (most recent call last)",
      "\u001b[0;32m/var/folders/14/sq2grljd6hbc7y021h7v10t00000gn/T/ipykernel_37731/1828819162.py\u001b[0m in \u001b[0;36m<module>\u001b[0;34m\u001b[0m\n\u001b[1;32m      1\u001b[0m \u001b[0mCol_Names\u001b[0m \u001b[0;34m=\u001b[0m \u001b[0;34m[\u001b[0m\u001b[0;34m'sgRNA Seq'\u001b[0m\u001b[0;34m,\u001b[0m \u001b[0;34m'Strand'\u001b[0m\u001b[0;34m,\u001b[0m \u001b[0;34m'PAM'\u001b[0m\u001b[0;34m,\u001b[0m \u001b[0;34m'sgRNA_Nuc'\u001b[0m\u001b[0;34m,\u001b[0m \u001b[0;34m'BE Nuc'\u001b[0m\u001b[0;34m,\u001b[0m \u001b[0;34m'Type'\u001b[0m\u001b[0;34m,\u001b[0m \u001b[0;34m'Cod_seq'\u001b[0m\u001b[0;34m,\u001b[0m \u001b[0;34m'New_cod'\u001b[0m\u001b[0;34m,\u001b[0m \u001b[0;34m'Cod_nuc'\u001b[0m\u001b[0;34m,\u001b[0m \u001b[0;34m'Old_cod_ID'\u001b[0m\u001b[0;34m,\u001b[0m \u001b[0;34m'BE_Target_AA'\u001b[0m\u001b[0;34m,\u001b[0m \u001b[0;34m'New_cod_ID'\u001b[0m\u001b[0;34m]\u001b[0m\u001b[0;34m\u001b[0m\u001b[0;34m\u001b[0m\u001b[0m\n\u001b[0;32m----> 2\u001b[0;31m \u001b[0mBE_sgRNA\u001b[0m \u001b[0;34m=\u001b[0m \u001b[0mpd\u001b[0m\u001b[0;34m.\u001b[0m\u001b[0mDataFrame\u001b[0m\u001b[0;34m(\u001b[0m\u001b[0mBaseEditing_sgRNA\u001b[0m\u001b[0;34m,\u001b[0m \u001b[0mcolumns\u001b[0m\u001b[0;34m=\u001b[0m\u001b[0mCol_Names\u001b[0m\u001b[0;34m)\u001b[0m\u001b[0;34m\u001b[0m\u001b[0;34m\u001b[0m\u001b[0m\n\u001b[0m",
      "\u001b[0;31mNameError\u001b[0m: name 'BaseEditing_sgRNA' is not defined"
     ]
    }
   ],
   "source": [
    "Col_Names = ['sgRNA Seq', 'Strand', 'PAM', 'sgRNA_Nuc', 'BE Nuc', 'Type', 'Cod_seq', 'New_cod', 'Cod_nuc', 'Old_cod_ID', 'BE_Target_AA', 'New_cod_ID']\n",
    "BE_sgRNA = pd.DataFrame(BaseEditing_sgRNA, columns=Col_Names)"
   ]
  },
  {
   "cell_type": "code",
   "execution_count": 260,
   "metadata": {},
   "outputs": [],
   "source": [
    "#5 bp Base Editor Window of sgRNA is 4bp to 8bp\n",
    "MutStart = 2 #nucleotide 3\n",
    "MutEnd = 10 #nucleotide 10\n",
    "#Transcriptional Start Site\n",
    "start_site = 29 #Start sites starts with \"ATG....\"\n",
    "TargetSeq = cDNA_seq #Target DNA sequence\n",
    "RevComp_TargetSeq = RevComplment(TargetSeq) #Reverse comp of target sequence\n",
    "sgRNA_Seq = sgRNA_Seq_List\n",
    "sgRNA_Strand = []\n",
    "sgRNA_not_in_Seq = []\n",
    "#Determine if sgRNA binds positive or negative strand\n",
    "for g in sgRNA_Seq:\n",
    "    if g in TargetSeq:\n",
    "        sgRNA_Strand.append([g, 'pos'])\n",
    "    if g in RevComp_TargetSeq:\n",
    "        sgRNA_Strand.append([g, 'neg'])\n",
    "    if (g not in RevComp_TargetSeq) and (g not in TargetSeq):\n",
    "        sgRNA_not_in_Seq.append([g, 'NOT FOUND'])\n",
    "#Identify the mutagenic region\n",
    "BaseEditing_sgRNA = []\n",
    "for g_strand in sgRNA_Strand:\n",
    "    if g_strand[1] == 'pos':\n",
    "        Loc = TargetSeq.find(g_strand[0]) #sgRNA start nucleotide\n",
    "        PAM = TargetSeq[Loc+20:Loc+23] #PAM Seq\n",
    "        BE_Window = TargetSeq[Loc+MutStart:Loc+MutEnd]\n",
    "        if not (('C' in BE_Window)): #Empty Window\n",
    "            g_strand_Info = g_strand + [PAM, 'NA', Loc+5, 'CBE', 'NA', 'NA', 'NA', 'NA', ((Loc+5-start_site)//3)+1, 'Null']\n",
    "            BaseEditing_sgRNA.append(g_strand_Info)\n",
    "        if not (('A' in BE_Window)): #Empty Window\n",
    "            g_strand_Info = g_strand + [PAM, 'NA', Loc+5, 'ABE', 'NA', 'NA', 'NA', 'NA', ((Loc+5-start_site)//3)+1, 'Null']\n",
    "            BaseEditing_sgRNA.append(g_strand_Info)\n",
    "        for i in range(len(list(BE_Window))):\n",
    "            if BE_Window[i] == 'C':\n",
    "                sgRNA_Nuc = MutStart + i  #nucletide mutated in sgRNA\n",
    "                BE_nuc = Loc + MutStart + i #nucleotide in seqience\n",
    "                BE_Target_AA = ((BE_nuc-start_site)//3) #amino acid number\n",
    "                Cod_seq = TargetSeq[(BE_Target_AA*3)+start_site:(BE_Target_AA*3)+start_site+3] #codon seq\n",
    "                BE_nuc_reminder = (BE_nuc-start_site)%3 #nucleotide in codon\n",
    "                New_cod = BaseEditor_Nuc(Cod_seq,BE_nuc_reminder,'T') #new codon made\n",
    "                Old_cod_ID = CodonID[Cod_seq] #old codon name\n",
    "                New_cod_ID = CodonID[New_cod] #new codon name\n",
    "                g_strand_Info = g_strand + [PAM, sgRNA_Nuc+1, BE_nuc+1, 'CBE', Cod_seq, New_cod, BE_nuc_reminder+1, Old_cod_ID, (BE_Target_AA+1), New_cod_ID]\n",
    "                BaseEditing_sgRNA.append(g_strand_Info)\n",
    "            if BE_Window[i] == 'A':\n",
    "                sgRNA_Nuc = MutStart + i #nucletide mutated in sgRNA\n",
    "                BE_nuc = Loc + MutStart + i #nucleotide in seqience\n",
    "                BE_Target_AA = ((BE_nuc-start_site)//3) #amino acid number\n",
    "                Cod_seq = TargetSeq[(BE_Target_AA*3)+start_site:(BE_Target_AA*3)+start_site+3] #codon seq\n",
    "                BE_nuc_reminder = (BE_nuc-start_site)%3 #nucleotide in codon\n",
    "                New_cod = BaseEditor_Nuc(Cod_seq,BE_nuc_reminder,'G') #new codon made\n",
    "                Old_cod_ID = CodonID[Cod_seq] #old codon name\n",
    "                New_cod_ID = CodonID[New_cod] #new codon name\n",
    "                g_strand_Info = g_strand + [PAM, sgRNA_Nuc+1, BE_nuc+1, 'ABE', Cod_seq, New_cod, BE_nuc_reminder+1, Old_cod_ID, (BE_Target_AA+1), New_cod_ID]\n",
    "                BaseEditing_sgRNA.append(g_strand_Info)\n",
    "    if g_strand[1] == 'neg': #negative strand \n",
    "        Loc2 = RevComp_TargetSeq.find(g_strand[0]) #Negative strand location\n",
    "        PAM = RevComp_TargetSeq[Loc2+20:Loc2+23] #PAM Seq\n",
    "        Loc = len(TargetSeq)-Loc2-MutEnd-2 #Positive strand location\n",
    "        BE_Window = TargetSeq[Loc+MutStart:Loc+MutEnd] #Editing Window in positive strand\n",
    "        if not (('G' in BE_Window)): #Empty Window\n",
    "            g_strand_Info = g_strand + [PAM, 'NA', Loc+8, 'CBE', 'NA', 'NA', 'NA', 'NA', ((Loc+8-start_site)//3)+1, 'Null']\n",
    "            BaseEditing_sgRNA.append(g_strand_Info)\n",
    "        if not (('T' in BE_Window)): #Empty Window\n",
    "            g_strand_Info = g_strand + [PAM, 'NA', Loc+8, 'ABE', 'NA', 'NA', 'NA', 'NA', ((Loc+8-start_site)//3)+1, 'Null']\n",
    "            BaseEditing_sgRNA.append(g_strand_Info)\n",
    "        for i in range(len(list(BE_Window))):\n",
    "            if BE_Window[i] == 'G':\n",
    "                sgRNA_Nuc = 20 - MutEnd - i #nucletide mutated in sgRNA\n",
    "                BE_nuc = Loc + MutStart + i  #nucleotide in seqience\n",
    "                BE_Target_AA = ((BE_nuc-start_site)//3) #amino acid number -1 (python)\n",
    "                Cod_seq = TargetSeq[(BE_Target_AA*3)+start_site:(BE_Target_AA*3)+start_site+3] #codon seq\n",
    "                BE_nuc_reminder = (BE_nuc-start_site)%3 #nucleotide in codon\n",
    "                New_cod = BaseEditor_Nuc(Cod_seq,BE_nuc_reminder,'A') #new codon made\n",
    "                Old_cod_ID = CodonID[Cod_seq] #old codon name\n",
    "                New_cod_ID = CodonID[New_cod] #new codon name\n",
    "                g_strand_Info = g_strand + [PAM, sgRNA_Nuc, BE_nuc+1, 'CBE', Cod_seq, New_cod, BE_nuc_reminder+1, Old_cod_ID, (BE_Target_AA+1), New_cod_ID]\n",
    "                BaseEditing_sgRNA.append(g_strand_Info)\n",
    "            if BE_Window[i] == 'T':\n",
    "                sgRNA_Nuc = 20 - MutEnd - i #nucletide mutated in sgRNA\n",
    "                BE_nuc = Loc + MutStart + i #nucleotide in seqience\n",
    "                BE_Target_AA = ((BE_nuc-start_site)//3) #amino acid number -1 (python)\n",
    "                Cod_seq = TargetSeq[(BE_Target_AA*3)+start_site:(BE_Target_AA*3)+start_site+3] #codon seq\n",
    "                BE_nuc_reminder = (BE_nuc-start_site)%3 #nucleotide in codon\n",
    "                New_cod = BaseEditor_Nuc(Cod_seq,BE_nuc_reminder,'C') #new codon made\n",
    "                Old_cod_ID = CodonID[Cod_seq] #old codon name\n",
    "                New_cod_ID = CodonID[New_cod] #new codon name\n",
    "                g_strand_Info = g_strand + [PAM, sgRNA_Nuc, BE_nuc+1, 'ABE', Cod_seq, New_cod, BE_nuc_reminder+1, Old_cod_ID, (BE_Target_AA+1), New_cod_ID]\n",
    "                BaseEditing_sgRNA.append(g_strand_Info)"
   ]
  },
  {
   "cell_type": "code",
   "execution_count": 236,
   "metadata": {},
   "outputs": [
    {
     "data": {
      "text/plain": [
       "True"
      ]
     },
     "execution_count": 236,
     "metadata": {},
     "output_type": "execute_result"
    }
   ],
   "source": [
    "len(sgRNA_Strand) == len(sgRNA_Seq)"
   ]
  },
  {
   "cell_type": "code",
   "execution_count": 237,
   "metadata": {},
   "outputs": [
    {
     "data": {
      "text/plain": [
       "0"
      ]
     },
     "execution_count": 237,
     "metadata": {},
     "output_type": "execute_result"
    }
   ],
   "source": [
    "#Check if any sgRNA are not found in the cDNA sequence\n",
    "len(sgRNA_not_in_Seq)"
   ]
  },
  {
   "cell_type": "code",
   "execution_count": 238,
   "metadata": {},
   "outputs": [
    {
     "data": {
      "text/plain": [
       "1908"
      ]
     },
     "execution_count": 238,
     "metadata": {},
     "output_type": "execute_result"
    }
   ],
   "source": [
    "#check if any duplicates in BE sgRNA list\n",
    "full_list = []\n",
    "for i in BaseEditing_sgRNA:\n",
    "    if i[0] not in full_list:\n",
    "        full_list.append(i[0])\n",
    "len(full_list)"
   ]
  },
  {
   "cell_type": "code",
   "execution_count": 239,
   "metadata": {},
   "outputs": [
    {
     "data": {
      "text/plain": [
       "8096"
      ]
     },
     "execution_count": 239,
     "metadata": {},
     "output_type": "execute_result"
    }
   ],
   "source": [
    "len(BaseEditing_sgRNA)"
   ]
  },
  {
   "cell_type": "code",
   "execution_count": 261,
   "metadata": {},
   "outputs": [],
   "source": [
    "Col_Names = ['sgRNA Seq', 'Strand', 'PAM', 'sgRNA_Nuc', 'BE Nuc', 'Type', 'Cod_seq', 'New_cod', 'Cod_nuc', 'Old_cod_ID', 'BE_Target_AA', 'New_cod_ID']\n",
    "BE_sgRNA = pd.DataFrame(BaseEditing_sgRNA, columns=Col_Names)"
   ]
  },
  {
   "cell_type": "code",
   "execution_count": 262,
   "metadata": {},
   "outputs": [
    {
     "data": {
      "text/html": [
       "<div>\n",
       "<style scoped>\n",
       "    .dataframe tbody tr th:only-of-type {\n",
       "        vertical-align: middle;\n",
       "    }\n",
       "\n",
       "    .dataframe tbody tr th {\n",
       "        vertical-align: top;\n",
       "    }\n",
       "\n",
       "    .dataframe thead th {\n",
       "        text-align: right;\n",
       "    }\n",
       "</style>\n",
       "<table border=\"1\" class=\"dataframe\">\n",
       "  <thead>\n",
       "    <tr style=\"text-align: right;\">\n",
       "      <th></th>\n",
       "      <th>sgRNA Seq</th>\n",
       "      <th>Strand</th>\n",
       "      <th>PAM</th>\n",
       "      <th>sgRNA_Nuc</th>\n",
       "      <th>BE Nuc</th>\n",
       "      <th>Type</th>\n",
       "      <th>Cod_seq</th>\n",
       "      <th>New_cod</th>\n",
       "      <th>Cod_nuc</th>\n",
       "      <th>Old_cod_ID</th>\n",
       "      <th>BE_Target_AA</th>\n",
       "      <th>New_cod_ID</th>\n",
       "    </tr>\n",
       "  </thead>\n",
       "  <tbody>\n",
       "    <tr>\n",
       "      <th>8091</th>\n",
       "      <td>AAAAACACAAATAGAGAAAA</td>\n",
       "      <td>pos</td>\n",
       "      <td>TGA</td>\n",
       "      <td>9</td>\n",
       "      <td>2014</td>\n",
       "      <td>ABE</td>\n",
       "      <td>CAA</td>\n",
       "      <td>CGA</td>\n",
       "      <td>2</td>\n",
       "      <td>Glutamine</td>\n",
       "      <td>662</td>\n",
       "      <td>Arginine</td>\n",
       "    </tr>\n",
       "    <tr>\n",
       "      <th>8092</th>\n",
       "      <td>AAAAACACAAATAGAGAAAA</td>\n",
       "      <td>pos</td>\n",
       "      <td>TGA</td>\n",
       "      <td>10</td>\n",
       "      <td>2015</td>\n",
       "      <td>ABE</td>\n",
       "      <td>CAA</td>\n",
       "      <td>CAG</td>\n",
       "      <td>3</td>\n",
       "      <td>Glutamine</td>\n",
       "      <td>662</td>\n",
       "      <td>Glutamine</td>\n",
       "    </tr>\n",
       "    <tr>\n",
       "      <th>8093</th>\n",
       "      <td>AGCTGTGCTTCCAGGCTTCA</td>\n",
       "      <td>neg</td>\n",
       "      <td>GGA</td>\n",
       "      <td>NA</td>\n",
       "      <td>91</td>\n",
       "      <td>ABE</td>\n",
       "      <td>NA</td>\n",
       "      <td>NA</td>\n",
       "      <td>NA</td>\n",
       "      <td>NA</td>\n",
       "      <td>21</td>\n",
       "      <td>Null</td>\n",
       "    </tr>\n",
       "    <tr>\n",
       "      <th>8094</th>\n",
       "      <td>AGCTGTGCTTCCAGGCTTCA</td>\n",
       "      <td>neg</td>\n",
       "      <td>GGA</td>\n",
       "      <td>8</td>\n",
       "      <td>88</td>\n",
       "      <td>CBE</td>\n",
       "      <td>AGC</td>\n",
       "      <td>AAC</td>\n",
       "      <td>2</td>\n",
       "      <td>Serine</td>\n",
       "      <td>20</td>\n",
       "      <td>Asparagine</td>\n",
       "    </tr>\n",
       "    <tr>\n",
       "      <th>8095</th>\n",
       "      <td>AGCTGTGCTTCCAGGCTTCA</td>\n",
       "      <td>neg</td>\n",
       "      <td>GGA</td>\n",
       "      <td>3</td>\n",
       "      <td>93</td>\n",
       "      <td>CBE</td>\n",
       "      <td>GCT</td>\n",
       "      <td>ACT</td>\n",
       "      <td>1</td>\n",
       "      <td>Alanine</td>\n",
       "      <td>22</td>\n",
       "      <td>Threonine</td>\n",
       "    </tr>\n",
       "  </tbody>\n",
       "</table>\n",
       "</div>"
      ],
      "text/plain": [
       "                 sgRNA Seq Strand  PAM sgRNA_Nuc  BE Nuc Type Cod_seq New_cod  \\\n",
       "8091  AAAAACACAAATAGAGAAAA    pos  TGA         9    2014  ABE     CAA     CGA   \n",
       "8092  AAAAACACAAATAGAGAAAA    pos  TGA        10    2015  ABE     CAA     CAG   \n",
       "8093  AGCTGTGCTTCCAGGCTTCA    neg  GGA        NA      91  ABE      NA      NA   \n",
       "8094  AGCTGTGCTTCCAGGCTTCA    neg  GGA         8      88  CBE     AGC     AAC   \n",
       "8095  AGCTGTGCTTCCAGGCTTCA    neg  GGA         3      93  CBE     GCT     ACT   \n",
       "\n",
       "     Cod_nuc Old_cod_ID  BE_Target_AA  New_cod_ID  \n",
       "8091       2  Glutamine           662    Arginine  \n",
       "8092       3  Glutamine           662   Glutamine  \n",
       "8093      NA         NA            21        Null  \n",
       "8094       2     Serine            20  Asparagine  \n",
       "8095       1    Alanine            22   Threonine  "
      ]
     },
     "execution_count": 262,
     "metadata": {},
     "output_type": "execute_result"
    }
   ],
   "source": [
    "BE_sgRNA.tail()"
   ]
  },
  {
   "cell_type": "code",
   "execution_count": 264,
   "metadata": {},
   "outputs": [
    {
     "data": {
      "text/html": [
       "<div>\n",
       "<style scoped>\n",
       "    .dataframe tbody tr th:only-of-type {\n",
       "        vertical-align: middle;\n",
       "    }\n",
       "\n",
       "    .dataframe tbody tr th {\n",
       "        vertical-align: top;\n",
       "    }\n",
       "\n",
       "    .dataframe thead th {\n",
       "        text-align: right;\n",
       "    }\n",
       "</style>\n",
       "<table border=\"1\" class=\"dataframe\">\n",
       "  <thead>\n",
       "    <tr style=\"text-align: right;\">\n",
       "      <th></th>\n",
       "      <th>sgRNA Seq</th>\n",
       "      <th>Strand</th>\n",
       "      <th>PAM</th>\n",
       "      <th>sgRNA_Nuc</th>\n",
       "      <th>BE Nuc</th>\n",
       "      <th>Type</th>\n",
       "      <th>Cod_seq</th>\n",
       "      <th>New_cod</th>\n",
       "      <th>Cod_nuc</th>\n",
       "      <th>Old_cod_ID</th>\n",
       "      <th>BE_Target_AA</th>\n",
       "      <th>New_cod_ID</th>\n",
       "    </tr>\n",
       "  </thead>\n",
       "  <tbody>\n",
       "    <tr>\n",
       "      <th>0</th>\n",
       "      <td>GGGATATTGCCGCCCGGAAC</td>\n",
       "      <td>pos</td>\n",
       "      <td>TGC</td>\n",
       "      <td>4</td>\n",
       "      <td>3745</td>\n",
       "      <td>ABE</td>\n",
       "      <td>GAT</td>\n",
       "      <td>GGT</td>\n",
       "      <td>2</td>\n",
       "      <td>Aspartic_acid</td>\n",
       "      <td>1239</td>\n",
       "      <td>Glycine</td>\n",
       "    </tr>\n",
       "    <tr>\n",
       "      <th>1</th>\n",
       "      <td>GGGATATTGCCGCCCGGAAC</td>\n",
       "      <td>pos</td>\n",
       "      <td>TGC</td>\n",
       "      <td>6</td>\n",
       "      <td>3747</td>\n",
       "      <td>ABE</td>\n",
       "      <td>ATT</td>\n",
       "      <td>GTT</td>\n",
       "      <td>1</td>\n",
       "      <td>Isoleucine</td>\n",
       "      <td>1240</td>\n",
       "      <td>Valine</td>\n",
       "    </tr>\n",
       "    <tr>\n",
       "      <th>2</th>\n",
       "      <td>GGGATATTGCCGCCCGGAAC</td>\n",
       "      <td>pos</td>\n",
       "      <td>TGC</td>\n",
       "      <td>10</td>\n",
       "      <td>3751</td>\n",
       "      <td>CBE</td>\n",
       "      <td>GCC</td>\n",
       "      <td>GTC</td>\n",
       "      <td>2</td>\n",
       "      <td>Alanine</td>\n",
       "      <td>1241</td>\n",
       "      <td>Valine</td>\n",
       "    </tr>\n",
       "    <tr>\n",
       "      <th>3</th>\n",
       "      <td>TATTACCGCAGGGGGGACCG</td>\n",
       "      <td>pos</td>\n",
       "      <td>GGC</td>\n",
       "      <td>5</td>\n",
       "      <td>3847</td>\n",
       "      <td>ABE</td>\n",
       "      <td>TAC</td>\n",
       "      <td>TGC</td>\n",
       "      <td>2</td>\n",
       "      <td>Tyrosine</td>\n",
       "      <td>1273</td>\n",
       "      <td>Cysteine</td>\n",
       "    </tr>\n",
       "    <tr>\n",
       "      <th>4</th>\n",
       "      <td>TATTACCGCAGGGGGGACCG</td>\n",
       "      <td>pos</td>\n",
       "      <td>GGC</td>\n",
       "      <td>6</td>\n",
       "      <td>3848</td>\n",
       "      <td>CBE</td>\n",
       "      <td>TAC</td>\n",
       "      <td>TAT</td>\n",
       "      <td>3</td>\n",
       "      <td>Tyrosine</td>\n",
       "      <td>1273</td>\n",
       "      <td>Tyrosine</td>\n",
       "    </tr>\n",
       "    <tr>\n",
       "      <th>5</th>\n",
       "      <td>TATTACCGCAGGGGGGACCG</td>\n",
       "      <td>pos</td>\n",
       "      <td>GGC</td>\n",
       "      <td>7</td>\n",
       "      <td>3849</td>\n",
       "      <td>CBE</td>\n",
       "      <td>CGC</td>\n",
       "      <td>TGC</td>\n",
       "      <td>1</td>\n",
       "      <td>Arginine</td>\n",
       "      <td>1274</td>\n",
       "      <td>Cysteine</td>\n",
       "    </tr>\n",
       "    <tr>\n",
       "      <th>6</th>\n",
       "      <td>TATTACCGCAGGGGGGACCG</td>\n",
       "      <td>pos</td>\n",
       "      <td>GGC</td>\n",
       "      <td>9</td>\n",
       "      <td>3851</td>\n",
       "      <td>CBE</td>\n",
       "      <td>CGC</td>\n",
       "      <td>CGT</td>\n",
       "      <td>3</td>\n",
       "      <td>Arginine</td>\n",
       "      <td>1274</td>\n",
       "      <td>Arginine</td>\n",
       "    </tr>\n",
       "    <tr>\n",
       "      <th>7</th>\n",
       "      <td>TATTACCGCAGGGGGGACCG</td>\n",
       "      <td>pos</td>\n",
       "      <td>GGC</td>\n",
       "      <td>10</td>\n",
       "      <td>3852</td>\n",
       "      <td>ABE</td>\n",
       "      <td>AGG</td>\n",
       "      <td>GGG</td>\n",
       "      <td>1</td>\n",
       "      <td>Arginine</td>\n",
       "      <td>1275</td>\n",
       "      <td>Glycine</td>\n",
       "    </tr>\n",
       "    <tr>\n",
       "      <th>8</th>\n",
       "      <td>TTTTCCGTGGCGGTATACAG</td>\n",
       "      <td>neg</td>\n",
       "      <td>AGC</td>\n",
       "      <td>NA</td>\n",
       "      <td>1815</td>\n",
       "      <td>ABE</td>\n",
       "      <td>NA</td>\n",
       "      <td>NA</td>\n",
       "      <td>NA</td>\n",
       "      <td>NA</td>\n",
       "      <td>596</td>\n",
       "      <td>Null</td>\n",
       "    </tr>\n",
       "    <tr>\n",
       "      <th>9</th>\n",
       "      <td>TTTTCCGTGGCGGTATACAG</td>\n",
       "      <td>neg</td>\n",
       "      <td>AGC</td>\n",
       "      <td>6</td>\n",
       "      <td>1814</td>\n",
       "      <td>CBE</td>\n",
       "      <td>ACG</td>\n",
       "      <td>ACA</td>\n",
       "      <td>3</td>\n",
       "      <td>Threonine</td>\n",
       "      <td>595</td>\n",
       "      <td>Threonine</td>\n",
       "    </tr>\n",
       "  </tbody>\n",
       "</table>\n",
       "</div>"
      ],
      "text/plain": [
       "              sgRNA Seq Strand  PAM sgRNA_Nuc  BE Nuc Type Cod_seq New_cod  \\\n",
       "0  GGGATATTGCCGCCCGGAAC    pos  TGC         4    3745  ABE     GAT     GGT   \n",
       "1  GGGATATTGCCGCCCGGAAC    pos  TGC         6    3747  ABE     ATT     GTT   \n",
       "2  GGGATATTGCCGCCCGGAAC    pos  TGC        10    3751  CBE     GCC     GTC   \n",
       "3  TATTACCGCAGGGGGGACCG    pos  GGC         5    3847  ABE     TAC     TGC   \n",
       "4  TATTACCGCAGGGGGGACCG    pos  GGC         6    3848  CBE     TAC     TAT   \n",
       "5  TATTACCGCAGGGGGGACCG    pos  GGC         7    3849  CBE     CGC     TGC   \n",
       "6  TATTACCGCAGGGGGGACCG    pos  GGC         9    3851  CBE     CGC     CGT   \n",
       "7  TATTACCGCAGGGGGGACCG    pos  GGC        10    3852  ABE     AGG     GGG   \n",
       "8  TTTTCCGTGGCGGTATACAG    neg  AGC        NA    1815  ABE      NA      NA   \n",
       "9  TTTTCCGTGGCGGTATACAG    neg  AGC         6    1814  CBE     ACG     ACA   \n",
       "\n",
       "  Cod_nuc     Old_cod_ID  BE_Target_AA New_cod_ID  \n",
       "0       2  Aspartic_acid          1239    Glycine  \n",
       "1       1     Isoleucine          1240     Valine  \n",
       "2       2        Alanine          1241     Valine  \n",
       "3       2       Tyrosine          1273   Cysteine  \n",
       "4       3       Tyrosine          1273   Tyrosine  \n",
       "5       1       Arginine          1274   Cysteine  \n",
       "6       3       Arginine          1274   Arginine  \n",
       "7       1       Arginine          1275    Glycine  \n",
       "8      NA             NA           596       Null  \n",
       "9       3      Threonine           595  Threonine  "
      ]
     },
     "execution_count": 264,
     "metadata": {},
     "output_type": "execute_result"
    }
   ],
   "source": [
    "BE_sgRNA.head(10)"
   ]
  },
  {
   "cell_type": "code",
   "execution_count": 209,
   "metadata": {},
   "outputs": [
    {
     "data": {
      "text/plain": [
       "8096"
      ]
     },
     "execution_count": 209,
     "metadata": {},
     "output_type": "execute_result"
    }
   ],
   "source": [
    "len(BE_sgRNA)"
   ]
  },
  {
   "cell_type": "code",
   "execution_count": 265,
   "metadata": {},
   "outputs": [],
   "source": [
    "BE_sgRNA.to_csv('CLIP1-LTK Predicted Mutagenesis 20220904.csv')"
   ]
  },
  {
   "cell_type": "code",
   "execution_count": 266,
   "metadata": {},
   "outputs": [],
   "source": [
    "BE_sgRNA['Old_cod_Letter'] = BE_sgRNA['Old_cod_ID'].map(CodonLetter)\n",
    "BE_sgRNA['New_cod_Letter'] = BE_sgRNA['New_cod_ID'].map(CodonLetter)"
   ]
  },
  {
   "cell_type": "code",
   "execution_count": 267,
   "metadata": {},
   "outputs": [],
   "source": [
    "BE_sgRNA['Class'] = 'Unclassified'\n",
    "BE_sgRNA.loc[BE_sgRNA['New_cod_ID'] != BE_sgRNA['Old_cod_ID'],'Class'] = 'Missense'\n",
    "BE_sgRNA.loc[(BE_sgRNA['New_cod_ID'] == 'Stop') & (BE_sgRNA['Type'] == 'CBE') ,'Class'] = 'iStop'\n",
    "BE_sgRNA.loc[(BE_sgRNA['Type'] == 'ABE') & (BE_sgRNA['BE_Target_AA'] == 1) ,'Class'] = 'iSilence'\n",
    "BE_sgRNA.loc[BE_sgRNA['New_cod_ID'] == BE_sgRNA['Old_cod_ID'],'Class'] = 'Silent'\n",
    "BE_sgRNA.loc[BE_sgRNA['New_cod_ID'] == 'Null','Class'] = 'Negative Control'"
   ]
  },
  {
   "cell_type": "code",
   "execution_count": 268,
   "metadata": {},
   "outputs": [],
   "source": [
    "#Match to CHOP CHOP List\n",
    "#open list\n",
    "CHOP_sgRNA = pd.read_csv('Full length CLIP-LTK NG PAM Library from CHOP CHOP.tsv', delimiter='\\t')\n",
    "CHOP_sgRNA['sgRNA Seq'] = CHOP_sgRNA['Target sequence'].str[:20]\n",
    "CHOP_sgRNA['Seq Location'] = CHOP_sgRNA['Genomic location'].str[4:].astype(int) #convert sgRNA sequence location into number\n",
    "#Sorted by binding location\n",
    "CHOP_sgRNA = CHOP_sgRNA.sort_values(by='Seq Location')\n",
    "CHOP_sgRNA.reset_index(inplace=True)"
   ]
  },
  {
   "cell_type": "code",
   "execution_count": 269,
   "metadata": {},
   "outputs": [],
   "source": [
    "CHOP_sgRNA['sgNAME'] = str('CLIPLTK_') + CHOP_sgRNA.index.astype(str)"
   ]
  },
  {
   "cell_type": "code",
   "execution_count": 270,
   "metadata": {},
   "outputs": [
    {
     "data": {
      "text/html": [
       "<div>\n",
       "<style scoped>\n",
       "    .dataframe tbody tr th:only-of-type {\n",
       "        vertical-align: middle;\n",
       "    }\n",
       "\n",
       "    .dataframe tbody tr th {\n",
       "        vertical-align: top;\n",
       "    }\n",
       "\n",
       "    .dataframe thead th {\n",
       "        text-align: right;\n",
       "    }\n",
       "</style>\n",
       "<table border=\"1\" class=\"dataframe\">\n",
       "  <thead>\n",
       "    <tr style=\"text-align: right;\">\n",
       "      <th></th>\n",
       "      <th>index</th>\n",
       "      <th>Rank</th>\n",
       "      <th>Target sequence</th>\n",
       "      <th>Genomic location</th>\n",
       "      <th>Strand</th>\n",
       "      <th>GC content (%)</th>\n",
       "      <th>Self-complementarity</th>\n",
       "      <th>MM0</th>\n",
       "      <th>MM1</th>\n",
       "      <th>MM2</th>\n",
       "      <th>MM3</th>\n",
       "      <th>Efficiency</th>\n",
       "      <th>sgRNA Seq</th>\n",
       "      <th>Seq Location</th>\n",
       "      <th>sgNAME</th>\n",
       "    </tr>\n",
       "  </thead>\n",
       "  <tbody>\n",
       "    <tr>\n",
       "      <th>0</th>\n",
       "      <td>439</td>\n",
       "      <td>440</td>\n",
       "      <td>ATACTCATGGTGGATCCTCTAG</td>\n",
       "      <td>seq:1</td>\n",
       "      <td>-</td>\n",
       "      <td>45</td>\n",
       "      <td>1</td>\n",
       "      <td>0</td>\n",
       "      <td>0</td>\n",
       "      <td>1</td>\n",
       "      <td>30</td>\n",
       "      <td>0.0</td>\n",
       "      <td>ATACTCATGGTGGATCCTCT</td>\n",
       "      <td>1</td>\n",
       "      <td>CLIPLTK_0</td>\n",
       "    </tr>\n",
       "    <tr>\n",
       "      <th>1</th>\n",
       "      <td>326</td>\n",
       "      <td>327</td>\n",
       "      <td>TAGAGGATCCACCATGAGTATG</td>\n",
       "      <td>seq:2</td>\n",
       "      <td>+</td>\n",
       "      <td>45</td>\n",
       "      <td>0</td>\n",
       "      <td>0</td>\n",
       "      <td>0</td>\n",
       "      <td>3</td>\n",
       "      <td>21</td>\n",
       "      <td>0.0</td>\n",
       "      <td>TAGAGGATCCACCATGAGTA</td>\n",
       "      <td>2</td>\n",
       "      <td>CLIPLTK_1</td>\n",
       "    </tr>\n",
       "    <tr>\n",
       "      <th>2</th>\n",
       "      <td>233</td>\n",
       "      <td>234</td>\n",
       "      <td>ATCCACCATGAGTATGCTAAAG</td>\n",
       "      <td>seq:8</td>\n",
       "      <td>+</td>\n",
       "      <td>40</td>\n",
       "      <td>1</td>\n",
       "      <td>0</td>\n",
       "      <td>0</td>\n",
       "      <td>0</td>\n",
       "      <td>20</td>\n",
       "      <td>0.0</td>\n",
       "      <td>ATCCACCATGAGTATGCTAA</td>\n",
       "      <td>8</td>\n",
       "      <td>CLIPLTK_2</td>\n",
       "    </tr>\n",
       "    <tr>\n",
       "      <th>3</th>\n",
       "      <td>296</td>\n",
       "      <td>297</td>\n",
       "      <td>GGCTTTAGCATACTCATGGTGG</td>\n",
       "      <td>seq:10</td>\n",
       "      <td>-</td>\n",
       "      <td>45</td>\n",
       "      <td>0</td>\n",
       "      <td>0</td>\n",
       "      <td>0</td>\n",
       "      <td>2</td>\n",
       "      <td>21</td>\n",
       "      <td>0.0</td>\n",
       "      <td>GGCTTTAGCATACTCATGGT</td>\n",
       "      <td>10</td>\n",
       "      <td>CLIPLTK_3</td>\n",
       "    </tr>\n",
       "    <tr>\n",
       "      <th>4</th>\n",
       "      <td>699</td>\n",
       "      <td>700</td>\n",
       "      <td>TGGCTTTAGCATACTCATGGTG</td>\n",
       "      <td>seq:11</td>\n",
       "      <td>-</td>\n",
       "      <td>45</td>\n",
       "      <td>1</td>\n",
       "      <td>0</td>\n",
       "      <td>0</td>\n",
       "      <td>3</td>\n",
       "      <td>44</td>\n",
       "      <td>0.0</td>\n",
       "      <td>TGGCTTTAGCATACTCATGG</td>\n",
       "      <td>11</td>\n",
       "      <td>CLIPLTK_4</td>\n",
       "    </tr>\n",
       "  </tbody>\n",
       "</table>\n",
       "</div>"
      ],
      "text/plain": [
       "   index  Rank         Target sequence Genomic location Strand  \\\n",
       "0    439   440  ATACTCATGGTGGATCCTCTAG            seq:1      -   \n",
       "1    326   327  TAGAGGATCCACCATGAGTATG            seq:2      +   \n",
       "2    233   234  ATCCACCATGAGTATGCTAAAG            seq:8      +   \n",
       "3    296   297  GGCTTTAGCATACTCATGGTGG           seq:10      -   \n",
       "4    699   700  TGGCTTTAGCATACTCATGGTG           seq:11      -   \n",
       "\n",
       "   GC content (%)  Self-complementarity  MM0  MM1  MM2 MM3  Efficiency  \\\n",
       "0              45                     1    0    0    1  30         0.0   \n",
       "1              45                     0    0    0    3  21         0.0   \n",
       "2              40                     1    0    0    0  20         0.0   \n",
       "3              45                     0    0    0    2  21         0.0   \n",
       "4              45                     1    0    0    3  44         0.0   \n",
       "\n",
       "              sgRNA Seq  Seq Location     sgNAME  \n",
       "0  ATACTCATGGTGGATCCTCT             1  CLIPLTK_0  \n",
       "1  TAGAGGATCCACCATGAGTA             2  CLIPLTK_1  \n",
       "2  ATCCACCATGAGTATGCTAA             8  CLIPLTK_2  \n",
       "3  GGCTTTAGCATACTCATGGT            10  CLIPLTK_3  \n",
       "4  TGGCTTTAGCATACTCATGG            11  CLIPLTK_4  "
      ]
     },
     "execution_count": 270,
     "metadata": {},
     "output_type": "execute_result"
    }
   ],
   "source": [
    "CHOP_sgRNA.head()"
   ]
  },
  {
   "cell_type": "code",
   "execution_count": 271,
   "metadata": {},
   "outputs": [],
   "source": [
    "#merge data\n",
    "BE_sgRNA_Class_Labeled = pd.merge(BE_sgRNA, CHOP_sgRNA, how='left', on='sgRNA Seq')"
   ]
  },
  {
   "cell_type": "code",
   "execution_count": 272,
   "metadata": {},
   "outputs": [
    {
     "data": {
      "text/html": [
       "<div>\n",
       "<style scoped>\n",
       "    .dataframe tbody tr th:only-of-type {\n",
       "        vertical-align: middle;\n",
       "    }\n",
       "\n",
       "    .dataframe tbody tr th {\n",
       "        vertical-align: top;\n",
       "    }\n",
       "\n",
       "    .dataframe thead th {\n",
       "        text-align: right;\n",
       "    }\n",
       "</style>\n",
       "<table border=\"1\" class=\"dataframe\">\n",
       "  <thead>\n",
       "    <tr style=\"text-align: right;\">\n",
       "      <th></th>\n",
       "      <th>sgRNA Seq</th>\n",
       "      <th>Strand_x</th>\n",
       "      <th>PAM</th>\n",
       "      <th>sgRNA_Nuc</th>\n",
       "      <th>BE Nuc</th>\n",
       "      <th>Type</th>\n",
       "      <th>Cod_seq</th>\n",
       "      <th>New_cod</th>\n",
       "      <th>Cod_nuc</th>\n",
       "      <th>Old_cod_ID</th>\n",
       "      <th>BE_Target_AA</th>\n",
       "      <th>New_cod_ID</th>\n",
       "      <th>Old_cod_Letter</th>\n",
       "      <th>New_cod_Letter</th>\n",
       "      <th>Class</th>\n",
       "      <th>index</th>\n",
       "      <th>Rank</th>\n",
       "      <th>Target sequence</th>\n",
       "      <th>Genomic location</th>\n",
       "      <th>Strand_y</th>\n",
       "      <th>GC content (%)</th>\n",
       "      <th>Self-complementarity</th>\n",
       "      <th>MM0</th>\n",
       "      <th>MM1</th>\n",
       "      <th>MM2</th>\n",
       "      <th>MM3</th>\n",
       "      <th>Efficiency</th>\n",
       "      <th>Seq Location</th>\n",
       "      <th>sgNAME</th>\n",
       "    </tr>\n",
       "  </thead>\n",
       "  <tbody>\n",
       "    <tr>\n",
       "      <th>0</th>\n",
       "      <td>GGGATATTGCCGCCCGGAAC</td>\n",
       "      <td>pos</td>\n",
       "      <td>TGC</td>\n",
       "      <td>4</td>\n",
       "      <td>3745</td>\n",
       "      <td>ABE</td>\n",
       "      <td>GAT</td>\n",
       "      <td>GGT</td>\n",
       "      <td>2</td>\n",
       "      <td>Aspartic_acid</td>\n",
       "      <td>1239</td>\n",
       "      <td>Glycine</td>\n",
       "      <td>D</td>\n",
       "      <td>G</td>\n",
       "      <td>Missense</td>\n",
       "      <td>0</td>\n",
       "      <td>1</td>\n",
       "      <td>GGGATATTGCCGCCCGGAACTG</td>\n",
       "      <td>seq:3727</td>\n",
       "      <td>+</td>\n",
       "      <td>65</td>\n",
       "      <td>0</td>\n",
       "      <td>1</td>\n",
       "      <td>0</td>\n",
       "      <td>0</td>\n",
       "      <td>0</td>\n",
       "      <td>0.0</td>\n",
       "      <td>3727</td>\n",
       "      <td>CLIPLTK_1599</td>\n",
       "    </tr>\n",
       "    <tr>\n",
       "      <th>1</th>\n",
       "      <td>GGGATATTGCCGCCCGGAAC</td>\n",
       "      <td>pos</td>\n",
       "      <td>TGC</td>\n",
       "      <td>6</td>\n",
       "      <td>3747</td>\n",
       "      <td>ABE</td>\n",
       "      <td>ATT</td>\n",
       "      <td>GTT</td>\n",
       "      <td>1</td>\n",
       "      <td>Isoleucine</td>\n",
       "      <td>1240</td>\n",
       "      <td>Valine</td>\n",
       "      <td>I</td>\n",
       "      <td>V</td>\n",
       "      <td>Missense</td>\n",
       "      <td>0</td>\n",
       "      <td>1</td>\n",
       "      <td>GGGATATTGCCGCCCGGAACTG</td>\n",
       "      <td>seq:3727</td>\n",
       "      <td>+</td>\n",
       "      <td>65</td>\n",
       "      <td>0</td>\n",
       "      <td>1</td>\n",
       "      <td>0</td>\n",
       "      <td>0</td>\n",
       "      <td>0</td>\n",
       "      <td>0.0</td>\n",
       "      <td>3727</td>\n",
       "      <td>CLIPLTK_1599</td>\n",
       "    </tr>\n",
       "    <tr>\n",
       "      <th>2</th>\n",
       "      <td>GGGATATTGCCGCCCGGAAC</td>\n",
       "      <td>pos</td>\n",
       "      <td>TGC</td>\n",
       "      <td>10</td>\n",
       "      <td>3751</td>\n",
       "      <td>CBE</td>\n",
       "      <td>GCC</td>\n",
       "      <td>GTC</td>\n",
       "      <td>2</td>\n",
       "      <td>Alanine</td>\n",
       "      <td>1241</td>\n",
       "      <td>Valine</td>\n",
       "      <td>A</td>\n",
       "      <td>V</td>\n",
       "      <td>Missense</td>\n",
       "      <td>0</td>\n",
       "      <td>1</td>\n",
       "      <td>GGGATATTGCCGCCCGGAACTG</td>\n",
       "      <td>seq:3727</td>\n",
       "      <td>+</td>\n",
       "      <td>65</td>\n",
       "      <td>0</td>\n",
       "      <td>1</td>\n",
       "      <td>0</td>\n",
       "      <td>0</td>\n",
       "      <td>0</td>\n",
       "      <td>0.0</td>\n",
       "      <td>3727</td>\n",
       "      <td>CLIPLTK_1599</td>\n",
       "    </tr>\n",
       "    <tr>\n",
       "      <th>3</th>\n",
       "      <td>TATTACCGCAGGGGGGACCG</td>\n",
       "      <td>pos</td>\n",
       "      <td>GGC</td>\n",
       "      <td>5</td>\n",
       "      <td>3847</td>\n",
       "      <td>ABE</td>\n",
       "      <td>TAC</td>\n",
       "      <td>TGC</td>\n",
       "      <td>2</td>\n",
       "      <td>Tyrosine</td>\n",
       "      <td>1273</td>\n",
       "      <td>Cysteine</td>\n",
       "      <td>Y</td>\n",
       "      <td>C</td>\n",
       "      <td>Missense</td>\n",
       "      <td>1</td>\n",
       "      <td>2</td>\n",
       "      <td>TATTACCGCAGGGGGGACCGGG</td>\n",
       "      <td>seq:3828</td>\n",
       "      <td>+</td>\n",
       "      <td>65</td>\n",
       "      <td>0</td>\n",
       "      <td>1</td>\n",
       "      <td>0</td>\n",
       "      <td>0</td>\n",
       "      <td>1</td>\n",
       "      <td>0.0</td>\n",
       "      <td>3828</td>\n",
       "      <td>CLIPLTK_1653</td>\n",
       "    </tr>\n",
       "    <tr>\n",
       "      <th>4</th>\n",
       "      <td>TATTACCGCAGGGGGGACCG</td>\n",
       "      <td>pos</td>\n",
       "      <td>GGC</td>\n",
       "      <td>6</td>\n",
       "      <td>3848</td>\n",
       "      <td>CBE</td>\n",
       "      <td>TAC</td>\n",
       "      <td>TAT</td>\n",
       "      <td>3</td>\n",
       "      <td>Tyrosine</td>\n",
       "      <td>1273</td>\n",
       "      <td>Tyrosine</td>\n",
       "      <td>Y</td>\n",
       "      <td>Y</td>\n",
       "      <td>Silent</td>\n",
       "      <td>1</td>\n",
       "      <td>2</td>\n",
       "      <td>TATTACCGCAGGGGGGACCGGG</td>\n",
       "      <td>seq:3828</td>\n",
       "      <td>+</td>\n",
       "      <td>65</td>\n",
       "      <td>0</td>\n",
       "      <td>1</td>\n",
       "      <td>0</td>\n",
       "      <td>0</td>\n",
       "      <td>1</td>\n",
       "      <td>0.0</td>\n",
       "      <td>3828</td>\n",
       "      <td>CLIPLTK_1653</td>\n",
       "    </tr>\n",
       "  </tbody>\n",
       "</table>\n",
       "</div>"
      ],
      "text/plain": [
       "              sgRNA Seq Strand_x  PAM sgRNA_Nuc  BE Nuc Type Cod_seq New_cod  \\\n",
       "0  GGGATATTGCCGCCCGGAAC      pos  TGC         4    3745  ABE     GAT     GGT   \n",
       "1  GGGATATTGCCGCCCGGAAC      pos  TGC         6    3747  ABE     ATT     GTT   \n",
       "2  GGGATATTGCCGCCCGGAAC      pos  TGC        10    3751  CBE     GCC     GTC   \n",
       "3  TATTACCGCAGGGGGGACCG      pos  GGC         5    3847  ABE     TAC     TGC   \n",
       "4  TATTACCGCAGGGGGGACCG      pos  GGC         6    3848  CBE     TAC     TAT   \n",
       "\n",
       "  Cod_nuc     Old_cod_ID  BE_Target_AA New_cod_ID Old_cod_Letter  \\\n",
       "0       2  Aspartic_acid          1239    Glycine              D   \n",
       "1       1     Isoleucine          1240     Valine              I   \n",
       "2       2        Alanine          1241     Valine              A   \n",
       "3       2       Tyrosine          1273   Cysteine              Y   \n",
       "4       3       Tyrosine          1273   Tyrosine              Y   \n",
       "\n",
       "  New_cod_Letter     Class  index  Rank         Target sequence  \\\n",
       "0              G  Missense      0     1  GGGATATTGCCGCCCGGAACTG   \n",
       "1              V  Missense      0     1  GGGATATTGCCGCCCGGAACTG   \n",
       "2              V  Missense      0     1  GGGATATTGCCGCCCGGAACTG   \n",
       "3              C  Missense      1     2  TATTACCGCAGGGGGGACCGGG   \n",
       "4              Y    Silent      1     2  TATTACCGCAGGGGGGACCGGG   \n",
       "\n",
       "  Genomic location Strand_y  GC content (%)  Self-complementarity  MM0  MM1  \\\n",
       "0         seq:3727        +              65                     0    1    0   \n",
       "1         seq:3727        +              65                     0    1    0   \n",
       "2         seq:3727        +              65                     0    1    0   \n",
       "3         seq:3828        +              65                     0    1    0   \n",
       "4         seq:3828        +              65                     0    1    0   \n",
       "\n",
       "   MM2 MM3  Efficiency  Seq Location        sgNAME  \n",
       "0    0   0         0.0          3727  CLIPLTK_1599  \n",
       "1    0   0         0.0          3727  CLIPLTK_1599  \n",
       "2    0   0         0.0          3727  CLIPLTK_1599  \n",
       "3    0   1         0.0          3828  CLIPLTK_1653  \n",
       "4    0   1         0.0          3828  CLIPLTK_1653  "
      ]
     },
     "execution_count": 272,
     "metadata": {},
     "output_type": "execute_result"
    }
   ],
   "source": [
    "BE_sgRNA_Class_Labeled.head()"
   ]
  },
  {
   "cell_type": "code",
   "execution_count": 273,
   "metadata": {},
   "outputs": [
    {
     "data": {
      "text/plain": [
       "8096"
      ]
     },
     "execution_count": 273,
     "metadata": {},
     "output_type": "execute_result"
    }
   ],
   "source": [
    "len(BE_sgRNA_Class_Labeled)"
   ]
  },
  {
   "cell_type": "code",
   "execution_count": 274,
   "metadata": {},
   "outputs": [],
   "source": [
    "BE_sgRNA_Class_Labeled.to_csv('CLIP1-LTK NG sgRNA Predicted Mutagenesis Classed Labeled 20220904.csv')"
   ]
  },
  {
   "cell_type": "markdown",
   "metadata": {},
   "source": [
    "## Make sgRNA to Fasta file"
   ]
  },
  {
   "cell_type": "code",
   "execution_count": 199,
   "metadata": {},
   "outputs": [],
   "source": [
    "sgRNA_Label = BE_sgRNA_Class_Labeled[['sgNAME', 'sgRNA Seq']]"
   ]
  },
  {
   "cell_type": "code",
   "execution_count": 203,
   "metadata": {},
   "outputs": [],
   "source": [
    "sgRNA_Name_List = sgRNA_Label.drop_duplicates().values.tolist()"
   ]
  },
  {
   "cell_type": "code",
   "execution_count": 205,
   "metadata": {},
   "outputs": [
    {
     "data": {
      "text/plain": [
       "True"
      ]
     },
     "execution_count": 205,
     "metadata": {},
     "output_type": "execute_result"
    }
   ],
   "source": [
    "len(sgRNA_Name_List) == len(sgRNA_Seq)"
   ]
  },
  {
   "cell_type": "code",
   "execution_count": 206,
   "metadata": {},
   "outputs": [],
   "source": [
    "with open('CLIP1LTK_sgRNA.fasta', 'w') as f:\n",
    "    for i,m in sgRNA_Name_List:\n",
    "        f.write('>'+i)\n",
    "        f.write('\\n')\n",
    "        f.write(m)\n",
    "        f.write('\\n')"
   ]
  },
  {
   "cell_type": "markdown",
   "metadata": {},
   "source": [
    "## Add Amino Acid Position of Fusion Protein"
   ]
  },
  {
   "cell_type": "code",
   "execution_count": 31,
   "metadata": {},
   "outputs": [],
   "source": [
    "BE_sgRNA_Class_Labeled = pd.read_csv('CLIP1-LTK NG sgRNA Predicted Mutagenesis Classed Labeled 20220904.csv')"
   ]
  },
  {
   "cell_type": "code",
   "execution_count": 275,
   "metadata": {},
   "outputs": [
    {
     "data": {
      "text/html": [
       "<div>\n",
       "<style scoped>\n",
       "    .dataframe tbody tr th:only-of-type {\n",
       "        vertical-align: middle;\n",
       "    }\n",
       "\n",
       "    .dataframe tbody tr th {\n",
       "        vertical-align: top;\n",
       "    }\n",
       "\n",
       "    .dataframe thead th {\n",
       "        text-align: right;\n",
       "    }\n",
       "</style>\n",
       "<table border=\"1\" class=\"dataframe\">\n",
       "  <thead>\n",
       "    <tr style=\"text-align: right;\">\n",
       "      <th></th>\n",
       "      <th>sgRNA Seq</th>\n",
       "      <th>Strand_x</th>\n",
       "      <th>PAM</th>\n",
       "      <th>sgRNA_Nuc</th>\n",
       "      <th>BE Nuc</th>\n",
       "      <th>Type</th>\n",
       "      <th>Cod_seq</th>\n",
       "      <th>New_cod</th>\n",
       "      <th>Cod_nuc</th>\n",
       "      <th>Old_cod_ID</th>\n",
       "      <th>BE_Target_AA</th>\n",
       "      <th>New_cod_ID</th>\n",
       "      <th>Old_cod_Letter</th>\n",
       "      <th>New_cod_Letter</th>\n",
       "      <th>Class</th>\n",
       "      <th>index</th>\n",
       "      <th>Rank</th>\n",
       "      <th>Target sequence</th>\n",
       "      <th>Genomic location</th>\n",
       "      <th>Strand_y</th>\n",
       "      <th>GC content (%)</th>\n",
       "      <th>Self-complementarity</th>\n",
       "      <th>MM0</th>\n",
       "      <th>MM1</th>\n",
       "      <th>MM2</th>\n",
       "      <th>MM3</th>\n",
       "      <th>Efficiency</th>\n",
       "      <th>Seq Location</th>\n",
       "      <th>sgNAME</th>\n",
       "    </tr>\n",
       "  </thead>\n",
       "  <tbody>\n",
       "    <tr>\n",
       "      <th>0</th>\n",
       "      <td>GGGATATTGCCGCCCGGAAC</td>\n",
       "      <td>pos</td>\n",
       "      <td>TGC</td>\n",
       "      <td>4</td>\n",
       "      <td>3745</td>\n",
       "      <td>ABE</td>\n",
       "      <td>GAT</td>\n",
       "      <td>GGT</td>\n",
       "      <td>2</td>\n",
       "      <td>Aspartic_acid</td>\n",
       "      <td>1239</td>\n",
       "      <td>Glycine</td>\n",
       "      <td>D</td>\n",
       "      <td>G</td>\n",
       "      <td>Missense</td>\n",
       "      <td>0</td>\n",
       "      <td>1</td>\n",
       "      <td>GGGATATTGCCGCCCGGAACTG</td>\n",
       "      <td>seq:3727</td>\n",
       "      <td>+</td>\n",
       "      <td>65</td>\n",
       "      <td>0</td>\n",
       "      <td>1</td>\n",
       "      <td>0</td>\n",
       "      <td>0</td>\n",
       "      <td>0</td>\n",
       "      <td>0.0</td>\n",
       "      <td>3727</td>\n",
       "      <td>CLIPLTK_1599</td>\n",
       "    </tr>\n",
       "    <tr>\n",
       "      <th>1</th>\n",
       "      <td>GGGATATTGCCGCCCGGAAC</td>\n",
       "      <td>pos</td>\n",
       "      <td>TGC</td>\n",
       "      <td>6</td>\n",
       "      <td>3747</td>\n",
       "      <td>ABE</td>\n",
       "      <td>ATT</td>\n",
       "      <td>GTT</td>\n",
       "      <td>1</td>\n",
       "      <td>Isoleucine</td>\n",
       "      <td>1240</td>\n",
       "      <td>Valine</td>\n",
       "      <td>I</td>\n",
       "      <td>V</td>\n",
       "      <td>Missense</td>\n",
       "      <td>0</td>\n",
       "      <td>1</td>\n",
       "      <td>GGGATATTGCCGCCCGGAACTG</td>\n",
       "      <td>seq:3727</td>\n",
       "      <td>+</td>\n",
       "      <td>65</td>\n",
       "      <td>0</td>\n",
       "      <td>1</td>\n",
       "      <td>0</td>\n",
       "      <td>0</td>\n",
       "      <td>0</td>\n",
       "      <td>0.0</td>\n",
       "      <td>3727</td>\n",
       "      <td>CLIPLTK_1599</td>\n",
       "    </tr>\n",
       "    <tr>\n",
       "      <th>2</th>\n",
       "      <td>GGGATATTGCCGCCCGGAAC</td>\n",
       "      <td>pos</td>\n",
       "      <td>TGC</td>\n",
       "      <td>10</td>\n",
       "      <td>3751</td>\n",
       "      <td>CBE</td>\n",
       "      <td>GCC</td>\n",
       "      <td>GTC</td>\n",
       "      <td>2</td>\n",
       "      <td>Alanine</td>\n",
       "      <td>1241</td>\n",
       "      <td>Valine</td>\n",
       "      <td>A</td>\n",
       "      <td>V</td>\n",
       "      <td>Missense</td>\n",
       "      <td>0</td>\n",
       "      <td>1</td>\n",
       "      <td>GGGATATTGCCGCCCGGAACTG</td>\n",
       "      <td>seq:3727</td>\n",
       "      <td>+</td>\n",
       "      <td>65</td>\n",
       "      <td>0</td>\n",
       "      <td>1</td>\n",
       "      <td>0</td>\n",
       "      <td>0</td>\n",
       "      <td>0</td>\n",
       "      <td>0.0</td>\n",
       "      <td>3727</td>\n",
       "      <td>CLIPLTK_1599</td>\n",
       "    </tr>\n",
       "    <tr>\n",
       "      <th>3</th>\n",
       "      <td>TATTACCGCAGGGGGGACCG</td>\n",
       "      <td>pos</td>\n",
       "      <td>GGC</td>\n",
       "      <td>5</td>\n",
       "      <td>3847</td>\n",
       "      <td>ABE</td>\n",
       "      <td>TAC</td>\n",
       "      <td>TGC</td>\n",
       "      <td>2</td>\n",
       "      <td>Tyrosine</td>\n",
       "      <td>1273</td>\n",
       "      <td>Cysteine</td>\n",
       "      <td>Y</td>\n",
       "      <td>C</td>\n",
       "      <td>Missense</td>\n",
       "      <td>1</td>\n",
       "      <td>2</td>\n",
       "      <td>TATTACCGCAGGGGGGACCGGG</td>\n",
       "      <td>seq:3828</td>\n",
       "      <td>+</td>\n",
       "      <td>65</td>\n",
       "      <td>0</td>\n",
       "      <td>1</td>\n",
       "      <td>0</td>\n",
       "      <td>0</td>\n",
       "      <td>1</td>\n",
       "      <td>0.0</td>\n",
       "      <td>3828</td>\n",
       "      <td>CLIPLTK_1653</td>\n",
       "    </tr>\n",
       "    <tr>\n",
       "      <th>4</th>\n",
       "      <td>TATTACCGCAGGGGGGACCG</td>\n",
       "      <td>pos</td>\n",
       "      <td>GGC</td>\n",
       "      <td>6</td>\n",
       "      <td>3848</td>\n",
       "      <td>CBE</td>\n",
       "      <td>TAC</td>\n",
       "      <td>TAT</td>\n",
       "      <td>3</td>\n",
       "      <td>Tyrosine</td>\n",
       "      <td>1273</td>\n",
       "      <td>Tyrosine</td>\n",
       "      <td>Y</td>\n",
       "      <td>Y</td>\n",
       "      <td>Silent</td>\n",
       "      <td>1</td>\n",
       "      <td>2</td>\n",
       "      <td>TATTACCGCAGGGGGGACCGGG</td>\n",
       "      <td>seq:3828</td>\n",
       "      <td>+</td>\n",
       "      <td>65</td>\n",
       "      <td>0</td>\n",
       "      <td>1</td>\n",
       "      <td>0</td>\n",
       "      <td>0</td>\n",
       "      <td>1</td>\n",
       "      <td>0.0</td>\n",
       "      <td>3828</td>\n",
       "      <td>CLIPLTK_1653</td>\n",
       "    </tr>\n",
       "  </tbody>\n",
       "</table>\n",
       "</div>"
      ],
      "text/plain": [
       "              sgRNA Seq Strand_x  PAM sgRNA_Nuc  BE Nuc Type Cod_seq New_cod  \\\n",
       "0  GGGATATTGCCGCCCGGAAC      pos  TGC         4    3745  ABE     GAT     GGT   \n",
       "1  GGGATATTGCCGCCCGGAAC      pos  TGC         6    3747  ABE     ATT     GTT   \n",
       "2  GGGATATTGCCGCCCGGAAC      pos  TGC        10    3751  CBE     GCC     GTC   \n",
       "3  TATTACCGCAGGGGGGACCG      pos  GGC         5    3847  ABE     TAC     TGC   \n",
       "4  TATTACCGCAGGGGGGACCG      pos  GGC         6    3848  CBE     TAC     TAT   \n",
       "\n",
       "  Cod_nuc     Old_cod_ID  BE_Target_AA New_cod_ID Old_cod_Letter  \\\n",
       "0       2  Aspartic_acid          1239    Glycine              D   \n",
       "1       1     Isoleucine          1240     Valine              I   \n",
       "2       2        Alanine          1241     Valine              A   \n",
       "3       2       Tyrosine          1273   Cysteine              Y   \n",
       "4       3       Tyrosine          1273   Tyrosine              Y   \n",
       "\n",
       "  New_cod_Letter     Class  index  Rank         Target sequence  \\\n",
       "0              G  Missense      0     1  GGGATATTGCCGCCCGGAACTG   \n",
       "1              V  Missense      0     1  GGGATATTGCCGCCCGGAACTG   \n",
       "2              V  Missense      0     1  GGGATATTGCCGCCCGGAACTG   \n",
       "3              C  Missense      1     2  TATTACCGCAGGGGGGACCGGG   \n",
       "4              Y    Silent      1     2  TATTACCGCAGGGGGGACCGGG   \n",
       "\n",
       "  Genomic location Strand_y  GC content (%)  Self-complementarity  MM0  MM1  \\\n",
       "0         seq:3727        +              65                     0    1    0   \n",
       "1         seq:3727        +              65                     0    1    0   \n",
       "2         seq:3727        +              65                     0    1    0   \n",
       "3         seq:3828        +              65                     0    1    0   \n",
       "4         seq:3828        +              65                     0    1    0   \n",
       "\n",
       "   MM2 MM3  Efficiency  Seq Location        sgNAME  \n",
       "0    0   0         0.0          3727  CLIPLTK_1599  \n",
       "1    0   0         0.0          3727  CLIPLTK_1599  \n",
       "2    0   0         0.0          3727  CLIPLTK_1599  \n",
       "3    0   1         0.0          3828  CLIPLTK_1653  \n",
       "4    0   1         0.0          3828  CLIPLTK_1653  "
      ]
     },
     "execution_count": 275,
     "metadata": {},
     "output_type": "execute_result"
    }
   ],
   "source": [
    "pd.set_option('display.max_columns', None)\n",
    "BE_sgRNA_Class_Labeled.head()"
   ]
  },
  {
   "cell_type": "code",
   "execution_count": 301,
   "metadata": {},
   "outputs": [
    {
     "name": "stderr",
     "output_type": "stream",
     "text": [
      "C:\\Users\\Relentless\\Anaconda2\\envs\\py35\\lib\\site-packages\\pandas\\core\\indexing.py:189: SettingWithCopyWarning: \n",
      "A value is trying to be set on a copy of a slice from a DataFrame\n",
      "\n",
      "See the caveats in the documentation: http://pandas.pydata.org/pandas-docs/stable/indexing.html#indexing-view-versus-copy\n",
      "  self._setitem_with_indexer(indexer, value)\n"
     ]
    }
   ],
   "source": [
    "#Define LTK AA\n",
    "BE_sgRNA_Class_Labeled[\"LTK AA\"] = -1\n",
    "BE_sgRNA_Class_Labeled.loc[BE_sgRNA_Class_Labeled['BE_Target_AA']>1083,[\"LTK AA\"]] = (BE_sgRNA_Class_Labeled['BE_Target_AA'] - 1084 + 488)\n",
    "BE_sgRNA_Class_Labeled[\"LTK AA\"].loc[BE_sgRNA_Class_Labeled['LTK AA'] > 865] = -1\n",
    "#Define CLIP1 AA\n",
    "BE_sgRNA_Class_Labeled[\"CLIP1 AA\"] = BE_sgRNA_Class_Labeled['BE_Target_AA']\n",
    "BE_sgRNA_Class_Labeled.loc[BE_sgRNA_Class_Labeled['BE_Target_AA']>1083,[\"CLIP1 AA\"]] = -1\n",
    "BE_sgRNA_Class_Labeled.loc[BE_sgRNA_Class_Labeled['BE_Target_AA']<1,[\"CLIP1 AA\"]] = -1"
   ]
  },
  {
   "cell_type": "code",
   "execution_count": 306,
   "metadata": {},
   "outputs": [],
   "source": [
    "#Define outside cDNA window sgRNA\n",
    "BE_sgRNA_Class_Labeled.loc[(BE_sgRNA_Class_Labeled['CLIP1 AA'] == -1) & (BE_sgRNA_Class_Labeled['LTK AA'] == -1),'Class'] = 'Negative Control'\n",
    "#Therefore Negative Control sgRNA are empty window or outside of cDNA"
   ]
  },
  {
   "cell_type": "code",
   "execution_count": 308,
   "metadata": {},
   "outputs": [],
   "source": [
    "BE_sgRNA_Class_Labeled.to_csv('CLIP1-LTK NG sgRNA Predicted Mutagenesis Classed Labeled 20220904.csv')"
   ]
  },
  {
   "cell_type": "markdown",
   "metadata": {},
   "source": [
    "# Single Classification of each sgRNA"
   ]
  },
  {
   "cell_type": "code",
   "execution_count": 313,
   "metadata": {},
   "outputs": [],
   "source": [
    "BE_sgRNA_Class_Labeled['Mutation'] = None\n",
    "BE_sgRNA_Class_Labeled.loc[BE_sgRNA_Class_Labeled['CLIP1 AA'] > 0 ,'Mutation'] = BE_sgRNA_Class_Labeled['Old_cod_Letter'] + BE_sgRNA_Class_Labeled['CLIP1 AA'].astype(str) + BE_sgRNA_Class_Labeled['New_cod_Letter']\n",
    "BE_sgRNA_Class_Labeled.loc[BE_sgRNA_Class_Labeled['LTK AA'] > 0 ,'Mutation'] = BE_sgRNA_Class_Labeled['Old_cod_Letter'] + BE_sgRNA_Class_Labeled['LTK AA'].astype(str) + BE_sgRNA_Class_Labeled['New_cod_Letter']"
   ]
  },
  {
   "cell_type": "code",
   "execution_count": 316,
   "metadata": {},
   "outputs": [],
   "source": [
    "BE_sgRNA_Class_Labeled.to_csv('CLIP1-LTK NG sgRNA Predicted Mutagenesis Classed Labeled 20220904.csv')"
   ]
  },
  {
   "cell_type": "code",
   "execution_count": 317,
   "metadata": {},
   "outputs": [
    {
     "data": {
      "text/html": [
       "<div>\n",
       "<style scoped>\n",
       "    .dataframe tbody tr th:only-of-type {\n",
       "        vertical-align: middle;\n",
       "    }\n",
       "\n",
       "    .dataframe tbody tr th {\n",
       "        vertical-align: top;\n",
       "    }\n",
       "\n",
       "    .dataframe thead th {\n",
       "        text-align: right;\n",
       "    }\n",
       "</style>\n",
       "<table border=\"1\" class=\"dataframe\">\n",
       "  <thead>\n",
       "    <tr style=\"text-align: right;\">\n",
       "      <th></th>\n",
       "      <th>sgRNA Seq</th>\n",
       "      <th>Strand_x</th>\n",
       "      <th>PAM</th>\n",
       "      <th>sgRNA_Nuc</th>\n",
       "      <th>BE Nuc</th>\n",
       "      <th>Type</th>\n",
       "      <th>Cod_seq</th>\n",
       "      <th>New_cod</th>\n",
       "      <th>Cod_nuc</th>\n",
       "      <th>Old_cod_ID</th>\n",
       "      <th>BE_Target_AA</th>\n",
       "      <th>New_cod_ID</th>\n",
       "      <th>Old_cod_Letter</th>\n",
       "      <th>New_cod_Letter</th>\n",
       "      <th>Class</th>\n",
       "      <th>index</th>\n",
       "      <th>Rank</th>\n",
       "      <th>Target sequence</th>\n",
       "      <th>Genomic location</th>\n",
       "      <th>Strand_y</th>\n",
       "      <th>GC content (%)</th>\n",
       "      <th>Self-complementarity</th>\n",
       "      <th>MM0</th>\n",
       "      <th>MM1</th>\n",
       "      <th>MM2</th>\n",
       "      <th>MM3</th>\n",
       "      <th>Efficiency</th>\n",
       "      <th>Seq Location</th>\n",
       "      <th>sgNAME</th>\n",
       "      <th>LTK AA</th>\n",
       "      <th>CLIP1 AA</th>\n",
       "      <th>Mutation</th>\n",
       "    </tr>\n",
       "  </thead>\n",
       "  <tbody>\n",
       "    <tr>\n",
       "      <th>0</th>\n",
       "      <td>GGGATATTGCCGCCCGGAAC</td>\n",
       "      <td>pos</td>\n",
       "      <td>TGC</td>\n",
       "      <td>4</td>\n",
       "      <td>3745</td>\n",
       "      <td>ABE</td>\n",
       "      <td>GAT</td>\n",
       "      <td>GGT</td>\n",
       "      <td>2</td>\n",
       "      <td>Aspartic_acid</td>\n",
       "      <td>1239</td>\n",
       "      <td>Glycine</td>\n",
       "      <td>D</td>\n",
       "      <td>G</td>\n",
       "      <td>Missense</td>\n",
       "      <td>0</td>\n",
       "      <td>1</td>\n",
       "      <td>GGGATATTGCCGCCCGGAACTG</td>\n",
       "      <td>seq:3727</td>\n",
       "      <td>+</td>\n",
       "      <td>65</td>\n",
       "      <td>0</td>\n",
       "      <td>1</td>\n",
       "      <td>0</td>\n",
       "      <td>0</td>\n",
       "      <td>0</td>\n",
       "      <td>0.0</td>\n",
       "      <td>3727</td>\n",
       "      <td>CLIPLTK_1599</td>\n",
       "      <td>643</td>\n",
       "      <td>-1</td>\n",
       "      <td>D643G</td>\n",
       "    </tr>\n",
       "    <tr>\n",
       "      <th>1</th>\n",
       "      <td>GGGATATTGCCGCCCGGAAC</td>\n",
       "      <td>pos</td>\n",
       "      <td>TGC</td>\n",
       "      <td>6</td>\n",
       "      <td>3747</td>\n",
       "      <td>ABE</td>\n",
       "      <td>ATT</td>\n",
       "      <td>GTT</td>\n",
       "      <td>1</td>\n",
       "      <td>Isoleucine</td>\n",
       "      <td>1240</td>\n",
       "      <td>Valine</td>\n",
       "      <td>I</td>\n",
       "      <td>V</td>\n",
       "      <td>Missense</td>\n",
       "      <td>0</td>\n",
       "      <td>1</td>\n",
       "      <td>GGGATATTGCCGCCCGGAACTG</td>\n",
       "      <td>seq:3727</td>\n",
       "      <td>+</td>\n",
       "      <td>65</td>\n",
       "      <td>0</td>\n",
       "      <td>1</td>\n",
       "      <td>0</td>\n",
       "      <td>0</td>\n",
       "      <td>0</td>\n",
       "      <td>0.0</td>\n",
       "      <td>3727</td>\n",
       "      <td>CLIPLTK_1599</td>\n",
       "      <td>644</td>\n",
       "      <td>-1</td>\n",
       "      <td>I644V</td>\n",
       "    </tr>\n",
       "    <tr>\n",
       "      <th>2</th>\n",
       "      <td>GGGATATTGCCGCCCGGAAC</td>\n",
       "      <td>pos</td>\n",
       "      <td>TGC</td>\n",
       "      <td>10</td>\n",
       "      <td>3751</td>\n",
       "      <td>CBE</td>\n",
       "      <td>GCC</td>\n",
       "      <td>GTC</td>\n",
       "      <td>2</td>\n",
       "      <td>Alanine</td>\n",
       "      <td>1241</td>\n",
       "      <td>Valine</td>\n",
       "      <td>A</td>\n",
       "      <td>V</td>\n",
       "      <td>Missense</td>\n",
       "      <td>0</td>\n",
       "      <td>1</td>\n",
       "      <td>GGGATATTGCCGCCCGGAACTG</td>\n",
       "      <td>seq:3727</td>\n",
       "      <td>+</td>\n",
       "      <td>65</td>\n",
       "      <td>0</td>\n",
       "      <td>1</td>\n",
       "      <td>0</td>\n",
       "      <td>0</td>\n",
       "      <td>0</td>\n",
       "      <td>0.0</td>\n",
       "      <td>3727</td>\n",
       "      <td>CLIPLTK_1599</td>\n",
       "      <td>645</td>\n",
       "      <td>-1</td>\n",
       "      <td>A645V</td>\n",
       "    </tr>\n",
       "    <tr>\n",
       "      <th>3</th>\n",
       "      <td>TATTACCGCAGGGGGGACCG</td>\n",
       "      <td>pos</td>\n",
       "      <td>GGC</td>\n",
       "      <td>5</td>\n",
       "      <td>3847</td>\n",
       "      <td>ABE</td>\n",
       "      <td>TAC</td>\n",
       "      <td>TGC</td>\n",
       "      <td>2</td>\n",
       "      <td>Tyrosine</td>\n",
       "      <td>1273</td>\n",
       "      <td>Cysteine</td>\n",
       "      <td>Y</td>\n",
       "      <td>C</td>\n",
       "      <td>Missense</td>\n",
       "      <td>1</td>\n",
       "      <td>2</td>\n",
       "      <td>TATTACCGCAGGGGGGACCGGG</td>\n",
       "      <td>seq:3828</td>\n",
       "      <td>+</td>\n",
       "      <td>65</td>\n",
       "      <td>0</td>\n",
       "      <td>1</td>\n",
       "      <td>0</td>\n",
       "      <td>0</td>\n",
       "      <td>1</td>\n",
       "      <td>0.0</td>\n",
       "      <td>3828</td>\n",
       "      <td>CLIPLTK_1653</td>\n",
       "      <td>677</td>\n",
       "      <td>-1</td>\n",
       "      <td>Y677C</td>\n",
       "    </tr>\n",
       "    <tr>\n",
       "      <th>4</th>\n",
       "      <td>TATTACCGCAGGGGGGACCG</td>\n",
       "      <td>pos</td>\n",
       "      <td>GGC</td>\n",
       "      <td>6</td>\n",
       "      <td>3848</td>\n",
       "      <td>CBE</td>\n",
       "      <td>TAC</td>\n",
       "      <td>TAT</td>\n",
       "      <td>3</td>\n",
       "      <td>Tyrosine</td>\n",
       "      <td>1273</td>\n",
       "      <td>Tyrosine</td>\n",
       "      <td>Y</td>\n",
       "      <td>Y</td>\n",
       "      <td>Silent</td>\n",
       "      <td>1</td>\n",
       "      <td>2</td>\n",
       "      <td>TATTACCGCAGGGGGGACCGGG</td>\n",
       "      <td>seq:3828</td>\n",
       "      <td>+</td>\n",
       "      <td>65</td>\n",
       "      <td>0</td>\n",
       "      <td>1</td>\n",
       "      <td>0</td>\n",
       "      <td>0</td>\n",
       "      <td>1</td>\n",
       "      <td>0.0</td>\n",
       "      <td>3828</td>\n",
       "      <td>CLIPLTK_1653</td>\n",
       "      <td>677</td>\n",
       "      <td>-1</td>\n",
       "      <td>Y677Y</td>\n",
       "    </tr>\n",
       "  </tbody>\n",
       "</table>\n",
       "</div>"
      ],
      "text/plain": [
       "              sgRNA Seq Strand_x  PAM sgRNA_Nuc  BE Nuc Type Cod_seq New_cod  \\\n",
       "0  GGGATATTGCCGCCCGGAAC      pos  TGC         4    3745  ABE     GAT     GGT   \n",
       "1  GGGATATTGCCGCCCGGAAC      pos  TGC         6    3747  ABE     ATT     GTT   \n",
       "2  GGGATATTGCCGCCCGGAAC      pos  TGC        10    3751  CBE     GCC     GTC   \n",
       "3  TATTACCGCAGGGGGGACCG      pos  GGC         5    3847  ABE     TAC     TGC   \n",
       "4  TATTACCGCAGGGGGGACCG      pos  GGC         6    3848  CBE     TAC     TAT   \n",
       "\n",
       "  Cod_nuc     Old_cod_ID  BE_Target_AA New_cod_ID Old_cod_Letter  \\\n",
       "0       2  Aspartic_acid          1239    Glycine              D   \n",
       "1       1     Isoleucine          1240     Valine              I   \n",
       "2       2        Alanine          1241     Valine              A   \n",
       "3       2       Tyrosine          1273   Cysteine              Y   \n",
       "4       3       Tyrosine          1273   Tyrosine              Y   \n",
       "\n",
       "  New_cod_Letter     Class  index  Rank         Target sequence  \\\n",
       "0              G  Missense      0     1  GGGATATTGCCGCCCGGAACTG   \n",
       "1              V  Missense      0     1  GGGATATTGCCGCCCGGAACTG   \n",
       "2              V  Missense      0     1  GGGATATTGCCGCCCGGAACTG   \n",
       "3              C  Missense      1     2  TATTACCGCAGGGGGGACCGGG   \n",
       "4              Y    Silent      1     2  TATTACCGCAGGGGGGACCGGG   \n",
       "\n",
       "  Genomic location Strand_y  GC content (%)  Self-complementarity  MM0  MM1  \\\n",
       "0         seq:3727        +              65                     0    1    0   \n",
       "1         seq:3727        +              65                     0    1    0   \n",
       "2         seq:3727        +              65                     0    1    0   \n",
       "3         seq:3828        +              65                     0    1    0   \n",
       "4         seq:3828        +              65                     0    1    0   \n",
       "\n",
       "   MM2 MM3  Efficiency  Seq Location        sgNAME  LTK AA  CLIP1 AA Mutation  \n",
       "0    0   0         0.0          3727  CLIPLTK_1599     643        -1    D643G  \n",
       "1    0   0         0.0          3727  CLIPLTK_1599     644        -1    I644V  \n",
       "2    0   0         0.0          3727  CLIPLTK_1599     645        -1    A645V  \n",
       "3    0   1         0.0          3828  CLIPLTK_1653     677        -1    Y677C  \n",
       "4    0   1         0.0          3828  CLIPLTK_1653     677        -1    Y677Y  "
      ]
     },
     "execution_count": 317,
     "metadata": {},
     "output_type": "execute_result"
    }
   ],
   "source": [
    "BE_sgRNA_Class_Labeled.head()"
   ]
  },
  {
   "cell_type": "code",
   "execution_count": 338,
   "metadata": {},
   "outputs": [],
   "source": [
    "BE_sgRNA_Classes_Short = BE_sgRNA_Class_Labeled[['sgNAME','Type', 'BE_Target_AA', 'Class']]"
   ]
  },
  {
   "cell_type": "code",
   "execution_count": 339,
   "metadata": {},
   "outputs": [
    {
     "data": {
      "text/html": [
       "<div>\n",
       "<style scoped>\n",
       "    .dataframe tbody tr th:only-of-type {\n",
       "        vertical-align: middle;\n",
       "    }\n",
       "\n",
       "    .dataframe tbody tr th {\n",
       "        vertical-align: top;\n",
       "    }\n",
       "\n",
       "    .dataframe thead th {\n",
       "        text-align: right;\n",
       "    }\n",
       "</style>\n",
       "<table border=\"1\" class=\"dataframe\">\n",
       "  <thead>\n",
       "    <tr style=\"text-align: right;\">\n",
       "      <th></th>\n",
       "      <th>sgNAME</th>\n",
       "      <th>Type</th>\n",
       "      <th>BE_Target_AA</th>\n",
       "      <th>Class</th>\n",
       "    </tr>\n",
       "  </thead>\n",
       "  <tbody>\n",
       "    <tr>\n",
       "      <th>0</th>\n",
       "      <td>CLIPLTK_1599</td>\n",
       "      <td>ABE</td>\n",
       "      <td>1239</td>\n",
       "      <td>Missense</td>\n",
       "    </tr>\n",
       "    <tr>\n",
       "      <th>1</th>\n",
       "      <td>CLIPLTK_1599</td>\n",
       "      <td>ABE</td>\n",
       "      <td>1240</td>\n",
       "      <td>Missense</td>\n",
       "    </tr>\n",
       "    <tr>\n",
       "      <th>2</th>\n",
       "      <td>CLIPLTK_1599</td>\n",
       "      <td>CBE</td>\n",
       "      <td>1241</td>\n",
       "      <td>Missense</td>\n",
       "    </tr>\n",
       "    <tr>\n",
       "      <th>3</th>\n",
       "      <td>CLIPLTK_1653</td>\n",
       "      <td>ABE</td>\n",
       "      <td>1273</td>\n",
       "      <td>Missense</td>\n",
       "    </tr>\n",
       "    <tr>\n",
       "      <th>4</th>\n",
       "      <td>CLIPLTK_1653</td>\n",
       "      <td>CBE</td>\n",
       "      <td>1273</td>\n",
       "      <td>Silent</td>\n",
       "    </tr>\n",
       "  </tbody>\n",
       "</table>\n",
       "</div>"
      ],
      "text/plain": [
       "         sgNAME Type  BE_Target_AA     Class\n",
       "0  CLIPLTK_1599  ABE          1239  Missense\n",
       "1  CLIPLTK_1599  ABE          1240  Missense\n",
       "2  CLIPLTK_1599  CBE          1241  Missense\n",
       "3  CLIPLTK_1653  ABE          1273  Missense\n",
       "4  CLIPLTK_1653  CBE          1273    Silent"
      ]
     },
     "execution_count": 339,
     "metadata": {},
     "output_type": "execute_result"
    }
   ],
   "source": [
    "BE_sgRNA_Classes_Short.head()"
   ]
  },
  {
   "cell_type": "code",
   "execution_count": 352,
   "metadata": {},
   "outputs": [],
   "source": [
    "#concatenate classes for each sgRNA\n",
    "BE_sgRNA_Classes_Short_MultiClass = BE_sgRNA_Classes_Short.groupby(['sgNAME', 'Type']).agg(', '.join)\n",
    "#concatenate classes for each type of Base Editor Class\n",
    "BE_sgRNA_Classes_Short_AAvClass =  BE_sgRNA_Classes_Short.groupby(['sgNAME', 'Type','Class']).mean()"
   ]
  },
  {
   "cell_type": "markdown",
   "metadata": {},
   "source": [
    "### Fin Class1 = Negative Control > iSTOP/Silence > Missense > Silent\n",
    "### Fin Class2 = Negative Control > Missense > iSTOP/Silence > Silent"
   ]
  },
  {
   "cell_type": "code",
   "execution_count": 353,
   "metadata": {},
   "outputs": [],
   "source": [
    "#For depletion, nonsense varients I expect likely to show up thefore Fin Class 1\n",
    "#For enrichment, rare missense varients I expect likely to show up thefore Fin Class 2"
   ]
  },
  {
   "cell_type": "code",
   "execution_count": 354,
   "metadata": {},
   "outputs": [],
   "source": [
    "BE_sgRNA_Classes_Short_MultiClass['Final Class1'] = 'No Class'\n",
    "BE_sgRNA_Classes_Short_MultiClass.loc[BE_sgRNA_Classes_Short_MultiClass['Class'].str.contains('Silent'), 'Final Class1'] = 'Silent'\n",
    "BE_sgRNA_Classes_Short_MultiClass.loc[BE_sgRNA_Classes_Short_MultiClass['Class'].str.contains('Missense'), 'Final Class1'] = 'Missense'\n",
    "BE_sgRNA_Classes_Short_MultiClass.loc[BE_sgRNA_Classes_Short_MultiClass['Class'].str.contains('iSilence'), 'Final Class1'] = 'iSilence'\n",
    "BE_sgRNA_Classes_Short_MultiClass.loc[BE_sgRNA_Classes_Short_MultiClass['Class'].str.contains('iStop'), 'Final Class1'] = 'iStop'\n",
    "BE_sgRNA_Classes_Short_MultiClass.loc[BE_sgRNA_Classes_Short_MultiClass['Class'].str.contains('Negative Control'), 'Final Class1'] = 'Negative Control'\n",
    "BE_sgRNA_Classes_Short_MultiClass['Final Class2'] = 'No Class'\n",
    "BE_sgRNA_Classes_Short_MultiClass.loc[BE_sgRNA_Classes_Short_MultiClass['Class'].str.contains('Silent'), 'Final Class2'] = 'Silent'\n",
    "BE_sgRNA_Classes_Short_MultiClass.loc[BE_sgRNA_Classes_Short_MultiClass['Class'].str.contains('iSilence'), 'Final Class2'] = 'iSilence'\n",
    "BE_sgRNA_Classes_Short_MultiClass.loc[BE_sgRNA_Classes_Short_MultiClass['Class'].str.contains('iStop'), 'Final Class2'] = 'iStop'\n",
    "BE_sgRNA_Classes_Short_MultiClass.loc[BE_sgRNA_Classes_Short_MultiClass['Class'].str.contains('Missense'), 'Final Class2'] = 'Missense'\n",
    "BE_sgRNA_Classes_Short_MultiClass.loc[BE_sgRNA_Classes_Short_MultiClass['Class'].str.contains('Negative Control'), 'Final Class2'] = 'Negative Control'"
   ]
  },
  {
   "cell_type": "code",
   "execution_count": 369,
   "metadata": {},
   "outputs": [
    {
     "data": {
      "text/html": [
       "<div>\n",
       "<style scoped>\n",
       "    .dataframe tbody tr th:only-of-type {\n",
       "        vertical-align: middle;\n",
       "    }\n",
       "\n",
       "    .dataframe tbody tr th {\n",
       "        vertical-align: top;\n",
       "    }\n",
       "\n",
       "    .dataframe thead th {\n",
       "        text-align: right;\n",
       "    }\n",
       "</style>\n",
       "<table border=\"1\" class=\"dataframe\">\n",
       "  <thead>\n",
       "    <tr style=\"text-align: right;\">\n",
       "      <th></th>\n",
       "      <th></th>\n",
       "      <th>Class</th>\n",
       "      <th>Final Class1</th>\n",
       "      <th>Final Class2</th>\n",
       "    </tr>\n",
       "    <tr>\n",
       "      <th>sgNAME</th>\n",
       "      <th>Type</th>\n",
       "      <th></th>\n",
       "      <th></th>\n",
       "      <th></th>\n",
       "    </tr>\n",
       "  </thead>\n",
       "  <tbody>\n",
       "    <tr>\n",
       "      <th rowspan=\"2\" valign=\"top\">CLIPLTK_0</th>\n",
       "      <th>ABE</th>\n",
       "      <td>iSilence, Silent</td>\n",
       "      <td>iSilence</td>\n",
       "      <td>iSilence</td>\n",
       "    </tr>\n",
       "    <tr>\n",
       "      <th>CBE</th>\n",
       "      <td>Missense, Missense</td>\n",
       "      <td>Missense</td>\n",
       "      <td>Missense</td>\n",
       "    </tr>\n",
       "    <tr>\n",
       "      <th rowspan=\"2\" valign=\"top\">CLIPLTK_1</th>\n",
       "      <th>ABE</th>\n",
       "      <td>Negative Control, Negative Control</td>\n",
       "      <td>Negative Control</td>\n",
       "      <td>Negative Control</td>\n",
       "    </tr>\n",
       "    <tr>\n",
       "      <th>CBE</th>\n",
       "      <td>Negative Control, Negative Control</td>\n",
       "      <td>Negative Control</td>\n",
       "      <td>Negative Control</td>\n",
       "    </tr>\n",
       "    <tr>\n",
       "      <th>CLIPLTK_10</th>\n",
       "      <th>ABE</th>\n",
       "      <td>Silent, Missense, Missense, Silent</td>\n",
       "      <td>Missense</td>\n",
       "      <td>Missense</td>\n",
       "    </tr>\n",
       "  </tbody>\n",
       "</table>\n",
       "</div>"
      ],
      "text/plain": [
       "                                              Class      Final Class1  \\\n",
       "sgNAME     Type                                                         \n",
       "CLIPLTK_0  ABE                     iSilence, Silent          iSilence   \n",
       "           CBE                   Missense, Missense          Missense   \n",
       "CLIPLTK_1  ABE   Negative Control, Negative Control  Negative Control   \n",
       "           CBE   Negative Control, Negative Control  Negative Control   \n",
       "CLIPLTK_10 ABE   Silent, Missense, Missense, Silent          Missense   \n",
       "\n",
       "                     Final Class2  \n",
       "sgNAME     Type                    \n",
       "CLIPLTK_0  ABE           iSilence  \n",
       "           CBE           Missense  \n",
       "CLIPLTK_1  ABE   Negative Control  \n",
       "           CBE   Negative Control  \n",
       "CLIPLTK_10 ABE           Missense  "
      ]
     },
     "execution_count": 369,
     "metadata": {},
     "output_type": "execute_result"
    }
   ],
   "source": [
    "BE_sgRNA_Classes_Short_MultiClass.head()"
   ]
  },
  {
   "cell_type": "code",
   "execution_count": 358,
   "metadata": {},
   "outputs": [
    {
     "data": {
      "text/plain": [
       "Index(['Silent', 'iSilence', 'Missense', 'Negative Control',\n",
       "       'Negative Control', 'Missense', 'Silent', 'Missense', 'Missense',\n",
       "       'Silent',\n",
       "       ...\n",
       "       'Silent', 'Missense', 'Silent', 'Missense', 'Silent', 'iStop', 'Silent',\n",
       "       'Missense', 'Silent', 'Missense'],\n",
       "      dtype='object', name='Class', length=5506)"
      ]
     },
     "execution_count": 358,
     "metadata": {},
     "output_type": "execute_result"
    }
   ],
   "source": [
    "BE_sgRNA_Classes_Short_AAvClass.index.get_level_values(2) "
   ]
  },
  {
   "cell_type": "code",
   "execution_count": 426,
   "metadata": {},
   "outputs": [],
   "source": [
    "BE_sgRNA_Classes_Short_AAvClass_reindexed = BE_sgRNA_Classes_Short_AAvClass.reset_index()\n",
    "BE_sgRNA_Classes_Short_MultiClass_reindexed = BE_sgRNA_Classes_Short_MultiClass.reset_index()"
   ]
  },
  {
   "cell_type": "code",
   "execution_count": 428,
   "metadata": {},
   "outputs": [],
   "source": [
    "BE_sgRNA_FinClass_AVE = pd.merge(BE_sgRNA_Classes_Short_MultiClass_reindexed, BE_sgRNA_Classes_Short_AAvClass_reindexed, left_on=['sgNAME', 'Type', 'Final Class1'], right_on=['sgNAME', 'Type', 'Class'], how='inner')\n",
    "BE_sgRNA_FinClass_AVE = pd.merge(BE_sgRNA_FinClass_AVE, BE_sgRNA_Classes_Short_AAvClass_reindexed, left_on=['sgNAME', 'Type', 'Final Class2'], right_on=['sgNAME', 'Type', 'Class'], how='inner')"
   ]
  },
  {
   "cell_type": "code",
   "execution_count": 429,
   "metadata": {},
   "outputs": [],
   "source": [
    "BE_sgRNA_FinClass_AVE = pd.merge(BE_sgRNA_FinClass_AVE, BE_sgRNA_Classes_Short_AAvClass_reindexed, left_on=['sgNAME', 'Type', 'Final Class2'], right_on=['sgNAME', 'Type', 'Class'], how='inner')"
   ]
  },
  {
   "cell_type": "code",
   "execution_count": 434,
   "metadata": {},
   "outputs": [
    {
     "data": {
      "text/plain": [
       "sgNAME                        CLIPLTK_101\n",
       "Type                                  CBE\n",
       "Class_x           Missense, Silent, iStop\n",
       "Final Class1                        iStop\n",
       "Final Class2                     Missense\n",
       "Class_y                             iStop\n",
       "BE_Target_AA_x                         81\n",
       "Class                            Missense\n",
       "BE_Target_AA_y                         80\n",
       "Name: 29, dtype: object"
      ]
     },
     "execution_count": 434,
     "metadata": {},
     "output_type": "execute_result"
    }
   ],
   "source": [
    "#Example of diffrent averages for each classification\n",
    "BE_sgRNA_FinClass_AVE.iloc[29]"
   ]
  },
  {
   "cell_type": "code",
   "execution_count": 440,
   "metadata": {},
   "outputs": [
    {
     "data": {
      "text/html": [
       "<div>\n",
       "<style scoped>\n",
       "    .dataframe tbody tr th:only-of-type {\n",
       "        vertical-align: middle;\n",
       "    }\n",
       "\n",
       "    .dataframe tbody tr th {\n",
       "        vertical-align: top;\n",
       "    }\n",
       "\n",
       "    .dataframe thead th {\n",
       "        text-align: right;\n",
       "    }\n",
       "</style>\n",
       "<table border=\"1\" class=\"dataframe\">\n",
       "  <thead>\n",
       "    <tr style=\"text-align: right;\">\n",
       "      <th></th>\n",
       "      <th>sgRNA Seq</th>\n",
       "      <th>Strand_x</th>\n",
       "      <th>PAM</th>\n",
       "      <th>sgRNA_Nuc</th>\n",
       "      <th>BE Nuc</th>\n",
       "      <th>Type</th>\n",
       "      <th>Cod_seq</th>\n",
       "      <th>New_cod</th>\n",
       "      <th>Cod_nuc</th>\n",
       "      <th>Old_cod_ID</th>\n",
       "      <th>BE_Target_AA</th>\n",
       "      <th>New_cod_ID</th>\n",
       "      <th>Old_cod_Letter</th>\n",
       "      <th>New_cod_Letter</th>\n",
       "      <th>Class</th>\n",
       "      <th>index</th>\n",
       "      <th>Rank</th>\n",
       "      <th>Target sequence</th>\n",
       "      <th>Genomic location</th>\n",
       "      <th>Strand_y</th>\n",
       "      <th>GC content (%)</th>\n",
       "      <th>Self-complementarity</th>\n",
       "      <th>MM0</th>\n",
       "      <th>MM1</th>\n",
       "      <th>MM2</th>\n",
       "      <th>MM3</th>\n",
       "      <th>Efficiency</th>\n",
       "      <th>Seq Location</th>\n",
       "      <th>sgNAME</th>\n",
       "      <th>LTK AA</th>\n",
       "      <th>CLIP1 AA</th>\n",
       "      <th>Mutation</th>\n",
       "    </tr>\n",
       "  </thead>\n",
       "  <tbody>\n",
       "    <tr>\n",
       "      <th>2845</th>\n",
       "      <td>GGAGAAACCCAGTTTGCACC</td>\n",
       "      <td>pos</td>\n",
       "      <td>AGG</td>\n",
       "      <td>8</td>\n",
       "      <td>268</td>\n",
       "      <td>CBE</td>\n",
       "      <td>ACC</td>\n",
       "      <td>ATC</td>\n",
       "      <td>2</td>\n",
       "      <td>Threonine</td>\n",
       "      <td>80</td>\n",
       "      <td>Isoleucine</td>\n",
       "      <td>T</td>\n",
       "      <td>I</td>\n",
       "      <td>Missense</td>\n",
       "      <td>689</td>\n",
       "      <td>690</td>\n",
       "      <td>GGAGAAACCCAGTTTGCACCAG</td>\n",
       "      <td>seq:246</td>\n",
       "      <td>+</td>\n",
       "      <td>55</td>\n",
       "      <td>0</td>\n",
       "      <td>1</td>\n",
       "      <td>0</td>\n",
       "      <td>1</td>\n",
       "      <td>46</td>\n",
       "      <td>0.0</td>\n",
       "      <td>246</td>\n",
       "      <td>CLIPLTK_101</td>\n",
       "      <td>-1</td>\n",
       "      <td>80</td>\n",
       "      <td>T80I</td>\n",
       "    </tr>\n",
       "    <tr>\n",
       "      <th>2846</th>\n",
       "      <td>GGAGAAACCCAGTTTGCACC</td>\n",
       "      <td>pos</td>\n",
       "      <td>AGG</td>\n",
       "      <td>9</td>\n",
       "      <td>269</td>\n",
       "      <td>CBE</td>\n",
       "      <td>ACC</td>\n",
       "      <td>ACT</td>\n",
       "      <td>3</td>\n",
       "      <td>Threonine</td>\n",
       "      <td>80</td>\n",
       "      <td>Threonine</td>\n",
       "      <td>T</td>\n",
       "      <td>T</td>\n",
       "      <td>Silent</td>\n",
       "      <td>689</td>\n",
       "      <td>690</td>\n",
       "      <td>GGAGAAACCCAGTTTGCACCAG</td>\n",
       "      <td>seq:246</td>\n",
       "      <td>+</td>\n",
       "      <td>55</td>\n",
       "      <td>0</td>\n",
       "      <td>1</td>\n",
       "      <td>0</td>\n",
       "      <td>1</td>\n",
       "      <td>46</td>\n",
       "      <td>0.0</td>\n",
       "      <td>246</td>\n",
       "      <td>CLIPLTK_101</td>\n",
       "      <td>-1</td>\n",
       "      <td>80</td>\n",
       "      <td>T80T</td>\n",
       "    </tr>\n",
       "    <tr>\n",
       "      <th>2847</th>\n",
       "      <td>GGAGAAACCCAGTTTGCACC</td>\n",
       "      <td>pos</td>\n",
       "      <td>AGG</td>\n",
       "      <td>10</td>\n",
       "      <td>270</td>\n",
       "      <td>CBE</td>\n",
       "      <td>CAG</td>\n",
       "      <td>TAG</td>\n",
       "      <td>1</td>\n",
       "      <td>Glutamine</td>\n",
       "      <td>81</td>\n",
       "      <td>Stop</td>\n",
       "      <td>Q</td>\n",
       "      <td>O</td>\n",
       "      <td>iStop</td>\n",
       "      <td>689</td>\n",
       "      <td>690</td>\n",
       "      <td>GGAGAAACCCAGTTTGCACCAG</td>\n",
       "      <td>seq:246</td>\n",
       "      <td>+</td>\n",
       "      <td>55</td>\n",
       "      <td>0</td>\n",
       "      <td>1</td>\n",
       "      <td>0</td>\n",
       "      <td>1</td>\n",
       "      <td>46</td>\n",
       "      <td>0.0</td>\n",
       "      <td>246</td>\n",
       "      <td>CLIPLTK_101</td>\n",
       "      <td>-1</td>\n",
       "      <td>81</td>\n",
       "      <td>Q81O</td>\n",
       "    </tr>\n",
       "  </tbody>\n",
       "</table>\n",
       "</div>"
      ],
      "text/plain": [
       "                 sgRNA Seq Strand_x  PAM sgRNA_Nuc  BE Nuc Type Cod_seq  \\\n",
       "2845  GGAGAAACCCAGTTTGCACC      pos  AGG         8     268  CBE     ACC   \n",
       "2846  GGAGAAACCCAGTTTGCACC      pos  AGG         9     269  CBE     ACC   \n",
       "2847  GGAGAAACCCAGTTTGCACC      pos  AGG        10     270  CBE     CAG   \n",
       "\n",
       "     New_cod Cod_nuc Old_cod_ID  BE_Target_AA  New_cod_ID Old_cod_Letter  \\\n",
       "2845     ATC       2  Threonine            80  Isoleucine              T   \n",
       "2846     ACT       3  Threonine            80   Threonine              T   \n",
       "2847     TAG       1  Glutamine            81        Stop              Q   \n",
       "\n",
       "     New_cod_Letter     Class  index  Rank         Target sequence  \\\n",
       "2845              I  Missense    689   690  GGAGAAACCCAGTTTGCACCAG   \n",
       "2846              T    Silent    689   690  GGAGAAACCCAGTTTGCACCAG   \n",
       "2847              O     iStop    689   690  GGAGAAACCCAGTTTGCACCAG   \n",
       "\n",
       "     Genomic location Strand_y  GC content (%)  Self-complementarity  MM0  \\\n",
       "2845          seq:246        +              55                     0    1   \n",
       "2846          seq:246        +              55                     0    1   \n",
       "2847          seq:246        +              55                     0    1   \n",
       "\n",
       "      MM1  MM2 MM3  Efficiency  Seq Location       sgNAME  LTK AA  CLIP1 AA  \\\n",
       "2845    0    1  46         0.0           246  CLIPLTK_101      -1        80   \n",
       "2846    0    1  46         0.0           246  CLIPLTK_101      -1        80   \n",
       "2847    0    1  46         0.0           246  CLIPLTK_101      -1        81   \n",
       "\n",
       "     Mutation  \n",
       "2845     T80I  \n",
       "2846     T80T  \n",
       "2847     Q81O  "
      ]
     },
     "execution_count": 440,
     "metadata": {},
     "output_type": "execute_result"
    }
   ],
   "source": [
    "BE_sgRNA_Class_Labeled.loc[(BE_sgRNA_Class_Labeled['sgNAME']=='CLIPLTK_101') & (BE_sgRNA_Class_Labeled['Type']=='CBE')]"
   ]
  },
  {
   "cell_type": "code",
   "execution_count": 446,
   "metadata": {},
   "outputs": [],
   "source": [
    "BE_sgRNA_FinClass_AVE_matched = BE_sgRNA_FinClass_AVE[['sgNAME', 'Type', 'Final Class1', 'BE_Target_AA_x', 'Final Class2', 'BE_Target_AA_y']]\n",
    "#Change Names\n",
    "new_col = ['sgNAME', 'Type', 'Final_Class1', 'BE_Target_AA_1', 'Final_Class2', 'BE_Target_AA_2']\n",
    "BE_sgRNA_FinClass_AVE_matched.columns = new_col"
   ]
  },
  {
   "cell_type": "code",
   "execution_count": 448,
   "metadata": {},
   "outputs": [],
   "source": [
    "BE_sgRNA_FinClass_AVE_matched.to_csv('CLIP1LTK Screen sgRNA single class and AA position 20220904.csv')"
   ]
  },
  {
   "cell_type": "code",
   "execution_count": 449,
   "metadata": {},
   "outputs": [],
   "source": [
    "BE_sgRNA_Class_Labeled2 = BE_sgRNA_Class_Labeled.merge(BE_sgRNA_FinClass_AVE_matched, on='sgNAME')"
   ]
  },
  {
   "cell_type": "code",
   "execution_count": 451,
   "metadata": {},
   "outputs": [],
   "source": [
    "BE_sgRNA_Class_Labeled2.to_csv('CLIP1-LTK NG sgRNA Predicted Mutagenesis Classed Labeled with Final Class 20220904.csv')"
   ]
  },
  {
   "cell_type": "code",
   "execution_count": null,
   "metadata": {},
   "outputs": [],
   "source": []
  }
 ],
 "metadata": {
  "kernelspec": {
   "display_name": "Python 3 (ipykernel)",
   "language": "python",
   "name": "python3"
  },
  "language_info": {
   "codemirror_mode": {
    "name": "ipython",
    "version": 3
   },
   "file_extension": ".py",
   "mimetype": "text/x-python",
   "name": "python",
   "nbconvert_exporter": "python",
   "pygments_lexer": "ipython3",
   "version": "3.7.12"
  }
 },
 "nbformat": 4,
 "nbformat_minor": 2
}
