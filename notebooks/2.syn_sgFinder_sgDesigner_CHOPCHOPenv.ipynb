{
 "cells": [
  {
   "cell_type": "code",
   "execution_count": null,
   "id": "2e029c25",
   "metadata": {},
   "outputs": [],
   "source": [
    "# This is the consequence processor for sgRNA designed by CHOP CHOP\n",
    "# This notebook will process the local chopchop output and is tied to the source function sgFinder\n",
    "# Author: Yiyun\n",
    "# Date: Sep, 2022"
   ]
  },
  {
   "cell_type": "code",
   "execution_count": 68,
   "id": "1c0ccd22",
   "metadata": {},
   "outputs": [],
   "source": [
    "# from os import listdir\n",
    "# from os.path import join\n",
    "# import itertools\n",
    "# import pandas as pd \n",
    "# from tqdm import tqdm\n",
    "# import pickle\n",
    "# from Bio import SeqIO\n",
    "\n",
    "from os.path import exists\n",
    "from os import listdir,makedirs\n",
    "\n",
    "import sys\n",
    "sys.path.append('../')\n",
    "from src import syn_sgFinder"
   ]
  },
  {
   "cell_type": "code",
   "execution_count": 34,
   "id": "cf035e10",
   "metadata": {
    "scrolled": true
   },
   "outputs": [
    {
     "name": "stdout",
     "output_type": "stream",
     "text": [
      "The autoreload extension is already loaded. To reload it, use:\n",
      "  %reload_ext autoreload\n"
     ]
    }
   ],
   "source": [
    "%load_ext autoreload\n",
    "%autoreload 2"
   ]
  },
  {
   "cell_type": "code",
   "execution_count": 23,
   "id": "7c876bb7",
   "metadata": {},
   "outputs": [],
   "source": [
    "out_path = '../data/output/sg_Finder'\n",
    "mrna_path = '../data/MANE'\n",
    "fpath = '../data/output/sg_out/'\n",
    "\n",
    "# Load all expressed transcripts\n",
    "f_genelist = pd.read_csv('../data/output/gene_list.txt', header =None)\n",
    "list_exp_trsp = pickle.load(open('../data/22Q2_gene_effect/expressed_transcripts.pkl','rb'))\n",
    "# Parse mRNA sequence dictionary, for use when sequence aligned to intron-exon junctions\n",
    "record_dict = SeqIO.to_dict(SeqIO.parse(join(mrna_path,'GRCh38_latest_rna.fna'), \"fasta\"))"
   ]
  },
  {
   "cell_type": "code",
   "execution_count": 76,
   "id": "dc15d1e1",
   "metadata": {},
   "outputs": [],
   "source": [
    "def run_sgFinder(input_genes, tag = 'ess', sg_p ='../data/output/sg_out' ):\n",
    "    out_path = '../data/output/sg_Finder'\n",
    "    \n",
    "    df_synsg_abe = pd.DataFrame()\n",
    "    df_synsg_cbe = pd.DataFrame()\n",
    "    df_abeCT = pd.DataFrame()\n",
    "    df_cbeCT = pd.DataFrame()\n",
    "\n",
    "    for genes in tqdm(input_genes):\n",
    "        sg_gene = syn_sgFinder.sgFinder_gene(genes, sg_path = sg_p)\n",
    "        try:\n",
    "            sg_gene.gene_cds_proc()\n",
    "        except ValueError as e:\n",
    "            print(e)\n",
    "            continue\n",
    "\n",
    "        df_synsg_abe_dt = pd.DataFrame()\n",
    "        df_synsg_cbe_dt = pd.DataFrame()\n",
    "        for idx, transcripts in list(itertools.product(sg_gene.sg_file.index,\\\n",
    "                                                           sg_gene.dict_exons.keys())):\n",
    "            if not transcripts in list_exp_trsp:\n",
    "    #             print(f'{transcripts} not expressed, skipping...')\n",
    "                continue # Pass the transcripts that are not expressed\n",
    "            else:\n",
    "                sg_sg = syn_sgFinder.sgFinder_sg(sg_gene.gene,idx)\n",
    "                check_point = sg_sg.process_BE_window(sg_gene)\n",
    "                if check_point:\n",
    "                    sg_trsp = syn_sgFinder.sgFinder_transcript(sg_gene.gene,idx,transcripts)\n",
    "                    sg_trsp.all_pos_consq(sg_gene,sg_sg,record_dict)\n",
    "\n",
    "                    df_synsg_abe = df_synsg_abe.append(sg_trsp.df_abe,ignore_index = True)\n",
    "                    df_synsg_cbe = df_synsg_cbe.append(sg_trsp.df_cbe,ignore_index = True)\n",
    "\n",
    "                    df_abeCT = df_abeCT.append(sg_trsp.df_abe_control,ignore_index = True)\n",
    "                    df_cbeCT = df_cbeCT.append(sg_trsp.df_cbe_control,ignore_index = True)\n",
    "\n",
    "                    df_synsg_abe_dt = df_synsg_abe_dt.append(sg_trsp.df_abe_ind,ignore_index = True)\n",
    "                    df_synsg_cbe_dt = df_synsg_cbe_dt.append(sg_trsp.df_cbe_ind,ignore_index = True)\n",
    "\n",
    "        df_synsg_abe_dt.to_csv(join(out_path,genes,f'df_abe_detail.csv'))\n",
    "        df_synsg_cbe_dt.to_csv(join(out_path,genes,f'df_cbe_detail.csv'))\n",
    "    \n",
    "    # Process and saving final result\n",
    "    ABE_synsg = df_synsg_abe[df_synsg_abe['syn_or_not'].apply(lambda x: \\\n",
    "                                                              all([i=='True' for i in x.split(\"[\")[1].split(']')[0].split(',')]))]\n",
    "    CBE_synsg= df_synsg_cbe[df_synsg_cbe['syn_or_not'].apply(lambda x: \\\n",
    "                                                  all([i=='True' for i in x.split(\"[\")[1].split(']')[0].split(',')]))]\n",
    "    \n",
    "    if not exists(join(out_path,tag)):\n",
    "        makedirs(join(out_path,tag))\n",
    "    ABE_synsg.to_csv(join(out_path,tag,'ABE_synsg.csv'))\n",
    "    CBE_synsg.to_csv(join(out_path,tag,'CBE_synsg.csv'))\n",
    "\n",
    "    df_abeCT.to_csv(join(out_path,tag,'ABE_CT.csv'))\n",
    "    df_cbeCT.to_csv(join(out_path,tag,'CBE_CT.csv'))"
   ]
  },
  {
   "cell_type": "markdown",
   "id": "a9a13c35",
   "metadata": {},
   "source": [
    "***Run essential + depletion gene list***"
   ]
  },
  {
   "cell_type": "code",
   "execution_count": 74,
   "id": "ecfab450",
   "metadata": {
    "scrolled": true
   },
   "outputs": [
    {
     "name": "stderr",
     "output_type": "stream",
     "text": [
      "\r",
      "  0%|                                                    | 0/92 [00:00<?, ?it/s]"
     ]
    },
    {
     "name": "stdout",
     "output_type": "stream",
     "text": [
      "Processing UBE2S...Keep 6/331 low off-target sgRNAs...\n",
      "Processing RRS1...Keep 501/587 low off-target sgRNAs...\n"
     ]
    },
    {
     "name": "stderr",
     "output_type": "stream",
     "text": [
      "\r",
      "  2%|▉                                           | 2/92 [00:05<03:57,  2.64s/it]"
     ]
    },
    {
     "name": "stdout",
     "output_type": "stream",
     "text": [
      "Processing PBX2...Keep 0/555 low off-target sgRNAs...\n",
      "Processing CSPG5...Keep 395/492 low off-target sgRNAs...\n",
      "47577601 is in start/stop codon ...skippingATGCCCCCTGC\n",
      "ATGCCCCCTGCCATTCCTGA in gene CSPG5 not aligned, skip...\n"
     ]
    },
    {
     "name": "stderr",
     "output_type": "stream",
     "text": [
      "\r",
      "  4%|█▉                                          | 4/92 [00:10<04:03,  2.77s/it]"
     ]
    },
    {
     "name": "stdout",
     "output_type": "stream",
     "text": [
      "Processing DAD1...Keep 125/140 low off-target sgRNAs...\n",
      "22589147 is in start/stop codon ...skippingATGTCGGCGTC\n",
      "ATGTCGGCGTCGGTAGTGTC in gene DAD1 not aligned, skip...\n"
     ]
    },
    {
     "name": "stderr",
     "output_type": "stream",
     "text": [
      "\r",
      "  5%|██▍                                         | 5/92 [00:13<03:46,  2.60s/it]"
     ]
    },
    {
     "name": "stdout",
     "output_type": "stream",
     "text": [
      "Processing ABHD17A...Keep 0/475 low off-target sgRNAs...\n",
      "Processing VPS51...Keep 873/1165 low off-target sgRNAs...\n",
      "GATCAGTTCCCAGTGACGCC in gene VPS51 not aligned, skip...\n",
      "Finding mrna sequence in another exon...\n",
      "Finding mrna sequence in another exon...\n",
      "CTTGTTGAACTCCACAGGGC in gene VPS51 not aligned, skip...\n",
      "Finding mrna sequence in another exon...\n",
      "Finding mrna sequence in another exon...\n",
      "Finding mrna sequence in another exon...\n"
     ]
    },
    {
     "name": "stderr",
     "output_type": "stream",
     "text": [
      "\r",
      "  8%|███▎                                        | 7/92 [00:23<05:13,  3.69s/it]"
     ]
    },
    {
     "name": "stdout",
     "output_type": "stream",
     "text": [
      "Processing GLRX5...Keep 116/244 low off-target sgRNAs...\n"
     ]
    },
    {
     "name": "stderr",
     "output_type": "stream",
     "text": [
      "\r",
      "  9%|███▊                                        | 8/92 [00:24<04:30,  3.22s/it]"
     ]
    },
    {
     "name": "stdout",
     "output_type": "stream",
     "text": [
      "Processing NUP160...Keep 190/216 low off-target sgRNAs...\n",
      "ACTCCTATACATCCGGGAGG in gene NUP160 not aligned, skip...\n",
      "47848348 is in start/stop codon ...skippingCGCCCAACGGA\n",
      "Finding mrna sequence in another exon...\n",
      "Finding extra sequence in mRNA failed, skip...\n",
      "47848357 is in start/stop codon ...skippingCAAAGGCAGGG\n",
      "47848357 is in start/stop codon ...skippingCAAAGGCAGGG\n",
      "47848357 is in start/stop codon ...skippingGAACAAAGGCA\n",
      "47848357 is in start/stop codon ...skippingGAACAAAGGCA\n",
      "47848353 is in start/stop codon ...skippingACGGAACAAAG\n",
      "47848353 is in start/stop codon ...skippingACGGAACAAAG\n",
      "47848349 is in start/stop codon ...skippingGCCCAACGGAA\n",
      "47848356 is in start/stop codon ...skippingGGAACAAAGGC\n",
      "47848356 is in start/stop codon ...skippingGGAACAAAGGC\n",
      "47848362 is in start/stop codon ...skippingAGGCAGGGCCG\n",
      "47848352 is in start/stop codon ...skippingCAACGGAACAA\n",
      "47848352 is in start/stop codon ...skippingCAACGGAACAA\n",
      "Finding mrna sequence in another exon...\n",
      "Finding extra sequence in mRNA failed, skip...\n"
     ]
    },
    {
     "name": "stderr",
     "output_type": "stream",
     "text": [
      "\r",
      " 10%|████▎                                       | 9/92 [00:26<03:57,  2.86s/it]"
     ]
    },
    {
     "name": "stdout",
     "output_type": "stream",
     "text": [
      "Processing YDJC...Keep 197/218 low off-target sgRNAs...\n",
      "CTGAGGCAAATCCACGTCTC in gene YDJC not aligned, skip...\n"
     ]
    },
    {
     "name": "stderr",
     "output_type": "stream",
     "text": [
      "\r",
      " 11%|████▋                                      | 10/92 [00:29<03:50,  2.81s/it]"
     ]
    },
    {
     "name": "stdout",
     "output_type": "stream",
     "text": [
      "Processing ZNHIT2...Keep 602/684 low off-target sgRNAs...\n",
      "65116454 is in start/stop codon ...skippingAGCTAGGGAGC\n",
      "Finding mrna sequence in another exon...\n",
      "Finding extra sequence in mRNA failed, skip...\n",
      "65116452 is in start/stop codon ...skippingTCAGCTAGGGA\n",
      "65116452 is in start/stop codon ...skippingTCAGCTAGGGA\n",
      "TCAGCTAGGGAGCTCCTCAA in gene ZNHIT2 not aligned, skip...\n",
      "65117643 is in start/stop codon ...skippingATGGAGCCGGC\n",
      "ATGGAGCCGGCCGGGCCCTG in gene ZNHIT2 not aligned, skip...\n"
     ]
    },
    {
     "name": "stderr",
     "output_type": "stream",
     "text": [
      " 13%|█████▌                                     | 12/92 [00:36<03:50,  2.89s/it]"
     ]
    },
    {
     "name": "stdout",
     "output_type": "stream",
     "text": [
      "Processing AK4...Keep 2/169 low off-target sgRNAs...\n",
      "Processing GRB2...Keep 169/199 low off-target sgRNAs...\n",
      "75320378 is in start/stop codon ...skippingTTAGACGTTCC\n",
      "75320378 is in start/stop codon ...skippingTAGACGTTCCG\n",
      "TAGACGTTCCGGTTCACGGG in gene GRB2 need sequence not included in fasta file...\n",
      "CTTGAGGATGTCCCCCCTTT in gene GRB2 not aligned, skip...\n",
      "75393619 is in start/stop codon ...skippingATGGAAGCCAT\n",
      "ATGGAAGCCATCGCCAAATA in gene GRB2 not aligned, skip...\n"
     ]
    },
    {
     "name": "stderr",
     "output_type": "stream",
     "text": [
      "\r",
      " 14%|██████                                     | 13/92 [00:38<03:29,  2.65s/it]"
     ]
    },
    {
     "name": "stdout",
     "output_type": "stream",
     "text": [
      "Finding mrna sequence in another exon...\n",
      "Finding extra sequence in mRNA failed, skip...\n",
      "Processing HS6ST1...Keep 2/679 low off-target sgRNAs...\n",
      "Processing ZBTB17...Keep 775/952 low off-target sgRNAs...\n",
      "CTCGCACTTGTGGATGACGG in gene ZBTB17 not aligned, skip...\n",
      "ATTCGTCCAGTCCAGCCAGT in gene ZBTB17 not aligned, skip...\n",
      "Finding mrna sequence in another exon...\n",
      "Finding extra sequence in mRNA failed, skip...\n",
      "CTGTGTGAATGCGGACGTGC in gene ZBTB17 not aligned, skip...\n",
      "Finding mrna sequence in another exon...\n",
      "Finding extra sequence in mRNA failed, skip...\n",
      "AAATGGAGGTGGAGCCCGCC in gene ZBTB17 not aligned, skip...\n",
      "Finding mrna sequence in another exon...\n",
      "Finding extra sequence in mRNA failed, skip...\n",
      "CGCTGGCCGCACTCTGGGCC in gene ZBTB17 not aligned, skip...\n",
      "Finding mrna sequence in another exon...\n",
      "Finding extra sequence in mRNA failed, skip...\n",
      "Finding mrna sequence in another exon...\n",
      "Finding extra sequence in mRNA failed, skip...\n",
      "AGGGGACAAGAGAGCCAAAG in gene ZBTB17 need sequence not included in fasta file...\n"
     ]
    },
    {
     "name": "stderr",
     "output_type": "stream",
     "text": [
      "\r",
      " 16%|███████                                    | 15/92 [00:48<04:48,  3.75s/it]"
     ]
    },
    {
     "name": "stdout",
     "output_type": "stream",
     "text": [
      "Processing MRPL37...Keep 387/502 low off-target sgRNAs...\n",
      "Finding mrna sequence in another exon...\n",
      "54200254 is in start/stop codon ...skippingATGGCATTGGC\n",
      "ATGGCATTGGCGTCCGGGCC in gene MRPL37 not aligned, skip...\n",
      "Finding mrna sequence in another exon...\n",
      "Finding mrna sequence in another exon...\n",
      "AGTCTCTTCTCCTTCAAGTC in gene MRPL37 not aligned, skip...\n"
     ]
    },
    {
     "name": "stderr",
     "output_type": "stream",
     "text": [
      "\r",
      " 17%|███████▍                                   | 16/92 [00:53<05:03,  3.99s/it]"
     ]
    },
    {
     "name": "stdout",
     "output_type": "stream",
     "text": [
      "Processing UPF1...Keep 1285/1467 low off-target sgRNAs...\n",
      "TATCAGGGACCTTGATGACG in gene UPF1 not aligned, skip...\n",
      "Finding mrna sequence in another exon...\n",
      "GACCGAGGCTGCGAACGTGG in gene UPF1 not aligned, skip...\n",
      "Finding mrna sequence in another exon...\n",
      "Finding mrna sequence in another exon...\n",
      "Finding mrna sequence in another exon...\n",
      "GAAAACCCTTCTGCCACGCT in gene UPF1 not aligned, skip...\n",
      "Finding mrna sequence in another exon...\n",
      "GAGGTGGAGATCGCCAGTGT in gene UPF1 not aligned, skip...\n",
      "Finding mrna sequence in another exon...\n",
      "GATGCAGAGCGCATTGAAAA in gene UPF1 not aligned, skip...\n",
      "Finding mrna sequence in another exon...\n",
      "Finding mrna sequence in another exon...\n",
      "Finding mrna sequence in another exon...\n",
      "CTGCAGCAGGCCCGTTGGCT in gene UPF1 not aligned, skip...\n",
      "CCACATTGTAAATCACCTTG in gene UPF1 not aligned, skip...\n",
      "GCCGGTGCTGGTGTGTGCTC in gene UPF1 not aligned, skip...\n",
      "Finding mrna sequence in another exon...\n",
      "Finding mrna sequence in another exon...\n",
      "CTGCAGTGACACCATTCTGG in gene UPF1 not aligned, skip...\n",
      "Finding mrna sequence in another exon...\n",
      "CTGCTTGGCCCCGAGGACCA in gene UPF1 not aligned, skip...\n",
      "CTGGTAGAGCTTGGTGTGCA in gene UPF1 not aligned, skip...\n",
      "CTGTTCAGGTAGGAGGTGCC in gene UPF1 not aligned, skip...\n",
      "CTGGGACAGCTCCGGCTGGG in gene UPF1 not aligned, skip...\n",
      "CTGGGAGTGGTTGAGGTCGG in gene UPF1 not aligned, skip...\n",
      "CATCAGCAGCTCTCTCTCTG in gene UPF1 not aligned, skip...\n",
      "CTTCCACAGCTCCTCCAGCT in gene UPF1 not aligned, skip...\n",
      "Finding mrna sequence in another exon...\n",
      "Finding mrna sequence in another exon...\n"
     ]
    },
    {
     "name": "stderr",
     "output_type": "stream",
     "text": [
      "\r",
      " 18%|███████▉                                   | 17/92 [01:10<09:08,  7.32s/it]"
     ]
    },
    {
     "name": "stdout",
     "output_type": "stream",
     "text": [
      "Processing YBX1...Keep 1/399 low off-target sgRNAs...\n",
      "Processing POLR2I...Keep 122/129 low off-target sgRNAs...\n",
      "Finding mrna sequence in another exon...\n",
      "Finding extra sequence in mRNA failed, skip...\n",
      "GACGCCATGCGCCTTTACTA in gene POLR2I not aligned, skip...\n",
      "36114846 is in start/stop codon ...skippingATGGAGCCCGA\n",
      "ATGGAGCCCGACGGGACTTA in gene POLR2I not aligned, skip...\n",
      "Finding mrna sequence in another exon...\n",
      "Finding extra sequence in mRNA failed, skip...\n",
      "Finding mrna sequence in another exon...\n",
      "Finding extra sequence in mRNA failed, skip...\n",
      "36113765 is in start/stop codon ...skippingTCACTCGGTCC\n",
      "36113765 is in start/stop codon ...skippingTCACTCGGTCC\n",
      "TCACTCGGTCCAGCGGTGGC in gene POLR2I not aligned, skip...\n",
      "Finding mrna sequence in another exon...\n",
      "Finding extra sequence in mRNA failed, skip...\n",
      "TAACAACATGCTGTACCCCA in gene POLR2I not aligned, skip...\n",
      "Finding mrna sequence in another exon...\n",
      "Finding extra sequence in mRNA failed, skip...\n"
     ]
    },
    {
     "name": "stderr",
     "output_type": "stream",
     "text": [
      " 22%|█████████▎                                 | 20/92 [01:11<04:09,  3.46s/it]"
     ]
    },
    {
     "name": "stdout",
     "output_type": "stream",
     "text": [
      "Processing FKBP6...Keep 156/284 low off-target sgRNAs...\n",
      "Processing RBM14...Keep 170/179 low off-target sgRNAs...\n"
     ]
    },
    {
     "name": "stderr",
     "output_type": "stream",
     "text": [
      "\r",
      " 23%|█████████▊                                 | 21/92 [01:13<03:31,  2.98s/it]"
     ]
    },
    {
     "name": "stdout",
     "output_type": "stream",
     "text": [
      "66616729 is in start/stop codon ...skippingATGAAGATATT\n",
      "ATGAAGATATTCGTGGGCAA in gene RBM14 not aligned, skip...\n",
      "Processing GGTLC2...Keep 0/298 low off-target sgRNAs...\n",
      "Processing TBCC...Keep 462/510 low off-target sgRNAs...\n",
      "42746065 is in start/stop codon ...skippingATGGAGTCCGT\n",
      "ATGGAGTCCGTCAGTTGCTC in gene TBCC not aligned, skip...\n"
     ]
    },
    {
     "name": "stderr",
     "output_type": "stream",
     "text": [
      "\r",
      " 25%|██████████▊                                | 23/92 [01:19<03:21,  2.92s/it]"
     ]
    },
    {
     "name": "stdout",
     "output_type": "stream",
     "text": [
      "Processing EXOSC6...Keep 424/517 low off-target sgRNAs...\n"
     ]
    },
    {
     "name": "stderr",
     "output_type": "stream",
     "text": [
      "\r",
      " 26%|███████████▏                               | 24/92 [01:24<03:55,  3.46s/it]"
     ]
    },
    {
     "name": "stdout",
     "output_type": "stream",
     "text": [
      "Processing BCR...Keep 1191/1691 low off-target sgRNAs...\n",
      "23180971 is in start/stop codon ...skippingATGGTGGACCC\n",
      "ATGGTGGACCCGGTGGGCTT in gene BCR not aligned, skip...\n",
      "Finding mrna sequence in another exon...\n",
      "Finding mrna sequence in another exon...\n",
      "GACTTGCTGAAGCACACTCC in gene BCR not aligned, skip...\n",
      "AGGGCGAACAAGGGCAGCAA in gene BCR not aligned, skip...\n",
      "CTTCCTTATTGATGGTCAGC in gene BCR not aligned, skip...\n",
      "Finding mrna sequence in another exon...\n",
      "CCCATGAAGCCTTTGAAAGC in gene BCR not aligned, skip...\n",
      "Finding mrna sequence in another exon...\n",
      "CTCTCCCTTCTTCACCGTCA in gene BCR not aligned, skip...\n",
      "AGTGAGCTGGACTTGGAAAA in gene BCR not aligned, skip...\n",
      "CAGCAGCAGTGCCTCCAGGT in gene BCR not aligned, skip...\n",
      "Finding mrna sequence in another exon...\n",
      "Finding mrna sequence in another exon...\n"
     ]
    },
    {
     "name": "stderr",
     "output_type": "stream",
     "text": [
      "\r",
      " 27%|███████████▋                               | 25/92 [01:42<07:50,  7.02s/it]"
     ]
    },
    {
     "name": "stdout",
     "output_type": "stream",
     "text": [
      "Processing GJA3...Keep 580/749 low off-target sgRNAs...\n",
      "20143280 is in start/stop codon ...skippingATGGGCGACTG\n",
      "ATGGGCGACTGGAGCTTTCT in gene GJA3 not aligned, skip...\n"
     ]
    },
    {
     "name": "stderr",
     "output_type": "stream",
     "text": [
      "\r",
      " 28%|████████████▏                              | 26/92 [01:49<07:45,  7.06s/it]"
     ]
    },
    {
     "name": "stdout",
     "output_type": "stream",
     "text": [
      "Processing PSMC1...Keep 0/354 low off-target sgRNAs...\n",
      "Processing PDCD7...Keep 578/750 low off-target sgRNAs...\n",
      "65118726 is in start/stop codon ...skippingTAATGCAGCTT\n",
      "TAATGCAGCTTAACAGCAGT in gene PDCD7 need sequence not included in fasta file...\n",
      "Finding mrna sequence in another exon...\n",
      "Finding extra sequence in mRNA failed, skip...\n",
      "Finding mrna sequence in another exon...\n",
      "Finding extra sequence in mRNA failed, skip...\n",
      "65133771 is in start/stop codon ...skippingATGGCCCTGCC\n",
      "ATGGCCCTGCCACCATTCTT in gene PDCD7 not aligned, skip...\n",
      "GAGCAGGAACTCAAAGCAGC in gene PDCD7 not aligned, skip...\n"
     ]
    },
    {
     "name": "stderr",
     "output_type": "stream",
     "text": [
      "\r",
      " 30%|█████████████                              | 28/92 [01:57<06:05,  5.71s/it]"
     ]
    },
    {
     "name": "stdout",
     "output_type": "stream",
     "text": [
      "Processing HSPA5...Keep 113/750 low off-target sgRNAs...\n"
     ]
    },
    {
     "name": "stderr",
     "output_type": "stream",
     "text": [
      "\r",
      " 32%|█████████████▌                             | 29/92 [01:58<04:50,  4.62s/it]"
     ]
    },
    {
     "name": "stdout",
     "output_type": "stream",
     "text": [
      "CATGTTGAGCTCTTCAAATT in gene HSPA5 not aligned, skip...\n",
      "Finding mrna sequence in another exon...\n",
      "Finding extra sequence in mRNA failed, skip...\n",
      "Processing NPEPPS...Keep 400/853 low off-target sgRNAs...\n",
      "GCTTTCTTCGAGAGTCACCC in gene NPEPPS not aligned, skip...\n",
      "Finding mrna sequence in another exon...\n",
      "Finding mrna sequence in another exon...\n",
      "Finding mrna sequence in another exon...\n",
      "AGGACTCCTCAGATCAGCGG in gene NPEPPS not aligned, skip...\n",
      "Finding mrna sequence in another exon...\n",
      "Finding mrna sequence in another exon...\n",
      "CTTCACCCATTGGTCTGGTT in gene NPEPPS not aligned, skip...\n",
      "CTATCAGTTGAGGGATTTGC in gene NPEPPS not aligned, skip...\n",
      "Finding mrna sequence in another exon...\n",
      "CTTTATTAGTCTGGATATTA in gene NPEPPS not aligned, skip...\n"
     ]
    },
    {
     "name": "stderr",
     "output_type": "stream",
     "text": [
      "\r",
      " 33%|██████████████                             | 30/92 [02:03<04:56,  4.79s/it]"
     ]
    },
    {
     "name": "stdout",
     "output_type": "stream",
     "text": [
      "CTGTTCAGCTTCCACATAAA in gene NPEPPS not aligned, skip...\n",
      "Processing ZNF492...Keep 4/522 low off-target sgRNAs...\n",
      "Processing COPA...Keep 1123/1279 low off-target sgRNAs...\n",
      "Finding mrna sequence in another exon...\n",
      "Finding extra sequence in mRNA failed, skip...\n",
      "Finding mrna sequence in another exon...\n",
      "Finding extra sequence in mRNA failed, skip...\n",
      "CCGCATGGCTGTTTCGAAAG in gene COPA not aligned, skip...\n",
      "GATATATCCCCTGGGGCAGC in gene COPA not aligned, skip...\n",
      "CAATCTTCATCATCTTGCGA in gene COPA not aligned, skip...\n",
      "Finding mrna sequence in another exon...\n",
      "Finding extra sequence in mRNA failed, skip...\n",
      "Finding mrna sequence in another exon...\n",
      "Finding extra sequence in mRNA failed, skip...\n",
      "Finding mrna sequence in another exon...\n",
      "Finding extra sequence in mRNA failed, skip...\n",
      "Finding mrna sequence in another exon...\n",
      "Finding extra sequence in mRNA failed, skip...\n",
      "Finding mrna sequence in another exon...\n",
      "Finding extra sequence in mRNA failed, skip...\n",
      "Finding mrna sequence in another exon...\n",
      "Finding extra sequence in mRNA failed, skip...\n",
      "160290166 is in start/stop codon ...skippingTTAGCGAAACT\n",
      "Finding mrna sequence in another exon...\n",
      "Finding extra sequence in mRNA failed, skip...\n",
      "CTGTTGGGCCACCTCAGGCT in gene COPA not aligned, skip...\n",
      "ATCCCAGACATTGACCCTAA in gene COPA not aligned, skip...\n",
      "GAATATCCCTGGATTCTGAG in gene COPA not aligned, skip...\n",
      "CTCCTTCATGACCAAGTAGG in gene COPA not aligned, skip...\n",
      "CTGAGTTGGACTTGTTCCCT in gene COPA not aligned, skip...\n",
      "Finding mrna sequence in another exon...\n",
      "Finding extra sequence in mRNA failed, skip...\n",
      "ATTGCTCTGGAAGCAGCCAA in gene COPA not aligned, skip...\n",
      "Finding mrna sequence in another exon...\n",
      "Finding extra sequence in mRNA failed, skip...\n",
      "Finding mrna sequence in another exon...\n",
      "Finding extra sequence in mRNA failed, skip...\n",
      "Finding mrna sequence in another exon...\n",
      "Finding extra sequence in mRNA failed, skip...\n",
      "Finding mrna sequence in another exon...\n",
      "Finding extra sequence in mRNA failed, skip...\n",
      "Finding mrna sequence in another exon...\n",
      "Finding extra sequence in mRNA failed, skip...\n",
      "Finding mrna sequence in another exon...\n",
      "Finding extra sequence in mRNA failed, skip...\n",
      "CTGAGATCAGAAAGGACATG in gene COPA not aligned, skip...\n",
      "Finding mrna sequence in another exon...\n",
      "Finding extra sequence in mRNA failed, skip...\n"
     ]
    },
    {
     "name": "stderr",
     "output_type": "stream",
     "text": [
      "\r",
      " 35%|██████████████▉                            | 32/92 [02:19<06:06,  6.10s/it]"
     ]
    },
    {
     "name": "stdout",
     "output_type": "stream",
     "text": [
      "CTCTGCAATCTCTTGTTTAT in gene COPA not aligned, skip...\n",
      "Processing C1orf122...Keep 52/65 low off-target sgRNAs...\n",
      "AACGTCTCAGCCAAACCTGG in gene C1orf122 not aligned, skip...\n"
     ]
    },
    {
     "name": "stderr",
     "output_type": "stream",
     "text": [
      "\r",
      " 36%|███████████████▍                           | 33/92 [02:19<04:45,  4.84s/it]"
     ]
    },
    {
     "name": "stdout",
     "output_type": "stream",
     "text": [
      "Finding mrna sequence in another exon...\n"
     ]
    },
    {
     "name": "stderr",
     "output_type": "stream",
     "text": [
      "\r",
      " 37%|███████████████▉                           | 34/92 [02:20<03:33,  3.68s/it]"
     ]
    },
    {
     "name": "stdout",
     "output_type": "stream",
     "text": [
      "Processing DEXI...Keep 13/155 low off-target sgRNAs...\n",
      "Processing NUS1...Keep 0/359 low off-target sgRNAs...\n",
      "Processing PSMB4...Keep 291/306 low off-target sgRNAs...\n",
      "CTTCCTCGGTTATGTGGACA in gene PSMB4 not aligned, skip...\n",
      "CCTCTGCTGCGAGAAGTTCT in gene PSMB4 not aligned, skip...\n",
      "Finding mrna sequence in another exon...\n",
      "Finding mrna sequence in another exon...\n"
     ]
    },
    {
     "name": "stderr",
     "output_type": "stream",
     "text": [
      "\r",
      " 39%|████████████████▊                          | 36/92 [02:22<02:31,  2.70s/it]"
     ]
    },
    {
     "name": "stdout",
     "output_type": "stream",
     "text": [
      "Finding mrna sequence in another exon...\n",
      "Processing RPL23A...Keep 1/155 low off-target sgRNAs...\n",
      "Processing TUBGCP3...Keep 352/400 low off-target sgRNAs...\n",
      "Finding mrna sequence in another exon...\n",
      "Finding extra sequence in mRNA failed, skip...\n",
      "Finding mrna sequence in another exon...\n",
      "Finding extra sequence in mRNA failed, skip...\n",
      "CTGCCCGACGAGTCCGAATG in gene TUBGCP3 not aligned, skip...\n",
      "Finding mrna sequence in another exon...\n",
      "Finding extra sequence in mRNA failed, skip...\n",
      "CTACAACTAGAGGATGACCA in gene TUBGCP3 not aligned, skip...\n",
      "Finding mrna sequence in another exon...\n",
      "Finding extra sequence in mRNA failed, skip...\n",
      "Finding mrna sequence in another exon...\n",
      "Finding extra sequence in mRNA failed, skip...\n",
      "Finding mrna sequence in another exon...\n",
      "Finding extra sequence in mRNA failed, skip...\n",
      "CTTGCTTGGCTGCCTGCGTG in gene TUBGCP3 not aligned, skip...\n",
      "Finding mrna sequence in another exon...\n",
      "Finding extra sequence in mRNA failed, skip...\n",
      "Finding mrna sequence in another exon...\n",
      "Finding extra sequence in mRNA failed, skip...\n",
      "CTGTGAATGAAGTTTTCTGT in gene TUBGCP3 not aligned, skip...\n"
     ]
    },
    {
     "name": "stderr",
     "output_type": "stream",
     "text": [
      "\r",
      " 41%|█████████████████▊                         | 38/92 [02:26<02:09,  2.41s/it]"
     ]
    },
    {
     "name": "stdout",
     "output_type": "stream",
     "text": [
      "CCTGGGAGGAGAGATTGTGG in gene TUBGCP3 not aligned, skip...\n",
      "Processing CS...Keep 47/498 low off-target sgRNAs...\n"
     ]
    },
    {
     "name": "stderr",
     "output_type": "stream",
     "text": [
      "\r",
      " 42%|██████████████████▏                        | 39/92 [02:26<01:45,  1.99s/it]"
     ]
    },
    {
     "name": "stdout",
     "output_type": "stream",
     "text": [
      "Processing PGAM1...Keep 0/267 low off-target sgRNAs...\n",
      "Processing TIMM23...Keep 44/199 low off-target sgRNAs...\n"
     ]
    },
    {
     "name": "stderr",
     "output_type": "stream",
     "text": [
      "\r",
      " 45%|███████████████████▏                       | 41/92 [02:27<01:07,  1.32s/it]"
     ]
    },
    {
     "name": "stdout",
     "output_type": "stream",
     "text": [
      "46003309 is in start/stop codon ...skippingCAGAGTGACTG\n",
      "46003309 is in start/stop codon ...skippingCAGAGTGACTG\n",
      "CAGAGTGACTGTTGGAGCAA in gene TIMM23 need sequence not included in fasta file...\n",
      "Processing MST1...Keep 41/922 low off-target sgRNAs...\n",
      "Finding mrna sequence in another exon...\n",
      "Finding extra sequence in mRNA failed, skip...\n"
     ]
    },
    {
     "name": "stderr",
     "output_type": "stream",
     "text": [
      "\r",
      " 46%|███████████████████▋                       | 42/92 [02:27<00:56,  1.13s/it]"
     ]
    },
    {
     "name": "stdout",
     "output_type": "stream",
     "text": [
      "CTGGGGGGTCCAGGATTGAT in gene MST1 not aligned, skip...\n",
      "Processing CDC26...Keep 0/92 low off-target sgRNAs...\n",
      "Processing SRF...Keep 351/404 low off-target sgRNAs...\n",
      "Finding mrna sequence in another exon...\n",
      "Finding mrna sequence in another exon...\n",
      "ATGGCTGTGATAGGGCAGCA in gene SRF not aligned, skip...\n"
     ]
    },
    {
     "name": "stderr",
     "output_type": "stream",
     "text": [
      "\r",
      " 48%|████████████████████▌                      | 44/92 [02:31<01:04,  1.35s/it]"
     ]
    },
    {
     "name": "stdout",
     "output_type": "stream",
     "text": [
      "CTGGCTCCTGGACCTGGCTG in gene SRF not aligned, skip...\n",
      "Processing FLVCR1...Keep 547/650 low off-target sgRNAs...\n",
      "212858463 is in start/stop codon ...skippingATGGCGCGGCC\n",
      "ATGGCGCGGCCAGACGATGA in gene FLVCR1 not aligned, skip...\n",
      "CTGATTGCCCAGCACGGCGG in gene FLVCR1 not aligned, skip...\n",
      "ATACCAGCTGACAGTCCCAC in gene FLVCR1 not aligned, skip...\n",
      "CATTAATCAAGTCTGATCTG in gene FLVCR1 not aligned, skip...\n",
      "Finding mrna sequence in another exon...\n",
      "Finding mrna sequence in another exon...\n",
      "Finding mrna sequence in another exon...\n",
      "Finding mrna sequence in another exon...\n"
     ]
    },
    {
     "name": "stderr",
     "output_type": "stream",
     "text": [
      "\r",
      " 49%|█████████████████████                      | 45/92 [02:38<02:05,  2.67s/it]"
     ]
    },
    {
     "name": "stdout",
     "output_type": "stream",
     "text": [
      "Processing SDF2L1...Keep 295/333 low off-target sgRNAs...\n",
      "CGGATCCGTATTTGATGTCG in gene SDF2L1 not aligned, skip...\n",
      "Finding mrna sequence in another exon...\n",
      "Finding mrna sequence in another exon...\n",
      "21642347 is in start/stop codon ...skippingATGTGGAGCGC\n",
      "ATGTGGAGCGCGGGCCGCGG in gene SDF2L1 not aligned, skip...\n",
      "21644164 is in start/stop codon ...skippingCAGAGTTCATC\n",
      "21644164 is in start/stop codon ...skippingCAGAGTTCATC\n",
      "CAGAGTTCATCGTGACCTGC in gene SDF2L1 need sequence not included in fasta file...\n",
      "GAGGTGAGTGCCTTTGGGGA in gene SDF2L1 not aligned, skip...\n"
     ]
    },
    {
     "name": "stderr",
     "output_type": "stream",
     "text": [
      "\r",
      " 50%|█████████████████████▌                     | 46/92 [02:43<02:20,  3.05s/it]"
     ]
    },
    {
     "name": "stdout",
     "output_type": "stream",
     "text": [
      "Processing NSF...Keep 0/722 low off-target sgRNAs...\n",
      "Processing TUBG1...Keep 82/570 low off-target sgRNAs...\n",
      "Finding mrna sequence in another exon...\n",
      "Finding mrna sequence in another exon...\n"
     ]
    },
    {
     "name": "stderr",
     "output_type": "stream",
     "text": [
      "\r",
      " 52%|██████████████████████▍                    | 48/92 [02:43<01:28,  2.00s/it]"
     ]
    },
    {
     "name": "stdout",
     "output_type": "stream",
     "text": [
      "Processing PDE12...Keep 618/683 low off-target sgRNAs...\n",
      "CTTTAGGATGCCAGTAAAGA in gene PDE12 not aligned, skip...\n",
      "Finding mrna sequence in another exon...\n",
      "CTGAAGAACAGAAGATCTCT in gene PDE12 not aligned, skip...\n"
     ]
    },
    {
     "name": "stderr",
     "output_type": "stream",
     "text": [
      " 54%|███████████████████████▎                   | 50/92 [02:52<01:51,  2.65s/it]"
     ]
    },
    {
     "name": "stdout",
     "output_type": "stream",
     "text": [
      "Processing UQCRFS1...Keep 11/362 low off-target sgRNAs...\n",
      "Processing HERC2...Keep 91/5821 low off-target sgRNAs...\n",
      "Not unique strand for HERC2 , ['-' '+']\n",
      "Processing EIF3M...Keep 146/195 low off-target sgRNAs...\n",
      "32583898 is in start/stop codon ...skippingATGAGCGTCCC\n",
      "ATGAGCGTCCCGGCCTTCAT in gene EIF3M not aligned, skip...\n",
      "Finding mrna sequence in another exon...\n",
      "Finding mrna sequence in another exon...\n",
      "Finding mrna sequence in another exon...\n",
      "CTCTTCTTACAATCCACAAG in gene EIF3M not aligned, skip...\n",
      "Finding mrna sequence in another exon...\n",
      "CTGATCTTCTTCACTGATGT in gene EIF3M not aligned, skip...\n",
      "CTGACAACTACTTTTCTCTG in gene EIF3M not aligned, skip...\n",
      "Finding mrna sequence in another exon...\n",
      "Finding mrna sequence in another exon...\n"
     ]
    },
    {
     "name": "stderr",
     "output_type": "stream",
     "text": [
      "\r",
      " 57%|████████████████████████▎                  | 52/92 [02:54<01:21,  2.03s/it]"
     ]
    },
    {
     "name": "stdout",
     "output_type": "stream",
     "text": [
      "CTTTTAACCATTTTTGTGAG in gene EIF3M not aligned, skip...\n",
      "Processing TUBA1B...Keep 12/604 low off-target sgRNAs...\n",
      "Processing TRAPPC5...Keep 294/313 low off-target sgRNAs...\n",
      "7682263 is in start/stop codon ...skippingATGGAGGCGCG\n",
      "ATGGAGGCGCGCTTCACGCG in gene TRAPPC5 not aligned, skip...\n"
     ]
    },
    {
     "name": "stderr",
     "output_type": "stream",
     "text": [
      "\r",
      " 59%|█████████████████████████▏                 | 54/92 [02:59<01:18,  2.07s/it]"
     ]
    },
    {
     "name": "stdout",
     "output_type": "stream",
     "text": [
      "Processing HEXIM1...Keep 487/570 low off-target sgRNAs...\n",
      "45149201 is in start/stop codon ...skippingATGGCCGAGCC\n",
      "ATGGCCGAGCCATTCTTGTC in gene HEXIM1 not aligned, skip...\n",
      "45150259 is in start/stop codon ...skippingTAGTCTCCAAA\n",
      "TAGTCTCCAAACTTGGAAAG in gene HEXIM1 need sequence not included in fasta file...\n",
      "45150258 is in start/stop codon ...skippingAGTCTCCAAAC\n",
      "Finding mrna sequence in another exon...\n"
     ]
    },
    {
     "name": "stderr",
     "output_type": "stream",
     "text": [
      "\r",
      " 60%|█████████████████████████▋                 | 55/92 [03:05<01:52,  3.03s/it]"
     ]
    },
    {
     "name": "stdout",
     "output_type": "stream",
     "text": [
      "Processing BTF3L4...Keep 0/15 low off-target sgRNAs...\n",
      "Processing SPINT1...Keep 583/685 low off-target sgRNAs...\n",
      "40844565 is in start/stop codon ...skippingATGGCCCCTGC\n",
      "ATGGCCCCTGCGAGGACGAT in gene SPINT1 not aligned, skip...\n",
      "CTTGCACACCCCGACAGGCT in gene SPINT1 not aligned, skip...\n",
      "Finding mrna sequence in another exon...\n",
      "Finding mrna sequence in another exon...\n",
      "CTCCAAAGCCCTGGGTCCGC in gene SPINT1 not aligned, skip...\n",
      "Finding mrna sequence in another exon...\n",
      "Finding mrna sequence in another exon...\n",
      "CTTCTGTCTGCTTGGTGGAC in gene SPINT1 not aligned, skip...\n"
     ]
    },
    {
     "name": "stderr",
     "output_type": "stream",
     "text": [
      "\r",
      " 62%|██████████████████████████▋                | 57/92 [03:14<02:00,  3.44s/it]"
     ]
    },
    {
     "name": "stdout",
     "output_type": "stream",
     "text": [
      "Processing MARS2...Keep 781/861 low off-target sgRNAs...\n",
      "197707180 is in start/stop codon ...skippingAGGTCCGGTGG\n",
      "Finding mrna sequence in another exon...\n"
     ]
    },
    {
     "name": "stderr",
     "output_type": "stream",
     "text": [
      "\r",
      " 63%|███████████████████████████                | 58/92 [03:24<02:47,  4.94s/it]"
     ]
    },
    {
     "name": "stdout",
     "output_type": "stream",
     "text": [
      "Processing NUP50...Keep 3/471 low off-target sgRNAs...\n",
      "Processing ZNF593...Keep 173/189 low off-target sgRNAs...\n",
      "26169994 is in start/stop codon ...skippingATGGGTCGCTC\n",
      "ATGGGTCGCTCCCGCCGGAC in gene ZNF593 not aligned, skip...\n",
      "Finding mrna sequence in another exon...\n",
      "26170704 is in start/stop codon ...skippingAGGTAGAGGTA\n",
      "GCTGAAGCAGCTGAGCGTCG in gene ZNF593 not aligned, skip...\n"
     ]
    },
    {
     "name": "stderr",
     "output_type": "stream",
     "text": [
      "\r",
      " 65%|████████████████████████████               | 60/92 [03:26<01:48,  3.40s/it]"
     ]
    },
    {
     "name": "stdout",
     "output_type": "stream",
     "text": [
      "Processing RNF113A...Keep 385/472 low off-target sgRNAs...\n",
      "119871603 is in start/stop codon ...skippingATGGCAGAGCA\n",
      "ATGGCAGAGCAGCTTTCTCC in gene RNF113A not aligned, skip...\n"
     ]
    },
    {
     "name": "stderr",
     "output_type": "stream",
     "text": [
      "\r",
      " 66%|████████████████████████████▌              | 61/92 [03:31<01:59,  3.84s/it]"
     ]
    },
    {
     "name": "stdout",
     "output_type": "stream",
     "text": [
      "Processing TBX1...Keep 365/491 low off-target sgRNAs...\n",
      "CGGTAGCGCTTATCGTCCAC in gene TBX1 not aligned, skip...\n",
      "Finding mrna sequence in another exon...\n",
      "CTTTCTCCGTGCCGCTGGGC in gene TBX1 not aligned, skip...\n",
      "Finding mrna sequence in another exon...\n",
      "Finding mrna sequence in another exon...\n",
      "Finding mrna sequence in another exon...\n",
      "CCTTCACGGCCAGCAGCCTG in gene TBX1 not aligned, skip...\n",
      "Finding mrna sequence in another exon...\n"
     ]
    },
    {
     "name": "stderr",
     "output_type": "stream",
     "text": [
      "\r",
      " 67%|████████████████████████████▉              | 62/92 [03:37<02:06,  4.22s/it]"
     ]
    },
    {
     "name": "stdout",
     "output_type": "stream",
     "text": [
      "Processing RPTOR...Keep 1290/1434 low off-target sgRNAs...\n",
      "CCGCGTCATGACGTACCGGG in gene RPTOR not aligned, skip...\n",
      "Finding mrna sequence in another exon...\n",
      "CACATGGCGTGCATGTACGT in gene RPTOR not aligned, skip...\n",
      "Finding mrna sequence in another exon...\n",
      "ACTGCGGACGACGCGGACGA in gene RPTOR not aligned, skip...\n",
      "Finding mrna sequence in another exon...\n",
      "Finding mrna sequence in another exon...\n",
      "Finding mrna sequence in another exon...\n",
      "Finding mrna sequence in another exon...\n",
      "CAGCGCAGGGCGATCTTGAT in gene RPTOR not aligned, skip...\n",
      "Finding mrna sequence in another exon...\n",
      "Finding mrna sequence in another exon...\n",
      "Finding mrna sequence in another exon...\n",
      "Finding mrna sequence in another exon...\n",
      "ATCCCAGAAGAGCACGACCT in gene RPTOR not aligned, skip...\n",
      "CATGCGATCAGGTCCGCCTG in gene RPTOR not aligned, skip...\n",
      "ACGATGGTGCCATCAGGGTC in gene RPTOR not aligned, skip...\n",
      "Finding mrna sequence in another exon...\n",
      "GCCCGGTACAAGCAGAGCCT in gene RPTOR not aligned, skip...\n",
      "Finding mrna sequence in another exon...\n",
      "Finding mrna sequence in another exon...\n",
      "Finding mrna sequence in another exon...\n",
      "80964320 is in start/stop codon ...skippingTATCTGACACG\n",
      "TATCTGACACGCTTCTCCAC in gene RPTOR need sequence not included in fasta file...\n",
      "Finding mrna sequence in another exon...\n",
      "Finding mrna sequence in another exon...\n",
      "Finding mrna sequence in another exon...\n",
      "ATCTCTTCCAAAAGCTCTTC in gene RPTOR not aligned, skip...\n",
      "GAGCTGGGATGGTGGTGGAC in gene RPTOR not aligned, skip...\n",
      "Finding mrna sequence in another exon...\n"
     ]
    },
    {
     "name": "stderr",
     "output_type": "stream",
     "text": [
      "\r",
      " 68%|█████████████████████████████▍             | 63/92 [03:56<03:51,  7.97s/it]"
     ]
    },
    {
     "name": "stdout",
     "output_type": "stream",
     "text": [
      "Processing SCAF1...Keep 1611/2159 low off-target sgRNAs...\n",
      "CTTGTGGACGGCCTTCCTCA in gene SCAF1 not aligned, skip...\n",
      "CGAGCCATCCAGCAGGCTGT in gene SCAF1 not aligned, skip...\n",
      "Finding mrna sequence in another exon...\n",
      "Finding mrna sequence in another exon...\n",
      "Finding mrna sequence in another exon...\n",
      "Finding mrna sequence in another exon...\n",
      "AAGTGAGGACATGCTGGAGC in gene SCAF1 not aligned, skip...\n"
     ]
    },
    {
     "name": "stderr",
     "output_type": "stream",
     "text": [
      "\r",
      " 70%|█████████████████████████████▉             | 64/92 [04:20<05:42, 12.24s/it]"
     ]
    },
    {
     "name": "stdout",
     "output_type": "stream",
     "text": [
      "Processing GGT1...Keep 4/774 low off-target sgRNAs...\n",
      "Processing NOL7...Keep 221/274 low off-target sgRNAs...\n",
      "13615368 is in start/stop codon ...skippingATGGTGCAGCT\n",
      "ATGGTGCAGCTCCGACCGCG in gene NOL7 not aligned, skip...\n",
      "CATCAAGAAATCGCCAGGAA in gene NOL7 not aligned, skip...\n",
      "CAGTAGTCCTGTTGGTTCCT in gene NOL7 not aligned, skip...\n",
      "Finding mrna sequence in another exon...\n",
      "Finding mrna sequence in another exon...\n"
     ]
    },
    {
     "name": "stderr",
     "output_type": "stream",
     "text": [
      "\r",
      " 72%|██████████████████████████████▊            | 66/92 [04:23<03:18,  7.65s/it]"
     ]
    },
    {
     "name": "stdout",
     "output_type": "stream",
     "text": [
      "Processing DNAJC9...Keep 51/300 low off-target sgRNAs...\n"
     ]
    },
    {
     "name": "stderr",
     "output_type": "stream",
     "text": [
      "\r",
      " 73%|███████████████████████████████▎           | 67/92 [04:24<02:29,  5.99s/it]"
     ]
    },
    {
     "name": "stdout",
     "output_type": "stream",
     "text": [
      "73247180 is in start/stop codon ...skippingATGGGGCTGCT\n",
      "ATGGGGCTGCTGGACCTTTG in gene DNAJC9 not aligned, skip...\n",
      "Processing SRP68...Keep 212/318 low off-target sgRNAs...\n",
      "76050477 is in start/stop codon ...skippingATGCTCAGCGA\n",
      "ATGCTCAGCGAGTGTCGGGA in gene SRP68 not aligned, skip...\n",
      "CTGTAAGCTTTGAACACCAG in gene SRP68 not aligned, skip...\n",
      "CTATGCAAGTATTGAAGATT in gene SRP68 not aligned, skip...\n",
      "CAAGGATGGCTGCGGCCTGC in gene SRP68 not aligned, skip...\n",
      "Finding mrna sequence in another exon...\n",
      "Finding extra sequence in mRNA failed, skip...\n",
      "Finding mrna sequence in another exon...\n",
      "Finding extra sequence in mRNA failed, skip...\n",
      "CTTATTGTCCTTGACTTGGG in gene SRP68 not aligned, skip...\n",
      "CTTTAGGCTGTTCTTGAAGG in gene SRP68 not aligned, skip...\n",
      "76039716 is in start/stop codon ...skippingTTAGCTCCTGA\n",
      "Finding mrna sequence in another exon...\n",
      "Finding extra sequence in mRNA failed, skip...\n",
      "AAACAGAGAGATTATATCCT in gene SRP68 not aligned, skip...\n"
     ]
    },
    {
     "name": "stderr",
     "output_type": "stream",
     "text": [
      "\r",
      " 74%|███████████████████████████████▊           | 68/92 [04:27<02:05,  5.24s/it]"
     ]
    },
    {
     "name": "stdout",
     "output_type": "stream",
     "text": [
      "Processing IARS2...Keep 835/997 low off-target sgRNAs...\n",
      "GATTGTCTAGTGGACGAAGA in gene IARS2 not aligned, skip...\n",
      "Finding mrna sequence in another exon...\n",
      "Finding mrna sequence in another exon...\n",
      "CTTTAATATAAGGTATGTGC in gene IARS2 not aligned, skip...\n",
      "CTATAAGAGATGCCAATTTT in gene IARS2 not aligned, skip...\n",
      "Finding mrna sequence in another exon...\n",
      "Finding mrna sequence in another exon...\n",
      "Finding mrna sequence in another exon...\n",
      "Finding mrna sequence in another exon...\n",
      "220147625 is in start/stop codon ...skippingTATTTTCCACT\n",
      "TATTTTCCACTGACAACTTC in gene IARS2 need sequence not included in fasta file...\n",
      "Finding mrna sequence in another exon...\n",
      "Finding mrna sequence in another exon...\n",
      "CTGCTGGATCTCCAGCTCCG in gene IARS2 not aligned, skip...\n"
     ]
    },
    {
     "name": "stderr",
     "output_type": "stream",
     "text": [
      "\r",
      " 75%|████████████████████████████████▎          | 69/92 [04:39<02:41,  7.02s/it]"
     ]
    },
    {
     "name": "stdout",
     "output_type": "stream",
     "text": [
      "Processing SDHD...Keep 0/14 low off-target sgRNAs...\n",
      "Processing RPL15...Keep 0/143 low off-target sgRNAs...\n",
      "Processing NBPF3...Keep 74/491 low off-target sgRNAs...\n",
      "Finding mrna sequence in another exon...\n"
     ]
    },
    {
     "name": "stderr",
     "output_type": "stream",
     "text": [
      "\r",
      " 78%|█████████████████████████████████▋         | 72/92 [04:40<01:11,  3.58s/it]"
     ]
    },
    {
     "name": "stdout",
     "output_type": "stream",
     "text": [
      "Processing MEN1...Keep 729/822 low off-target sgRNAs...\n",
      "Finding mrna sequence in another exon...\n",
      "Finding extra sequence in mRNA failed, skip...\n",
      "CTGTCCCTCAAAACGGCCTA in gene MEN1 not aligned, skip...\n",
      "Finding mrna sequence in another exon...\n",
      "Finding extra sequence in mRNA failed, skip...\n",
      "CCAGGCATGATCCTCAGACA in gene MEN1 not aligned, skip...\n",
      "AAGCTGCTCTGGCTGCTCTA in gene MEN1 not aligned, skip...\n",
      "CTTGTGGTAGAGGGTGAGTG in gene MEN1 not aligned, skip...\n",
      "Finding mrna sequence in another exon...\n",
      "Finding extra sequence in mRNA failed, skip...\n"
     ]
    },
    {
     "name": "stderr",
     "output_type": "stream",
     "text": [
      "\r",
      " 79%|██████████████████████████████████         | 73/92 [04:53<01:42,  5.39s/it]"
     ]
    },
    {
     "name": "stdout",
     "output_type": "stream",
     "text": [
      "Processing MRPS26...Keep 271/299 low off-target sgRNAs...\n",
      "GATGGAGTTCGTGTCCGAGG in gene MRPS26 not aligned, skip...\n",
      "Finding mrna sequence in another exon...\n",
      "Finding mrna sequence in another exon...\n"
     ]
    },
    {
     "name": "stderr",
     "output_type": "stream",
     "text": [
      "\r",
      " 80%|██████████████████████████████████▌        | 74/92 [04:57<01:31,  5.10s/it]"
     ]
    },
    {
     "name": "stdout",
     "output_type": "stream",
     "text": [
      "GATAGCGAGGCTGCGGCAGG in gene MRPS26 not aligned, skip...\n",
      "Processing WDR46...Keep 0/670 low off-target sgRNAs...\n",
      "Processing ADAT3...Keep 552/628 low off-target sgRNAs...\n",
      "1913143 is in start/stop codon ...skippingCTACGTGTCGG\n",
      "1913143 is in start/stop codon ...skippingCTACGTGTCGG\n",
      "CTACGTGTCGGGGTCCAGCC in gene ADAT3 not aligned, skip...\n",
      "1912106 is in start/stop codon ...skippingATGGAGCCCGC\n",
      "ATGGAGCCCGCCCCGGGCCT in gene ADAT3 not aligned, skip...\n"
     ]
    },
    {
     "name": "stderr",
     "output_type": "stream",
     "text": [
      "\r",
      " 83%|███████████████████████████████████▌       | 76/92 [05:05<01:15,  4.70s/it]"
     ]
    },
    {
     "name": "stdout",
     "output_type": "stream",
     "text": [
      "Processing MEPCE...Keep 233/274 low off-target sgRNAs...\n",
      "CGTGACGAAGACAACATTGT in gene MEPCE not aligned, skip...\n",
      "Finding mrna sequence in another exon...\n"
     ]
    },
    {
     "name": "stderr",
     "output_type": "stream",
     "text": [
      "\r",
      " 84%|███████████████████████████████████▉       | 77/92 [05:09<01:06,  4.41s/it]"
     ]
    },
    {
     "name": "stdout",
     "output_type": "stream",
     "text": [
      "Processing USP18...Keep 70/394 low off-target sgRNAs...\n",
      "AGGGCACGTTGCACTTCTGC in gene USP18 not aligned, skip...\n",
      "Finding mrna sequence in another exon...\n",
      "Finding mrna sequence in another exon...\n"
     ]
    },
    {
     "name": "stderr",
     "output_type": "stream",
     "text": [
      "\r",
      " 85%|████████████████████████████████████▍      | 78/92 [05:10<00:50,  3.58s/it]"
     ]
    },
    {
     "name": "stdout",
     "output_type": "stream",
     "text": [
      "Processing MRPL43...Keep 201/210 low off-target sgRNAs...\n",
      "Finding mrna sequence in another exon...\n",
      "Finding extra sequence in mRNA failed, skip...\n"
     ]
    },
    {
     "name": "stderr",
     "output_type": "stream",
     "text": [
      "\r",
      " 86%|████████████████████████████████████▉      | 79/92 [05:12<00:44,  3.42s/it]"
     ]
    },
    {
     "name": "stdout",
     "output_type": "stream",
     "text": [
      "Processing MCL1...Keep 116/144 low off-target sgRNAs...\n",
      "Finding mrna sequence in another exon...\n",
      "Finding extra sequence in mRNA failed, skip...\n",
      "CAAAAGTCGCCCTCCCGGGC in gene MCL1 not aligned, skip...\n",
      "Finding mrna sequence in another exon...\n",
      "Finding extra sequence in mRNA failed, skip...\n"
     ]
    },
    {
     "name": "stderr",
     "output_type": "stream",
     "text": [
      "\r",
      " 87%|█████████████████████████████████████▍     | 80/92 [05:14<00:36,  3.03s/it]"
     ]
    },
    {
     "name": "stdout",
     "output_type": "stream",
     "text": [
      "150579521 is in start/stop codon ...skippingATGTTTGGCCT\n",
      "ATGTTTGGCCTCAAAAGAAA in gene MCL1 not aligned, skip...\n",
      "Processing CHCHD1...Keep 112/135 low off-target sgRNAs...\n",
      "Finding mrna sequence in another exon...\n",
      "CTGAGCCCTCGCGGCACAAT in gene CHCHD1 not aligned, skip...\n",
      "73782086 is in start/stop codon ...skippingATGGCGACACC\n",
      "ATGGCGACACCCAGCCTGCG in gene CHCHD1 not aligned, skip...\n",
      "73783176 is in start/stop codon ...skippingCAGCTGAGGTA\n",
      "73783176 is in start/stop codon ...skippingCAGCTGAGGTA\n",
      "CAGCTGAGGTAAGGTTTGTT in gene CHCHD1 need sequence not included in fasta file...\n",
      "73783175 is in start/stop codon ...skippingAGCTGAGGTAA\n",
      "Finding mrna sequence in another exon...\n"
     ]
    },
    {
     "name": "stderr",
     "output_type": "stream",
     "text": [
      "\r",
      " 88%|█████████████████████████████████████▊     | 81/92 [05:16<00:28,  2.56s/it]"
     ]
    },
    {
     "name": "stdout",
     "output_type": "stream",
     "text": [
      "Processing TIMM44...Keep 476/534 low off-target sgRNAs...\n",
      "Finding mrna sequence in another exon...\n",
      "Finding extra sequence in mRNA failed, skip...\n",
      "Finding mrna sequence in another exon...\n",
      "Finding extra sequence in mRNA failed, skip...\n",
      "AAAACCATCGAGTCAGAAAC in gene TIMM44 not aligned, skip...\n",
      "7927196 is in start/stop codon ...skippingTCAGAGAATCT\n",
      "7927196 is in start/stop codon ...skippingTCAGAGAATCT\n",
      "TCAGAGAATCTGCTCGGTGC in gene TIMM44 not aligned, skip...\n",
      "AGCTTCATAGCACCAGTCTT in gene TIMM44 not aligned, skip...\n",
      "7927196 is in start/stop codon ...skippingCAGAGAATCTG\n",
      "7927196 is in start/stop codon ...skippingCAGAGAATCTG\n",
      "CAGAGAATCTGCTCGGTGCT in gene TIMM44 need sequence not included in fasta file...\n",
      "CTGGCCATGGGCAAGATGAT in gene TIMM44 not aligned, skip...\n",
      "CGGGTCACCCTCCACCACCT in gene TIMM44 not aligned, skip...\n",
      "CTCCAGGACATTGGGGATGA in gene TIMM44 not aligned, skip...\n",
      "Finding mrna sequence in another exon...\n",
      "Finding extra sequence in mRNA failed, skip...\n"
     ]
    },
    {
     "name": "stderr",
     "output_type": "stream",
     "text": [
      "\r",
      " 89%|██████████████████████████████████████▎    | 82/92 [05:23<00:38,  3.88s/it]"
     ]
    },
    {
     "name": "stdout",
     "output_type": "stream",
     "text": [
      "Processing SIGLEC11...Keep 171/818 low off-target sgRNAs...\n",
      "Processing SNIP1...Keep 463/535 low off-target sgRNAs...\n",
      "Finding mrna sequence in another exon...\n",
      "Finding extra sequence in mRNA failed, skip...\n",
      "Finding mrna sequence in another exon...\n",
      "Finding extra sequence in mRNA failed, skip...\n",
      "Finding mrna sequence in another exon...\n",
      "Finding extra sequence in mRNA failed, skip...\n",
      "Finding mrna sequence in another exon...\n",
      "Finding extra sequence in mRNA failed, skip...\n",
      "Finding mrna sequence in another exon...\n",
      "Finding extra sequence in mRNA failed, skip...\n",
      "CTGCTTCACTTTGACTGTTG in gene SNIP1 not aligned, skip...\n"
     ]
    },
    {
     "name": "stderr",
     "output_type": "stream",
     "text": [
      "\r",
      " 91%|███████████████████████████████████████▎   | 84/92 [05:30<00:30,  3.77s/it]"
     ]
    },
    {
     "name": "stdout",
     "output_type": "stream",
     "text": [
      "Processing NOA1...Keep 793/930 low off-target sgRNAs...\n",
      "Finding mrna sequence in another exon...\n",
      "Finding extra sequence in mRNA failed, skip...\n",
      "Finding mrna sequence in another exon...\n",
      "Finding extra sequence in mRNA failed, skip...\n",
      "Finding mrna sequence in another exon...\n",
      "Finding extra sequence in mRNA failed, skip...\n",
      "Finding mrna sequence in another exon...\n",
      "Finding extra sequence in mRNA failed, skip...\n"
     ]
    },
    {
     "name": "stderr",
     "output_type": "stream",
     "text": [
      "\r",
      " 92%|███████████████████████████████████████▋   | 85/92 [05:42<00:39,  5.70s/it]"
     ]
    },
    {
     "name": "stdout",
     "output_type": "stream",
     "text": [
      "Processing IGLON5...Keep 60/473 low off-target sgRNAs...\n",
      "CTGCTTCATCGACGAGCACG in gene IGLON5 not aligned, skip...\n"
     ]
    },
    {
     "name": "stderr",
     "output_type": "stream",
     "text": [
      "\r",
      " 93%|████████████████████████████████████████▏  | 86/92 [05:43<00:26,  4.44s/it]"
     ]
    },
    {
     "name": "stdout",
     "output_type": "stream",
     "text": [
      "Processing SNAP29...Keep 285/324 low off-target sgRNAs...\n",
      "GAGCTCGCCCGTCAGCGAGG in gene SNAP29 not aligned, skip...\n",
      "Finding mrna sequence in another exon...\n",
      "CTGTATCATCCAGCTTTCTA in gene SNAP29 not aligned, skip...\n",
      "ATGAGCTGTCCATGGGACTG in gene SNAP29 not aligned, skip...\n",
      "ACCCTGTCCCCAGAGGGGCT in gene SNAP29 not aligned, skip...\n",
      "CTAGGTTGCTGTCGATCTTC in gene SNAP29 not aligned, skip...\n"
     ]
    },
    {
     "name": "stderr",
     "output_type": "stream",
     "text": [
      "\r",
      " 95%|████████████████████████████████████████▋  | 87/92 [05:47<00:22,  4.44s/it]"
     ]
    },
    {
     "name": "stdout",
     "output_type": "stream",
     "text": [
      "Processing HMGCS1...Keep 282/453 low off-target sgRNAs...\n",
      "Finding mrna sequence in another exon...\n",
      "Finding extra sequence in mRNA failed, skip...\n"
     ]
    },
    {
     "name": "stderr",
     "output_type": "stream",
     "text": [
      "\r",
      " 96%|█████████████████████████████████████████▏ | 88/92 [05:51<00:17,  4.26s/it]"
     ]
    },
    {
     "name": "stdout",
     "output_type": "stream",
     "text": [
      "Processing STAT5B...Keep 389/934 low off-target sgRNAs...\n",
      "Finding mrna sequence in another exon...\n",
      "Finding extra sequence in mRNA failed, skip...\n",
      "Finding mrna sequence in another exon...\n",
      "Finding extra sequence in mRNA failed, skip...\n",
      "Finding mrna sequence in another exon...\n",
      "Finding extra sequence in mRNA failed, skip...\n",
      "Finding mrna sequence in another exon...\n",
      "Finding extra sequence in mRNA failed, skip...\n",
      "Finding mrna sequence in another exon...\n",
      "Finding extra sequence in mRNA failed, skip...\n",
      "Finding mrna sequence in another exon...\n",
      "Finding extra sequence in mRNA failed, skip...\n"
     ]
    },
    {
     "name": "stderr",
     "output_type": "stream",
     "text": [
      "\r",
      " 97%|█████████████████████████████████████████▌ | 89/92 [05:57<00:14,  4.69s/it]"
     ]
    },
    {
     "name": "stdout",
     "output_type": "stream",
     "text": [
      "Processing DUT...Keep 55/125 low off-target sgRNAs...\n",
      "CTGTACAGGTCGTAGCCCGC in gene DUT not aligned, skip...\n",
      "GCCTTGGATGACACCGAAAG in gene DUT not aligned, skip...\n"
     ]
    },
    {
     "name": "stderr",
     "output_type": "stream",
     "text": [
      "\r",
      " 98%|██████████████████████████████████████████ | 90/92 [05:58<00:07,  3.55s/it]"
     ]
    },
    {
     "name": "stdout",
     "output_type": "stream",
     "text": [
      "Processing COA3...Keep 122/142 low off-target sgRNAs...\n",
      "42798671 is in start/stop codon ...skippingATGGCGTCTTC\n",
      "ATGGCGTCTTCGGGAGCTGG in gene COA3 not aligned, skip...\n",
      "42798073 is in start/stop codon ...skippingAGGACCCTGAC\n",
      "Finding mrna sequence in another exon...\n",
      "Finding extra sequence in mRNA failed, skip...\n",
      "Finding mrna sequence in another exon...\n",
      "Finding extra sequence in mRNA failed, skip...\n"
     ]
    },
    {
     "name": "stderr",
     "output_type": "stream",
     "text": [
      "100%|███████████████████████████████████████████| 92/92 [06:00<00:00,  3.91s/it]"
     ]
    },
    {
     "name": "stdout",
     "output_type": "stream",
     "text": [
      "Processing FLOT1...Keep 0/430 low off-target sgRNAs...\n"
     ]
    },
    {
     "name": "stderr",
     "output_type": "stream",
     "text": [
      "\n"
     ]
    }
   ],
   "source": [
    "fpath = '../data/output/sg_out/'\n",
    "list_gene = [i for i in listdir(fpath) if not i.startswith('.')]\n",
    "list_gene = [i for i in list_gene if len(listdir(join(fpath,i))) > 5]\n",
    "list_gene = [i for i in list_gene if i in list(f_genelist[0])]\n",
    "run_sgFinder(list_gene, tag = 'ess' )"
   ]
  },
  {
   "cell_type": "markdown",
   "id": "e5e4d463",
   "metadata": {},
   "source": [
    "***Run opposite + depletion gene list***"
   ]
  },
  {
   "cell_type": "code",
   "execution_count": 77,
   "id": "dcf67b49",
   "metadata": {
    "collapsed": true
   },
   "outputs": [
    {
     "name": "stderr",
     "output_type": "stream",
     "text": [
      "  6%|██▌                                         | 1/17 [00:00<00:02,  5.99it/s]"
     ]
    },
    {
     "name": "stdout",
     "output_type": "stream",
     "text": [
      "Processing AMN...Keep 574/648 low off-target sgRNAs...\n",
      "Processing NKX6-1...Keep 436/601 low off-target sgRNAs...\n"
     ]
    },
    {
     "name": "stderr",
     "output_type": "stream",
     "text": [
      "\r",
      " 12%|█████▏                                      | 2/17 [00:00<00:02,  6.27it/s]"
     ]
    },
    {
     "name": "stdout",
     "output_type": "stream",
     "text": [
      "Processing ZBTB20...Keep 905/1017 low off-target sgRNAs...\n"
     ]
    },
    {
     "name": "stderr",
     "output_type": "stream",
     "text": [
      " 24%|██████████▎                                 | 4/17 [00:13<00:48,  3.75s/it]"
     ]
    },
    {
     "name": "stdout",
     "output_type": "stream",
     "text": [
      "Processing PCDHA8...Keep 253/1176 low off-target sgRNAs...\n",
      "Processing ICAM4...Keep 350/369 low off-target sgRNAs...\n",
      "Finding mrna sequence in another exon...\n",
      "Finding mrna sequence in another exon...\n"
     ]
    },
    {
     "name": "stderr",
     "output_type": "stream",
     "text": [
      "\r",
      " 29%|████████████▉                               | 5/17 [00:18<00:47,  3.97s/it]"
     ]
    },
    {
     "name": "stdout",
     "output_type": "stream",
     "text": [
      "Processing PFN3...Keep 228/235 low off-target sgRNAs...\n",
      "Processing ING1...Keep 252/330 low off-target sgRNAs...\n",
      "Finding mrna sequence in another exon...\n",
      "110719308 is in start/stop codon ...skippingATGCTGCACTG\n",
      "ATGCTGCACTGTGTGCAGCG in gene ING1 not aligned, skip...\n"
     ]
    },
    {
     "name": "stderr",
     "output_type": "stream",
     "text": [
      "\r",
      " 41%|██████████████████                          | 7/17 [00:21<00:28,  2.84s/it]"
     ]
    },
    {
     "name": "stdout",
     "output_type": "stream",
     "text": [
      "Processing CALY...Keep 153/174 low off-target sgRNAs...\n",
      "Processing SIGLEC5...Keep 140/532 low off-target sgRNAs...\n",
      "Finding mrna sequence in another exon...\n",
      "Finding extra sequence in mRNA failed, skip...\n",
      "Finding mrna sequence in another exon...\n",
      "Finding extra sequence in mRNA failed, skip...\n",
      "51612313 is in start/stop codon ...skippingCATCTCAGAAA\n",
      "51612313 is in start/stop codon ...skippingCATCTCAGAAA\n",
      "CATCTCAGAAAAACTAAGGG in gene SIGLEC5 need sequence not included in fasta file...\n",
      "51612314 is in start/stop codon ...skippingATCTCAGAAAA\n",
      "Finding mrna sequence in another exon...\n",
      "Finding extra sequence in mRNA failed, skip...\n"
     ]
    },
    {
     "name": "stderr",
     "output_type": "stream",
     "text": [
      "\r",
      " 53%|███████████████████████▎                    | 9/17 [00:23<00:15,  1.97s/it]"
     ]
    },
    {
     "name": "stdout",
     "output_type": "stream",
     "text": [
      "Processing CHST13...Keep 488/570 low off-target sgRNAs...\n",
      "Finding mrna sequence in another exon...\n",
      "Finding mrna sequence in another exon...\n",
      "126542568 is in start/stop codon ...skippingTAGAGCAGCCG\n",
      "TAGAGCAGCCGCAGGTAGGA in gene CHST13 need sequence not included in fasta file...\n",
      "126542568 is in start/stop codon ...skippingCTAGAGCAGCC\n",
      "126542568 is in start/stop codon ...skippingCTAGAGCAGCC\n",
      "CTAGAGCAGCCGCAGGTAGG in gene CHST13 not aligned, skip...\n"
     ]
    },
    {
     "name": "stderr",
     "output_type": "stream",
     "text": [
      "\r",
      " 59%|█████████████████████████▎                 | 10/17 [00:28<00:19,  2.82s/it]"
     ]
    },
    {
     "name": "stdout",
     "output_type": "stream",
     "text": [
      "Processing HHEX...Keep 296/372 low off-target sgRNAs...\n",
      "Finding mrna sequence in another exon...\n",
      "Finding mrna sequence in another exon...\n"
     ]
    },
    {
     "name": "stderr",
     "output_type": "stream",
     "text": [
      "\r",
      " 65%|███████████████████████████▊               | 11/17 [00:32<00:18,  3.05s/it]"
     ]
    },
    {
     "name": "stdout",
     "output_type": "stream",
     "text": [
      "Finding mrna sequence in another exon...\n",
      "Processing ZIC4...Keep 134/181 low off-target sgRNAs...\n"
     ]
    },
    {
     "name": "stderr",
     "output_type": "stream",
     "text": [
      " 76%|████████████████████████████████▉          | 13/17 [00:32<00:06,  1.71s/it]"
     ]
    },
    {
     "name": "stdout",
     "output_type": "stream",
     "text": [
      "Processing GSC...Keep 382/414 low off-target sgRNAs...\n",
      "Processing ACOT1...Keep 16/620 low off-target sgRNAs...\n"
     ]
    },
    {
     "name": "stderr",
     "output_type": "stream",
     "text": [
      "\r",
      " 82%|███████████████████████████████████▍       | 14/17 [00:32<00:03,  1.26s/it]"
     ]
    },
    {
     "name": "stdout",
     "output_type": "stream",
     "text": [
      "Processing AOAH...Keep 423/494 low off-target sgRNAs...\n"
     ]
    },
    {
     "name": "stderr",
     "output_type": "stream",
     "text": [
      " 94%|████████████████████████████████████████▍  | 16/17 [00:33<00:00,  1.35it/s]"
     ]
    },
    {
     "name": "stdout",
     "output_type": "stream",
     "text": [
      "Processing HOXD1...Keep 450/527 low off-target sgRNAs...\n",
      "Processing C2CD4B...Keep 294/673 low off-target sgRNAs...\n"
     ]
    },
    {
     "name": "stderr",
     "output_type": "stream",
     "text": [
      "100%|███████████████████████████████████████████| 17/17 [00:33<00:00,  1.96s/it]\n"
     ]
    }
   ],
   "source": [
    "list_gene_enrich = [i for i in listdir('../data/output/sg_out_enrich') if not i.startswith('.')]\n",
    "list_gene_enrich = [i for i in list_gene_enrich if len(listdir(join('../data/output/sg_out_enrich',i))) > 5]\n",
    "run_sgFinder(list_gene_enrich, tag = 'enr' , sg_p ='../data/output/sg_out_enrich' )"
   ]
  },
  {
   "cell_type": "code",
   "execution_count": null,
   "id": "0a82ee5a",
   "metadata": {},
   "outputs": [],
   "source": []
  },
  {
   "cell_type": "markdown",
   "id": "b924a0e6",
   "metadata": {},
   "source": [
    "***For Debugging...***\n",
    "***Single gene checks***"
   ]
  },
  {
   "cell_type": "code",
   "execution_count": 49,
   "id": "dc9834ae",
   "metadata": {},
   "outputs": [
    {
     "name": "stdout",
     "output_type": "stream",
     "text": [
      "Processing MCL1...Keep 116/144 low off-target sgRNAs...\n",
      "150579530\n",
      "[150579499, 2, Seq('TCCGATTACCGCGTTTCTTT'), (150579500, 150579498), (2, 4), Seq('GGA'), Seq('GAA')]\n",
      "150579530\n",
      "[150579500, 1, Seq('TCCGATTACCGCGTTTCTTT'), (150579500, 150579498), (2, 4), Seq('GGA'), Seq('AGA')]\n",
      "150579530\n",
      "[150579506, 1, Seq('TCCGATTACCGCGTTTCTTT'), (150579506, 150579504), (8, 10), Seq('GTA'), Seq('ATA')]\n",
      "150579530\n",
      "[150579507, 3, Seq('TCCGATTACCGCGTTTCTTT'), (150579509, 150579507), (11, 13), Seq('GCG'), Seq('GCA')]\n",
      "150579530\n",
      "[150579502, 2, Seq('TCCGATTACCGCGTTTCTTT'), (150579503, 150579501), (5, 7), Seq('ATC'), Seq('ACC')]\n",
      "150579530\n",
      "[150579505, 2, Seq('TCCGATTACCGCGTTTCTTT'), (150579506, 150579504), (8, 10), Seq('GTA'), Seq('GCA')]\n"
     ]
    }
   ],
   "source": [
    "sg_gene = syn_sgFinder.sgFinder_gene('MCL1')\n",
    "sg_gene.gene_cds_proc()\n",
    "sg_sg = syn_sgFinder.sgFinder_sg(sg_gene.gene,2)\n",
    "sg_sg.process_BE_window(sg_gene)\n",
    "sg_trsp = syn_sgFinder.sgFinder_transcript(sg_gene.gene,2, 'NM_021960')\n",
    "sg_trsp.all_pos_consq(sg_gene,sg_sg)"
   ]
  }
 ],
 "metadata": {
  "kernelspec": {
   "display_name": "Python 3 (ipykernel)",
   "language": "python",
   "name": "python3"
  },
  "language_info": {
   "codemirror_mode": {
    "name": "ipython",
    "version": 3
   },
   "file_extension": ".py",
   "mimetype": "text/x-python",
   "name": "python",
   "nbconvert_exporter": "python",
   "pygments_lexer": "ipython3",
   "version": "3.7.12"
  }
 },
 "nbformat": 4,
 "nbformat_minor": 5
}
