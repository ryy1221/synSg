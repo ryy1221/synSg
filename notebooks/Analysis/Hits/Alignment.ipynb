{
 "cells": [
  {
   "cell_type": "code",
   "execution_count": 1,
   "id": "a90d57cb",
   "metadata": {},
   "outputs": [],
   "source": [
    "### This notebook process the aligned files\n",
    "import pandas as pd\n",
    "# This notebook analyze the post alignment files...\n",
    "from os.path import join\n",
    "from os import listdir\n",
    "import pandas as pd\n",
    "from tqdm import tqdm\n",
    "import re\n",
    "from Bio import SeqIO"
   ]
  },
  {
   "cell_type": "code",
   "execution_count": 2,
   "id": "532eb6e4",
   "metadata": {},
   "outputs": [],
   "source": [
    "align_path  = '../data/sequencing/Library/bowtie_output'\n",
    "out_path = '../data/sequencing/Library/read_count'\n",
    "ref_path  = '../ref_fasta'"
   ]
  },
  {
   "cell_type": "code",
   "execution_count": 7,
   "id": "9f8e8311",
   "metadata": {},
   "outputs": [],
   "source": [
    "# def annotate(x):\n",
    "#     if x.name.endswith('_EXP'):\n",
    "#         label = 'EXP'\n",
    "#     elif x.name.endswith('_POS'):\n",
    "#         label = 'POS'\n",
    "#     elif x.name.endswith('_ETY_NEG'):\n",
    "#         label = 'NEG_ETY'\n",
    "#     else:label = 'NEG_OTHER'\n",
    "#     return(label)"
   ]
  },
  {
   "cell_type": "code",
   "execution_count": 3,
   "id": "ef9a8228",
   "metadata": {},
   "outputs": [],
   "source": [
    "# We aim to construct a dataframe that has sgRNA names as column names, and days as indexes. Counts shown in the cells\n",
    "# 2 dataframes, one for ABE one for CBE\n",
    "ABE_sg = SeqIO.parse(join(ref_path,'CABE.fasta'),'fasta')\n",
    "ABE_sg_list = [(i.seq,i.id) for i in ABE_sg]\n",
    "ABE_sg_seqs, ABE_sg_names =[list(t) for t in zip(*ABE_sg_list)]\n",
    "CBE_sg = SeqIO.parse(join(ref_path,'CCBE.fasta'),'fasta')\n",
    "CBE_sg_list = [(i.seq,i.id) for i in CBE_sg]\n",
    "CBE_sg_seqs, CBE_sg_names =[list(t) for t in zip(*CBE_sg_list)]\n",
    "\n",
    "ABE_sg_seqs = [''.join(list(i)) for i in ABE_sg_seqs]\n",
    "CBE_sg_seqs = [''.join(list(i)) for i in CBE_sg_seqs]\n",
    "\n",
    "ABE_df = pd.DataFrame({'sgRNA':ABE_sg_seqs},index = ABE_sg_names)\n",
    "CBE_df = pd.DataFrame({'sgRNA':CBE_sg_seqs},index = CBE_sg_names)"
   ]
  },
  {
   "cell_type": "code",
   "execution_count": 5,
   "id": "0b035bf1",
   "metadata": {},
   "outputs": [],
   "source": [
    "def alignment(align_path_, timepoint_, cell_):\n",
    "    global ABE_df, CBE_df\n",
    "    \n",
    "    _df_ABE= ABE_df.copy()\n",
    "    _df_CBE = CBE_df.copy()\n",
    "    \n",
    "    cell_abbv = cell_[0]\n",
    "    ### The original code that only return counts\n",
    "    for fname in tqdm([i for i in listdir(align_path_) if (i.startswith('out.')) & (i.endswith('.txt'))]):\n",
    "        # Get the library and the day\n",
    "        lib = fname.split('_')[1];day = fname.split('_')[0].split('.')[1];editor = fname.split('_')[2]\n",
    "        if day == timepoint_:\n",
    "            if (lib.startswith(f'{cell_abbv}A')) or (lib.startswith(f'{cell_abbv}C')):\n",
    "                align_out = pd.read_csv(join(align_path_, fname), index_col = 0, sep = '\\t', header = None)\n",
    "                align_ = align_out.groupby(2).agg({2:'count'}) \n",
    "                align_.columns = ['count']\n",
    "                align_ = align_.add_suffix(f'_{lib}_{day}_{editor}')\n",
    "                if lib.startswith(f'{cell_abbv}A'):\n",
    "                    _df_ABE = pd.concat([_df_ABE,align_], axis = 1)\n",
    "                if lib.startswith(f'{cell_abbv}C'):\n",
    "                    _df_CBE = pd.concat([_df_CBE,align_], axis = 1)\n",
    "    return(_df_ABE, _df_CBE)"
   ]
  },
  {
   "cell_type": "code",
   "execution_count": 6,
   "id": "470d414c",
   "metadata": {},
   "outputs": [
    {
     "name": "stderr",
     "output_type": "stream",
     "text": [
      "100%|██████████| 30/30 [06:10<00:00, 12.36s/it]\n"
     ]
    }
   ],
   "source": [
    "# Save the aligned dataframe\n",
    "# ABE1_df.fillna(0).to_csv('..//ABE_df.csv')\n",
    "\n",
    "timepoint = 'D0'\n",
    "cell = 'Jurkat'\n",
    "\n",
    "JD0_ABE, JD0_CBE = alignment(align_path, timepoint, cell)\n",
    "\n",
    "JD0_CBE.fillna(0).to_csv(join(out_path, f'{cell}_{timepoint}_CBE_df.csv'))\n",
    "JD0_ABE.fillna(0).to_csv(join(out_path, f'{cell}_{timepoint}_ABE_df.csv'))"
   ]
  },
  {
   "cell_type": "code",
   "execution_count": 8,
   "id": "f460c2ce",
   "metadata": {},
   "outputs": [
    {
     "name": "stderr",
     "output_type": "stream",
     "text": [
      "100%|██████████| 26/26 [07:13<00:00, 16.66s/it]\n"
     ]
    }
   ],
   "source": [
    "timepoint = 'D0'\n",
    "cell = 'K562'\n",
    "\n",
    "KD0_ABE, KD0_CBE = alignment(align_path, timepoint, cell)\n",
    "\n",
    "KD0_CBE.fillna(0).to_csv(join(out_path, f'{cell}_{timepoint}_CBE_df.csv'))\n",
    "KD0_ABE.fillna(0).to_csv(join(out_path, f'{cell}_{timepoint}_ABE_df.csv'))"
   ]
  },
  {
   "cell_type": "code",
   "execution_count": 10,
   "id": "14007677",
   "metadata": {},
   "outputs": [
    {
     "name": "stderr",
     "output_type": "stream",
     "text": [
      "100%|██████████| 26/26 [04:00<00:00,  9.23s/it]\n"
     ]
    }
   ],
   "source": [
    "timepoint = 'DN1'\n",
    "cell = 'K562'\n",
    "\n",
    "KDN1_ABE, KDN1_CBE = alignment(align_path, timepoint, cell)\n",
    "\n",
    "KDN1_CBE.fillna(0).to_csv(join(out_path, f'{cell}_{timepoint}_CBE_df.csv'))\n",
    "KDN1_ABE.fillna(0).to_csv(join(out_path, f'{cell}_{timepoint}_ABE_df.csv'))"
   ]
  },
  {
   "cell_type": "code",
   "execution_count": 12,
   "id": "e16d5822",
   "metadata": {},
   "outputs": [
    {
     "name": "stderr",
     "output_type": "stream",
     "text": [
      "100%|██████████| 26/26 [01:21<00:00,  3.12s/it]\n"
     ]
    }
   ],
   "source": [
    "timepoint = 'D14'\n",
    "cell = 'K562'\n",
    "\n",
    "KD14_ABE, KD14_CBE = alignment(align_path, timepoint, cell)\n",
    "\n",
    "KD14_CBE.fillna(0).to_csv(join(out_path, f'{cell}_{timepoint}_CBE_df.csv'))\n",
    "# KD14_ABE.fillna(0).to_csv(join(out_path, f'{cell}_{timepoint}_ABE_df.csv'))"
   ]
  },
  {
   "cell_type": "code",
   "execution_count": 7,
   "id": "5e511805",
   "metadata": {},
   "outputs": [
    {
     "name": "stderr",
     "output_type": "stream",
     "text": [
      "100%|██████████| 30/30 [03:23<00:00,  6.79s/it]\n"
     ]
    }
   ],
   "source": [
    "timepoint = 'DN1'\n",
    "cell = 'Jurkat'\n",
    "\n",
    "JDN1_ABE, JDN1_CBE = alignment(align_path, timepoint, cell)\n",
    "\n",
    "JDN1_CBE.fillna(0).to_csv(join(out_path, f'{cell}_{timepoint}_CBE_df.csv'))\n",
    "JDN1_ABE.fillna(0).to_csv(join(out_path, f'{cell}_{timepoint}_ABE_df.csv'))"
   ]
  }
 ],
 "metadata": {
  "kernelspec": {
   "display_name": "synSg",
   "language": "python",
   "name": "synsg"
  },
  "language_info": {
   "codemirror_mode": {
    "name": "ipython",
    "version": 3
   },
   "file_extension": ".py",
   "mimetype": "text/x-python",
   "name": "python",
   "nbconvert_exporter": "python",
   "pygments_lexer": "ipython3",
   "version": "3.7.16"
  }
 },
 "nbformat": 4,
 "nbformat_minor": 5
}
