{
 "cells": [
  {
   "cell_type": "code",
   "execution_count": 1,
   "id": "7d48c278-f14f-4583-b898-26864deea8a5",
   "metadata": {},
   "outputs": [],
   "source": [
    "### This notebook implement DEseq from count data and draw candidates from cutoffs"
   ]
  },
  {
   "cell_type": "code",
   "execution_count": 1,
   "id": "d442f298-8c73-4575-97ac-3a17e45abf28",
   "metadata": {},
   "outputs": [],
   "source": [
    "import pandas\n",
    "from os.path import join\n",
    "from os import listdir\n",
    "import pandas as pd\n",
    "# from tqdm import tqdm\n",
    "from collections import Counter\n",
    "import re\n",
    "import math\n",
    "\n",
    "from Bio import SeqIO\n",
    "from Bio.Seq import MutableSeq,Seq\n",
    "\n",
    "import seaborn as sns\n",
    "import numpy as np\n",
    "import matplotlib.pyplot as plt"
   ]
  },
  {
   "cell_type": "code",
   "execution_count": 2,
   "id": "87f89a59-c9c6-4768-8a82-b61d465271a4",
   "metadata": {},
   "outputs": [],
   "source": [
    "# count_path = '../data/output/library_alignment'\n",
    "count_path = '../data/sequencing/Library/read_count'\n",
    "metadata = pd.read_csv(join(count_path, 'metadata.csv'), index_col = 0)"
   ]
  },
  {
   "cell_type": "code",
   "execution_count": 3,
   "id": "a56976e9-b8b0-47e9-ab13-0e8315a4f2d7",
   "metadata": {},
   "outputs": [],
   "source": [
    "def calc_L2FC(df,lib1,lib2):\n",
    "    l2fc1 = np.log2((df[lib1]/df[lib1].sum()*1000000)+1)\n",
    "    l2fc2 = np.log2((df[lib2]/df[lib2].sum()*1000000)+1)\n",
    "    l2fc = l2fc2-l2fc1\n",
    "    return(l2fc)\n",
    "\n",
    "def calc_L2RD(df,lib1):\n",
    "    l2fc1 = np.log2((df[lib1]/df[lib1].sum()*1000000)+1)\n",
    "    return(l2fc1)\n",
    "\n",
    "def calc_threshold(df_column):\n",
    "    m_3std = (df_column.mean()-3*df_column.std(),df_column.mean()+3*df_column.std())\n",
    "    return(m_3std)\n",
    "\n",
    "def filter_sg(df, lib):\n",
    "    m_3std = calc_threshold(df[lib])\n",
    "    filter_idx = df[(df[lib] > m_3std[0]) & (df[lib] < m_3std[1])].index\n",
    "    return(filter_idx)   "
   ]
  },
  {
   "cell_type": "code",
   "execution_count": 4,
   "id": "65b46b77-6e4d-48ce-b9af-f71d723686cd",
   "metadata": {},
   "outputs": [],
   "source": [
    "cell_line = 'K562'; be ='ABE'; baseline = 'DN1'; endpoint = 'D0'\n",
    "\n",
    "baseline_df = pd.read_csv(join(count_path, f'{cell_line}_{baseline}_{be}_df.csv'), index_col = 0)\n",
    "endpoint_df = pd.read_csv(join(count_path, f'{cell_line}_{endpoint}_{be}_df.csv'), index_col = 0)\n",
    "\n",
    "test_df = pd.concat([baseline_df, endpoint_df], axis =1)"
   ]
  },
  {
   "cell_type": "code",
   "execution_count": 5,
   "id": "f9d30349-dcb3-4e22-9e52-12b08549b3b7",
   "metadata": {},
   "outputs": [],
   "source": [
    "filter_libs = [i for i in test_df.columns if 'DN1' in i]"
   ]
  },
  {
   "cell_type": "code",
   "execution_count": 6,
   "id": "9fc1a920-e608-4484-b587-d25e8ed4c41b",
   "metadata": {
    "tags": []
   },
   "outputs": [],
   "source": [
    "df = test_df.copy()\n",
    "lib1 = filter_libs[0]\n",
    "lib2 = filter_libs[1]\n",
    "df_rpm = pd.DataFrame([calc_L2RD(df, lib1), \\\n",
    "                       calc_L2RD(df, lib2)]).T\n",
    "tsd1 = filter_sg(df_rpm,lib1)\n",
    "tsd2 = filter_sg(df_rpm,lib2)\n",
    "index = tsd1.intersection(tsd2)\n",
    "test_df = test_df.loc[index,:]"
   ]
  },
  {
   "cell_type": "code",
   "execution_count": 7,
   "id": "cca4656c-27c5-42be-a2b3-73d597362f6d",
   "metadata": {},
   "outputs": [],
   "source": [
    "test_df.to_csv(join('../data/sequencing/Library/filtered_read_count', f'{cell_line}_{be}_{baseline}_{endpoint}.csv'))"
   ]
  },
  {
   "cell_type": "code",
   "execution_count": 8,
   "id": "1ed0c118-672b-4cfa-b884-3e19cd2a40e6",
   "metadata": {},
   "outputs": [],
   "source": [
    "test_df['index'] = test_df.index\n",
    "test_df['categ'] = test_df['index'].apply(lambda x: x.split('_')[0])"
   ]
  },
  {
   "cell_type": "code",
   "execution_count": 9,
   "id": "d97d93f6-7a76-41e0-a11c-03fd54238150",
   "metadata": {},
   "outputs": [],
   "source": [
    "cols = [i for i in test_df.columns if i.startswith('count')]\n",
    "clinical_df = pd.DataFrame(cols, columns = ['Day'])"
   ]
  },
  {
   "cell_type": "code",
   "execution_count": 10,
   "id": "ab0da76e-f6a5-4f75-aa5f-fd97ccd38e42",
   "metadata": {},
   "outputs": [
    {
     "data": {
      "text/html": [
       "<div>\n",
       "<style scoped>\n",
       "    .dataframe tbody tr th:only-of-type {\n",
       "        vertical-align: middle;\n",
       "    }\n",
       "\n",
       "    .dataframe tbody tr th {\n",
       "        vertical-align: top;\n",
       "    }\n",
       "\n",
       "    .dataframe thead th {\n",
       "        text-align: right;\n",
       "    }\n",
       "</style>\n",
       "<table border=\"1\" class=\"dataframe\">\n",
       "  <thead>\n",
       "    <tr style=\"text-align: right;\">\n",
       "      <th></th>\n",
       "      <th>Day</th>\n",
       "    </tr>\n",
       "  </thead>\n",
       "  <tbody>\n",
       "    <tr>\n",
       "      <th>0</th>\n",
       "      <td>count_KC1_DN1</td>\n",
       "    </tr>\n",
       "    <tr>\n",
       "      <th>1</th>\n",
       "      <td>count_KC2_DN1</td>\n",
       "    </tr>\n",
       "    <tr>\n",
       "      <th>2</th>\n",
       "      <td>count_KC1_D0_CBE</td>\n",
       "    </tr>\n",
       "    <tr>\n",
       "      <th>3</th>\n",
       "      <td>count_KC1_D0_nSpG</td>\n",
       "    </tr>\n",
       "    <tr>\n",
       "      <th>4</th>\n",
       "      <td>count_KC2_D0_CBE</td>\n",
       "    </tr>\n",
       "    <tr>\n",
       "      <th>5</th>\n",
       "      <td>count_KC2_D0_nSpG</td>\n",
       "    </tr>\n",
       "  </tbody>\n",
       "</table>\n",
       "</div>"
      ],
      "text/plain": [
       "                 Day\n",
       "0      count_KC1_DN1\n",
       "1      count_KC2_DN1\n",
       "2   count_KC1_D0_CBE\n",
       "3  count_KC1_D0_nSpG\n",
       "4   count_KC2_D0_CBE\n",
       "5  count_KC2_D0_nSpG"
      ]
     },
     "execution_count": 10,
     "metadata": {},
     "output_type": "execute_result"
    }
   ],
   "source": [
    "clinical_df"
   ]
  },
  {
   "cell_type": "code",
   "execution_count": 11,
   "id": "82dacf34-38b8-414a-8db7-de8b3bb07942",
   "metadata": {},
   "outputs": [],
   "source": [
    "cols = [i for i in test_df.columns if i.startswith('count')]\n",
    "clinical_df = pd.DataFrame(index = cols, columns = ['Day'])\n",
    "clinical_df['Day'] = [i.split('_')[2] for i in cols]"
   ]
  },
  {
   "cell_type": "code",
   "execution_count": 12,
   "id": "9dfb4ef7-6347-465c-807d-174db5765695",
   "metadata": {},
   "outputs": [],
   "source": [
    "from pydeseq2.dds import DeseqDataSet\n",
    "from pydeseq2.ds import DeseqStats"
   ]
  },
  {
   "cell_type": "code",
   "execution_count": 13,
   "id": "7eb389c4-be8f-4b8e-b360-c345b97d058b",
   "metadata": {
    "tags": []
   },
   "outputs": [
    {
     "data": {
      "text/html": [
       "<div>\n",
       "<style scoped>\n",
       "    .dataframe tbody tr th:only-of-type {\n",
       "        vertical-align: middle;\n",
       "    }\n",
       "\n",
       "    .dataframe tbody tr th {\n",
       "        vertical-align: top;\n",
       "    }\n",
       "\n",
       "    .dataframe thead th {\n",
       "        text-align: right;\n",
       "    }\n",
       "</style>\n",
       "<table border=\"1\" class=\"dataframe\">\n",
       "  <thead>\n",
       "    <tr style=\"text-align: right;\">\n",
       "      <th></th>\n",
       "      <th>Day</th>\n",
       "    </tr>\n",
       "  </thead>\n",
       "  <tbody>\n",
       "    <tr>\n",
       "      <th>count_KC1_DN1</th>\n",
       "      <td>DN1</td>\n",
       "    </tr>\n",
       "    <tr>\n",
       "      <th>count_KC2_DN1</th>\n",
       "      <td>DN1</td>\n",
       "    </tr>\n",
       "    <tr>\n",
       "      <th>count_KC1_D0_CBE</th>\n",
       "      <td>D0</td>\n",
       "    </tr>\n",
       "    <tr>\n",
       "      <th>count_KC1_D0_nSpG</th>\n",
       "      <td>D0</td>\n",
       "    </tr>\n",
       "    <tr>\n",
       "      <th>count_KC2_D0_CBE</th>\n",
       "      <td>D0</td>\n",
       "    </tr>\n",
       "    <tr>\n",
       "      <th>count_KC2_D0_nSpG</th>\n",
       "      <td>D0</td>\n",
       "    </tr>\n",
       "  </tbody>\n",
       "</table>\n",
       "</div>"
      ],
      "text/plain": [
       "                   Day\n",
       "count_KC1_DN1      DN1\n",
       "count_KC2_DN1      DN1\n",
       "count_KC1_D0_CBE    D0\n",
       "count_KC1_D0_nSpG   D0\n",
       "count_KC2_D0_CBE    D0\n",
       "count_KC2_D0_nSpG   D0"
      ]
     },
     "execution_count": 13,
     "metadata": {},
     "output_type": "execute_result"
    }
   ],
   "source": [
    "clinical_df"
   ]
  },
  {
   "cell_type": "code",
   "execution_count": 14,
   "id": "f92b4d73-c21a-4e5b-af9c-cae13a0f3b60",
   "metadata": {},
   "outputs": [],
   "source": [
    "library = 'CBE'; \n",
    "\n",
    "baseline_index = [i for i in clinical_df.index if i.endswith(baseline)]\n",
    "library_index = [i for i in clinical_df.index if i.endswith(library)]\n",
    "sel_index = baseline_index+library_index"
   ]
  },
  {
   "cell_type": "code",
   "execution_count": 15,
   "id": "98f54781-8a59-4aad-b495-5a7e93ed1d14",
   "metadata": {},
   "outputs": [
    {
     "data": {
      "text/plain": [
       "['count_KC1_DN1', 'count_KC2_DN1', 'count_KC1_D0_CBE', 'count_KC2_D0_CBE']"
      ]
     },
     "execution_count": 15,
     "metadata": {},
     "output_type": "execute_result"
    }
   ],
   "source": [
    "sel_index"
   ]
  },
  {
   "cell_type": "code",
   "execution_count": 37,
   "id": "2378b7f4-368a-49d9-9d60-daa0f7126705",
   "metadata": {},
   "outputs": [
    {
     "name": "stderr",
     "output_type": "stream",
     "text": [
      "Fitting size factors...\n",
      "... done in 0.00 seconds.\n",
      "\n",
      "Fitting dispersions...\n",
      "... done in 1.30 seconds.\n",
      "\n",
      "Fitting dispersion trend curve...\n",
      "... done in 0.25 seconds.\n",
      "\n",
      "/storage/group/epo2/default/yur97/conda_envs/deseq2/lib/python3.8/site-packages/pydeseq2/dds.py:425: UserWarning: As the residual degrees of freedom is less than 3, the distribution of log dispersions is especially asymmetric and likely to be poorly estimated by the MAD.\n",
      "  self.fit_dispersion_prior()\n",
      "Fitting MAP dispersions...\n",
      "... done in 1.44 seconds.\n",
      "\n",
      "Fitting LFCs...\n",
      "... done in 0.78 seconds.\n",
      "\n",
      "Refitting 0 outliers.\n",
      "\n",
      "Running Wald tests...\n"
     ]
    },
    {
     "name": "stdout",
     "output_type": "stream",
     "text": [
      "Log2 fold change & Wald test p-value: Day D14 vs DN1\n",
      "                    baseMean  log2FoldChange     lfcSE      stat    pvalue  \\\n",
      "SYN_CLP1_0       1945.331373       -0.013813  0.373973 -0.036936  0.970536   \n",
      "SYN_CLP1_1       3928.610715        0.405055  0.251582  1.610029  0.107392   \n",
      "SYN_CLP1_2       1188.032708       -0.404028  0.432284 -0.934634  0.349977   \n",
      "SYN_CLP1_3        761.516829       -0.072677  0.500663 -0.145162  0.884583   \n",
      "SYN_CLP1_4       1686.519526       -0.132085  0.353544 -0.373603  0.708699   \n",
      "...                      ...             ...       ...       ...       ...   \n",
      "Control_NT_1792  2893.796384        0.434050  0.289214  1.500789  0.133410   \n",
      "Control_NT_1793  1184.149781        0.026528  0.402771  0.065865  0.947486   \n",
      "Control_NT_1794  1093.183194       -0.456190  0.447151 -1.020214  0.307627   \n",
      "Control_NT_1795  1468.753588        0.099222  0.360585  0.275168  0.783187   \n",
      "Control_NT_1796  1524.625376        0.173527  0.372081  0.466369  0.640951   \n",
      "\n",
      "                     padj  \n",
      "SYN_CLP1_0       0.998249  \n",
      "SYN_CLP1_1       0.762384  \n",
      "SYN_CLP1_2       0.918281  \n",
      "SYN_CLP1_3       0.993037  \n",
      "SYN_CLP1_4       0.976863  \n",
      "...                   ...  \n",
      "Control_NT_1792  0.792457  \n",
      "Control_NT_1793  0.995372  \n",
      "Control_NT_1794  0.905356  \n",
      "Control_NT_1795  0.982332  \n",
      "Control_NT_1796  0.968749  \n",
      "\n",
      "[7163 rows x 6 columns]\n"
     ]
    },
    {
     "name": "stderr",
     "output_type": "stream",
     "text": [
      "... done in 0.56 seconds.\n",
      "\n"
     ]
    }
   ],
   "source": [
    "# Testing the ABE or the control nSpG library\n",
    "anlyzeP = '../data/output/DESeq'\n",
    "dds = DeseqDataSet(counts=test_df.T.loc[sel_index,:],metadata = clinical_df.loc[sel_index,:],\n",
    "                       design_factors='Day',\n",
    "                       refit_cooks=True)\n",
    "dds.deseq2() #Fit dispersion and normlization\n",
    "stat_res = DeseqStats(dds, contrast=('Day', endpoint, baseline))\n",
    "stat_res.summary() \n",
    "stat_res.results_df.to_csv(join(anlyzeP,f'DESeq2_{cell_line}_{be}_{library}_{endpoint}_{baseline}.csv'))"
   ]
  },
  {
   "cell_type": "code",
   "execution_count": null,
   "id": "3d505d79-da46-4ff9-8f95-777db84e3a0a",
   "metadata": {},
   "outputs": [],
   "source": []
  }
 ],
 "metadata": {
  "kernelspec": {
   "display_name": "deseq2",
   "language": "python",
   "name": "deseq2"
  },
  "language_info": {
   "codemirror_mode": {
    "name": "ipython",
    "version": 3
   },
   "file_extension": ".py",
   "mimetype": "text/x-python",
   "name": "python",
   "nbconvert_exporter": "python",
   "pygments_lexer": "ipython3",
   "version": "3.8.18"
  }
 },
 "nbformat": 4,
 "nbformat_minor": 5
}
