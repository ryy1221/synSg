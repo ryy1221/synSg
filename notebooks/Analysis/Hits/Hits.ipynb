{
 "cells": [
  {
   "cell_type": "code",
   "execution_count": 1,
   "id": "47e7bf2e-f8c8-427c-9868-f9959a60b252",
   "metadata": {},
   "outputs": [],
   "source": [
    "### This notebook picks candidates that overlap with each other\n",
    "import pandas as pd\n",
    "from os.path import join\n",
    "import matplotlib.pyplot as plt\n",
    "import seaborn as sns\n",
    "import numpy as np\n",
    "import pickle"
   ]
  },
  {
   "cell_type": "code",
   "execution_count": 2,
   "id": "474a8059-7219-4dfa-94a4-bce05bf09e9e",
   "metadata": {},
   "outputs": [],
   "source": [
    "# INPUT DESEQ2 FILE PATH\n",
    "path  = '../data/output/DESeq'"
   ]
  },
  {
   "cell_type": "code",
   "execution_count": 3,
   "id": "39ec9ff8-9e74-4b3d-b1c0-0674fde0a0bc",
   "metadata": {},
   "outputs": [],
   "source": [
    "# need to define some universal functions\n",
    "# Process dataframe so that there is a category column\n",
    "def process_df(df):\n",
    "    # Ensure the index is reset to make the operation clear\n",
    "    df = df.reset_index()\n",
    "    # Create the 'categ' column based on the split index for both DataFrames\n",
    "    df['categ'] = df['index'].apply(lambda x: x.split('_')[0])\n",
    "    # If needed, set the index back to its original state\n",
    "    df = df.set_index('index')\n",
    "    \n",
    "    return(df)\n",
    "\n",
    "# Select candidates that are common in 2 dataframes\n",
    "def sel_candidate(df1,df2, thrd = 0.05 , category = None):\n",
    "    df1 = process_df(df1)\n",
    "    df2 = process_df(df2)\n",
    "    list_candidate_df1 = df1[(df1['categ'] == category) & (df1['padj']<thrd) ].index\n",
    "    list_candidate_df2 = df2[(df2['categ'] == category) & (df2['padj']<thrd)].index\n",
    "    \n",
    "    candidate = set(list_candidate_df1).intersection(list_candidate_df2)\n",
    "    \n",
    "    return(candidate)"
   ]
  },
  {
   "cell_type": "markdown",
   "id": "872ece4e-d8b5-49e4-ac55-ba7b847b0d83",
   "metadata": {},
   "source": [
    "***ABE candidates***"
   ]
  },
  {
   "cell_type": "code",
   "execution_count": 7,
   "id": "f9c6adcb-8f79-4ebd-9b96-a7f9a8633b73",
   "metadata": {},
   "outputs": [],
   "source": [
    "### First we pick ABE candidates between D0 and DN1\n",
    "K562_ABE = pd.read_csv(join(path, f'DESeq2_K562_ABE_ABE_D0_DN1.csv'), index_col = 0)\n",
    "Jurkat_ABE = pd.read_csv(join(path, f'DESeq2_Jurkat_ABE_ABE_D0_DN1.csv'), index_col = 0)\n",
    "### First we pick ABE candidates between D0 and DN1\n",
    "K562_ABE_nSpG = pd.read_csv(join(path, f'DESeq2_K562_ABE_nSpG_D0_DN1.csv'), index_col = 0)\n",
    "Jurkat_ABE_nSpG = pd.read_csv(join(path, f'DESeq2_Jurkat_ABE_nSpG_D0_DN1.csv'), index_col = 0)"
   ]
  },
  {
   "cell_type": "code",
   "execution_count": 8,
   "id": "7ec82433-ebb9-4dc0-be34-d8fb8205e68c",
   "metadata": {},
   "outputs": [
    {
     "name": "stdout",
     "output_type": "stream",
     "text": [
      "nSpG filtered candidates\n",
      "['SYN_SNRNP200_268']\n"
     ]
    }
   ],
   "source": [
    "candidate_ABE = sel_candidate(K562_ABE, Jurkat_ABE, thrd = 0.05, category = 'SYN')\n",
    "candidate_nSpG = sel_candidate(K562_ABE_nSpG, Jurkat_ABE_nSpG, thrd = 0.05, category = 'SYN')\n",
    "ABE_syn_candidates = [i for i in candidate_ABE if i not in candidate_nSpG]\n",
    "print('nSpG filtered candidates')\n",
    "print([i for i in candidate_ABE if i in candidate_nSpG])\n",
    "with open('./processed/ABE_SYN_Candidates.pkl', 'wb') as f:\n",
    "    pickle.dump(ABE_syn_candidates, f)"
   ]
  },
  {
   "cell_type": "code",
   "execution_count": 9,
   "id": "44cf48d5-cfcf-4e2f-8b49-ff2e69a621b6",
   "metadata": {},
   "outputs": [
    {
     "name": "stdout",
     "output_type": "stream",
     "text": [
      "nSpG filtered candidates\n",
      "[]\n"
     ]
    }
   ],
   "source": [
    "candidate_ABE = sel_candidate(K562_ABE, Jurkat_ABE, thrd = 0.05, category = 'MIS')\n",
    "candidate_nSpG = sel_candidate(K562_ABE_nSpG, Jurkat_ABE_nSpG, thrd = 0.05, category = 'MIS')\n",
    "ABE_mis_candidates = [i for i in candidate_ABE if i not in candidate_nSpG]\n",
    "print('nSpG filtered candidates')\n",
    "print([i for i in candidate_ABE if i in candidate_nSpG])\n",
    "with open('./processed/ABE_MIS_Candidates.pkl', 'wb') as f:\n",
    "    pickle.dump(ABE_mis_candidates, f)"
   ]
  },
  {
   "cell_type": "code",
   "execution_count": 10,
   "id": "d80913e5-dc8e-4190-b791-12959d23588a",
   "metadata": {},
   "outputs": [
    {
     "name": "stdout",
     "output_type": "stream",
     "text": [
      "Synonymous candidate sgRNAs are:\n",
      "['SYN_DYNC1H1_581', 'SYN_RUVBL1_1802', 'SYN_SFPQ_64', 'SYN_HSPA9_1786']\n",
      "Missense candidate sgRNAs are\n",
      "['MIS_RPAP1_10984', 'MIS_COPA_5845', 'MIS_RPAP1_11195', 'MIS_POLR2B_12064', 'MIS_CDC16_7200', 'MIS_POLR2C_11387', 'MIS_ECD_14808', 'MIS_POLR1A_2208', 'MIS_ECD_14812']\n"
     ]
    }
   ],
   "source": [
    "print('Synonymous candidate sgRNAs are:')\n",
    "print(ABE_syn_candidates)\n",
    "print('Missense candidate sgRNAs are')\n",
    "print(ABE_mis_candidates)"
   ]
  },
  {
   "cell_type": "code",
   "execution_count": 15,
   "id": "6a29bb3c-3cab-4aed-aa9b-ece5a5a2c3ab",
   "metadata": {},
   "outputs": [],
   "source": [
    "df_ = process_df(K562_ABE)"
   ]
  },
  {
   "cell_type": "code",
   "execution_count": 18,
   "id": "db2e87bd-173a-4c13-8aaa-bdc7b348ff15",
   "metadata": {},
   "outputs": [
    {
     "data": {
      "text/html": [
       "<div>\n",
       "<style scoped>\n",
       "    .dataframe tbody tr th:only-of-type {\n",
       "        vertical-align: middle;\n",
       "    }\n",
       "\n",
       "    .dataframe tbody tr th {\n",
       "        vertical-align: top;\n",
       "    }\n",
       "\n",
       "    .dataframe thead th {\n",
       "        text-align: right;\n",
       "    }\n",
       "</style>\n",
       "<table border=\"1\" class=\"dataframe\">\n",
       "  <thead>\n",
       "    <tr style=\"text-align: right;\">\n",
       "      <th></th>\n",
       "      <th>baseMean</th>\n",
       "      <th>log2FoldChange</th>\n",
       "      <th>lfcSE</th>\n",
       "      <th>stat</th>\n",
       "      <th>pvalue</th>\n",
       "      <th>padj</th>\n",
       "      <th>categ</th>\n",
       "    </tr>\n",
       "    <tr>\n",
       "      <th>index</th>\n",
       "      <th></th>\n",
       "      <th></th>\n",
       "      <th></th>\n",
       "      <th></th>\n",
       "      <th></th>\n",
       "      <th></th>\n",
       "      <th></th>\n",
       "    </tr>\n",
       "  </thead>\n",
       "  <tbody>\n",
       "    <tr>\n",
       "      <th>SYN_CLP1_0</th>\n",
       "      <td>3275.487112</td>\n",
       "      <td>-0.300452</td>\n",
       "      <td>0.341464</td>\n",
       "      <td>-0.879895</td>\n",
       "      <td>0.378916</td>\n",
       "      <td>0.841389</td>\n",
       "      <td>SYN</td>\n",
       "    </tr>\n",
       "    <tr>\n",
       "      <th>SYN_CLP1_1</th>\n",
       "      <td>6823.595969</td>\n",
       "      <td>-0.450568</td>\n",
       "      <td>0.274938</td>\n",
       "      <td>-1.638799</td>\n",
       "      <td>0.101255</td>\n",
       "      <td>0.496942</td>\n",
       "      <td>SYN</td>\n",
       "    </tr>\n",
       "    <tr>\n",
       "      <th>SYN_CLP1_2</th>\n",
       "      <td>13892.210872</td>\n",
       "      <td>-0.113292</td>\n",
       "      <td>0.194526</td>\n",
       "      <td>-0.582403</td>\n",
       "      <td>0.560296</td>\n",
       "      <td>0.915210</td>\n",
       "      <td>SYN</td>\n",
       "    </tr>\n",
       "    <tr>\n",
       "      <th>SYN_CLP1_3</th>\n",
       "      <td>8133.475930</td>\n",
       "      <td>0.230098</td>\n",
       "      <td>0.235759</td>\n",
       "      <td>0.975989</td>\n",
       "      <td>0.329070</td>\n",
       "      <td>0.802923</td>\n",
       "      <td>SYN</td>\n",
       "    </tr>\n",
       "    <tr>\n",
       "      <th>SYN_CLP1_4</th>\n",
       "      <td>5350.439265</td>\n",
       "      <td>0.149614</td>\n",
       "      <td>0.271966</td>\n",
       "      <td>0.550119</td>\n",
       "      <td>0.582237</td>\n",
       "      <td>0.921029</td>\n",
       "      <td>SYN</td>\n",
       "    </tr>\n",
       "    <tr>\n",
       "      <th>...</th>\n",
       "      <td>...</td>\n",
       "      <td>...</td>\n",
       "      <td>...</td>\n",
       "      <td>...</td>\n",
       "      <td>...</td>\n",
       "      <td>...</td>\n",
       "      <td>...</td>\n",
       "    </tr>\n",
       "    <tr>\n",
       "      <th>SYN_CDT1_2129</th>\n",
       "      <td>3381.286854</td>\n",
       "      <td>0.221085</td>\n",
       "      <td>0.331836</td>\n",
       "      <td>0.666248</td>\n",
       "      <td>0.505252</td>\n",
       "      <td>0.900189</td>\n",
       "      <td>SYN</td>\n",
       "    </tr>\n",
       "    <tr>\n",
       "      <th>SYN_CDT1_2130</th>\n",
       "      <td>1918.945857</td>\n",
       "      <td>0.306685</td>\n",
       "      <td>0.437265</td>\n",
       "      <td>0.701371</td>\n",
       "      <td>0.483072</td>\n",
       "      <td>0.890459</td>\n",
       "      <td>SYN</td>\n",
       "    </tr>\n",
       "    <tr>\n",
       "      <th>SYN_CDT1_2131</th>\n",
       "      <td>6329.109356</td>\n",
       "      <td>0.322645</td>\n",
       "      <td>0.261142</td>\n",
       "      <td>1.235514</td>\n",
       "      <td>0.216639</td>\n",
       "      <td>0.706660</td>\n",
       "      <td>SYN</td>\n",
       "    </tr>\n",
       "    <tr>\n",
       "      <th>SYN_CDT1_2132</th>\n",
       "      <td>2989.503908</td>\n",
       "      <td>0.445927</td>\n",
       "      <td>0.364048</td>\n",
       "      <td>1.224914</td>\n",
       "      <td>0.220608</td>\n",
       "      <td>0.709242</td>\n",
       "      <td>SYN</td>\n",
       "    </tr>\n",
       "    <tr>\n",
       "      <th>SYN_CDT1_2133</th>\n",
       "      <td>2475.831125</td>\n",
       "      <td>0.669730</td>\n",
       "      <td>0.443914</td>\n",
       "      <td>1.508693</td>\n",
       "      <td>0.131377</td>\n",
       "      <td>0.569522</td>\n",
       "      <td>SYN</td>\n",
       "    </tr>\n",
       "  </tbody>\n",
       "</table>\n",
       "<p>2099 rows × 7 columns</p>\n",
       "</div>"
      ],
      "text/plain": [
       "                   baseMean  log2FoldChange     lfcSE      stat    pvalue  \\\n",
       "index                                                                       \n",
       "SYN_CLP1_0      3275.487112       -0.300452  0.341464 -0.879895  0.378916   \n",
       "SYN_CLP1_1      6823.595969       -0.450568  0.274938 -1.638799  0.101255   \n",
       "SYN_CLP1_2     13892.210872       -0.113292  0.194526 -0.582403  0.560296   \n",
       "SYN_CLP1_3      8133.475930        0.230098  0.235759  0.975989  0.329070   \n",
       "SYN_CLP1_4      5350.439265        0.149614  0.271966  0.550119  0.582237   \n",
       "...                     ...             ...       ...       ...       ...   \n",
       "SYN_CDT1_2129   3381.286854        0.221085  0.331836  0.666248  0.505252   \n",
       "SYN_CDT1_2130   1918.945857        0.306685  0.437265  0.701371  0.483072   \n",
       "SYN_CDT1_2131   6329.109356        0.322645  0.261142  1.235514  0.216639   \n",
       "SYN_CDT1_2132   2989.503908        0.445927  0.364048  1.224914  0.220608   \n",
       "SYN_CDT1_2133   2475.831125        0.669730  0.443914  1.508693  0.131377   \n",
       "\n",
       "                   padj categ  \n",
       "index                          \n",
       "SYN_CLP1_0     0.841389   SYN  \n",
       "SYN_CLP1_1     0.496942   SYN  \n",
       "SYN_CLP1_2     0.915210   SYN  \n",
       "SYN_CLP1_3     0.802923   SYN  \n",
       "SYN_CLP1_4     0.921029   SYN  \n",
       "...                 ...   ...  \n",
       "SYN_CDT1_2129  0.900189   SYN  \n",
       "SYN_CDT1_2130  0.890459   SYN  \n",
       "SYN_CDT1_2131  0.706660   SYN  \n",
       "SYN_CDT1_2132  0.709242   SYN  \n",
       "SYN_CDT1_2133  0.569522   SYN  \n",
       "\n",
       "[2099 rows x 7 columns]"
      ]
     },
     "execution_count": 18,
     "metadata": {},
     "output_type": "execute_result"
    }
   ],
   "source": [
    "df_[df_['categ'] == 'SYN']"
   ]
  },
  {
   "cell_type": "markdown",
   "id": "1fd40266-58c7-4657-95b6-145ffaacc2a0",
   "metadata": {},
   "source": [
    "***CBE candidates***"
   ]
  },
  {
   "cell_type": "code",
   "execution_count": 8,
   "id": "e490f30b-b5bc-46f7-9b63-df0e882fa577",
   "metadata": {},
   "outputs": [],
   "source": [
    "### First we pick ABE candidates between D0 and DN1\n",
    "K562_CBE = pd.read_csv(join(path, 'DESeq2_K562_CBE_CBE_D0_DN1.csv'), index_col = 0)\n",
    "Jurkat_CBE = pd.read_csv(join(path, 'DESeq2_Jurkat_CBE_CBE_D0_DN1.csv'), index_col = 0)\n",
    "K562_CBE_D14 = pd.read_csv(join(path, 'DESeq2_K562_CBE_CBE_D14_DN1.csv'), index_col = 0)\n",
    "K562_CBE_nSpG = pd.read_csv(join(path, 'DESeq2_K562_CBE_nSpG_D0_DN1.csv'), index_col = 0)\n",
    "Jurkat_CBE_nSpG = pd.read_csv(join(path, 'DESeq2_Jurkat_CBE_nSpG_D0_DN1.csv'), index_col = 0)\n",
    "K562_CBE_nSpG_D14 = pd.read_csv(join(path, 'DESeq2_K562_CBE_nSpG_D14_DN1.csv'), index_col = 0)"
   ]
  },
  {
   "cell_type": "code",
   "execution_count": 9,
   "id": "0cc12af6-3ecf-4dea-a0c2-81b1330dbf4d",
   "metadata": {},
   "outputs": [
    {
     "name": "stdout",
     "output_type": "stream",
     "text": [
      "There are no CBE candidates for synonymous in the first time point:\n",
      "[]\n"
     ]
    }
   ],
   "source": [
    "candidate_CBE = sel_candidate(K562_CBE, Jurkat_CBE, thrd = 0.05, category = 'SYN')\n",
    "candidate_nSpG = sel_candidate(K562_CBE_nSpG, Jurkat_CBE_nSpG, thrd = 0.05, category = 'SYN')\n",
    "CBE_syn_candidates = [i for i in candidate_CBE if i not in candidate_nSpG]\n",
    "# with open('./processed/ABE_SYN_Candidates.pkl', 'wb') as f:\n",
    "#     pickle.dump(ABE_syn_candidates, f)\n",
    "print('There are no CBE candidates for synonymous in the first time point:')\n",
    "print(CBE_syn_candidates)"
   ]
  },
  {
   "cell_type": "code",
   "execution_count": 10,
   "id": "5e9a4f5a-5829-4ed3-a985-7ef2e770c53b",
   "metadata": {},
   "outputs": [
    {
     "name": "stdout",
     "output_type": "stream",
     "text": [
      "nSpG filtered candidates\n",
      "[]\n"
     ]
    }
   ],
   "source": [
    "candidate_CBE = sel_candidate(K562_CBE, K562_CBE_D14, thrd = 0.05, category = 'SYN')\n",
    "candidate_nSpG = sel_candidate(K562_CBE_nSpG, K562_CBE_nSpG_D14, thrd = 0.05, category = 'SYN')\n",
    "CBE_syn_candidates = [i for i in candidate_CBE if i not in candidate_nSpG]\n",
    "print('nSpG filtered candidates')\n",
    "print([i for i in candidate_CBE if i in candidate_nSpG])\n",
    "with open('./processed/CBE_SYN_Candidates.pkl', 'wb') as f:\n",
    "    pickle.dump(CBE_syn_candidates, f)"
   ]
  },
  {
   "cell_type": "code",
   "execution_count": 11,
   "id": "a595055b-fdd9-4a4d-a346-6ba1e140af38",
   "metadata": {},
   "outputs": [
    {
     "name": "stdout",
     "output_type": "stream",
     "text": [
      "nSpG filtered candidates\n",
      "[]\n"
     ]
    }
   ],
   "source": [
    "candidate_CBE = sel_candidate(K562_CBE, Jurkat_CBE, thrd = 0.05, category = 'MIS')\n",
    "candidate_nSpG = sel_candidate(K562_CBE_nSpG, Jurkat_CBE_nSpG, thrd = 0.05, category = 'MIS')\n",
    "CBE_mis_candidates = [i for i in candidate_CBE if i not in candidate_nSpG]\n",
    "with open('./processed/CBE_MIS_Candidates.pkl', 'wb') as f:\n",
    "    pickle.dump(CBE_mis_candidates, f)\n",
    "print('nSpG filtered candidates')\n",
    "print([i for i in candidate_CBE if i in candidate_nSpG])"
   ]
  },
  {
   "cell_type": "code",
   "execution_count": 12,
   "id": "6ee0f5fc-f6d2-4811-88e9-5ab2405a5937",
   "metadata": {},
   "outputs": [
    {
     "name": "stdout",
     "output_type": "stream",
     "text": [
      "Synonymous candidate sgRNAs are:\n",
      "['SYN_DYNC1H1_1108', 'SYN_PSMB5_1536', 'SYN_VCP_467', 'SYN_SF3B3_2907']\n",
      "Missense candidate sgRNAs are\n",
      "['MIS_POLR1A_1341', 'MIS_POLR1A_1428', 'MIS_TUT1_8428', 'MIS_RUVBL1_7221']\n"
     ]
    }
   ],
   "source": [
    "print('Synonymous candidate sgRNAs are:')\n",
    "print(CBE_syn_candidates)\n",
    "print('Missense candidate sgRNAs are')\n",
    "print(CBE_mis_candidates)"
   ]
  },
  {
   "cell_type": "markdown",
   "id": "3e14948f-5967-4a16-b616-6292785a20d3",
   "metadata": {},
   "source": [
    "***Potential same threshold missense candidates***"
   ]
  },
  {
   "cell_type": "code",
   "execution_count": 42,
   "id": "fdda167d-bfe2-4abc-8068-55784741ba27",
   "metadata": {},
   "outputs": [
    {
     "data": {
      "text/plain": [
       "['MIS_POLR1A_1341',\n",
       " 'MIS_POLR1A_1428',\n",
       " 'MIS_RNGTT_5821',\n",
       " 'MIS_TUT1_8428',\n",
       " 'MIS_RUVBL1_7221']"
      ]
     },
     "execution_count": 42,
     "metadata": {},
     "output_type": "execute_result"
    }
   ],
   "source": [
    "candidate_CBE = sel_candidate(K562_CBE, K562_CBE_D14, thrd = 0.05, category = 'MIS')\n",
    "candidate_nSpG = sel_candidate(K562_CBE_nSpG, K562_CBE_nSpG_D14, thrd = 0.05, category = 'MIS')\n",
    "CBE_mis_candidates = [i for i in candidate_CBE if i not in candidate_nSpG]\n",
    "CBE_mis_candidates"
   ]
  }
 ],
 "metadata": {
  "kernelspec": {
   "display_name": "synSg",
   "language": "python",
   "name": "synsg"
  },
  "language_info": {
   "codemirror_mode": {
    "name": "ipython",
    "version": 3
   },
   "file_extension": ".py",
   "mimetype": "text/x-python",
   "name": "python",
   "nbconvert_exporter": "python",
   "pygments_lexer": "ipython3",
   "version": "3.7.16"
  }
 },
 "nbformat": 4,
 "nbformat_minor": 5
}
