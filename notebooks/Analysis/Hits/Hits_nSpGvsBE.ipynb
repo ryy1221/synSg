{
 "cells": [
  {
   "cell_type": "code",
   "execution_count": 1,
   "id": "94f72deb-0f97-48bd-b3ad-5834bd7c4a38",
   "metadata": {},
   "outputs": [],
   "source": [
    "### This notebook visualize candidates selected for experiment\n",
    "### This notebook picks candidates that overlap with each other\n",
    "import pandas as pd\n",
    "from os.path import join\n",
    "import matplotlib.pyplot as plt\n",
    "import seaborn as sns\n",
    "import numpy as np\n",
    "\n",
    "sns.set_theme(style=\"whitegrid\", font_scale=1.2)"
   ]
  },
  {
   "cell_type": "code",
   "execution_count": 2,
   "id": "801e5f51-4038-4aa5-8d3a-490ba418b79a",
   "metadata": {},
   "outputs": [],
   "source": [
    "path  = '../data/output/DESeq'\n",
    "output_dir = './processed'"
   ]
  },
  {
   "cell_type": "code",
   "execution_count": 3,
   "id": "fbe40d2d-3ab4-4e10-b73e-148e21195bf4",
   "metadata": {},
   "outputs": [],
   "source": [
    "# need to define some universal functions\n",
    "# Process dataframe so that there is a category column\n",
    "def process_df(df):\n",
    "    # Ensure the index is reset to make the operation clear\n",
    "    df = df.reset_index()\n",
    "    # Create the 'categ' column based on the split index for both DataFrames\n",
    "    df['categ'] = df['index'].apply(lambda x: x.split('_')[0])\n",
    "    # If needed, set the index back to its original state\n",
    "    df = df.set_index('index')\n",
    "    \n",
    "    return(df)"
   ]
  },
  {
   "cell_type": "code",
   "execution_count": 4,
   "id": "f0c6fb9d-ea5f-4e45-b32b-72d98e6abe4e",
   "metadata": {
    "tags": []
   },
   "outputs": [],
   "source": [
    "def thresholds(df, categ_list, threshold):\n",
    "    listK562_ABE[(K562_ABE['categ'] == 'MIS') & (K562_ABE['padj']<0.01)].index"
   ]
  },
  {
   "cell_type": "code",
   "execution_count": 5,
   "id": "dc83ae47-36ff-4aad-8caa-9ee88aa52d20",
   "metadata": {},
   "outputs": [],
   "source": [
    "BE = 'CBE'\n",
    "library = 'nSpG'\n",
    "thrd = 0.05"
   ]
  },
  {
   "cell_type": "code",
   "execution_count": 55,
   "id": "13725ce4-7110-4292-9367-c4e8f072ef56",
   "metadata": {},
   "outputs": [],
   "source": [
    "### First we pick ABE candidates between D0 and DN1\n",
    "K562_ABE = pd.read_csv(join(path, f'DESeq2_K562_{BE}_{library}_D0_DN1.csv'), index_col = 0)\n",
    "Jurkat_ABE = pd.read_csv(join(path, f'DESeq2_Jurkat_{BE}_{library}_D0_DN1.csv'), index_col = 0)\n",
    "K562_ABE = process_df(K562_ABE)\n",
    "Jurkat_ABE = process_df(Jurkat_ABE)"
   ]
  },
  {
   "cell_type": "code",
   "execution_count": 56,
   "id": "1569cc7f-14d5-4592-8df2-726edf30f5ac",
   "metadata": {},
   "outputs": [],
   "source": [
    "# Make K562 and Jurkat dataframe\n",
    "data = pd.concat([K562_ABE[['log2FoldChange','padj']].add_suffix('_K562'), \n",
    "                  Jurkat_ABE[['log2FoldChange', 'padj']].add_suffix('_Jurkat')], axis = 1).dropna()\n",
    "data = process_df(data)\n",
    "data['significant'] = data.apply(lambda x: True if (x['padj_K562']<thrd) & (x['padj_Jurkat']<thrd) else False, axis = 1)"
   ]
  },
  {
   "cell_type": "code",
   "execution_count": 57,
   "id": "4a7db429-3394-4885-9de0-c20cabaa0cf0",
   "metadata": {},
   "outputs": [],
   "source": [
    "data.to_csv(join(output_dir, f'{library}_{BE}_cell_line_padj.csv'))"
   ]
  },
  {
   "cell_type": "code",
   "execution_count": null,
   "id": "f6511491-0906-49fa-a24b-a76c0e87554b",
   "metadata": {},
   "outputs": [],
   "source": [
    "### Make dataframe for the barplot\n",
    "### category, hit number, total sgRNA, hit rate, editing"
   ]
  },
  {
   "cell_type": "code",
   "execution_count": 72,
   "id": "4ef9858d-e547-4f45-8db0-9b23fbd05fe2",
   "metadata": {},
   "outputs": [],
   "source": [
    "thrd = 0.05\n",
    "list_res = []\n",
    "for (BE,library) in [('ABE', 'ABE'), ('ABE','nSpG')]:\n",
    "# for (BE,library) in [('CBE', 'CBE'), ('CBE','nSpG')]:\n",
    "\n",
    "    ### First we pick ABE candidates between D0 and DN1\n",
    "    K562_ABE = pd.read_csv(join(path, f'DESeq2_K562_{BE}_{library}_D0_DN1.csv'), index_col = 0)\n",
    "    Jurkat_ABE = pd.read_csv(join(path, f'DESeq2_Jurkat_{BE}_{library}_D0_DN1.csv'), index_col = 0)\n",
    "    K562_ABE = process_df(K562_ABE)\n",
    "    Jurkat_ABE = process_df(Jurkat_ABE)\n",
    "\n",
    "    # Make K562 and Jurkat dataframe\n",
    "    data = pd.concat([K562_ABE[['log2FoldChange','padj']].add_suffix('_K562'), \n",
    "                      Jurkat_ABE[['log2FoldChange', 'padj']].add_suffix('_Jurkat')], axis = 1).dropna()\n",
    "    data = process_df(data)\n",
    "    data['significant'] = data.apply(lambda x: True if (x['padj_K562']<thrd) & (x['padj_Jurkat']<thrd) else False, axis = 1)\n",
    "\n",
    "    # data.to_csv(join(output_dir, f'{library}_{BE}_cell_line_padj.csv'))\n",
    "\n",
    "    list_categ = data['categ'].unique()\n",
    "    for i,categ in enumerate(list_categ):\n",
    "        data_ = data[data['categ'] == categ]\n",
    "        tot_n = len(data_)\n",
    "        hit_n = len(data_[data_['significant'] == True])\n",
    "        hit_perc = hit_n/tot_n*100\n",
    "        list_res.append({'categ':categ, 'tot_n':tot_n, 'sig_n':hit_n, 'hit_perc':hit_perc, 'BE':BE, 'library':library})"
   ]
  },
  {
   "cell_type": "code",
   "execution_count": 73,
   "id": "c7c54840-cd32-418c-afa9-c16c61bd8f25",
   "metadata": {},
   "outputs": [],
   "source": [
    "pd.DataFrame(list_res).to_csv(join(output_dir, 'nSpG_ABE_hitn.csv'))"
   ]
  },
  {
   "cell_type": "code",
   "execution_count": 91,
   "id": "7bf720a5-6924-4bc1-bfeb-aafb899378fe",
   "metadata": {},
   "outputs": [],
   "source": [
    "thrd = 0.05\n",
    "list_res = []\n",
    "BE = 'ABE'; library = 'ABE'\n",
    "### First we pick ABE candidates between D0 and DN1\n",
    "K562_ABE = pd.read_csv(join(path, f'DESeq2_K562_{BE}_{library}_D0_DN1.csv'), index_col = 0)\n",
    "Jurkat_ABE = pd.read_csv(join(path, f'DESeq2_Jurkat_{BE}_{library}_D0_DN1.csv'), index_col = 0)\n",
    "K562_ABE = process_df(K562_ABE)\n",
    "Jurkat_ABE = process_df(Jurkat_ABE)\n",
    "\n",
    "# Make K562 and Jurkat dataframe\n",
    "data_ABE = pd.concat([K562_ABE[['log2FoldChange','padj']].add_suffix('_K562'), \n",
    "                  Jurkat_ABE[['log2FoldChange', 'padj']].add_suffix('_Jurkat')], axis = 1).dropna()\n",
    "data_ABE = process_df(data_ABE)\n",
    "data_ABE['significant'] = data_ABE.apply(lambda x: True if (x['padj_K562']<thrd) & (x['padj_Jurkat']<thrd) else False, axis = 1)\n",
    "\n",
    "BE = 'ABE'; library = 'nSpG'\n",
    "### First we pick ABE candidates between D0 and DN1\n",
    "K562_nSpG = pd.read_csv(join(path, f'DESeq2_K562_{BE}_{library}_D0_DN1.csv'), index_col = 0)\n",
    "Jurkat_nSpG = pd.read_csv(join(path, f'DESeq2_Jurkat_{BE}_{library}_D0_DN1.csv'), index_col = 0)\n",
    "K562_nSpG = process_df(K562_nSpG)\n",
    "Jurkat_nSpG = process_df(Jurkat_nSpG)\n",
    "# Make K562 and Jurkat dataframe\n",
    "data_nSpG = pd.concat([K562_nSpG[['log2FoldChange','padj']].add_suffix('_K562'), \n",
    "                  Jurkat_nSpG[['log2FoldChange', 'padj']].add_suffix('_Jurkat')], axis = 1).dropna()\n",
    "data_nSpG = process_df(data_nSpG)\n",
    "data_nSpG['significant'] = data_nSpG.apply(lambda x: True if (x['padj_K562']<thrd) & (x['padj_Jurkat']<thrd) else False, axis = 1)\n",
    "\n",
    "list_ovp = []\n",
    "list_categ = data_ABE['categ'].unique()\n",
    "for i,categ in enumerate(list_categ):\n",
    "    data_ABE_ = data_ABE[data_ABE['categ'] == categ]\n",
    "    data_nSpG_ = data_nSpG[data_nSpG['categ'] == categ]\n",
    "    hits_ABE = data_ABE_.index[data_ABE_['significant'] == True]\n",
    "    hits_nSpG = data_nSpG_.index[data_nSpG_['significant'] == True]\n",
    "    ovp = hits_ABE.intersection(hits_nSpG)\n",
    "    list_ovp.append({'categ':categ, 'hits_ABE':len(hits_ABE),'hits_nSpG':len(hits_nSpG), 'ovp':len(ovp),'BE':BE})"
   ]
  },
  {
   "cell_type": "code",
   "execution_count": 92,
   "id": "baeef92a-21ce-41d6-a2ac-5a626f7bfd4e",
   "metadata": {},
   "outputs": [],
   "source": [
    "pd.DataFrame(list_ovp).to_csv(join(output_dir,'ABE_nSpG_ovp.csv'))"
   ]
  },
  {
   "cell_type": "code",
   "execution_count": 88,
   "id": "f43280bf-f1bf-4f19-b610-d1a94d6a38ec",
   "metadata": {},
   "outputs": [],
   "source": [
    "thrd = 0.05\n",
    "list_res = []\n",
    "BE = 'CBE'; library = 'CBE'\n",
    "### First we pick ABE candidates between D0 and DN1\n",
    "K562_ABE = pd.read_csv(join(path, f'DESeq2_K562_{BE}_{library}_D0_DN1.csv'), index_col = 0)\n",
    "Jurkat_ABE = pd.read_csv(join(path, f'DESeq2_Jurkat_{BE}_{library}_D0_DN1.csv'), index_col = 0)\n",
    "K562_ABE = process_df(K562_ABE)\n",
    "Jurkat_ABE = process_df(Jurkat_ABE)\n",
    "\n",
    "# Make K562 and Jurkat dataframe\n",
    "data_ABE = pd.concat([K562_ABE[['log2FoldChange','padj']].add_suffix('_K562'), \n",
    "                  Jurkat_ABE[['log2FoldChange', 'padj']].add_suffix('_Jurkat')], axis = 1).dropna()\n",
    "data_ABE = process_df(data_ABE)\n",
    "data_ABE['significant'] = data_ABE.apply(lambda x: True if (x['padj_K562']<thrd) & (x['padj_Jurkat']<thrd) else False, axis = 1)\n",
    "\n",
    "BE = 'CBE'; library = 'nSpG'\n",
    "### First we pick ABE candidates between D0 and DN1\n",
    "K562_nSpG = pd.read_csv(join(path, f'DESeq2_K562_{BE}_{library}_D0_DN1.csv'), index_col = 0)\n",
    "Jurkat_nSpG = pd.read_csv(join(path, f'DESeq2_Jurkat_{BE}_{library}_D0_DN1.csv'), index_col = 0)\n",
    "K562_nSpG = process_df(K562_nSpG)\n",
    "Jurkat_nSpG = process_df(Jurkat_nSpG)\n",
    "# Make K562 and Jurkat dataframe\n",
    "data_nSpG = pd.concat([K562_nSpG[['log2FoldChange','padj']].add_suffix('_K562'), \n",
    "                  Jurkat_nSpG[['log2FoldChange', 'padj']].add_suffix('_Jurkat')], axis = 1).dropna()\n",
    "data_nSpG = process_df(data_nSpG)\n",
    "data_nSpG['significant'] = data_nSpG.apply(lambda x: True if (x['padj_K562']<thrd) & (x['padj_Jurkat']<thrd) else False, axis = 1)\n",
    "\n",
    "list_ovp = []\n",
    "list_categ = data_ABE['categ'].unique()\n",
    "for i,categ in enumerate(list_categ):\n",
    "    data_ABE_ = data_ABE[data_ABE['categ'] == categ]\n",
    "    data_nSpG_ = data_nSpG[data_nSpG['categ'] == categ]\n",
    "    hits_ABE = data_ABE_.index[data_ABE_['significant'] == True]\n",
    "    hits_nSpG = data_nSpG_.index[data_nSpG_['significant'] == True]\n",
    "    ovp = hits_ABE.intersection(hits_nSpG)\n",
    "    list_ovp.append({'categ':categ, 'hits_ABE':len(hits_ABE),'hits_nSpG':len(hits_nSpG), 'ovp':len(ovp),'BE':BE})"
   ]
  },
  {
   "cell_type": "code",
   "execution_count": 90,
   "id": "a5063587-3151-4699-9e77-85f257a7a094",
   "metadata": {},
   "outputs": [],
   "source": [
    "pd.DataFrame(list_ovp).to_csv(join(output_dir,'CBE_nSpG_ovp.csv'))"
   ]
  }
 ],
 "metadata": {
  "kernelspec": {
   "display_name": "synSg",
   "language": "python",
   "name": "synsg"
  },
  "language_info": {
   "codemirror_mode": {
    "name": "ipython",
    "version": 3
   },
   "file_extension": ".py",
   "mimetype": "text/x-python",
   "name": "python",
   "nbconvert_exporter": "python",
   "pygments_lexer": "ipython3",
   "version": "3.7.16"
  }
 },
 "nbformat": 4,
 "nbformat_minor": 5
}
