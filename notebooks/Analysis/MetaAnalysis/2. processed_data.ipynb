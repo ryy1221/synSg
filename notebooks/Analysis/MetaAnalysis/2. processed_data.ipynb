{
 "cells": [
  {
   "cell_type": "code",
   "execution_count": 1,
   "id": "0e1d9e12-e368-4339-ac1d-7455d87ac17a",
   "metadata": {},
   "outputs": [],
   "source": [
    "### This notebook take the Hannah et al and Martin et al data to present the hit rate in their paper\n",
    "import pandas as pd \n",
    "from os.path import join\n",
    "import numpy as np\n",
    "import MetaAnalysis_utils as mu\n",
    "from pydeseq2.dds import DeseqDataSet\n",
    "from pydeseq2.ds import DeseqStats\n",
    "\n",
    "\n",
    "\n",
    "data_path = '../../data/MetaAnlysis'\n",
    "output_path = './processed'"
   ]
  },
  {
   "cell_type": "code",
   "execution_count": 2,
   "id": "256070dd-f2e1-49e5-889c-6796021c7ea5",
   "metadata": {},
   "outputs": [],
   "source": [
    "### Define a dictionary that use the same names\n",
    "dict_rename = {'Missense':['missense', 'MIS', 'Missense'],\n",
    "'Synonymous':['synonymous', 'SYN','Synonymous'],\n",
    "'No-Edits':['empty-window','ETY','No-Edits', 'No edits'],\n",
    "'Non-Targeting':['Non-targeting', 'Non-Targeting'],\n",
    "'Nonsense':['Nonsense','nonsense'],\n",
    "'Splice site': ['Splice site', 'splice-donor', 'splice-acceptor'],\n",
    "'Non-coding':['Intron', 'non-coding', 'UTR']}\n",
    "# Creating a reverse lookup dictionary for mapping values\n",
    "reverse_dict = {v: k for k, vals in dict_rename.items() for v in vals}"
   ]
  },
  {
   "cell_type": "markdown",
   "id": "f1852e66-17ef-45eb-ad09-adb51bc5e9bf",
   "metadata": {},
   "source": [
    "### Hannah et al"
   ]
  },
  {
   "cell_type": "code",
   "execution_count": 3,
   "id": "006faa8c-0808-451b-9c24-35a0e166fe2a",
   "metadata": {},
   "outputs": [],
   "source": [
    "hannah_be39 = pd.read_csv(join(data_path,'Ess_Hanna_2021_BE3.9.csv'))\n",
    "hannah_be4 = pd.read_csv(join(data_path,'Ess_Hanna_2021_BE4max.csv'))\n",
    "hannah_annot = pd.read_csv(join(data_path,'Ess_Hanna_2021_annotation.csv'))\n",
    "\n",
    "pan_lethal = ['EEF2','HNRNPU', 'KPNB1', 'PELP1', 'POLR1C', 'PSMA6', 'RPS20', 'SF3B1', 'SNRPD1','TFRC']\n",
    "control_genes = ['ICAM1','FAS','CD81','CD33']"
   ]
  },
  {
   "cell_type": "code",
   "execution_count": 4,
   "id": "c1848b08-7f31-45e0-8724-dc1394d2c8b1",
   "metadata": {},
   "outputs": [
    {
     "data": {
      "text/plain": [
       "'EEF2,HNRNPU,KPNB1,PELP1,POLR1C,PSMA6,RPS20,SF3B1,SNRPD1,TFRC'"
      ]
     },
     "execution_count": 4,
     "metadata": {},
     "output_type": "execute_result"
    }
   ],
   "source": [
    "','.join(pan_lethal)"
   ]
  },
  {
   "cell_type": "code",
   "execution_count": 6,
   "id": "87f98fbc-652b-47b6-90b0-d54a49d14fad",
   "metadata": {
    "collapsed": true,
    "jupyter": {
     "outputs_hidden": true
    },
    "tags": []
   },
   "outputs": [
    {
     "name": "stdout",
     "output_type": "stream",
     "text": [
      "PROCESSING CELL LINE A375......\n"
     ]
    },
    {
     "name": "stderr",
     "output_type": "stream",
     "text": [
      "Fitting size factors...\n",
      "... done in 0.00 seconds.\n",
      "\n",
      "Fitting dispersions...\n",
      "... done in 4.49 seconds.\n",
      "\n",
      "Fitting dispersion trend curve...\n",
      "... done in 0.45 seconds.\n",
      "\n",
      "/storage/group/epo2/default/yur97/conda_envs/deseq2/lib/python3.8/site-packages/pydeseq2/dds.py:425: UserWarning: As the residual degrees of freedom is less than 3, the distribution of log dispersions is especially asymmetric and likely to be poorly estimated by the MAD.\n",
      "  self.fit_dispersion_prior()\n",
      "Fitting MAP dispersions...\n",
      "... done in 4.63 seconds.\n",
      "\n",
      "Fitting LFCs...\n",
      "... done in 2.58 seconds.\n",
      "\n",
      "Refitting 0 outliers.\n",
      "\n",
      "Running Wald tests...\n",
      "... done in 1.18 seconds.\n",
      "\n"
     ]
    },
    {
     "name": "stdout",
     "output_type": "stream",
     "text": [
      "Log2 fold change & Wald test p-value: Condition Assay vs Plasmid\n",
      "                         baseMean  log2FoldChange     lfcSE      stat  \\\n",
      "CATAAAGCAGGAAACCCCCG  1111.934787        0.193017  0.335039  0.576103   \n",
      "CAGGCGACGAGTTTGAACTG  1761.588409        0.434008  0.308204  1.408186   \n",
      "CCATGTTGGACATTACCTCG  1055.937993       -0.753943  0.358433 -2.103444   \n",
      "GTAGGCCACGCACGGCAGTG  1548.011800        0.055437  0.309505  0.179116   \n",
      "GTGTGCTGAGAGTGTCAACA   646.341011        0.151257  0.363856  0.415705   \n",
      "...                           ...             ...       ...       ...   \n",
      "TTTGGTCAACGCATAGCTTG  1707.716428        0.026576  0.309554  0.085852   \n",
      "TTTTACCTTGTTCACATGGA  1379.360651       -0.371971  0.308630 -1.205232   \n",
      "TTTTGACTCTAATCACCGGT  1136.209801        0.144364  0.308207  0.468399   \n",
      "TTTTTAATACAAGGTAATCT   198.962991       -1.175524  1.281155 -0.917550   \n",
      "TTTTTCTCACCCGATGAATC  1061.656526       -0.871812  0.311703 -2.796934   \n",
      "\n",
      "                        pvalue      padj  \n",
      "CATAAAGCAGGAAACCCCCG  0.564546  0.837984  \n",
      "CAGGCGACGAGTTTGAACTG  0.159076  0.542218  \n",
      "CCATGTTGGACATTACCTCG  0.035427  0.227520  \n",
      "GTAGGCCACGCACGGCAGTG  0.857846  0.958797  \n",
      "GTGTGCTGAGAGTGTCAACA  0.677626  0.889497  \n",
      "...                        ...       ...  \n",
      "TTTGGTCAACGCATAGCTTG  0.931584  0.980623  \n",
      "TTTTACCTTGTTCACATGGA  0.228114  0.622492  \n",
      "TTTTGACTCTAATCACCGGT  0.639499  0.870792  \n",
      "TTTTTAATACAAGGTAATCT  0.358854  0.722351  \n",
      "TTTTTCTCACCCGATGAATC  0.005159  0.055367  \n",
      "\n",
      "[12141 rows x 6 columns]\n",
      "PROCESSING CELL LINE OVCAR8......\n"
     ]
    },
    {
     "name": "stderr",
     "output_type": "stream",
     "text": [
      "Fitting size factors...\n",
      "... done in 0.00 seconds.\n",
      "\n",
      "Fitting dispersions...\n",
      "... done in 4.32 seconds.\n",
      "\n",
      "Fitting dispersion trend curve...\n",
      "... done in 0.50 seconds.\n",
      "\n",
      "/storage/group/epo2/default/yur97/conda_envs/deseq2/lib/python3.8/site-packages/pydeseq2/dds.py:425: UserWarning: As the residual degrees of freedom is less than 3, the distribution of log dispersions is especially asymmetric and likely to be poorly estimated by the MAD.\n",
      "  self.fit_dispersion_prior()\n",
      "Fitting MAP dispersions...\n",
      "... done in 4.62 seconds.\n",
      "\n",
      "Fitting LFCs...\n",
      "... done in 2.42 seconds.\n",
      "\n",
      "Refitting 0 outliers.\n",
      "\n",
      "Running Wald tests...\n",
      "... done in 1.19 seconds.\n",
      "\n"
     ]
    },
    {
     "name": "stdout",
     "output_type": "stream",
     "text": [
      "Log2 fold change & Wald test p-value: Condition Assay vs Plasmid\n",
      "                         baseMean  log2FoldChange     lfcSE      stat  \\\n",
      "CATAAAGCAGGAAACCCCCG  1273.581683        0.052804  0.283677  0.186140   \n",
      "CAGGCGACGAGTTTGAACTG  1922.045931        0.197856  0.196606  1.006361   \n",
      "CCATGTTGGACATTACCTCG  1915.695785        0.160354  0.199325  0.804484   \n",
      "GTAGGCCACGCACGGCAGTG  2252.248558        0.406993  0.182846  2.225875   \n",
      "GTGTGCTGAGAGTGTCAACA   859.460478        0.318705  0.307049  1.037961   \n",
      "...                           ...             ...       ...       ...   \n",
      "TTTGGTCAACGCATAGCTTG  2116.864012        0.051844  0.198752  0.260848   \n",
      "TTTTACCTTGTTCACATGGA  1608.964699       -0.491938  0.216481 -2.272431   \n",
      "TTTTGACTCTAATCACCGGT  1328.245828        0.043903  0.239314  0.183453   \n",
      "TTTTTAATACAAGGTAATCT   196.738444       -1.945771  0.644495 -3.019061   \n",
      "TTTTTCTCACCCGATGAATC  1297.752983       -0.877764  0.258841 -3.391136   \n",
      "\n",
      "                        pvalue      padj  \n",
      "CATAAAGCAGGAAACCCCCG  0.852335  0.922394  \n",
      "CAGGCGACGAGTTTGAACTG  0.314242  0.528043  \n",
      "CCATGTTGGACATTACCTCG  0.421118  0.626407  \n",
      "GTAGGCCACGCACGGCAGTG  0.026023  0.106221  \n",
      "GTGTGCTGAGAGTGTCAACA  0.299288  0.511338  \n",
      "...                        ...       ...  \n",
      "TTTGGTCAACGCATAGCTTG  0.794210  0.890426  \n",
      "TTTTACCTTGTTCACATGGA  0.023060  0.097300  \n",
      "TTTTGACTCTAATCACCGGT  0.854442  0.923604  \n",
      "TTTTTAATACAAGGTAATCT  0.002536  0.018941  \n",
      "TTTTTCTCACCCGATGAATC  0.000696  0.007006  \n",
      "\n",
      "[12141 rows x 6 columns]\n",
      "PROCESSING CELL LINE HAP1......\n"
     ]
    },
    {
     "name": "stderr",
     "output_type": "stream",
     "text": [
      "Fitting size factors...\n",
      "... done in 0.00 seconds.\n",
      "\n",
      "Fitting dispersions...\n",
      "... done in 4.88 seconds.\n",
      "\n",
      "Fitting dispersion trend curve...\n",
      "... done in 0.44 seconds.\n",
      "\n",
      "/storage/group/epo2/default/yur97/conda_envs/deseq2/lib/python3.8/site-packages/pydeseq2/dds.py:425: UserWarning: As the residual degrees of freedom is less than 3, the distribution of log dispersions is especially asymmetric and likely to be poorly estimated by the MAD.\n",
      "  self.fit_dispersion_prior()\n",
      "Fitting MAP dispersions...\n",
      "... done in 4.61 seconds.\n",
      "\n",
      "Fitting LFCs...\n",
      "... done in 2.51 seconds.\n",
      "\n",
      "Refitting 0 outliers.\n",
      "\n",
      "Running Wald tests...\n",
      "... done in 1.17 seconds.\n",
      "\n"
     ]
    },
    {
     "name": "stdout",
     "output_type": "stream",
     "text": [
      "Log2 fold change & Wald test p-value: Condition Assay vs Plasmid\n",
      "                         baseMean  log2FoldChange     lfcSE      stat  \\\n",
      "CATAAAGCAGGAAACCCCCG  1486.270353       -0.516493  0.266337 -1.939244   \n",
      "CAGGCGACGAGTTTGAACTG  3222.828976        0.431729  0.270146  1.598133   \n",
      "CCATGTTGGACATTACCTCG  3620.632713        0.629727  0.397820  1.582945   \n",
      "GTAGGCCACGCACGGCAGTG  3255.178517        0.341249  0.289054  1.180572   \n",
      "GTGTGCTGAGAGTGTCAACA  1111.342423        0.014079  0.287068  0.049044   \n",
      "...                           ...             ...       ...       ...   \n",
      "TTTGGTCAACGCATAGCTTG  3511.123605        0.269037  0.259653  1.036140   \n",
      "TTTTACCTTGTTCACATGGA  2377.770235       -0.518228  0.259031 -2.000641   \n",
      "TTTTGACTCTAATCACCGGT  2013.704822        0.075901  0.260162  0.291745   \n",
      "TTTTTAATACAAGGTAATCT   274.349491       -2.230728  0.305875 -7.292931   \n",
      "TTTTTCTCACCCGATGAATC  1818.090730       -1.060958  0.282735 -3.752487   \n",
      "\n",
      "                            pvalue          padj  \n",
      "CATAAAGCAGGAAACCCCCG  5.247160e-02  1.941769e-01  \n",
      "CAGGCGACGAGTTTGAACTG  1.100135e-01  3.064120e-01  \n",
      "CCATGTTGGACATTACCTCG  1.134340e-01  3.120721e-01  \n",
      "GTAGGCCACGCACGGCAGTG  2.377726e-01  4.764745e-01  \n",
      "GTGTGCTGAGAGTGTCAACA  9.608843e-01  9.835735e-01  \n",
      "...                            ...           ...  \n",
      "TTTGGTCAACGCATAGCTTG  3.001367e-01  5.429298e-01  \n",
      "TTTTACCTTGTTCACATGGA  4.543107e-02  1.765746e-01  \n",
      "TTTTGACTCTAATCACCGGT  7.704817e-01  8.888145e-01  \n",
      "TTTTTAATACAAGGTAATCT  3.032843e-13  2.022673e-11  \n",
      "TTTTTCTCACCCGATGAATC  1.750891e-04  1.862604e-03  \n",
      "\n",
      "[12141 rows x 6 columns]\n",
      "PROCESSING CELL LINE HA1E......\n"
     ]
    },
    {
     "name": "stderr",
     "output_type": "stream",
     "text": [
      "Fitting size factors...\n",
      "... done in 0.00 seconds.\n",
      "\n",
      "Fitting dispersions...\n",
      "... done in 4.60 seconds.\n",
      "\n",
      "Fitting dispersion trend curve...\n",
      "... done in 0.43 seconds.\n",
      "\n",
      "/storage/group/epo2/default/yur97/conda_envs/deseq2/lib/python3.8/site-packages/pydeseq2/dds.py:425: UserWarning: As the residual degrees of freedom is less than 3, the distribution of log dispersions is especially asymmetric and likely to be poorly estimated by the MAD.\n",
      "  self.fit_dispersion_prior()\n",
      "Fitting MAP dispersions...\n",
      "... done in 4.58 seconds.\n",
      "\n",
      "Fitting LFCs...\n",
      "... done in 2.52 seconds.\n",
      "\n",
      "Refitting 0 outliers.\n",
      "\n",
      "Running Wald tests...\n",
      "... done in 1.32 seconds.\n",
      "\n"
     ]
    },
    {
     "name": "stdout",
     "output_type": "stream",
     "text": [
      "Log2 fold change & Wald test p-value: Condition Assay vs Plasmid\n",
      "                         baseMean  log2FoldChange     lfcSE      stat  \\\n",
      "CATAAAGCAGGAAACCCCCG  1846.577071        0.065910  0.207367  0.317843   \n",
      "CAGGCGACGAGTTTGAACTG  2929.038263        0.315134  0.197948  1.592001   \n",
      "CCATGTTGGACATTACCTCG  2699.427981        0.115012  0.195978  0.586862   \n",
      "GTAGGCCACGCACGGCAGTG  2810.192289        0.115775  0.205327  0.563856   \n",
      "GTGTGCTGAGAGTGTCAACA  1086.445176        0.047712  0.209932  0.227271   \n",
      "...                           ...             ...       ...       ...   \n",
      "TTTGGTCAACGCATAGCTTG  3211.232395        0.161357  0.194763  0.828481   \n",
      "TTTTACCTTGTTCACATGGA  2668.829861       -0.159402  0.196003 -0.813260   \n",
      "TTTTGACTCTAATCACCGGT  1946.203793        0.081691  0.196066  0.416653   \n",
      "TTTTTAATACAAGGTAATCT   309.495430       -1.596200  0.731767 -2.181296   \n",
      "TTTTTCTCACCCGATGAATC  2008.355762       -0.685664  0.196140 -3.495797   \n",
      "\n",
      "                        pvalue      padj  \n",
      "CATAAAGCAGGAAACCCCCG  0.750604  0.899439  \n",
      "CAGGCGACGAGTTTGAACTG  0.111385  0.368281  \n",
      "CCATGTTGGACATTACCTCG  0.557296  0.800026  \n",
      "GTAGGCCACGCACGGCAGTG  0.572852  0.809113  \n",
      "GTGTGCTGAGAGTGTCAACA  0.820213  0.931629  \n",
      "...                        ...       ...  \n",
      "TTTGGTCAACGCATAGCTTG  0.407398  0.705704  \n",
      "TTTTACCTTGTTCACATGGA  0.416069  0.711498  \n",
      "TTTTGACTCTAATCACCGGT  0.676932  0.866582  \n",
      "TTTTTAATACAAGGTAATCT  0.029162  0.154907  \n",
      "TTTTTCTCACCCGATGAATC  0.000473  0.004722  \n",
      "\n",
      "[12141 rows x 6 columns]\n",
      "PROCESSING CELL LINE MELJUSO......\n"
     ]
    },
    {
     "name": "stderr",
     "output_type": "stream",
     "text": [
      "Fitting size factors...\n",
      "... done in 0.00 seconds.\n",
      "\n",
      "Fitting dispersions...\n",
      "... done in 4.96 seconds.\n",
      "\n",
      "Fitting dispersion trend curve...\n",
      "... done in 0.44 seconds.\n",
      "\n",
      "/storage/group/epo2/default/yur97/conda_envs/deseq2/lib/python3.8/site-packages/pydeseq2/dds.py:425: UserWarning: As the residual degrees of freedom is less than 3, the distribution of log dispersions is especially asymmetric and likely to be poorly estimated by the MAD.\n",
      "  self.fit_dispersion_prior()\n",
      "Fitting MAP dispersions...\n",
      "... done in 4.73 seconds.\n",
      "\n",
      "Fitting LFCs...\n",
      "... done in 2.49 seconds.\n",
      "\n",
      "Refitting 0 outliers.\n",
      "\n",
      "Running Wald tests...\n"
     ]
    },
    {
     "name": "stdout",
     "output_type": "stream",
     "text": [
      "Log2 fold change & Wald test p-value: Condition Assay vs Plasmid\n",
      "                         baseMean  log2FoldChange     lfcSE      stat  \\\n",
      "CATAAAGCAGGAAACCCCCG  2912.220597        0.189037  0.226153  0.835880   \n",
      "CAGGCGACGAGTTTGAACTG  4403.836240        0.336997  0.246072  1.369504   \n",
      "CCATGTTGGACATTACCTCG  3619.025327       -0.109515  0.227282 -0.481848   \n",
      "GTAGGCCACGCACGGCAGTG  4798.739487        0.398384  0.226601  1.758082   \n",
      "GTGTGCTGAGAGTGTCAACA  1617.163319        0.049188  0.227859  0.215869   \n",
      "...                           ...             ...       ...       ...   \n",
      "TTTGGTCAACGCATAGCTTG  5082.320218        0.289308  0.225861  1.280909   \n",
      "TTTTACCTTGTTCACATGGA  3455.558386       -0.484452  0.238893 -2.027902   \n",
      "TTTTGACTCTAATCACCGGT  3032.309814        0.179306  0.225659  0.794590   \n",
      "TTTTTAATACAAGGTAATCT   447.353090       -1.701660  0.286090 -5.947993   \n",
      "TTTTTCTCACCCGATGAATC  2980.661813       -0.691253  0.237960 -2.904917   \n",
      "\n",
      "                            pvalue          padj  \n",
      "CATAAAGCAGGAAACCCCCG  4.032226e-01  6.251936e-01  \n",
      "CAGGCGACGAGTTTGAACTG  1.708417e-01  3.922218e-01  \n",
      "CCATGTTGGACATTACCTCG  6.299139e-01  7.929846e-01  \n",
      "GTAGGCCACGCACGGCAGTG  7.873352e-02  2.491312e-01  \n",
      "GTGTGCTGAGAGTGTCAACA  8.290897e-01  9.132853e-01  \n",
      "...                            ...           ...  \n",
      "TTTGGTCAACGCATAGCTTG  2.002256e-01  4.280268e-01  \n",
      "TTTTACCTTGTTCACATGGA  4.257022e-02  1.671684e-01  \n",
      "TTTTGACTCTAATCACCGGT  4.268519e-01  6.462678e-01  \n",
      "TTTTTAATACAAGGTAATCT  2.714505e-09  9.719764e-08  \n",
      "TTTTTCTCACCCGATGAATC  3.673510e-03  2.467574e-02  \n",
      "\n",
      "[12141 rows x 6 columns]\n"
     ]
    },
    {
     "name": "stderr",
     "output_type": "stream",
     "text": [
      "... done in 1.23 seconds.\n",
      "\n"
     ]
    }
   ],
   "source": [
    "# Get the result dataframe\n",
    "dict_res = {}\n",
    "for cell_line in ['A375', 'OVCAR8', 'HAP1', 'HA1E', 'MELJUSO']:\n",
    "    print(f'PROCESSING CELL LINE {cell_line}......')\n",
    "    sub_df = mu.make_subdf(hannah_be39, hannah_annot, cell_line)\n",
    "    # sub_df['Category'] = sub_df['Gene symbol'].apply(lambda x: 'NEGATIVE CONTROL' if x == 'NEGATIVE CONTROL')\n",
    "    sub_df['Category'] = sub_df['Mutation category'].apply(mu.sgRNA_categ)\n",
    "    sub_df.loc[sub_df['Gene symbol'] == 'NEGATIVE CONTROL', 'Category'] = 'NEGATIVE CONTROL'\n",
    "\n",
    "    # Make clinical dataframe\n",
    "    df_res = mu.analyze_DESeq(cell_line, sub_df)\n",
    "\n",
    "    # Analyze the hit result\n",
    "    df_res_ = pd.concat([df_res,sub_df], axis = 1)\n",
    "    df_res_ess = df_res_[df_res_['Gene symbol'].isin(pan_lethal)]\n",
    "    df_res_ess.to_csv(join(output_path, 'Hannah'+cell_line+'.csv'))\n",
    "\n",
    "    # Define a temp dictionary\n",
    "    dict_res[cell_line] = {}\n",
    "\n",
    "    for categ_ in ['Missense', 'Synonymous', 'No edits', 'Intron', 'Nonsense',\n",
    "       'Splice site', 'UTR']:\n",
    "        n_sig, n_tot = mu.sig_perc(df_res_ess, 'padj', categ_, cut_off = 0.01, category_col = 'Category')\n",
    "        dict_res[cell_line][categ_] = {'sig_n':n_sig, 'tot_n':n_tot}\n",
    "\n",
    "    df_res_ct = df_res_[df_res_['Gene symbol'].isin(control_genes)]\n",
    "    n_sig, n_tot = mu.sig_perc(df_res_ct,'padj',  'all', cut_off = 0.01, category_col = 'Category')\n",
    "    dict_res[cell_line]['Non-essential'] = {'sig_n':n_sig, 'tot_n':n_tot}\n",
    "    df_res_nct = df_res_[df_res_['Category'] == 'NEGATIVE CONTROL']\n",
    "    n_sig, n_tot = mu.sig_perc(df_res_nct,'padj',  'all', cut_off = 0.01, category_col = 'Category')\n",
    "    dict_res[cell_line]['Non-Targeting'] = {'sig_n':n_sig, 'tot_n':n_tot}"
   ]
  },
  {
   "cell_type": "code",
   "execution_count": 5,
   "id": "cf06f511-c605-4e75-9273-2a1fcd513987",
   "metadata": {},
   "outputs": [],
   "source": [
    "# Organize the result dictionary into dataframe\n",
    "df_res = pd.DataFrame()\n",
    "for cell_lines in dict_res.keys():\n",
    "    df_ = pd.DataFrame.from_dict(dict_res[cell_lines], orient = 'index')\n",
    "    df_['cell_line'] = cell_lines\n",
    "    df_ = df_.reset_index(names = ['category'])\n",
    "    df_res = pd.concat([df_res, df_])\n",
    "# Calculate the percentage of the hit rate\n",
    "df_res['mutation_category'] = df_res['category'].replace(reverse_dict)\n",
    "df_res = df_res.groupby(['mutation_category', 'cell_line'],as_index=False).sum()\n",
    "df_res = df_res.drop('category', axis = 1)\n",
    "df_res['perc'] = df_res['sig_n']/df_res['tot_n']\n",
    "# Save dataframe\n",
    "df_res.to_csv(join(output_path, 'DESeq_Hannah.csv'))"
   ]
  },
  {
   "cell_type": "markdown",
   "id": "2321a3e2-78b1-47f6-9358-0f5561caa5d2",
   "metadata": {},
   "source": [
    "### 2. Martin et al"
   ]
  },
  {
   "cell_type": "code",
   "execution_count": 8,
   "id": "b5cda14d-ac63-4ffa-add5-9f5befd8cae7",
   "metadata": {},
   "outputs": [
    {
     "name": "stdout",
     "output_type": "stream",
     "text": [
      "ATR,BARD1,BRCA1,BRCA2,RAD51C,RAD51D,XRCC3\n"
     ]
    }
   ],
   "source": [
    "ess_genes = ['ATR','BARD1','BRCA1','BRCA2','RAD51C','RAD51D','XRCC3']\n",
    "print(','.join(ess_genes))"
   ]
  },
  {
   "cell_type": "code",
   "execution_count": 25,
   "id": "5cd20302-5ee8-4d1c-b330-47a92676871b",
   "metadata": {
    "tags": []
   },
   "outputs": [
    {
     "name": "stderr",
     "output_type": "stream",
     "text": [
      "/storage/group/epo2/default/yur97/conda_envs/deseq2/lib/python3.8/site-packages/anndata/_core/anndata.py:117: ImplicitModificationWarning: Transforming to str index.\n",
      "  warnings.warn(\"Transforming to str index.\", ImplicitModificationWarning)\n",
      "Fitting size factors...\n",
      "... done in 0.01 seconds.\n",
      "\n",
      "Fitting dispersions...\n",
      "... done in 4.65 seconds.\n",
      "\n",
      "Fitting dispersion trend curve...\n",
      "... done in 0.46 seconds.\n",
      "\n",
      "Fitting MAP dispersions...\n",
      "... done in 5.21 seconds.\n",
      "\n",
      "Fitting LFCs...\n",
      "... done in 2.74 seconds.\n",
      "\n",
      "Refitting 0 outliers.\n",
      "\n",
      "Running Wald tests...\n",
      "... done in 1.21 seconds.\n",
      "\n"
     ]
    },
    {
     "name": "stdout",
     "output_type": "stream",
     "text": [
      "Log2 fold change & Wald test p-value: Day D18 vs D0\n",
      "          baseMean  log2FoldChange     lfcSE      stat    pvalue      padj\n",
      "0      1626.727828        0.583498  0.220218  2.649645  0.008058  0.075689\n",
      "1       941.798500        0.176377  0.359398  0.490755  0.623600  0.825523\n",
      "2       677.877454       -0.477415  0.312128 -1.529551  0.126128  0.380494\n",
      "3       644.645563        0.250150  0.381862  0.655080  0.512416  0.756797\n",
      "4       620.075332       -0.211889  0.272716 -0.776961  0.437182  0.705748\n",
      "...            ...             ...       ...       ...       ...       ...\n",
      "11393   466.738829       -0.304187  0.521412 -0.583391  0.559630  0.785095\n",
      "11394   771.702454       -0.480240  0.386273 -1.243267  0.213770  0.499146\n",
      "11395  1125.332420       -0.030882  0.241692 -0.127775  0.898327  0.963188\n",
      "11396   765.407782       -0.091460  0.372356 -0.245624  0.805973  0.924010\n",
      "11397   880.522620       -0.188182  0.323286 -0.582093  0.560504  0.785347\n",
      "\n",
      "[11398 rows x 6 columns]\n"
     ]
    },
    {
     "name": "stderr",
     "output_type": "stream",
     "text": [
      "/storage/group/epo2/default/yur97/conda_envs/deseq2/lib/python3.8/site-packages/anndata/_core/anndata.py:117: ImplicitModificationWarning: Transforming to str index.\n",
      "  warnings.warn(\"Transforming to str index.\", ImplicitModificationWarning)\n",
      "Fitting size factors...\n",
      "... done in 0.01 seconds.\n",
      "\n",
      "Fitting dispersions...\n",
      "... done in 4.66 seconds.\n",
      "\n",
      "Fitting dispersion trend curve...\n",
      "... done in 0.65 seconds.\n",
      "\n",
      "/storage/group/epo2/default/yur97/conda_envs/deseq2/lib/python3.8/site-packages/pydeseq2/dds.py:649: RuntimeWarning: invalid value encountered in log\n",
      "  ) - np.log(self[:, self.non_zero_genes].varm[\"fitted_dispersions\"])\n",
      "/storage/group/epo2/default/yur97/conda_envs/deseq2/lib/python3.8/site-packages/numpy/lib/utils.py:1119: ImplicitModificationWarning: Trying to modify attribute `.varm` of view, initializing view as actual.\n",
      "  result[n] = np.nan\n",
      "Fitting MAP dispersions...\n",
      "... done in 5.21 seconds.\n",
      "\n",
      "/storage/group/epo2/default/yur97/conda_envs/deseq2/lib/python3.8/site-packages/pydeseq2/dds.py:707: RuntimeWarning: invalid value encountered in log\n",
      "  self.varm[\"_outlier_genes\"] = np.log(self.varm[\"genewise_dispersions\"]) > np.log(\n",
      "Fitting LFCs...\n",
      "... done in 2.64 seconds.\n",
      "\n",
      "Refitting 0 outliers.\n",
      "\n",
      "Running Wald tests...\n",
      "... done in 1.16 seconds.\n",
      "\n"
     ]
    },
    {
     "name": "stdout",
     "output_type": "stream",
     "text": [
      "Log2 fold change & Wald test p-value: Day D18 vs D0\n",
      "          baseMean  log2FoldChange     lfcSE      stat    pvalue      padj\n",
      "0      1825.401797       -0.362161  0.108843 -3.327381  0.000877  0.021439\n",
      "1      1494.170364       -0.187353  0.151703 -1.234999  0.216831  0.689137\n",
      "2       904.678049       -0.107530  0.252201 -0.426368  0.669839  0.927829\n",
      "3      1080.798986        0.657165  0.266673  2.464311  0.013728  0.168225\n",
      "4       866.437238       -0.108555  0.246603 -0.440202  0.659791  0.926932\n",
      "...            ...             ...       ...       ...       ...       ...\n",
      "11393   592.681452       -0.092397  0.383054 -0.241211  0.809391  0.965950\n",
      "11394   963.758208       -0.180630  0.203616 -0.887112  0.375019  0.811330\n",
      "11395  1602.301221       -0.048485  0.122119 -0.397030  0.691346  0.931692\n",
      "11396   990.721299       -0.020621  0.227666 -0.090575  0.927830  0.986954\n",
      "11397  1386.821154        0.179147  0.130609  1.371629  0.170179  0.635439\n",
      "\n",
      "[11398 rows x 6 columns]\n"
     ]
    },
    {
     "name": "stderr",
     "output_type": "stream",
     "text": [
      "/storage/group/epo2/default/yur97/conda_envs/deseq2/lib/python3.8/site-packages/anndata/_core/anndata.py:117: ImplicitModificationWarning: Transforming to str index.\n",
      "  warnings.warn(\"Transforming to str index.\", ImplicitModificationWarning)\n",
      "Fitting size factors...\n",
      "... done in 0.01 seconds.\n",
      "\n",
      "Fitting dispersions...\n",
      "... done in 4.60 seconds.\n",
      "\n",
      "Fitting dispersion trend curve...\n",
      "... done in 0.46 seconds.\n",
      "\n",
      "Fitting MAP dispersions...\n",
      "... done in 5.53 seconds.\n",
      "\n",
      "Fitting LFCs...\n",
      "... done in 2.59 seconds.\n",
      "\n",
      "Refitting 0 outliers.\n",
      "\n",
      "Running Wald tests...\n"
     ]
    },
    {
     "name": "stdout",
     "output_type": "stream",
     "text": [
      "Log2 fold change & Wald test p-value: Day D18 vs D0\n",
      "          baseMean  log2FoldChange     lfcSE      stat    pvalue      padj\n",
      "0      1873.315232        0.321279  0.216725  1.482428  0.138226  0.510968\n",
      "1      1569.723016        0.533366  0.262996  2.028043  0.042556  0.300448\n",
      "2       857.886004        0.233896  0.308432  0.758338  0.448249  0.775671\n",
      "3       807.452021        0.104579  0.217398  0.481049  0.630482  0.869143\n",
      "4       970.241614        0.070118  0.179717  0.390156  0.696421  0.895624\n",
      "...            ...             ...       ...       ...       ...       ...\n",
      "11393   645.722595        0.321099  0.271208  1.183959  0.236429  0.624789\n",
      "11394   979.650542        0.038830  0.301723  0.128693  0.897600  0.969861\n",
      "11395  1610.574960       -0.045912  0.260704 -0.176108  0.860209  0.957354\n",
      "11396  1002.653870        0.236238  0.257274  0.918236  0.358495  0.719600\n",
      "11397  1242.371313        0.191422  0.217480  0.880184  0.378759  0.733270\n",
      "\n",
      "[11398 rows x 6 columns]\n"
     ]
    },
    {
     "name": "stderr",
     "output_type": "stream",
     "text": [
      "... done in 1.14 seconds.\n",
      "\n"
     ]
    }
   ],
   "source": [
    "ess_genes = ['ATR','BARD1','BRCA1','BRCA2','RAD51C','RAD51D','XRCC3']\n",
    "\n",
    "dict_res_ddr = {}\n",
    "for cell_line in ['HAP1','MCF10A', 'MCF7']:\n",
    "    dict_res_ddr[cell_line] = {}\n",
    "    df = pd.read_csv(join(data_path, f'Raquel_{cell_line}_score.csv'))\n",
    "    df_rc = pd.read_csv(join(data_path, f'{cell_line}_sub1_readcount.csv'))\n",
    "\n",
    "    df.loc[df['sgRNA_ID'].str.startswith('Non-targeting'), 'Function'] = 'Non-targeting'\n",
    "    df_ess = df[df['Gene'].isin(ess_genes)]\n",
    "    \n",
    "    cols = ['T0_R1', 'T0_R2', 'T0_R3',\n",
    "       'T18_UNT_R1', 'T18_UNT_R2', 'T18_UNT_R3']\n",
    "    \n",
    "    # Create metadata for DESeq analysis\n",
    "    clinical_df = pd.DataFrame(index=cols, columns=['Day'])\n",
    "    clinical_df['Day'] = ['D0','D0','D0','D18','D18','D18']\n",
    "    \n",
    "    cols = ['T0_R1', 'T0_R2', 'T0_R3',\n",
    "       'T18_UNT_R1', 'T18_UNT_R2', 'T18_UNT_R3']\n",
    "    \n",
    "    # Create metadata for DESeq analysis\n",
    "    clinical_df = pd.DataFrame(index=cols, columns=['Day'])\n",
    "    clinical_df['Day'] = ['D0','D0','D0','D18','D18','D18']\n",
    "    \n",
    "    try:\n",
    "        dds = DeseqDataSet(\n",
    "            counts=df_rc.T.loc[cols, :],\n",
    "            metadata=clinical_df.loc[cols, :],\n",
    "            design_factors='Day',\n",
    "            refit_cooks=True\n",
    "        )\n",
    "        dds.deseq2()  # Fit dispersion and normalization\n",
    "\n",
    "        # Perform DESeq analysis and summarize results\n",
    "        stat_res = DeseqStats(dds, contrast=('Day', 'D18', 'D0'))\n",
    "        stat_res.summary()\n",
    "    except Exception as e:\n",
    "        print(f\"Error in DESeq analysis: {e}\")\n",
    "\n",
    "    df_res = pd.concat([df_rc,stat_res.results_df.reset_index()], axis = 1)\n",
    "    df_res = pd.concat([df_res.set_index('sgRNA_ID'), df[['sgRNA_ID','Function']].set_index('sgRNA_ID')], axis = 1)\n",
    "\n",
    "\n",
    "    df_ess = df_res[df_res['Gene'].isin(ess_genes)]\n",
    "    df_ess.to_csv(join(output_path, 'Martin'+cell_line+'.csv'))\n",
    "\n",
    "    \n",
    "\n",
    "    categ_list =[ i for i in df_res['Function'].unique() if not pd.isna(i)]\n",
    "    for categ_ in categ_list:\n",
    "        n_sig, n_tot = mu.sig_perc(df_ess, 'padj', categ_, cut_off = 0.01, category_col = 'Function')\n",
    "        dict_res_ddr[cell_line][categ_] = {'sig_n':n_sig, 'tot_n':n_tot}\n",
    "        \n",
    "    df_res_nct = df_res[df_res['Function'] == 'Non-targeting']\n",
    "    n_sig, n_tot = mu.sig_perc(df_res_nct, 'padj' ,'all', cut_off = 0.01)\n",
    "    dict_res_ddr[cell_line]['Non-Targeting'] = {'sig_n':n_sig, 'tot_n':n_tot}"
   ]
  },
  {
   "cell_type": "code",
   "execution_count": 16,
   "id": "628b9913-ab93-4efc-ad44-5e95aadfdce6",
   "metadata": {},
   "outputs": [
    {
     "data": {
      "text/plain": [
       "{'HAP1': {}}"
      ]
     },
     "execution_count": 16,
     "metadata": {},
     "output_type": "execute_result"
    }
   ],
   "source": [
    "dict_res_ddr"
   ]
  },
  {
   "cell_type": "code",
   "execution_count": 7,
   "id": "ddb918fb-be2b-4bf5-b6b6-d178c348e9fa",
   "metadata": {},
   "outputs": [],
   "source": [
    "# Organize the result dictionary into dataframe\n",
    "df_res_ddr = pd.DataFrame()\n",
    "for cell_lines in dict_res_ddr.keys():\n",
    "    df_ = pd.DataFrame.from_dict(dict_res_ddr[cell_lines], orient = 'index')\n",
    "    df_['cell_line'] = cell_lines\n",
    "    df_ = df_.reset_index(names = ['category'])\n",
    "    df_res_ddr = pd.concat([df_res_ddr, df_])\n",
    "# Calculate the percentage of the hit rate\n",
    "df_res_ddr['mutation_category'] = df_res_ddr['category'].replace(reverse_dict)\n",
    "df_res_ddr = df_res_ddr.groupby(['mutation_category', 'cell_line'],as_index=False).sum()\n",
    "df_res_ddr = df_res_ddr.drop('category', axis = 1)\n",
    "df_res_ddr['perc'] = df_res_ddr['sig_n']/df_res_ddr['tot_n']\n",
    "# Save dataframe\n",
    "df_res_ddr.to_csv(join(output_path, 'DESeq_Martin.csv'))"
   ]
  },
  {
   "cell_type": "markdown",
   "id": "ca565633-78c1-4a20-9d65-cc6924bb4aa0",
   "metadata": {},
   "source": [
    "### Intersection hits"
   ]
  },
  {
   "cell_type": "code",
   "execution_count": 73,
   "id": "8a992cfa-0b16-498c-b420-304a4b988d12",
   "metadata": {},
   "outputs": [],
   "source": [
    "martinhap1 = pd.read_csv(join(output_path, 'MartinHAP1.csv'), index_col = 0)\n",
    "mis_df = martinhap1[martinhap1['Function'] == 'synonymous']\n",
    "mis_sig_df1 = mis_df[mis_df['padj']<0.05]\n",
    "\n",
    "martinhap1 = pd.read_csv(join(output_path, 'MartinMCF10A.csv'), index_col = 0)\n",
    "mis_df = martinhap1[martinhap1['Function'] == 'synonymous']\n",
    "mis_sig_df2 = mis_df[mis_df['padj']<0.05]\n",
    "\n",
    "martinhap1 = pd.read_csv(join(output_path, 'MartinMCF7.csv'), index_col = 0)\n",
    "mis_df = martinhap1[martinhap1['Function'] == 'synonymous']\n",
    "mis_sig_df3 = mis_df[mis_df['padj']<0.05]"
   ]
  },
  {
   "cell_type": "code",
   "execution_count": 74,
   "id": "ba57359d-016a-4fb2-aca7-a1642f32acbd",
   "metadata": {},
   "outputs": [],
   "source": [
    "sets = [set(mis_sig_df1.index), set(mis_sig_df2.index), set(mis_sig_df3.index)]\n",
    "intersection_result = set.intersection(*sets)"
   ]
  },
  {
   "cell_type": "code",
   "execution_count": 76,
   "id": "95d44c01-448e-4d68-9483-670bfb8cf4b7",
   "metadata": {},
   "outputs": [],
   "source": [
    "hannahhap1 = pd.read_csv(join(output_path, 'HannahHAP1.csv'), index_col = 0)\n",
    "mis_df = hannahhap1[hannahhap1['Category'] == 'Synonymous']\n",
    "mis_sig_df1 = mis_df[mis_df['padj']<0.05]\n",
    "\n",
    "hannahhap1 = pd.read_csv(join(output_path, 'HannahHA1E.csv'), index_col = 0)\n",
    "mis_df = hannahhap1[hannahhap1['Category'] == 'Synonymous']\n",
    "mis_sig_df2 = mis_df[mis_df['padj']<0.05]\n",
    "\n",
    "hannahhap1 = pd.read_csv(join(output_path, 'HannahA375.csv'), index_col = 0)\n",
    "mis_df = hannahhap1[hannahhap1['Category'] == 'Synonymous']\n",
    "mis_sig_df3 = mis_df[mis_df['padj']<0.05]\n",
    "\n",
    "hannahhap1 = pd.read_csv(join(output_path, 'HannahMELJUSO.csv'), index_col = 0)\n",
    "mis_df = hannahhap1[hannahhap1['Category'] == 'Synonymous']\n",
    "mis_sig_df4 = mis_df[mis_df['padj']<0.05]\n",
    "\n",
    "hannahhap1 = pd.read_csv(join(output_path, 'HannahOVCAR8.csv'), index_col = 0)\n",
    "mis_df = hannahhap1[hannahhap1['Category'] == 'Synonymous']\n",
    "mis_sig_df5 = mis_df[mis_df['padj']<0.05]"
   ]
  },
  {
   "cell_type": "code",
   "execution_count": 77,
   "id": "c1f3a359-a445-4797-a71d-233d70bf9c9f",
   "metadata": {},
   "outputs": [],
   "source": [
    "sets = [set(mis_sig_df1.index), set(mis_sig_df2.index), set(mis_sig_df3.index), set(mis_sig_df4.index), set(mis_sig_df5.index)]\n",
    "intersection_result = set.intersection(*sets)"
   ]
  },
  {
   "cell_type": "code",
   "execution_count": 78,
   "id": "7f554ff7-f4aa-47e2-91f0-312a9567e5e6",
   "metadata": {},
   "outputs": [
    {
     "data": {
      "text/plain": [
       "30"
      ]
     },
     "execution_count": 78,
     "metadata": {},
     "output_type": "execute_result"
    },
    {
     "name": "stderr",
     "output_type": "stream",
     "text": [
      "/storage/group/epo2/default/yur97/conda_envs/deseq2/lib/python3.8/site-packages/pydeseq2/utils.py:667: RuntimeWarning: invalid value encountered in log\n",
      "  log_alpha_hat = np.log(alpha_hat)\n",
      "/storage/group/epo2/default/yur97/conda_envs/deseq2/lib/python3.8/site-packages/pydeseq2/utils.py:708: RuntimeWarning: invalid value encountered in log\n",
      "  x0=np.log(alpha_hat),\n",
      "/storage/group/epo2/default/yur97/conda_envs/deseq2/lib/python3.8/site-packages/numpy/linalg/linalg.py:2079: RuntimeWarning: invalid value encountered in slogdet\n",
      "  sign, logdet = _umath_linalg.slogdet(a, signature=signature)\n"
     ]
    }
   ],
   "source": [
    "len(intersection_result)"
   ]
  },
  {
   "cell_type": "code",
   "execution_count": 66,
   "id": "62c08062-0e97-4806-ab94-037cd1fcb811",
   "metadata": {},
   "outputs": [
    {
     "data": {
      "text/plain": [
       "Index(['AAAACCGGCGCTGGAACCAC', 'AAACCAGTCATACCACCCAA', 'AACCCACAGTAGTAACCTGC',\n",
       "       'ACACTAGGCCTGGGACAGAA', 'CAGTGGTCAAACACACACTG', 'CATTTCCTCATCACAGACAT',\n",
       "       'CTAATTCCTCATCAGAAAGT', 'GATCCTCATCTCCAGCAATG', 'GATTCCTGAGTTGAACAAAG',\n",
       "       'GCTCTTCTTTCCTCATCCCC',\n",
       "       ...\n",
       "       'TCTTCTTCAACAGGTGGCTG', 'TGAACACTTCGATGACACAG', 'TGCATCACCTCGTCACAGAA',\n",
       "       'TGCGCCATCGGTGACTCGGA', 'TGCTTCAGCCAAGGCAGCAA', 'TGTATACCAGGCATATGACA',\n",
       "       'TGTTCATCTTCTTCTTCAAC', 'TGTTCCGTTCTTCAATTCAA', 'TTCATGTCTGTTCTTTAAGA',\n",
       "       'TTCTCAGATATGGTCTTAAA'],\n",
       "      dtype='object', length=108)"
      ]
     },
     "execution_count": 66,
     "metadata": {},
     "output_type": "execute_result"
    }
   ],
   "source": [
    "mis_sig_df3.index.intersection(mis_sig_df4.index)"
   ]
  },
  {
   "cell_type": "code",
   "execution_count": 64,
   "id": "1458862e-cb93-471e-bad7-36febbd4f475",
   "metadata": {},
   "outputs": [
    {
     "data": {
      "text/plain": [
       "Index(['AAAACCGGCGCTGGAACCAC', 'AAACCAGTCATACCACCCAA', 'ACACTAGGCCTGGGACAGAA',\n",
       "       'ATATCATTAAGCAATGCCAC', 'CAGTGGTCAAACACACACTG', 'CATTTCCTCATCACAGACAT',\n",
       "       'CCTCTGGAAAGAGATCAGCC', 'CTAATTCCTCATCAGAAAGT', 'CTCCACTTCCAAAAGCAGCC',\n",
       "       'CTCCATGTACTGATAATATA',\n",
       "       ...\n",
       "       'TGTATCTCGAACAACTACAC', 'TGTTCATCTTCTTCTTCAAC', 'TGTTCCGTTCTTCAATTCAA',\n",
       "       'TTACATCAGTAGCTGTCAGA', 'TTATATCCGCCACGATTCCC', 'TTCATGTCTGTTCTTTAAGA',\n",
       "       'TTCTCAGATATGGTCTTAAA', 'TTCTGACTGCCATAATCCAG', 'TTGCACAGAGTAAAGACTGA',\n",
       "       'TTTAATCCAATGCCCAGGAA'],\n",
       "      dtype='object', length=155)"
      ]
     },
     "execution_count": 64,
     "metadata": {},
     "output_type": "execute_result"
    }
   ],
   "source": [
    "mis_sig_df2.index.intersection(mis_sig_df1.index)"
   ]
  },
  {
   "cell_type": "code",
   "execution_count": 65,
   "id": "2cdb0f03-448a-48ee-8b47-5dfaf5cb9850",
   "metadata": {},
   "outputs": [
    {
     "data": {
      "text/plain": [
       "Index(['AAAACCGGCGCTGGAACCAC', 'AAACCAGTCATACCACCCAA', 'AACCCACAGTAGTAACCTGC',\n",
       "       'ACACTAGGCCTGGGACAGAA', 'CAGTGGTCAAACACACACTG', 'CATTTCCTCATCACAGACAT',\n",
       "       'CTAATTCCTCATCAGAAAGT', 'GATCCTCATCTCCAGCAATG', 'GATTCCTGAGTTGAACAAAG',\n",
       "       'GCTCTTCTTTCCTCATCCCC',\n",
       "       ...\n",
       "       'TGAACACTTCGATGACACAG', 'TGAATCCTCCACGTCCTCTA', 'TGCATCACCTCGTCACAGAA',\n",
       "       'TGCGCCATCGGTGACTCGGA', 'TGCTTCAGCCAAGGCAGCAA', 'TGTATACCAGGCATATGACA',\n",
       "       'TGTTCATCTTCTTCTTCAAC', 'TGTTCCGTTCTTCAATTCAA', 'TTCATGTCTGTTCTTTAAGA',\n",
       "       'TTCTCAGATATGGTCTTAAA'],\n",
       "      dtype='object', length=106)"
      ]
     },
     "execution_count": 65,
     "metadata": {},
     "output_type": "execute_result"
    }
   ],
   "source": [
    "mis_sig_df2.index.intersection(mis_sig_df3.index)"
   ]
  },
  {
   "cell_type": "code",
   "execution_count": 16,
   "id": "e0bd000e-66c6-4a4d-a4dd-15ebd89e69e8",
   "metadata": {},
   "outputs": [],
   "source": []
  },
  {
   "cell_type": "code",
   "execution_count": null,
   "id": "dc2779cc-d89c-4bf9-b2fe-b54579f5b3b2",
   "metadata": {},
   "outputs": [],
   "source": []
  }
 ],
 "metadata": {
  "kernelspec": {
   "display_name": "deseq2",
   "language": "python",
   "name": "deseq2"
  },
  "language_info": {
   "codemirror_mode": {
    "name": "ipython",
    "version": 3
   },
   "file_extension": ".py",
   "mimetype": "text/x-python",
   "name": "python",
   "nbconvert_exporter": "python",
   "pygments_lexer": "ipython3",
   "version": "3.8.18"
  }
 },
 "nbformat": 4,
 "nbformat_minor": 5
}
