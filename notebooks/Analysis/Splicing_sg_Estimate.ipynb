{
 "cells": [
  {
   "cell_type": "code",
   "execution_count": 31,
   "id": "21e782d9",
   "metadata": {},
   "outputs": [],
   "source": [
    "### This notebook contains code that filter sgRNAs that only edit synonymous mutations\n",
    "### The main difference from previous version is it fetch the BE window sequences from annotation file directly\n",
    "import pandas as pd \n",
    "from tqdm import tqdm\n",
    "import pickle\n",
    "from Bio import SeqIO\n",
    "import re\n",
    "\n",
    "from os.path import exists,join\n",
    "from os import listdir,makedirs\n",
    "\n",
    "import sys\n",
    "sys.path.append('../')\n",
    "from src import syn_sgFinder\n",
    "from itertools import chain,product\n",
    "from Bio.Seq import Seq\n"
   ]
  },
  {
   "cell_type": "code",
   "execution_count": 4,
   "id": "e52bff07",
   "metadata": {},
   "outputs": [
    {
     "name": "stdout",
     "output_type": "stream",
     "text": [
      "The autoreload extension is already loaded. To reload it, use:\n",
      "  %reload_ext autoreload\n"
     ]
    }
   ],
   "source": [
    "%load_ext autoreload\n",
    "%autoreload 2"
   ]
  },
  {
   "cell_type": "code",
   "execution_count": 7,
   "id": "7df467da",
   "metadata": {},
   "outputs": [],
   "source": [
    "out_path = '../restore/data/output/sg_Finder_splicing'\n",
    "mrna_path = '../restore/data/MANE'\n",
    "fpath = '../restore/data/output/sg_out/'\n",
    "\n",
    "# Load all expressed transcripts\n",
    "ess_genelist = pd.read_csv('../restore/data/output/K562_comm_ess.txt', header =None)\n",
    "neutral_genelist = pd.read_csv('../restore/data/output/K562_neutral.txt', header =None)\n",
    "\n",
    "list_exp_trsp = pickle.load(open('../restore/data/22Q2_gene_effect/expressed_transcripts.pkl','rb'))\n",
    "# Parse mRNA sequence dictionary, for use when sequence aligned to intron-exon junctions\n",
    "record_dict = SeqIO.to_dict(SeqIO.parse(join(mrna_path,'MANE.GRCh38.v1.0.refseq_rna.fna'), \"fasta\"))\n",
    "\n",
    "fpath = '../restore/data/sg_out/'\n",
    "list_gene = [i for i in listdir(fpath) if not i.startswith('.')]\n",
    "list_gene = [i for i in list_gene if len(listdir(join(fpath,i))) > 5]\n",
    "list_gene_ess = [i for i in list_gene if i in list(ess_genelist[0])]\n",
    "list_gene_neutral = [i for i in list_gene if i in list(neutral_genelist[0])]"
   ]
  },
  {
   "cell_type": "code",
   "execution_count": 14,
   "id": "a3099916-fdd5-4199-a4aa-417874caa6b3",
   "metadata": {},
   "outputs": [],
   "source": [
    "def run_sgFinder(input_genes, length, tag = 'ess', sg_p ='../restore/data/output/sg_out' ):\n",
    "    out_path = '../restore/data/output/sg_Finder_splicing'\n",
    "    \n",
    "    df_synsg_abe = pd.DataFrame()\n",
    "    df_synsg_cbe = pd.DataFrame()\n",
    "    df_abeCT = pd.DataFrame()\n",
    "    df_cbeCT = pd.DataFrame()\n",
    "    \n",
    "    dict_filter = {} # Record filtered sgRNA index\n",
    "    for genes in tqdm(input_genes):\n",
    "        \n",
    "        if not exists(join(out_path,genes,tag)):\n",
    "            makedirs(join(out_path,genes,tag))\n",
    "            \n",
    "        # Get gene transcript, sequence information\n",
    "        sg_gene = syn_sgFinder.sgFinder_gene(genes,sg_path = '../data/sg_out' )\n",
    "        sg_gene.gene_cds_proc(record_dict,list_exp_trsp) # filter out non-expressed transcript\n",
    "        yield(sg_gene)"
   ]
  },
  {
   "cell_type": "code",
   "execution_count": 67,
   "id": "603c9c68-5a88-4931-b52d-5d83da38a9ab",
   "metadata": {},
   "outputs": [],
   "source": [
    "def exon_boundary_extended(dict_exons, cdst, cded, gene_strand):\n",
    "    exon_neighbor_pos = []\n",
    "    if gene_strand == '+':\n",
    "        for i in dict_exons:\n",
    "            exon_neighbor_pos.extend(range(i[0], i[0] + 8))  # i[0] to i[0]+8\n",
    "            exon_neighbor_pos.extend(range(i[1] - 8, i[1] + 1))  # i[1]-8 to i[1]\n",
    "        exon_neighbor_pos.extend(range(cdst, cdst + 9))\n",
    "        exon_neighbor_pos.extend(range(cded - 8, cded + 1))\n",
    "    else:\n",
    "        for i in dict_exons:\n",
    "            exon_neighbor_pos.extend(range(i[0], i[0] - 9, -1))  # i[0] to i[0]-8\n",
    "            exon_neighbor_pos.extend(range(i[1], i[1] + 9))  # i[1] to i[1]+8\n",
    "        exon_neighbor_pos.extend(range(cdst, cdst - 9, -1))\n",
    "        exon_neighbor_pos.extend(range(cded, cded + 9))\n",
    "    return exon_neighbor_pos\n",
    "\n",
    "def filter_sg_boundary(boundary_pos, sg_start_gloc, sg_strand):\n",
    "    if sg_strand == '-':\n",
    "        map_boundary_site = sg_start_gloc + 22\n",
    "    elif sg_strand == '+':\n",
    "        map_boundary_site = sg_start_gloc\n",
    "#     print(sg_start_gloc, map_boundary_site, boundary_pos)\n",
    "\n",
    "    if map_boundary_site in boundary_pos:\n",
    "#         print('sgRNA is at boundary')\n",
    "#         print(sg_start_gloc, map_boundary_site, boundary_pos)\n",
    "        return(True)\n",
    "    else:\n",
    "        return(False)"
   ]
  },
  {
   "cell_type": "code",
   "execution_count": 68,
   "id": "592c3967-fe50-4fef-bc97-24d86bd568f2",
   "metadata": {
    "collapsed": true,
    "jupyter": {
     "outputs_hidden": true
    },
    "tags": []
   },
   "outputs": [
    {
     "name": "stderr",
     "output_type": "stream",
     "text": [
      "  0%|          | 0/122 [00:00<?, ?it/s]"
     ]
    },
    {
     "name": "stdout",
     "output_type": "stream",
     "text": [
      "Processing AARS1...Keep 1039/1167 low off-target sgRNAs...\n"
     ]
    },
    {
     "name": "stderr",
     "output_type": "stream",
     "text": [
      "  1%|          | 1/122 [00:01<03:53,  1.93s/it]"
     ]
    },
    {
     "name": "stdout",
     "output_type": "stream",
     "text": [
      "Processing ABCE1...Keep 44/486 low off-target sgRNAs...\n",
      "Processing ANAPC11...Keep 88/103 low off-target sgRNAs...\n"
     ]
    },
    {
     "name": "stderr",
     "output_type": "stream",
     "text": [
      "  2%|▏         | 3/122 [00:02<01:10,  1.69it/s]"
     ]
    },
    {
     "name": "stdout",
     "output_type": "stream",
     "text": [
      "Processing ANAPC4...Keep 525/624 low off-target sgRNAs...\n"
     ]
    },
    {
     "name": "stderr",
     "output_type": "stream",
     "text": [
      "  3%|▎         | 4/122 [00:03<01:20,  1.47it/s]"
     ]
    },
    {
     "name": "stdout",
     "output_type": "stream",
     "text": [
      "Processing ANKLE2...Keep 998/1165 low off-target sgRNAs...\n",
      "ANKLE2 NM_015114                       sequence length: 4590,                       index length:4588\n"
     ]
    },
    {
     "name": "stderr",
     "output_type": "stream",
     "text": [
      "  5%|▍         | 6/122 [00:04<01:28,  1.31it/s]"
     ]
    },
    {
     "name": "stdout",
     "output_type": "stream",
     "text": [
      "Processing ATP6V0C...Keep 82/211 low off-target sgRNAs...\n",
      "Processing BUD31...Keep 116/152 low off-target sgRNAs...\n"
     ]
    },
    {
     "name": "stderr",
     "output_type": "stream",
     "text": [
      "  6%|▌         | 7/122 [00:05<01:06,  1.74it/s]"
     ]
    },
    {
     "name": "stdout",
     "output_type": "stream",
     "text": [
      "Processing CDC123...Keep 254/283 low off-target sgRNAs...\n"
     ]
    },
    {
     "name": "stderr",
     "output_type": "stream",
     "text": [
      "  7%|▋         | 8/122 [00:05<00:58,  1.94it/s]"
     ]
    },
    {
     "name": "stdout",
     "output_type": "stream",
     "text": [
      "Processing CDC16...Keep 337/416 low off-target sgRNAs...\n"
     ]
    },
    {
     "name": "stderr",
     "output_type": "stream",
     "text": [
      "  7%|▋         | 9/122 [00:06<00:58,  1.95it/s]"
     ]
    },
    {
     "name": "stdout",
     "output_type": "stream",
     "text": [
      "Processing CDC45...Keep 490/554 low off-target sgRNAs...\n"
     ]
    },
    {
     "name": "stderr",
     "output_type": "stream",
     "text": [
      "  8%|▊         | 10/122 [00:06<01:06,  1.70it/s]"
     ]
    },
    {
     "name": "stdout",
     "output_type": "stream",
     "text": [
      "Processing CDC5L...Keep 630/765 low off-target sgRNAs...\n"
     ]
    },
    {
     "name": "stderr",
     "output_type": "stream",
     "text": [
      "  9%|▉         | 11/122 [00:07<01:22,  1.35it/s]"
     ]
    },
    {
     "name": "stdout",
     "output_type": "stream",
     "text": [
      "Processing CDT1...Keep 692/822 low off-target sgRNAs...\n"
     ]
    },
    {
     "name": "stderr",
     "output_type": "stream",
     "text": [
      " 10%|▉         | 12/122 [00:09<01:34,  1.17it/s]"
     ]
    },
    {
     "name": "stdout",
     "output_type": "stream",
     "text": [
      "Processing CLP1...Keep 423/477 low off-target sgRNAs...\n"
     ]
    },
    {
     "name": "stderr",
     "output_type": "stream",
     "text": [
      " 11%|█         | 13/122 [00:09<01:24,  1.29it/s]"
     ]
    },
    {
     "name": "stdout",
     "output_type": "stream",
     "text": [
      "Processing COPA...Keep 1123/1279 low off-target sgRNAs...\n"
     ]
    },
    {
     "name": "stderr",
     "output_type": "stream",
     "text": [
      " 11%|█▏        | 14/122 [00:11<02:04,  1.15s/it]"
     ]
    },
    {
     "name": "stdout",
     "output_type": "stream",
     "text": [
      "Processing COPB2...Keep 733/856 low off-target sgRNAs...\n"
     ]
    },
    {
     "name": "stderr",
     "output_type": "stream",
     "text": [
      " 12%|█▏        | 15/122 [00:12<02:02,  1.15s/it]"
     ]
    },
    {
     "name": "stdout",
     "output_type": "stream",
     "text": [
      "Processing CPSF3...Keep 397/478 low off-target sgRNAs...\n"
     ]
    },
    {
     "name": "stderr",
     "output_type": "stream",
     "text": [
      " 13%|█▎        | 16/122 [00:13<01:43,  1.03it/s]"
     ]
    },
    {
     "name": "stdout",
     "output_type": "stream",
     "text": [
      "Processing CSE1L...Keep 621/743 low off-target sgRNAs...\n"
     ]
    },
    {
     "name": "stderr",
     "output_type": "stream",
     "text": [
      " 14%|█▍        | 17/122 [00:14<01:44,  1.01it/s]"
     ]
    },
    {
     "name": "stdout",
     "output_type": "stream",
     "text": [
      "Processing DDX54...Keep 1019/1194 low off-target sgRNAs...\n"
     ]
    },
    {
     "name": "stderr",
     "output_type": "stream",
     "text": [
      " 15%|█▍        | 18/122 [00:16<02:07,  1.23s/it]"
     ]
    },
    {
     "name": "stdout",
     "output_type": "stream",
     "text": [
      "Processing DDX56...Keep 424/571 low off-target sgRNAs...\n",
      "DDX56 NM_019082                       sequence length: 1855,                       index length:2872\n"
     ]
    },
    {
     "name": "stderr",
     "output_type": "stream",
     "text": [
      " 16%|█▌        | 19/122 [00:16<01:49,  1.06s/it]"
     ]
    },
    {
     "name": "stdout",
     "output_type": "stream",
     "text": [
      "Processing DHX15...Keep 710/810 low off-target sgRNAs...\n"
     ]
    },
    {
     "name": "stderr",
     "output_type": "stream",
     "text": [
      " 16%|█▋        | 20/122 [00:18<01:53,  1.11s/it]"
     ]
    },
    {
     "name": "stdout",
     "output_type": "stream",
     "text": [
      "Processing DONSON...Keep 449/652 low off-target sgRNAs...\n",
      "DONSON NM_017613                       sequence length: 2500,                       index length:2498\n"
     ]
    },
    {
     "name": "stderr",
     "output_type": "stream",
     "text": [
      " 17%|█▋        | 21/122 [00:18<01:41,  1.00s/it]"
     ]
    },
    {
     "name": "stdout",
     "output_type": "stream",
     "text": [
      "Processing DTL...Keep 455/540 low off-target sgRNAs...\n"
     ]
    },
    {
     "name": "stderr",
     "output_type": "stream",
     "text": [
      " 18%|█▊        | 22/122 [00:19<01:35,  1.04it/s]"
     ]
    },
    {
     "name": "stdout",
     "output_type": "stream",
     "text": [
      "Processing DYNC1H1...Keep 4860/5487 low off-target sgRNAs...\n"
     ]
    },
    {
     "name": "stderr",
     "output_type": "stream",
     "text": [
      " 19%|█▉        | 23/122 [00:35<08:48,  5.34s/it]"
     ]
    },
    {
     "name": "stdout",
     "output_type": "stream",
     "text": [
      "Processing ECD...Keep 504/594 low off-target sgRNAs...\n",
      "ECD NM_007265                       sequence length: 3006,                       index length:2999\n"
     ]
    },
    {
     "name": "stderr",
     "output_type": "stream",
     "text": [
      " 20%|█▉        | 24/122 [00:36<06:30,  3.99s/it]"
     ]
    },
    {
     "name": "stdout",
     "output_type": "stream",
     "text": [
      "Processing EEF1A1...Keep 0/526 low off-target sgRNAs...\n",
      "Processing EEF2...Keep 1082/1197 low off-target sgRNAs...\n"
     ]
    },
    {
     "name": "stderr",
     "output_type": "stream",
     "text": [
      " 21%|██▏       | 26/122 [00:37<04:05,  2.55s/it]"
     ]
    },
    {
     "name": "stdout",
     "output_type": "stream",
     "text": [
      "Processing EIF2S1...Keep 252/296 low off-target sgRNAs...\n"
     ]
    },
    {
     "name": "stderr",
     "output_type": "stream",
     "text": [
      " 22%|██▏       | 27/122 [00:38<03:10,  2.01s/it]"
     ]
    },
    {
     "name": "stdout",
     "output_type": "stream",
     "text": [
      "Processing EIF3I...Keep 207/348 low off-target sgRNAs...\n",
      "EIF3I NM_003757                       sequence length: 1421,                       index length:1919\n"
     ]
    },
    {
     "name": "stderr",
     "output_type": "stream",
     "text": [
      " 23%|██▎       | 28/122 [00:38<02:28,  1.58s/it]"
     ]
    },
    {
     "name": "stdout",
     "output_type": "stream",
     "text": [
      "Processing EIF4A3...Keep 371/443 low off-target sgRNAs...\n",
      "EIF4A3 NM_014740                       sequence length: 2524,                       index length:2523\n"
     ]
    },
    {
     "name": "stderr",
     "output_type": "stream",
     "text": [
      " 24%|██▍       | 29/122 [00:39<02:01,  1.31s/it]"
     ]
    },
    {
     "name": "stdout",
     "output_type": "stream",
     "text": [
      "Processing FBL...Keep 297/390 low off-target sgRNAs...\n"
     ]
    },
    {
     "name": "stderr",
     "output_type": "stream",
     "text": [
      " 25%|██▍       | 30/122 [00:39<01:39,  1.08s/it]"
     ]
    },
    {
     "name": "stdout",
     "output_type": "stream",
     "text": [
      "Processing GARS1...Keep 561/689 low off-target sgRNAs...\n",
      "GARS1 NM_002047                       sequence length: 2437,                       index length:2436\n"
     ]
    },
    {
     "name": "stderr",
     "output_type": "stream",
     "text": [
      " 25%|██▌       | 31/122 [00:40<01:33,  1.03s/it]"
     ]
    },
    {
     "name": "stdout",
     "output_type": "stream",
     "text": [
      "Processing GPN3...Keep 187/253 low off-target sgRNAs...\n"
     ]
    },
    {
     "name": "stderr",
     "output_type": "stream",
     "text": [
      " 26%|██▌       | 32/122 [00:40<01:13,  1.22it/s]"
     ]
    },
    {
     "name": "stdout",
     "output_type": "stream",
     "text": [
      "Processing GRPEL1...Keep 211/265 low off-target sgRNAs...\n"
     ]
    },
    {
     "name": "stderr",
     "output_type": "stream",
     "text": [
      " 27%|██▋       | 33/122 [00:41<01:00,  1.47it/s]"
     ]
    },
    {
     "name": "stdout",
     "output_type": "stream",
     "text": [
      "Processing HCFC1...Keep 2481/2967 low off-target sgRNAs...\n"
     ]
    },
    {
     "name": "stderr",
     "output_type": "stream",
     "text": [
      " 28%|██▊       | 34/122 [00:47<03:16,  2.23s/it]"
     ]
    },
    {
     "name": "stdout",
     "output_type": "stream",
     "text": [
      "Processing HINFP...Keep 144/158 low off-target sgRNAs...\n",
      "HINFP NM_198971                       sequence length: 3185,                       index length:3182\n"
     ]
    },
    {
     "name": "stderr",
     "output_type": "stream",
     "text": [
      " 29%|██▊       | 35/122 [00:47<02:22,  1.64s/it]"
     ]
    },
    {
     "name": "stdout",
     "output_type": "stream",
     "text": [
      "Processing HNRNPK...Keep 19/406 low off-target sgRNAs...\n",
      "Processing HSPA9...Keep 181/670 low off-target sgRNAs...\n",
      "HSPA9 NM_004134                       sequence length: 4404,                       index length:4401\n"
     ]
    },
    {
     "name": "stderr",
     "output_type": "stream",
     "text": [
      " 30%|███       | 37/122 [00:47<01:22,  1.03it/s]"
     ]
    },
    {
     "name": "stdout",
     "output_type": "stream",
     "text": [
      "Processing IARS1...Keep 800/940 low off-target sgRNAs...\n",
      "IARS1 NM_002161                       sequence length: 4483,                       index length:4481\n"
     ]
    },
    {
     "name": "stderr",
     "output_type": "stream",
     "text": [
      " 32%|███▏      | 39/122 [00:49<01:10,  1.18it/s]"
     ]
    },
    {
     "name": "stdout",
     "output_type": "stream",
     "text": [
      "Processing ISCU...Keep 80/98 low off-target sgRNAs...\n",
      "Processing KARS1...Keep 239/442 low off-target sgRNAs...\n"
     ]
    },
    {
     "name": "stderr",
     "output_type": "stream",
     "text": [
      " 33%|███▎      | 40/122 [00:49<00:58,  1.39it/s]"
     ]
    },
    {
     "name": "stdout",
     "output_type": "stream",
     "text": [
      "Processing KIF11...Keep 732/887 low off-target sgRNAs...\n"
     ]
    },
    {
     "name": "stderr",
     "output_type": "stream",
     "text": [
      " 34%|███▎      | 41/122 [00:50<01:10,  1.15it/s]"
     ]
    },
    {
     "name": "stdout",
     "output_type": "stream",
     "text": [
      "Processing KPNB1...Keep 554/729 low off-target sgRNAs...\n"
     ]
    },
    {
     "name": "stderr",
     "output_type": "stream",
     "text": [
      " 34%|███▍      | 42/122 [00:51<01:11,  1.12it/s]"
     ]
    },
    {
     "name": "stdout",
     "output_type": "stream",
     "text": [
      "Processing MARS1...Keep 879/1027 low off-target sgRNAs...\n"
     ]
    },
    {
     "name": "stderr",
     "output_type": "stream",
     "text": [
      " 35%|███▌      | 43/122 [00:53<01:23,  1.05s/it]"
     ]
    },
    {
     "name": "stdout",
     "output_type": "stream",
     "text": [
      "Processing NAPA...Keep 282/312 low off-target sgRNAs...\n"
     ]
    },
    {
     "name": "stderr",
     "output_type": "stream",
     "text": [
      " 37%|███▋      | 45/122 [00:53<00:50,  1.53it/s]"
     ]
    },
    {
     "name": "stdout",
     "output_type": "stream",
     "text": [
      "Processing NCBP2...Keep 70/81 low off-target sgRNAs...\n",
      "Processing NEDD1...Keep 423/503 low off-target sgRNAs...\n",
      "NEDD1 NM_152905                       sequence length: 4015,                       index length:4014\n"
     ]
    },
    {
     "name": "stderr",
     "output_type": "stream",
     "text": [
      " 38%|███▊      | 46/122 [00:54<00:50,  1.51it/s]"
     ]
    },
    {
     "name": "stdout",
     "output_type": "stream",
     "text": [
      "Processing NUDT21...Keep 166/226 low off-target sgRNAs...\n"
     ]
    },
    {
     "name": "stderr",
     "output_type": "stream",
     "text": [
      " 39%|███▊      | 47/122 [00:54<00:40,  1.84it/s]"
     ]
    },
    {
     "name": "stdout",
     "output_type": "stream",
     "text": [
      "Processing PAFAH1B1...Keep 141/408 low off-target sgRNAs...\n"
     ]
    },
    {
     "name": "stderr",
     "output_type": "stream",
     "text": [
      " 40%|████      | 49/122 [00:55<00:26,  2.74it/s]"
     ]
    },
    {
     "name": "stdout",
     "output_type": "stream",
     "text": [
      "Processing PCNA...Keep 112/269 low off-target sgRNAs...\n",
      "Processing PFDN2...Keep 152/180 low off-target sgRNAs...\n"
     ]
    },
    {
     "name": "stderr",
     "output_type": "stream",
     "text": [
      " 41%|████      | 50/122 [00:55<00:23,  3.11it/s]"
     ]
    },
    {
     "name": "stdout",
     "output_type": "stream",
     "text": [
      "Processing PHB...Keep 16/165 low off-target sgRNAs...\n",
      "Processing PLK1...Keep 406/797 low off-target sgRNAs...\n"
     ]
    },
    {
     "name": "stderr",
     "output_type": "stream",
     "text": [
      " 43%|████▎     | 52/122 [00:56<00:22,  3.12it/s]"
     ]
    },
    {
     "name": "stdout",
     "output_type": "stream",
     "text": [
      "Processing POLD1...Keep 1335/1521 low off-target sgRNAs...\n"
     ]
    },
    {
     "name": "stderr",
     "output_type": "stream",
     "text": [
      " 43%|████▎     | 53/122 [00:58<01:04,  1.07it/s]"
     ]
    },
    {
     "name": "stdout",
     "output_type": "stream",
     "text": [
      "Processing POLE...Keep 2486/2818 low off-target sgRNAs...\n"
     ]
    },
    {
     "name": "stderr",
     "output_type": "stream",
     "text": [
      " 44%|████▍     | 54/122 [01:05<02:42,  2.40s/it]"
     ]
    },
    {
     "name": "stdout",
     "output_type": "stream",
     "text": [
      "Processing POLR1A...Keep 1784/2028 low off-target sgRNAs...\n"
     ]
    },
    {
     "name": "stderr",
     "output_type": "stream",
     "text": [
      " 45%|████▌     | 55/122 [01:09<03:17,  2.94s/it]"
     ]
    },
    {
     "name": "stdout",
     "output_type": "stream",
     "text": [
      "Processing POLR2B...Keep 893/1017 low off-target sgRNAs...\n"
     ]
    },
    {
     "name": "stderr",
     "output_type": "stream",
     "text": [
      " 46%|████▌     | 56/122 [01:11<02:53,  2.63s/it]"
     ]
    },
    {
     "name": "stdout",
     "output_type": "stream",
     "text": [
      "Processing POLR2C...Keep 173/272 low off-target sgRNAs...\n"
     ]
    },
    {
     "name": "stderr",
     "output_type": "stream",
     "text": [
      " 48%|████▊     | 58/122 [01:12<01:31,  1.43s/it]"
     ]
    },
    {
     "name": "stdout",
     "output_type": "stream",
     "text": [
      "Processing POLR2E...Keep 68/133 low off-target sgRNAs...\n",
      "Processing POLR2L...Keep 67/80 low off-target sgRNAs...\n"
     ]
    },
    {
     "name": "stderr",
     "output_type": "stream",
     "text": [
      " 48%|████▊     | 59/122 [01:12<01:06,  1.05s/it]"
     ]
    },
    {
     "name": "stdout",
     "output_type": "stream",
     "text": [
      "Processing POLR3A...Keep 1351/1530 low off-target sgRNAs...\n"
     ]
    },
    {
     "name": "stderr",
     "output_type": "stream",
     "text": [
      " 49%|████▉     | 60/122 [01:15<01:39,  1.60s/it]"
     ]
    },
    {
     "name": "stdout",
     "output_type": "stream",
     "text": [
      "Processing PRC1...Keep 451/529 low off-target sgRNAs...\n",
      "PRC1 NM_003981                       sequence length: 3072,                       index length:3069\n"
     ]
    },
    {
     "name": "stderr",
     "output_type": "stream",
     "text": [
      " 50%|█████     | 61/122 [01:16<01:24,  1.38s/it]"
     ]
    },
    {
     "name": "stdout",
     "output_type": "stream",
     "text": [
      "Processing PRPF19...Keep 481/555 low off-target sgRNAs...\n",
      "PRPF19 NM_014502                       sequence length: 2337,                       index length:2336\n"
     ]
    },
    {
     "name": "stderr",
     "output_type": "stream",
     "text": [
      " 52%|█████▏    | 64/122 [01:17<00:41,  1.39it/s]"
     ]
    },
    {
     "name": "stdout",
     "output_type": "stream",
     "text": [
      "Processing PSMA1...Keep 45/92 low off-target sgRNAs...\n",
      "Processing PSMA2...Keep 48/184 low off-target sgRNAs...\n"
     ]
    },
    {
     "name": "stderr",
     "output_type": "stream",
     "text": [
      " 53%|█████▎    | 65/122 [01:17<00:33,  1.70it/s]"
     ]
    },
    {
     "name": "stdout",
     "output_type": "stream",
     "text": [
      "Processing PSMA3...Keep 91/171 low off-target sgRNAs...\n",
      "Processing PSMA5...Keep 133/158 low off-target sgRNAs...\n"
     ]
    },
    {
     "name": "stderr",
     "output_type": "stream",
     "text": [
      " 54%|█████▍    | 66/122 [01:17<00:28,  1.98it/s]"
     ]
    },
    {
     "name": "stdout",
     "output_type": "stream",
     "text": [
      "Processing PSMA7...Keep 231/264 low off-target sgRNAs...\n"
     ]
    },
    {
     "name": "stderr",
     "output_type": "stream",
     "text": [
      " 55%|█████▍    | 67/122 [01:17<00:25,  2.15it/s]"
     ]
    },
    {
     "name": "stdout",
     "output_type": "stream",
     "text": [
      "Processing PSMB4...Keep 291/306 low off-target sgRNAs...\n"
     ]
    },
    {
     "name": "stderr",
     "output_type": "stream",
     "text": [
      " 57%|█████▋    | 69/122 [01:18<00:19,  2.71it/s]"
     ]
    },
    {
     "name": "stdout",
     "output_type": "stream",
     "text": [
      "Processing PSMB5...Keep 60/79 low off-target sgRNAs...\n",
      "Processing RAN...Keep 4/131 low off-target sgRNAs...\n",
      "Processing RANGAP1...Keep 589/735 low off-target sgRNAs...\n"
     ]
    },
    {
     "name": "stderr",
     "output_type": "stream",
     "text": [
      " 58%|█████▊    | 71/122 [01:19<00:22,  2.26it/s]"
     ]
    },
    {
     "name": "stdout",
     "output_type": "stream",
     "text": [
      "Processing RBBP4...Keep 4/354 low off-target sgRNAs...\n",
      "Processing RNGTT...Keep 360/454 low off-target sgRNAs...\n"
     ]
    },
    {
     "name": "stderr",
     "output_type": "stream",
     "text": [
      " 60%|█████▉    | 73/122 [01:20<00:19,  2.54it/s]"
     ]
    },
    {
     "name": "stdout",
     "output_type": "stream",
     "text": [
      "Processing RPA1...Keep 499/545 low off-target sgRNAs...\n"
     ]
    },
    {
     "name": "stderr",
     "output_type": "stream",
     "text": [
      " 61%|██████    | 74/122 [01:21<00:23,  2.04it/s]"
     ]
    },
    {
     "name": "stdout",
     "output_type": "stream",
     "text": [
      "Processing RPAP1...Keep 1518/1875 low off-target sgRNAs...\n"
     ]
    },
    {
     "name": "stderr",
     "output_type": "stream",
     "text": [
      " 62%|██████▏   | 76/122 [01:24<00:38,  1.19it/s]"
     ]
    },
    {
     "name": "stdout",
     "output_type": "stream",
     "text": [
      "Processing RPL11...Keep 50/174 low off-target sgRNAs...\n",
      "Processing RPL15...Keep 0/143 low off-target sgRNAs...\n",
      "Processing RPL18A...Keep 0/227 low off-target sgRNAs...\n",
      "Processing RPL19...Keep 0/220 low off-target sgRNAs...\n",
      "Processing RPL4...Keep 12/456 low off-target sgRNAs...\n"
     ]
    },
    {
     "name": "stderr",
     "output_type": "stream",
     "text": [
      " 70%|██████▉   | 85/122 [01:24<00:06,  5.33it/s]"
     ]
    },
    {
     "name": "stdout",
     "output_type": "stream",
     "text": [
      "Processing RPS12...Keep 1/121 low off-target sgRNAs...\n",
      "Processing RPS13...Keep 8/120 low off-target sgRNAs...\n",
      "Processing RPS15...Keep 0/192 low off-target sgRNAs...\n",
      "Processing RPS15A...Keep 1/121 low off-target sgRNAs...\n",
      "Processing RPS18...Keep 0/163 low off-target sgRNAs...\n",
      "Processing RPS2...Keep 1/391 low off-target sgRNAs...\n",
      "Processing RPS29...Keep 0/38 low off-target sgRNAs...\n",
      "Processing RPS4X...Keep 7/290 low off-target sgRNAs...\n",
      "RPS4X NM_001007                       sequence length: 1474,                       index length:1473\n",
      "Processing RPS6...Keep 21/265 low off-target sgRNAs...\n"
     ]
    },
    {
     "name": "stderr",
     "output_type": "stream",
     "text": [
      " 73%|███████▎  | 89/122 [01:24<00:04,  7.63it/s]"
     ]
    },
    {
     "name": "stdout",
     "output_type": "stream",
     "text": [
      "RPS6 NM_001010                       sequence length: 1369,                       index length:1368\n",
      "Processing RPS8...Keep 1/220 low off-target sgRNAs...\n",
      "Processing RRM1...Keep 350/434 low off-target sgRNAs...\n"
     ]
    },
    {
     "name": "stderr",
     "output_type": "stream",
     "text": [
      " 75%|███████▌  | 92/122 [01:25<00:05,  5.90it/s]"
     ]
    },
    {
     "name": "stdout",
     "output_type": "stream",
     "text": [
      "Processing RRM2...Keep 99/407 low off-target sgRNAs...\n",
      "Processing RUVBL1...Keep 284/330 low off-target sgRNAs...\n",
      "Processing SDE2...Keep 451/540 low off-target sgRNAs...\n"
     ]
    },
    {
     "name": "stderr",
     "output_type": "stream",
     "text": [
      " 77%|███████▋  | 94/122 [01:26<00:07,  3.73it/s]"
     ]
    },
    {
     "name": "stdout",
     "output_type": "stream",
     "text": [
      "Processing SEC61A1...Keep 411/527 low off-target sgRNAs...\n",
      "Processing SF1...Keep 417/514 low off-target sgRNAs...\n"
     ]
    },
    {
     "name": "stderr",
     "output_type": "stream",
     "text": [
      " 79%|███████▊  | 96/122 [01:28<00:09,  2.60it/s]"
     ]
    },
    {
     "name": "stdout",
     "output_type": "stream",
     "text": [
      "Processing SF3A1...Keep 826/1012 low off-target sgRNAs...\n"
     ]
    },
    {
     "name": "stderr",
     "output_type": "stream",
     "text": [
      " 80%|███████▉  | 97/122 [01:29<00:13,  1.86it/s]"
     ]
    },
    {
     "name": "stdout",
     "output_type": "stream",
     "text": [
      "Processing SF3A2...Keep 404/727 low off-target sgRNAs...\n"
     ]
    },
    {
     "name": "stderr",
     "output_type": "stream",
     "text": [
      " 80%|████████  | 98/122 [01:30<00:13,  1.77it/s]"
     ]
    },
    {
     "name": "stdout",
     "output_type": "stream",
     "text": [
      "Processing SF3B3...Keep 1202/1364 low off-target sgRNAs...\n"
     ]
    },
    {
     "name": "stderr",
     "output_type": "stream",
     "text": [
      " 81%|████████  | 99/122 [01:32<00:21,  1.08it/s]"
     ]
    },
    {
     "name": "stdout",
     "output_type": "stream",
     "text": [
      "Processing SFPQ...Keep 723/924 low off-target sgRNAs...\n"
     ]
    },
    {
     "name": "stderr",
     "output_type": "stream",
     "text": [
      " 82%|████████▏ | 100/122 [01:33<00:21,  1.02it/s]"
     ]
    },
    {
     "name": "stdout",
     "output_type": "stream",
     "text": [
      "Processing SNRNP200...Keep 1979/2502 low off-target sgRNAs...\n"
     ]
    },
    {
     "name": "stderr",
     "output_type": "stream",
     "text": [
      " 83%|████████▎ | 101/122 [01:37<00:35,  1.69s/it]"
     ]
    },
    {
     "name": "stdout",
     "output_type": "stream",
     "text": [
      "Processing SNRPB...Keep 204/284 low off-target sgRNAs...\n"
     ]
    },
    {
     "name": "stderr",
     "output_type": "stream",
     "text": [
      " 84%|████████▎ | 102/122 [01:38<00:26,  1.34s/it]"
     ]
    },
    {
     "name": "stdout",
     "output_type": "stream",
     "text": [
      "Processing SNRPD2...Keep 23/62 low off-target sgRNAs...\n",
      "Processing SNRPF...Keep 13/82 low off-target sgRNAs...\n",
      "SNRPF NM_003095                       sequence length: 452,                       index length:1365\n",
      "Processing SNW1...Keep 192/536 low off-target sgRNAs...\n",
      "SNW1 NM_012245                       sequence length: 2129,                       index length:2127\n"
     ]
    },
    {
     "name": "stderr",
     "output_type": "stream",
     "text": [
      " 86%|████████▌ | 105/122 [01:38<00:11,  1.44it/s]"
     ]
    },
    {
     "name": "stdout",
     "output_type": "stream",
     "text": [
      "Processing SPC24...Keep 74/98 low off-target sgRNAs...\n",
      "SPC24 NM_182513                       sequence length: 2290,                       index length:2319\n",
      "Processing SRSF2...Keep 256/337 low off-target sgRNAs...\n"
     ]
    },
    {
     "name": "stderr",
     "output_type": "stream",
     "text": [
      " 88%|████████▊ | 107/122 [01:38<00:08,  1.86it/s]"
     ]
    },
    {
     "name": "stdout",
     "output_type": "stream",
     "text": [
      "Processing SRSF7...Keep 213/233 low off-target sgRNAs...\n"
     ]
    },
    {
     "name": "stderr",
     "output_type": "stream",
     "text": [
      " 89%|████████▊ | 108/122 [01:39<00:06,  2.02it/s]"
     ]
    },
    {
     "name": "stdout",
     "output_type": "stream",
     "text": [
      "Processing SSU72...Keep 170/216 low off-target sgRNAs...\n"
     ]
    },
    {
     "name": "stderr",
     "output_type": "stream",
     "text": [
      " 89%|████████▉ | 109/122 [01:39<00:05,  2.25it/s]"
     ]
    },
    {
     "name": "stdout",
     "output_type": "stream",
     "text": [
      "Processing TARS1...Keep 567/681 low off-target sgRNAs...\n"
     ]
    },
    {
     "name": "stderr",
     "output_type": "stream",
     "text": [
      " 90%|█████████ | 110/122 [01:40<00:06,  1.78it/s]"
     ]
    },
    {
     "name": "stdout",
     "output_type": "stream",
     "text": [
      "Processing TUBB...Keep 0/213 low off-target sgRNAs...\n",
      "TUBB NM_178014                       sequence length: 2515,                       index length:2511\n",
      "Processing TUT1...Keep 564/683 low off-target sgRNAs...\n"
     ]
    },
    {
     "name": "stderr",
     "output_type": "stream",
     "text": [
      " 92%|█████████▏| 112/122 [01:41<00:05,  1.91it/s]"
     ]
    },
    {
     "name": "stdout",
     "output_type": "stream",
     "text": [
      "Processing TXNL4A...Keep 54/81 low off-target sgRNAs...\n",
      "Processing U2AF2...Keep 556/608 low off-target sgRNAs...\n"
     ]
    },
    {
     "name": "stderr",
     "output_type": "stream",
     "text": [
      " 93%|█████████▎| 114/122 [01:42<00:04,  1.99it/s]"
     ]
    },
    {
     "name": "stdout",
     "output_type": "stream",
     "text": [
      "Processing UBA1...Keep 1123/1263 low off-target sgRNAs...\n"
     ]
    },
    {
     "name": "stderr",
     "output_type": "stream",
     "text": [
      " 94%|█████████▍| 115/122 [01:44<00:05,  1.21it/s]"
     ]
    },
    {
     "name": "stdout",
     "output_type": "stream",
     "text": [
      "Processing UBL5...Keep 13/60 low off-target sgRNAs...\n",
      "Processing UBTF...Keep 553/835 low off-target sgRNAs...\n",
      "UBTF NM_014233                       sequence length: 4795,                       index length:4794\n"
     ]
    },
    {
     "name": "stderr",
     "output_type": "stream",
     "text": [
      " 96%|█████████▌| 117/122 [01:45<00:03,  1.43it/s]"
     ]
    },
    {
     "name": "stdout",
     "output_type": "stream",
     "text": [
      "Processing VARS1...Keep 0/1631 low off-target sgRNAs...\n",
      "VARS1 NM_006295                       sequence length: 4111,                       index length:4109\n",
      "Processing VCP...Keep 762/856 low off-target sgRNAs...\n",
      "VCP NM_007126                       sequence length: 3746,                       index length:3744\n"
     ]
    },
    {
     "name": "stderr",
     "output_type": "stream",
     "text": [
      " 98%|█████████▊| 119/122 [01:46<00:02,  1.44it/s]"
     ]
    },
    {
     "name": "stdout",
     "output_type": "stream",
     "text": [
      "Processing WDR70...Keep 284/571 low off-target sgRNAs...\n",
      "WDR70 NM_018034                       sequence length: 2877,                       index length:2873\n"
     ]
    },
    {
     "name": "stderr",
     "output_type": "stream",
     "text": [
      " 98%|█████████▊| 120/122 [01:47<00:01,  1.55it/s]"
     ]
    },
    {
     "name": "stdout",
     "output_type": "stream",
     "text": [
      "Processing WEE1...Keep 261/414 low off-target sgRNAs...\n"
     ]
    },
    {
     "name": "stderr",
     "output_type": "stream",
     "text": [
      " 99%|█████████▉| 121/122 [01:47<00:00,  1.68it/s]"
     ]
    },
    {
     "name": "stdout",
     "output_type": "stream",
     "text": [
      "Processing YARS1...Keep 500/574 low off-target sgRNAs...\n",
      "YARS1 NM_003680                       sequence length: 2443,                       index length:3117\n"
     ]
    },
    {
     "name": "stderr",
     "output_type": "stream",
     "text": [
      "100%|██████████| 122/122 [01:48<00:00,  1.13it/s]\n"
     ]
    }
   ],
   "source": [
    "list_filter = []\n",
    "for genes in tqdm(list_gene_ess):\n",
    "    # Get gene transcript, sequence information\n",
    "    sg_gene = syn_sgFinder.sgFinder_gene(genes,sg_path = '../data/sg_out' )\n",
    "    sg_gene.gene_cds_proc(record_dict,list_exp_trsp) # filter out non-expressed transcript\n",
    "    for idx, transcripts in list(product(sg_gene.sg_file.index,\\\n",
    "                                                               sg_gene.dict_exons.keys())):\n",
    "        sg_trsp = syn_sgFinder.sgFinder_transcript(sg_gene.gene,idx,transcripts)\n",
    "\n",
    "        sg_strand = sg_gene.sg_file.loc[sg_trsp.sg_idx,'Strand']\n",
    "        gloc = int(sg_gene.sg_file.loc[sg_trsp.sg_idx,'Genomic location'].split(':')[-1])\n",
    "        target_seq = Seq(sg_gene.sg_file.loc[sg_trsp.sg_idx,'Target sequence'])\n",
    "        sg_seq = target_seq[:-3] # exclude PAM sequence\n",
    "        sg_trsp.sg_seq = sg_seq; sg_trsp.sg_strand = sg_strand; sg_trsp.gloc = gloc # All sgRNA start position are from the small end\n",
    "        \n",
    "        exon_cds_boundary = exon_boundary_extended(sg_gene.dict_exons[sg_trsp.transcript_ID],\\\n",
    "                      sg_gene.dict_cdst[sg_trsp.transcript_ID],\\\n",
    "                      sg_gene.dict_cded[sg_trsp.transcript_ID],\\\n",
    "                      sg_gene.gene_strand)\n",
    "        if filter_sg_boundary(exon_cds_boundary, sg_trsp.gloc,sg_trsp.sg_strand):\n",
    "            list_filter.append({'gene_name':sg_gene.gene, 'sg_seq':str(sg_trsp.sg_seq)})"
   ]
  },
  {
   "cell_type": "code",
   "execution_count": 69,
   "id": "b78d4fe8-e4a8-4655-af75-d26e130321a9",
   "metadata": {},
   "outputs": [],
   "source": [
    "pd.DataFrame(list_filter).to_csv('../restore/data/splicing_sg.csv')"
   ]
  },
  {
   "cell_type": "code",
   "execution_count": 70,
   "id": "7d20f9ac-8348-4b34-92c5-2c7beae57c49",
   "metadata": {},
   "outputs": [],
   "source": [
    "splicing_df = pd.read_csv('../restore/data/splicing_sg.csv', index_col = 0)"
   ]
  },
  {
   "cell_type": "code",
   "execution_count": 71,
   "id": "3ad150aa-7577-4682-a6a9-c6a9f255ca4e",
   "metadata": {},
   "outputs": [],
   "source": [
    "abe = pd.read_csv('../restore/data/ABE_SYN_detail.csv')\n",
    "cbe = pd.read_csv('../restore/data/CBE_SYN_detail.csv')"
   ]
  },
  {
   "cell_type": "code",
   "execution_count": 72,
   "id": "50a8f996-36ae-4606-8722-12b2a41fe006",
   "metadata": {},
   "outputs": [
    {
     "data": {
      "text/plain": [
       "93"
      ]
     },
     "execution_count": 72,
     "metadata": {},
     "output_type": "execute_result"
    }
   ],
   "source": [
    "len([i for i in list(splicing_df['sg_seq']) if i in list(abe['sgRNA'])])"
   ]
  },
  {
   "cell_type": "code",
   "execution_count": 73,
   "id": "ba4d008e-4882-4cf8-918f-f319676bc377",
   "metadata": {},
   "outputs": [
    {
     "data": {
      "text/plain": [
       "199"
      ]
     },
     "execution_count": 73,
     "metadata": {},
     "output_type": "execute_result"
    }
   ],
   "source": [
    "len([i for i in list(splicing_df['sg_seq']) if i in list(cbe['sgRNA'])])"
   ]
  },
  {
   "cell_type": "code",
   "execution_count": 76,
   "id": "b0aa88d3-45a4-43ed-89ab-f8b136d2c84c",
   "metadata": {},
   "outputs": [
    {
     "data": {
      "text/plain": [
       "0.04358013120899719"
      ]
     },
     "execution_count": 76,
     "metadata": {},
     "output_type": "execute_result"
    }
   ],
   "source": [
    "93/len(abe)"
   ]
  },
  {
   "cell_type": "code",
   "execution_count": 78,
   "id": "26b6ae27-ebe4-4a61-802c-e998d96ba92c",
   "metadata": {},
   "outputs": [
    {
     "data": {
      "text/plain": [
       "3528"
      ]
     },
     "execution_count": 78,
     "metadata": {},
     "output_type": "execute_result"
    }
   ],
   "source": [
    "len(cbe)"
   ]
  },
  {
   "cell_type": "code",
   "execution_count": 77,
   "id": "d51d8c10-0804-4712-bc2e-7aa1fab6f3ce",
   "metadata": {},
   "outputs": [
    {
     "data": {
      "text/plain": [
       "0.056405895691609975"
      ]
     },
     "execution_count": 77,
     "metadata": {},
     "output_type": "execute_result"
    }
   ],
   "source": [
    "199/len(cbe)"
   ]
  },
  {
   "cell_type": "code",
   "execution_count": 24,
   "id": "3a3b9d81-6052-434b-a975-d4fbdbc2b82d",
   "metadata": {},
   "outputs": [
    {
     "data": {
      "text/plain": [
       "1159"
      ]
     },
     "execution_count": 24,
     "metadata": {},
     "output_type": "execute_result"
    }
   ],
   "source": [
    "sg_trsp.sg_idx"
   ]
  },
  {
   "cell_type": "code",
   "execution_count": null,
   "id": "d32b82b6-65e5-49a3-b173-56c5febc7a2e",
   "metadata": {},
   "outputs": [],
   "source": [
    "sg_trsp."
   ]
  },
  {
   "cell_type": "code",
   "execution_count": 15,
   "id": "50f55dd6-de6f-4cba-8dd2-eb6c4604d8d8",
   "metadata": {},
   "outputs": [],
   "source": [
    "filter_15 = run_sgFinder(list_gene_ess[0:5], length = 15, tag = 'ess_15' )"
   ]
  },
  {
   "cell_type": "code",
   "execution_count": 16,
   "id": "ec1a3506-c682-41b7-9042-c19cc89ac89a",
   "metadata": {},
   "outputs": [
    {
     "name": "stderr",
     "output_type": "stream",
     "text": [
      " 60%|██████    | 3/5 [00:00<00:00, 21.99it/s]"
     ]
    },
    {
     "name": "stdout",
     "output_type": "stream",
     "text": [
      "Processing AARS1...Keep 1039/1167 low off-target sgRNAs...\n",
      "{'NM_001605': [(70289506, 70289421), (70282784, 70282620), (70277154, 70276966), (70276631, 70276486), (70271972, 70271781), (70270340, 70270196), (70269763, 70269618), (70268379, 70268271), (70267809, 70267659), (70265662, 70265538), (70265102, 70264958), (70262524, 70262346), (70261157, 70261044), (70259186, 70258980), (70258217, 70258033), (70255836, 70255728), (70254734, 70254621), (70254038, 70253919), (70253800, 70253714), (70253381, 70253268), (70252906, 70252298)]}\n",
      "Processing ABCE1...Keep 44/486 low off-target sgRNAs...\n",
      "{'NM_002940': [(145098311, 145098419), (145104386, 145104515), (145105605, 145105690), (145108015, 145108112), (145109132, 145109249), (145110103, 145110240), (145110375, 145110444), (145110968, 145111064), (145112239, 145112328), (145117293, 145117414), (145119932, 145120153), (145121174, 145121233), (145121333, 145121391), (145123021, 145123131), (145123215, 145123357), (145123478, 145123600), (145124990, 145125101), (145127526, 145129524)]}\n",
      "Processing ANAPC11...Keep 88/103 low off-target sgRNAs...\n",
      "{'NM_001002248': [(81891723, 81891841), (81893552, 81893614), (81894467, 81894586), (81899920, 81900255)]}\n",
      "Processing ANAPC4...Keep 525/624 low off-target sgRNAs...\n",
      "{'NM_013367': [(25377263, 25377344), (25377418, 25377556), (25380374, 25380479), (25383261, 25383393), (25388500, 25388574), (25388717, 25388743), (25388838, 25388882), (25390136, 25390220), (25390911, 25391015), (25392338, 25392421), (25393805, 25393891), (25394310, 25394374), (25394671, 25394713), (25394829, 25394905), (25396664, 25396764), (25396848, 25396899), (25402971, 25403026), (25405573, 25405619), (25406829, 25406885), (25407197, 25407253), (25409698, 25409791), (25413645, 25413742), (25414324, 25414385), (25414466, 25414504), (25414599, 25414700), (25415466, 25415540), (25416425, 25416598), (25417616, 25417739), (25418155, 25418498)]}\n",
      "Processing ANKLE2...Keep 998/1165 low off-target sgRNAs...\n",
      "ANKLE2 NM_015114                       sequence length: 4590,                       index length:4588\n"
     ]
    },
    {
     "name": "stderr",
     "output_type": "stream",
     "text": [
      "100%|██████████| 5/5 [00:00<00:00, 22.05it/s]"
     ]
    },
    {
     "name": "stdout",
     "output_type": "stream",
     "text": [
      "{'NM_015114': [(132761832, 132761618), (132755133, 132754675), (132750849, 132750643), (132748331, 132748138), (132748020, 132747832), (132743276, 132743154), (132741485, 132741419), (132737065, 132736893), (132735512, 132735406), (132734575, 132734385), (132730270, 132729679), (132728163, 132728032), (132727443, 132725505)]}\n"
     ]
    },
    {
     "name": "stderr",
     "output_type": "stream",
     "text": [
      "\n"
     ]
    }
   ],
   "source": [
    "for i in filter_15:\n",
    "    print(i)"
   ]
  },
  {
   "cell_type": "code",
   "execution_count": 9,
   "id": "50e26b71",
   "metadata": {
    "scrolled": true
   },
   "outputs": [],
   "source": [
    "def run_sgFinder(input_genes, length, tag = 'ess', sg_p ='../restore/data/output/sg_out' ):\n",
    "    out_path = '../restore/data/output/sg_Finder_splicing'\n",
    "    \n",
    "    df_synsg_abe = pd.DataFrame()\n",
    "    df_synsg_cbe = pd.DataFrame()\n",
    "    df_abeCT = pd.DataFrame()\n",
    "    df_cbeCT = pd.DataFrame()\n",
    "    \n",
    "    dict_filter = {} # Record filtered sgRNA index\n",
    "    for genes in tqdm(input_genes):\n",
    "        \n",
    "        if not exists(join(out_path,genes,tag)):\n",
    "            makedirs(join(out_path,genes,tag))\n",
    "            \n",
    "        # Get gene transcript, sequence information\n",
    "        sg_gene = syn_sgFinder.sgFinder_gene(genes,sg_path = '../data/sg_out' )\n",
    "        sg_gene.gene_cds_proc(record_dict,list_exp_trsp) # filter out non-expressed transcript\n",
    "        yield(sg_gene)\n",
    "\n",
    "        # Process sgRNA for each transcripts\n",
    "        df_synsg_abe_dt = pd.DataFrame()\n",
    "        df_synsg_cbe_dt = pd.DataFrame()\n",
    "        for idx, transcripts in list(product(sg_gene.sg_file.index,\\\n",
    "                                                               sg_gene.dict_exons.keys())):\n",
    "            sg_trsp = syn_sgFinder.sgFinder_transcript(sg_gene.gene,idx,transcripts)\n",
    "            check_point = sg_trsp.process_BE_window(sg_gene,dict_filter, window_length = length)\n",
    "            if check_point:\n",
    "                sg_trsp.all_pos_consq(sg_gene)\n",
    "\n",
    "                df_synsg_abe = df_synsg_abe.append(sg_trsp.df_abe,ignore_index = True)\n",
    "                df_synsg_cbe = df_synsg_cbe.append(sg_trsp.df_cbe,ignore_index = True)\n",
    "\n",
    "                df_abeCT = df_abeCT.append(sg_trsp.df_abe_control,ignore_index = True)\n",
    "                df_cbeCT = df_cbeCT.append(sg_trsp.df_cbe_control,ignore_index = True)\n",
    "\n",
    "                df_synsg_abe_dt = df_synsg_abe_dt.append(sg_trsp.df_abe_ind,ignore_index = True)\n",
    "                df_synsg_cbe_dt = df_synsg_cbe_dt.append(sg_trsp.df_cbe_ind,ignore_index = True)\n",
    "\n",
    "        # df_synsg_abe_dt.to_csv(join(out_path,genes,tag,f'df_abe_detail.csv'))\n",
    "        # df_synsg_cbe_dt.to_csv(join(out_path,genes,tag,f'df_cbe_detail.csv'))\n",
    "\n",
    "    # Process and saving final result\n",
    "    ABE_synsg = df_synsg_abe[df_synsg_abe['syn_or_not'].apply(lambda x: all(x)&any(x))]\n",
    "    CBE_synsg = df_synsg_cbe[df_synsg_cbe['syn_or_not'].apply(lambda x: all(x)&any(x))]\n",
    "\n",
    "    # if not exists(join(out_path,tag)):\n",
    "    #     makedirs(join(out_path,tag))\n",
    "    # ABE_synsg.to_csv(join(out_path,tag,'ABE_synsg.csv'))\n",
    "    # CBE_synsg.to_csv(join(out_path,tag,'CBE_synsg.csv'))\n",
    "\n",
    "    # df_abeCT.to_csv(join(out_path,tag,'ABE_CT.csv'))\n",
    "    # df_cbeCT.to_csv(join(out_path,tag,'CBE_CT.csv'))\n",
    "    return(dict_filter)"
   ]
  },
  {
   "cell_type": "code",
   "execution_count": 10,
   "id": "a5919124",
   "metadata": {
    "scrolled": true
   },
   "outputs": [
    {
     "name": "stderr",
     "output_type": "stream",
     "text": [
      "  0%|          | 0/122 [00:00<?, ?it/s]"
     ]
    },
    {
     "name": "stdout",
     "output_type": "stream",
     "text": [
      "Processing AARS1...Keep 1039/1167 low off-target sgRNAs...\n"
     ]
    },
    {
     "name": "stderr",
     "output_type": "stream",
     "text": [
      "  1%|          | 1/122 [00:15<30:56, 15.35s/it]"
     ]
    },
    {
     "name": "stdout",
     "output_type": "stream",
     "text": [
      "Processing ABCE1...Keep 44/486 low off-target sgRNAs...\n"
     ]
    },
    {
     "name": "stderr",
     "output_type": "stream",
     "text": [
      "  2%|▏         | 2/122 [00:15<13:22,  6.69s/it]"
     ]
    },
    {
     "name": "stdout",
     "output_type": "stream",
     "text": [
      "Processing ANAPC11...Keep 88/103 low off-target sgRNAs...\n"
     ]
    },
    {
     "name": "stderr",
     "output_type": "stream",
     "text": [
      "  2%|▏         | 3/122 [00:17<08:20,  4.20s/it]"
     ]
    },
    {
     "name": "stdout",
     "output_type": "stream",
     "text": [
      "Processing ANAPC4...Keep 525/624 low off-target sgRNAs...\n"
     ]
    },
    {
     "name": "stderr",
     "output_type": "stream",
     "text": [
      "  3%|▎         | 4/122 [00:24<10:42,  5.45s/it]"
     ]
    },
    {
     "name": "stdout",
     "output_type": "stream",
     "text": [
      "Processing ANKLE2...Keep 998/1165 low off-target sgRNAs...\n",
      "ANKLE2 NM_015114                       sequence length: 4590,                       index length:4588\n",
      "position not found\n"
     ]
    },
    {
     "name": "stderr",
     "output_type": "stream",
     "text": [
      "  4%|▍         | 5/122 [00:39<17:12,  8.82s/it]"
     ]
    },
    {
     "name": "stdout",
     "output_type": "stream",
     "text": [
      "Processing ATP6V0C...Keep 82/211 low off-target sgRNAs...\n"
     ]
    },
    {
     "name": "stderr",
     "output_type": "stream",
     "text": [
      "  5%|▍         | 6/122 [00:40<12:00,  6.21s/it]"
     ]
    },
    {
     "name": "stdout",
     "output_type": "stream",
     "text": [
      "Processing BUD31...Keep 116/152 low off-target sgRNAs...\n"
     ]
    },
    {
     "name": "stderr",
     "output_type": "stream",
     "text": [
      "  6%|▌         | 7/122 [00:42<09:06,  4.75s/it]"
     ]
    },
    {
     "name": "stdout",
     "output_type": "stream",
     "text": [
      "Processing CDC123...Keep 254/283 low off-target sgRNAs...\n"
     ]
    },
    {
     "name": "stderr",
     "output_type": "stream",
     "text": [
      "  7%|▋         | 8/122 [00:45<08:20,  4.39s/it]"
     ]
    },
    {
     "name": "stdout",
     "output_type": "stream",
     "text": [
      "Processing CDC16...Keep 337/416 low off-target sgRNAs...\n"
     ]
    },
    {
     "name": "stderr",
     "output_type": "stream",
     "text": [
      "  7%|▋         | 9/122 [00:50<08:34,  4.55s/it]"
     ]
    },
    {
     "name": "stdout",
     "output_type": "stream",
     "text": [
      "Processing CDC45...Keep 490/554 low off-target sgRNAs...\n",
      "position not found\n",
      "position not found\n"
     ]
    },
    {
     "name": "stderr",
     "output_type": "stream",
     "text": [
      "  8%|▊         | 10/122 [00:57<09:47,  5.25s/it]"
     ]
    },
    {
     "name": "stdout",
     "output_type": "stream",
     "text": [
      "Processing CDC5L...Keep 630/765 low off-target sgRNAs...\n",
      "position not found\n"
     ]
    },
    {
     "name": "stderr",
     "output_type": "stream",
     "text": [
      "  9%|▉         | 11/122 [01:06<12:01,  6.50s/it]"
     ]
    },
    {
     "name": "stdout",
     "output_type": "stream",
     "text": [
      "Processing CDT1...Keep 692/822 low off-target sgRNAs...\n",
      "position not found\n"
     ]
    },
    {
     "name": "stderr",
     "output_type": "stream",
     "text": [
      " 10%|▉         | 12/122 [01:17<13:58,  7.62s/it]"
     ]
    },
    {
     "name": "stdout",
     "output_type": "stream",
     "text": [
      "Processing CLP1...Keep 423/477 low off-target sgRNAs...\n"
     ]
    },
    {
     "name": "stderr",
     "output_type": "stream",
     "text": [
      " 11%|█         | 13/122 [01:23<13:03,  7.18s/it]"
     ]
    },
    {
     "name": "stdout",
     "output_type": "stream",
     "text": [
      "Processing COPA...Keep 1123/1279 low off-target sgRNAs...\n"
     ]
    },
    {
     "name": "stderr",
     "output_type": "stream",
     "text": [
      " 11%|█▏        | 14/122 [01:40<18:14, 10.14s/it]"
     ]
    },
    {
     "name": "stdout",
     "output_type": "stream",
     "text": [
      "Processing COPB2...Keep 733/856 low off-target sgRNAs...\n",
      "position not found\n"
     ]
    },
    {
     "name": "stderr",
     "output_type": "stream",
     "text": [
      " 12%|█▏        | 15/122 [01:51<18:26, 10.34s/it]"
     ]
    },
    {
     "name": "stdout",
     "output_type": "stream",
     "text": [
      "Processing CPSF3...Keep 397/478 low off-target sgRNAs...\n"
     ]
    },
    {
     "name": "stderr",
     "output_type": "stream",
     "text": [
      " 13%|█▎        | 16/122 [01:57<15:55,  9.01s/it]"
     ]
    },
    {
     "name": "stdout",
     "output_type": "stream",
     "text": [
      "Processing CSE1L...Keep 621/743 low off-target sgRNAs...\n"
     ]
    },
    {
     "name": "stderr",
     "output_type": "stream",
     "text": [
      " 14%|█▍        | 17/122 [02:06<15:52,  9.07s/it]"
     ]
    },
    {
     "name": "stdout",
     "output_type": "stream",
     "text": [
      "Processing DDX54...Keep 1019/1194 low off-target sgRNAs...\n",
      "position not found\n",
      "position not found\n",
      "position not found\n"
     ]
    },
    {
     "name": "stderr",
     "output_type": "stream",
     "text": [
      " 15%|█▍        | 18/122 [02:21<18:46, 10.83s/it]"
     ]
    },
    {
     "name": "stdout",
     "output_type": "stream",
     "text": [
      "Processing DDX56...Keep 424/571 low off-target sgRNAs...\n",
      "DDX56 NM_019082                       sequence length: 1855,                       index length:2872\n"
     ]
    },
    {
     "name": "stderr",
     "output_type": "stream",
     "text": [
      " 16%|█▌        | 19/122 [02:21<13:25,  7.82s/it]"
     ]
    },
    {
     "name": "stdout",
     "output_type": "stream",
     "text": [
      "Processing DHX15...Keep 710/810 low off-target sgRNAs...\n",
      "position not found\n"
     ]
    },
    {
     "name": "stderr",
     "output_type": "stream",
     "text": [
      " 16%|█▋        | 20/122 [02:32<14:41,  8.64s/it]"
     ]
    },
    {
     "name": "stdout",
     "output_type": "stream",
     "text": [
      "Processing DONSON...Keep 449/652 low off-target sgRNAs...\n",
      "DONSON NM_017613                       sequence length: 2500,                       index length:2498\n"
     ]
    },
    {
     "name": "stderr",
     "output_type": "stream",
     "text": [
      " 17%|█▋        | 21/122 [02:39<13:42,  8.15s/it]"
     ]
    },
    {
     "name": "stdout",
     "output_type": "stream",
     "text": [
      "Processing DTL...Keep 455/540 low off-target sgRNAs...\n"
     ]
    },
    {
     "name": "stderr",
     "output_type": "stream",
     "text": [
      " 18%|█▊        | 22/122 [02:46<13:01,  7.81s/it]"
     ]
    },
    {
     "name": "stdout",
     "output_type": "stream",
     "text": [
      "Processing DYNC1H1...Keep 4860/5487 low off-target sgRNAs...\n",
      "position not found\n"
     ]
    },
    {
     "name": "stderr",
     "output_type": "stream",
     "text": [
      " 19%|█▉        | 23/122 [04:22<56:31, 34.26s/it]"
     ]
    },
    {
     "name": "stdout",
     "output_type": "stream",
     "text": [
      "Processing ECD...Keep 504/594 low off-target sgRNAs...\n",
      "ECD NM_007265                       sequence length: 3006,                       index length:2999\n",
      "position not found\n"
     ]
    },
    {
     "name": "stderr",
     "output_type": "stream",
     "text": [
      " 20%|█▉        | 24/122 [04:30<43:01, 26.34s/it]"
     ]
    },
    {
     "name": "stdout",
     "output_type": "stream",
     "text": [
      "Processing EEF1A1...Keep 0/526 low off-target sgRNAs...\n",
      "Processing EEF2...Keep 1082/1197 low off-target sgRNAs...\n"
     ]
    },
    {
     "name": "stderr",
     "output_type": "stream",
     "text": [
      " 21%|██▏       | 26/122 [04:47<29:03, 18.16s/it]"
     ]
    },
    {
     "name": "stdout",
     "output_type": "stream",
     "text": [
      "Processing EIF2S1...Keep 252/296 low off-target sgRNAs...\n",
      "position not found\n"
     ]
    },
    {
     "name": "stderr",
     "output_type": "stream",
     "text": [
      " 22%|██▏       | 27/122 [04:51<23:07, 14.61s/it]"
     ]
    },
    {
     "name": "stdout",
     "output_type": "stream",
     "text": [
      "Processing EIF3I...Keep 207/348 low off-target sgRNAs...\n",
      "EIF3I NM_003757                       sequence length: 1421,                       index length:1919\n"
     ]
    },
    {
     "name": "stderr",
     "output_type": "stream",
     "text": [
      " 23%|██▎       | 28/122 [04:51<17:00, 10.85s/it]"
     ]
    },
    {
     "name": "stdout",
     "output_type": "stream",
     "text": [
      "Processing EIF4A3...Keep 371/443 low off-target sgRNAs...\n",
      "EIF4A3 NM_014740                       sequence length: 2524,                       index length:2523\n"
     ]
    },
    {
     "name": "stderr",
     "output_type": "stream",
     "text": [
      " 24%|██▍       | 29/122 [04:57<14:39,  9.46s/it]"
     ]
    },
    {
     "name": "stdout",
     "output_type": "stream",
     "text": [
      "Processing FBL...Keep 297/390 low off-target sgRNAs...\n"
     ]
    },
    {
     "name": "stderr",
     "output_type": "stream",
     "text": [
      " 25%|██▍       | 30/122 [05:01<12:21,  8.06s/it]"
     ]
    },
    {
     "name": "stdout",
     "output_type": "stream",
     "text": [
      "Processing GARS1...Keep 561/689 low off-target sgRNAs...\n",
      "GARS1 NM_002047                       sequence length: 2437,                       index length:2436\n"
     ]
    },
    {
     "name": "stderr",
     "output_type": "stream",
     "text": [
      " 25%|██▌       | 31/122 [05:10<12:39,  8.35s/it]"
     ]
    },
    {
     "name": "stdout",
     "output_type": "stream",
     "text": [
      "Processing GPN3...Keep 187/253 low off-target sgRNAs...\n"
     ]
    },
    {
     "name": "stderr",
     "output_type": "stream",
     "text": [
      " 26%|██▌       | 32/122 [05:13<10:09,  6.77s/it]"
     ]
    },
    {
     "name": "stdout",
     "output_type": "stream",
     "text": [
      "Processing GRPEL1...Keep 211/265 low off-target sgRNAs...\n"
     ]
    },
    {
     "name": "stderr",
     "output_type": "stream",
     "text": [
      " 27%|██▋       | 33/122 [05:17<08:34,  5.78s/it]"
     ]
    },
    {
     "name": "stdout",
     "output_type": "stream",
     "text": [
      "Processing HCFC1...Keep 2481/2967 low off-target sgRNAs...\n"
     ]
    },
    {
     "name": "stderr",
     "output_type": "stream",
     "text": [
      " 28%|██▊       | 34/122 [06:01<24:59, 17.04s/it]"
     ]
    },
    {
     "name": "stdout",
     "output_type": "stream",
     "text": [
      "Processing HINFP...Keep 144/158 low off-target sgRNAs...\n",
      "HINFP NM_198971                       sequence length: 3185,                       index length:3182\n"
     ]
    },
    {
     "name": "stderr",
     "output_type": "stream",
     "text": [
      " 29%|██▊       | 35/122 [06:03<18:23, 12.68s/it]"
     ]
    },
    {
     "name": "stdout",
     "output_type": "stream",
     "text": [
      "Processing HNRNPK...Keep 19/406 low off-target sgRNAs...\n"
     ]
    },
    {
     "name": "stderr",
     "output_type": "stream",
     "text": [
      " 30%|██▉       | 36/122 [06:03<12:54,  9.00s/it]"
     ]
    },
    {
     "name": "stdout",
     "output_type": "stream",
     "text": [
      "Processing HSPA9...Keep 181/670 low off-target sgRNAs...\n",
      "HSPA9 NM_004134                       sequence length: 4404,                       index length:4401\n"
     ]
    },
    {
     "name": "stderr",
     "output_type": "stream",
     "text": [
      " 30%|███       | 37/122 [06:06<10:11,  7.19s/it]"
     ]
    },
    {
     "name": "stdout",
     "output_type": "stream",
     "text": [
      "Processing IARS1...Keep 800/940 low off-target sgRNAs...\n",
      "IARS1 NM_002161                       sequence length: 4483,                       index length:4481\n"
     ]
    },
    {
     "name": "stderr",
     "output_type": "stream",
     "text": [
      " 31%|███       | 38/122 [06:19<12:33,  8.97s/it]"
     ]
    },
    {
     "name": "stdout",
     "output_type": "stream",
     "text": [
      "Processing ISCU...Keep 80/98 low off-target sgRNAs...\n"
     ]
    },
    {
     "name": "stderr",
     "output_type": "stream",
     "text": [
      " 32%|███▏      | 39/122 [06:21<09:14,  6.68s/it]"
     ]
    },
    {
     "name": "stdout",
     "output_type": "stream",
     "text": [
      "Processing KARS1...Keep 239/442 low off-target sgRNAs...\n"
     ]
    },
    {
     "name": "stderr",
     "output_type": "stream",
     "text": [
      " 33%|███▎      | 40/122 [06:25<07:59,  5.84s/it]"
     ]
    },
    {
     "name": "stdout",
     "output_type": "stream",
     "text": [
      "Processing KIF11...Keep 732/887 low off-target sgRNAs...\n"
     ]
    },
    {
     "name": "stderr",
     "output_type": "stream",
     "text": [
      " 34%|███▎      | 41/122 [06:37<10:30,  7.78s/it]"
     ]
    },
    {
     "name": "stdout",
     "output_type": "stream",
     "text": [
      "Processing KPNB1...Keep 554/729 low off-target sgRNAs...\n"
     ]
    },
    {
     "name": "stderr",
     "output_type": "stream",
     "text": [
      " 34%|███▍      | 42/122 [06:46<10:54,  8.19s/it]"
     ]
    },
    {
     "name": "stdout",
     "output_type": "stream",
     "text": [
      "Processing MARS1...Keep 879/1027 low off-target sgRNAs...\n"
     ]
    },
    {
     "name": "stderr",
     "output_type": "stream",
     "text": [
      " 35%|███▌      | 43/122 [07:00<13:07,  9.97s/it]"
     ]
    },
    {
     "name": "stdout",
     "output_type": "stream",
     "text": [
      "Processing NAPA...Keep 282/312 low off-target sgRNAs...\n"
     ]
    },
    {
     "name": "stderr",
     "output_type": "stream",
     "text": [
      " 36%|███▌      | 44/122 [07:05<10:46,  8.29s/it]"
     ]
    },
    {
     "name": "stdout",
     "output_type": "stream",
     "text": [
      "Processing NCBP2...Keep 70/81 low off-target sgRNAs...\n"
     ]
    },
    {
     "name": "stderr",
     "output_type": "stream",
     "text": [
      " 37%|███▋      | 45/122 [07:06<07:55,  6.17s/it]"
     ]
    },
    {
     "name": "stdout",
     "output_type": "stream",
     "text": [
      "Processing NEDD1...Keep 423/503 low off-target sgRNAs...\n",
      "NEDD1 NM_152905                       sequence length: 4015,                       index length:4014\n"
     ]
    },
    {
     "name": "stderr",
     "output_type": "stream",
     "text": [
      " 38%|███▊      | 46/122 [07:13<08:03,  6.36s/it]"
     ]
    },
    {
     "name": "stdout",
     "output_type": "stream",
     "text": [
      "Processing NUDT21...Keep 166/226 low off-target sgRNAs...\n"
     ]
    },
    {
     "name": "stderr",
     "output_type": "stream",
     "text": [
      " 39%|███▊      | 47/122 [07:15<06:34,  5.26s/it]"
     ]
    },
    {
     "name": "stdout",
     "output_type": "stream",
     "text": [
      "Processing PAFAH1B1...Keep 141/408 low off-target sgRNAs...\n"
     ]
    },
    {
     "name": "stderr",
     "output_type": "stream",
     "text": [
      " 39%|███▉      | 48/122 [07:18<05:25,  4.40s/it]"
     ]
    },
    {
     "name": "stdout",
     "output_type": "stream",
     "text": [
      "Processing PCNA...Keep 112/269 low off-target sgRNAs...\n"
     ]
    },
    {
     "name": "stderr",
     "output_type": "stream",
     "text": [
      " 40%|████      | 49/122 [07:20<04:25,  3.63s/it]"
     ]
    },
    {
     "name": "stdout",
     "output_type": "stream",
     "text": [
      "Processing PFDN2...Keep 152/180 low off-target sgRNAs...\n"
     ]
    },
    {
     "name": "stderr",
     "output_type": "stream",
     "text": [
      " 41%|████      | 50/122 [07:22<04:00,  3.34s/it]"
     ]
    },
    {
     "name": "stdout",
     "output_type": "stream",
     "text": [
      "Processing PHB...Keep 16/165 low off-target sgRNAs...\n"
     ]
    },
    {
     "name": "stderr",
     "output_type": "stream",
     "text": [
      " 42%|████▏     | 51/122 [07:22<02:52,  2.43s/it]"
     ]
    },
    {
     "name": "stdout",
     "output_type": "stream",
     "text": [
      "Processing PLK1...Keep 406/797 low off-target sgRNAs...\n"
     ]
    },
    {
     "name": "stderr",
     "output_type": "stream",
     "text": [
      " 43%|████▎     | 52/122 [07:29<04:26,  3.80s/it]"
     ]
    },
    {
     "name": "stdout",
     "output_type": "stream",
     "text": [
      "Processing POLD1...Keep 1335/1521 low off-target sgRNAs...\n",
      "position not found\n",
      "position not found\n"
     ]
    },
    {
     "name": "stderr",
     "output_type": "stream",
     "text": [
      " 43%|████▎     | 53/122 [07:53<11:06,  9.65s/it]"
     ]
    },
    {
     "name": "stdout",
     "output_type": "stream",
     "text": [
      "Processing POLE...Keep 2486/2818 low off-target sgRNAs...\n",
      "position not found\n",
      "position not found\n"
     ]
    },
    {
     "name": "stderr",
     "output_type": "stream",
     "text": [
      " 44%|████▍     | 54/122 [08:40<23:48, 21.01s/it]"
     ]
    },
    {
     "name": "stdout",
     "output_type": "stream",
     "text": [
      "Processing POLR1A...Keep 1784/2028 low off-target sgRNAs...\n"
     ]
    },
    {
     "name": "stderr",
     "output_type": "stream",
     "text": [
      " 45%|████▌     | 55/122 [09:14<27:36, 24.73s/it]"
     ]
    },
    {
     "name": "stdout",
     "output_type": "stream",
     "text": [
      "Processing POLR2B...Keep 893/1017 low off-target sgRNAs...\n",
      "position not found\n"
     ]
    },
    {
     "name": "stderr",
     "output_type": "stream",
     "text": [
      " 46%|████▌     | 56/122 [09:29<24:12, 22.01s/it]"
     ]
    },
    {
     "name": "stdout",
     "output_type": "stream",
     "text": [
      "Processing POLR2C...Keep 173/272 low off-target sgRNAs...\n"
     ]
    },
    {
     "name": "stderr",
     "output_type": "stream",
     "text": [
      " 47%|████▋     | 57/122 [09:32<17:37, 16.27s/it]"
     ]
    },
    {
     "name": "stdout",
     "output_type": "stream",
     "text": [
      "Processing POLR2E...Keep 68/133 low off-target sgRNAs...\n"
     ]
    },
    {
     "name": "stderr",
     "output_type": "stream",
     "text": [
      " 48%|████▊     | 58/122 [09:33<12:31, 11.73s/it]"
     ]
    },
    {
     "name": "stdout",
     "output_type": "stream",
     "text": [
      "Processing POLR2L...Keep 67/80 low off-target sgRNAs...\n"
     ]
    },
    {
     "name": "stderr",
     "output_type": "stream",
     "text": [
      " 48%|████▊     | 59/122 [09:35<08:59,  8.57s/it]"
     ]
    },
    {
     "name": "stdout",
     "output_type": "stream",
     "text": [
      "Processing POLR3A...Keep 1351/1530 low off-target sgRNAs...\n"
     ]
    },
    {
     "name": "stderr",
     "output_type": "stream",
     "text": [
      " 49%|████▉     | 60/122 [10:00<13:55, 13.48s/it]"
     ]
    },
    {
     "name": "stdout",
     "output_type": "stream",
     "text": [
      "Processing PRC1...Keep 451/529 low off-target sgRNAs...\n",
      "PRC1 NM_003981                       sequence length: 3072,                       index length:3069\n"
     ]
    },
    {
     "name": "stderr",
     "output_type": "stream",
     "text": [
      " 50%|█████     | 61/122 [10:07<12:01, 11.82s/it]"
     ]
    },
    {
     "name": "stdout",
     "output_type": "stream",
     "text": [
      "Processing PRPF19...Keep 481/555 low off-target sgRNAs...\n",
      "PRPF19 NM_014502                       sequence length: 2337,                       index length:2336\n"
     ]
    },
    {
     "name": "stderr",
     "output_type": "stream",
     "text": [
      " 51%|█████     | 62/122 [10:16<10:41, 10.69s/it]"
     ]
    },
    {
     "name": "stdout",
     "output_type": "stream",
     "text": [
      "Processing PSMA1...Keep 45/92 low off-target sgRNAs...\n"
     ]
    },
    {
     "name": "stderr",
     "output_type": "stream",
     "text": [
      " 52%|█████▏    | 63/122 [10:16<07:35,  7.72s/it]"
     ]
    },
    {
     "name": "stdout",
     "output_type": "stream",
     "text": [
      "Processing PSMA2...Keep 48/184 low off-target sgRNAs...\n"
     ]
    },
    {
     "name": "stderr",
     "output_type": "stream",
     "text": [
      " 52%|█████▏    | 64/122 [10:17<05:28,  5.66s/it]"
     ]
    },
    {
     "name": "stdout",
     "output_type": "stream",
     "text": [
      "Processing PSMA3...Keep 91/171 low off-target sgRNAs...\n"
     ]
    },
    {
     "name": "stderr",
     "output_type": "stream",
     "text": [
      " 53%|█████▎    | 65/122 [10:19<04:12,  4.43s/it]"
     ]
    },
    {
     "name": "stdout",
     "output_type": "stream",
     "text": [
      "Processing PSMA5...Keep 133/158 low off-target sgRNAs...\n"
     ]
    },
    {
     "name": "stderr",
     "output_type": "stream",
     "text": [
      " 54%|█████▍    | 66/122 [10:21<03:31,  3.79s/it]"
     ]
    },
    {
     "name": "stdout",
     "output_type": "stream",
     "text": [
      "Processing PSMA7...Keep 231/264 low off-target sgRNAs...\n"
     ]
    },
    {
     "name": "stderr",
     "output_type": "stream",
     "text": [
      " 55%|█████▍    | 67/122 [10:25<03:29,  3.81s/it]"
     ]
    },
    {
     "name": "stdout",
     "output_type": "stream",
     "text": [
      "Processing PSMB4...Keep 291/306 low off-target sgRNAs...\n"
     ]
    },
    {
     "name": "stderr",
     "output_type": "stream",
     "text": [
      " 56%|█████▌    | 68/122 [10:30<03:43,  4.13s/it]"
     ]
    },
    {
     "name": "stdout",
     "output_type": "stream",
     "text": [
      "Processing PSMB5...Keep 60/79 low off-target sgRNAs...\n"
     ]
    },
    {
     "name": "stderr",
     "output_type": "stream",
     "text": [
      " 57%|█████▋    | 70/122 [10:31<01:58,  2.28s/it]"
     ]
    },
    {
     "name": "stdout",
     "output_type": "stream",
     "text": [
      "Processing RAN...Keep 4/131 low off-target sgRNAs...\n",
      "Processing RANGAP1...Keep 589/735 low off-target sgRNAs...\n"
     ]
    },
    {
     "name": "stderr",
     "output_type": "stream",
     "text": [
      " 59%|█████▉    | 72/122 [10:41<02:46,  3.33s/it]"
     ]
    },
    {
     "name": "stdout",
     "output_type": "stream",
     "text": [
      "Processing RBBP4...Keep 4/354 low off-target sgRNAs...\n",
      "Processing RNGTT...Keep 360/454 low off-target sgRNAs...\n"
     ]
    },
    {
     "name": "stderr",
     "output_type": "stream",
     "text": [
      " 60%|█████▉    | 73/122 [10:48<03:28,  4.25s/it]"
     ]
    },
    {
     "name": "stdout",
     "output_type": "stream",
     "text": [
      "Processing RPA1...Keep 499/545 low off-target sgRNAs...\n"
     ]
    },
    {
     "name": "stderr",
     "output_type": "stream",
     "text": [
      " 61%|██████    | 74/122 [10:57<04:31,  5.66s/it]"
     ]
    },
    {
     "name": "stdout",
     "output_type": "stream",
     "text": [
      "Processing RPAP1...Keep 1518/1875 low off-target sgRNAs...\n"
     ]
    },
    {
     "name": "stderr",
     "output_type": "stream",
     "text": [
      " 61%|██████▏   | 75/122 [11:27<10:11, 13.01s/it]"
     ]
    },
    {
     "name": "stdout",
     "output_type": "stream",
     "text": [
      "Processing RPL11...Keep 50/174 low off-target sgRNAs...\n"
     ]
    },
    {
     "name": "stderr",
     "output_type": "stream",
     "text": [
      " 65%|██████▍   | 79/122 [11:28<02:57,  4.13s/it]"
     ]
    },
    {
     "name": "stdout",
     "output_type": "stream",
     "text": [
      "Processing RPL15...Keep 0/143 low off-target sgRNAs...\n",
      "Processing RPL18A...Keep 0/227 low off-target sgRNAs...\n",
      "Processing RPL19...Keep 0/220 low off-target sgRNAs...\n",
      "Processing RPL4...Keep 12/456 low off-target sgRNAs...\n"
     ]
    },
    {
     "name": "stderr",
     "output_type": "stream",
     "text": [
      " 66%|██████▋   | 81/122 [11:28<01:52,  2.74s/it]"
     ]
    },
    {
     "name": "stdout",
     "output_type": "stream",
     "text": [
      "Processing RPS12...Keep 1/121 low off-target sgRNAs...\n",
      "Processing RPS13...Keep 8/120 low off-target sgRNAs...\n"
     ]
    },
    {
     "name": "stderr",
     "output_type": "stream",
     "text": [
      " 70%|██████▉   | 85/122 [11:29<00:45,  1.22s/it]"
     ]
    },
    {
     "name": "stdout",
     "output_type": "stream",
     "text": [
      "Processing RPS15...Keep 0/192 low off-target sgRNAs...\n",
      "Processing RPS15A...Keep 1/121 low off-target sgRNAs...\n",
      "Processing RPS18...Keep 0/163 low off-target sgRNAs...\n",
      "Processing RPS2...Keep 1/391 low off-target sgRNAs...\n",
      "Processing RPS29...Keep 0/38 low off-target sgRNAs...\n"
     ]
    },
    {
     "name": "stderr",
     "output_type": "stream",
     "text": [
      " 72%|███████▏  | 88/122 [11:29<00:26,  1.30it/s]"
     ]
    },
    {
     "name": "stdout",
     "output_type": "stream",
     "text": [
      "Processing RPS4X...Keep 7/290 low off-target sgRNAs...\n",
      "RPS4X NM_001007                       sequence length: 1474,                       index length:1473\n",
      "Processing RPS6...Keep 21/265 low off-target sgRNAs...\n",
      "RPS6 NM_001010                       sequence length: 1369,                       index length:1368\n"
     ]
    },
    {
     "name": "stderr",
     "output_type": "stream",
     "text": [
      " 74%|███████▍  | 90/122 [11:29<00:19,  1.62it/s]"
     ]
    },
    {
     "name": "stdout",
     "output_type": "stream",
     "text": [
      "Processing RPS8...Keep 1/220 low off-target sgRNAs...\n",
      "Processing RRM1...Keep 350/434 low off-target sgRNAs...\n",
      "Processing RRM2...Keep 99/407 low off-target sgRNAs...\n"
     ]
    },
    {
     "name": "stderr",
     "output_type": "stream",
     "text": [
      " 75%|███████▌  | 92/122 [11:38<00:48,  1.63s/it]"
     ]
    },
    {
     "name": "stdout",
     "output_type": "stream",
     "text": [
      "Processing RUVBL1...Keep 284/330 low off-target sgRNAs...\n"
     ]
    },
    {
     "name": "stderr",
     "output_type": "stream",
     "text": [
      " 76%|███████▌  | 93/122 [11:43<01:04,  2.22s/it]"
     ]
    },
    {
     "name": "stdout",
     "output_type": "stream",
     "text": [
      "Processing SDE2...Keep 451/540 low off-target sgRNAs...\n"
     ]
    },
    {
     "name": "stderr",
     "output_type": "stream",
     "text": [
      " 77%|███████▋  | 94/122 [11:51<01:35,  3.43s/it]"
     ]
    },
    {
     "name": "stdout",
     "output_type": "stream",
     "text": [
      "Processing SEC61A1...Keep 411/527 low off-target sgRNAs...\n"
     ]
    },
    {
     "name": "stderr",
     "output_type": "stream",
     "text": [
      " 78%|███████▊  | 95/122 [11:59<01:56,  4.33s/it]"
     ]
    },
    {
     "name": "stdout",
     "output_type": "stream",
     "text": [
      "Processing SF1...Keep 417/514 low off-target sgRNAs...\n"
     ]
    },
    {
     "name": "stderr",
     "output_type": "stream",
     "text": [
      " 79%|███████▊  | 96/122 [12:06<02:11,  5.07s/it]"
     ]
    },
    {
     "name": "stdout",
     "output_type": "stream",
     "text": [
      "Processing SF3A1...Keep 826/1012 low off-target sgRNAs...\n"
     ]
    },
    {
     "name": "stderr",
     "output_type": "stream",
     "text": [
      " 80%|███████▉  | 97/122 [12:22<03:14,  7.79s/it]"
     ]
    },
    {
     "name": "stdout",
     "output_type": "stream",
     "text": [
      "Processing SF3A2...Keep 404/727 low off-target sgRNAs...\n"
     ]
    },
    {
     "name": "stderr",
     "output_type": "stream",
     "text": [
      " 80%|████████  | 98/122 [12:30<03:04,  7.71s/it]"
     ]
    },
    {
     "name": "stdout",
     "output_type": "stream",
     "text": [
      "Processing SF3B3...Keep 1202/1364 low off-target sgRNAs...\n"
     ]
    },
    {
     "name": "stderr",
     "output_type": "stream",
     "text": [
      " 81%|████████  | 99/122 [12:54<04:42, 12.26s/it]"
     ]
    },
    {
     "name": "stdout",
     "output_type": "stream",
     "text": [
      "Processing SFPQ...Keep 723/924 low off-target sgRNAs...\n"
     ]
    },
    {
     "name": "stderr",
     "output_type": "stream",
     "text": [
      " 82%|████████▏ | 100/122 [13:08<04:39, 12.72s/it]"
     ]
    },
    {
     "name": "stdout",
     "output_type": "stream",
     "text": [
      "Processing SNRNP200...Keep 1979/2502 low off-target sgRNAs...\n"
     ]
    },
    {
     "name": "stderr",
     "output_type": "stream",
     "text": [
      " 83%|████████▎ | 101/122 [13:52<07:34, 21.66s/it]"
     ]
    },
    {
     "name": "stdout",
     "output_type": "stream",
     "text": [
      "Processing SNRPB...Keep 204/284 low off-target sgRNAs...\n"
     ]
    },
    {
     "name": "stderr",
     "output_type": "stream",
     "text": [
      " 84%|████████▎ | 102/122 [13:56<05:30, 16.53s/it]"
     ]
    },
    {
     "name": "stdout",
     "output_type": "stream",
     "text": [
      "Processing SNRPD2...Keep 23/62 low off-target sgRNAs...\n",
      "Processing SNRPF...Keep 13/82 low off-target sgRNAs...\n",
      "SNRPF NM_003095                       sequence length: 452,                       index length:1365\n"
     ]
    },
    {
     "name": "stderr",
     "output_type": "stream",
     "text": [
      " 85%|████████▌ | 104/122 [13:56<02:43,  9.11s/it]"
     ]
    },
    {
     "name": "stdout",
     "output_type": "stream",
     "text": [
      "Processing SNW1...Keep 192/536 low off-target sgRNAs...\n",
      "SNW1 NM_012245                       sequence length: 2129,                       index length:2127\n"
     ]
    },
    {
     "name": "stderr",
     "output_type": "stream",
     "text": [
      " 87%|████████▋ | 106/122 [14:00<01:33,  5.82s/it]"
     ]
    },
    {
     "name": "stdout",
     "output_type": "stream",
     "text": [
      "Processing SPC24...Keep 74/98 low off-target sgRNAs...\n",
      "SPC24 NM_182513                       sequence length: 2290,                       index length:2319\n",
      "Processing SRSF2...Keep 256/337 low off-target sgRNAs...\n"
     ]
    },
    {
     "name": "stderr",
     "output_type": "stream",
     "text": [
      " 88%|████████▊ | 107/122 [14:05<01:24,  5.63s/it]"
     ]
    },
    {
     "name": "stdout",
     "output_type": "stream",
     "text": [
      "Processing SRSF7...Keep 213/233 low off-target sgRNAs...\n"
     ]
    },
    {
     "name": "stderr",
     "output_type": "stream",
     "text": [
      " 89%|████████▊ | 108/122 [14:09<01:12,  5.18s/it]"
     ]
    },
    {
     "name": "stdout",
     "output_type": "stream",
     "text": [
      "Processing SSU72...Keep 170/216 low off-target sgRNAs...\n"
     ]
    },
    {
     "name": "stderr",
     "output_type": "stream",
     "text": [
      " 89%|████████▉ | 109/122 [14:13<01:00,  4.68s/it]"
     ]
    },
    {
     "name": "stdout",
     "output_type": "stream",
     "text": [
      "Processing TARS1...Keep 567/681 low off-target sgRNAs...\n"
     ]
    },
    {
     "name": "stderr",
     "output_type": "stream",
     "text": [
      " 90%|█████████ | 110/122 [14:24<01:19,  6.64s/it]"
     ]
    },
    {
     "name": "stdout",
     "output_type": "stream",
     "text": [
      "Processing TUBB...Keep 0/213 low off-target sgRNAs...\n",
      "TUBB NM_178014                       sequence length: 2515,                       index length:2511\n",
      "Processing TUT1...Keep 564/683 low off-target sgRNAs...\n"
     ]
    },
    {
     "name": "stderr",
     "output_type": "stream",
     "text": [
      " 92%|█████████▏| 112/122 [14:35<01:01,  6.18s/it]"
     ]
    },
    {
     "name": "stdout",
     "output_type": "stream",
     "text": [
      "Processing TXNL4A...Keep 54/81 low off-target sgRNAs...\n"
     ]
    },
    {
     "name": "stderr",
     "output_type": "stream",
     "text": [
      " 93%|█████████▎| 113/122 [14:36<00:44,  4.95s/it]"
     ]
    },
    {
     "name": "stdout",
     "output_type": "stream",
     "text": [
      "Processing U2AF2...Keep 556/608 low off-target sgRNAs...\n"
     ]
    },
    {
     "name": "stderr",
     "output_type": "stream",
     "text": [
      " 93%|█████████▎| 114/122 [14:48<00:52,  6.59s/it]"
     ]
    },
    {
     "name": "stdout",
     "output_type": "stream",
     "text": [
      "Processing UBA1...Keep 1123/1263 low off-target sgRNAs...\n"
     ]
    },
    {
     "name": "stderr",
     "output_type": "stream",
     "text": [
      " 94%|█████████▍| 115/122 [15:12<01:18, 11.27s/it]"
     ]
    },
    {
     "name": "stdout",
     "output_type": "stream",
     "text": [
      "Processing UBL5...Keep 13/60 low off-target sgRNAs...\n"
     ]
    },
    {
     "name": "stderr",
     "output_type": "stream",
     "text": [
      " 95%|█████████▌| 116/122 [15:12<00:49,  8.23s/it]"
     ]
    },
    {
     "name": "stdout",
     "output_type": "stream",
     "text": [
      "Processing UBTF...Keep 553/835 low off-target sgRNAs...\n",
      "UBTF NM_014233                       sequence length: 4795,                       index length:4794\n"
     ]
    },
    {
     "name": "stderr",
     "output_type": "stream",
     "text": [
      " 96%|█████████▌| 117/122 [15:23<00:45,  9.11s/it]"
     ]
    },
    {
     "name": "stdout",
     "output_type": "stream",
     "text": [
      "Processing VARS1...Keep 0/1631 low off-target sgRNAs...\n",
      "VARS1 NM_006295                       sequence length: 4111,                       index length:4109\n",
      "Processing VCP...Keep 762/856 low off-target sgRNAs...\n",
      "VCP NM_007126                       sequence length: 3746,                       index length:3744\n"
     ]
    },
    {
     "name": "stderr",
     "output_type": "stream",
     "text": [
      " 98%|█████████▊| 119/122 [15:40<00:26,  8.69s/it]"
     ]
    },
    {
     "name": "stdout",
     "output_type": "stream",
     "text": [
      "Processing WDR70...Keep 284/571 low off-target sgRNAs...\n",
      "WDR70 NM_018034                       sequence length: 2877,                       index length:2873\n"
     ]
    },
    {
     "name": "stderr",
     "output_type": "stream",
     "text": [
      " 98%|█████████▊| 120/122 [15:46<00:16,  8.00s/it]"
     ]
    },
    {
     "name": "stdout",
     "output_type": "stream",
     "text": [
      "Processing WEE1...Keep 261/414 low off-target sgRNAs...\n"
     ]
    },
    {
     "name": "stderr",
     "output_type": "stream",
     "text": [
      " 99%|█████████▉| 121/122 [15:51<00:07,  7.38s/it]"
     ]
    },
    {
     "name": "stdout",
     "output_type": "stream",
     "text": [
      "Processing YARS1...Keep 500/574 low off-target sgRNAs...\n",
      "YARS1 NM_003680                       sequence length: 2443,                       index length:3117\n"
     ]
    },
    {
     "name": "stderr",
     "output_type": "stream",
     "text": [
      "100%|██████████| 122/122 [15:52<00:00,  7.81s/it]\n"
     ]
    }
   ],
   "source": [
    "filter_15 = run_sgFinder(list_gene_ess[0:5], length = 15, tag = 'ess_15' )"
   ]
  },
  {
   "cell_type": "code",
   "execution_count": 11,
   "id": "7dcbf250",
   "metadata": {
    "scrolled": true
   },
   "outputs": [
    {
     "name": "stderr",
     "output_type": "stream",
     "text": [
      "  8%|▊         | 3/40 [00:00<00:01, 28.51it/s]"
     ]
    },
    {
     "name": "stdout",
     "output_type": "stream",
     "text": [
      "Processing ATP6V1G3...Keep 0/39 low off-target sgRNAs...\n",
      "Processing BRDT...Keep 517/722 low off-target sgRNAs...\n",
      "Processing C10orf53...Keep 77/82 low off-target sgRNAs...\n",
      "Processing CER1...Keep 293/359 low off-target sgRNAs...\n",
      "CER1 NM_005454                       sequence length: 1231,                       index length:1229\n",
      "Processing CETN1...Keep 208/244 low off-target sgRNAs...\n"
     ]
    },
    {
     "name": "stderr",
     "output_type": "stream",
     "text": [
      " 25%|██▌       | 10/40 [00:07<00:20,  1.47it/s]"
     ]
    },
    {
     "name": "stdout",
     "output_type": "stream",
     "text": [
      "Processing CHAT...Keep 700/779 low off-target sgRNAs...\n",
      "Processing CNPY1...Keep 58/71 low off-target sgRNAs...\n",
      "Processing CST9...Keep 150/194 low off-target sgRNAs...\n",
      "Processing CST9L...Keep 116/173 low off-target sgRNAs...\n",
      "Processing DEFA6...Keep 105/123 low off-target sgRNAs...\n",
      "Processing EGR4...Keep 693/803 low off-target sgRNAs...\n",
      "Processing FCRL4...Keep 420/583 low off-target sgRNAs...\n"
     ]
    },
    {
     "name": "stderr",
     "output_type": "stream",
     "text": [
      " 35%|███▌      | 14/40 [00:07<00:10,  2.49it/s]"
     ]
    },
    {
     "name": "stdout",
     "output_type": "stream",
     "text": [
      "Processing GH2...Keep 68/195 low off-target sgRNAs...\n",
      "Processing GLT6D1...Keep 285/322 low off-target sgRNAs...\n",
      "Processing GPX6...Keep 84/239 low off-target sgRNAs...\n",
      "Processing IFNA10...Keep 16/245 low off-target sgRNAs...\n",
      "Processing IL26...Keep 118/149 low off-target sgRNAs...\n",
      "Processing INSM2...Keep 853/970 low off-target sgRNAs...\n"
     ]
    },
    {
     "name": "stderr",
     "output_type": "stream",
     "text": [
      " 55%|█████▌    | 22/40 [00:20<00:17,  1.04it/s]"
     ]
    },
    {
     "name": "stdout",
     "output_type": "stream",
     "text": [
      "Processing KRT26...Keep 405/523 low off-target sgRNAs...\n",
      "Processing KRT76...Keep 355/853 low off-target sgRNAs...\n",
      "Processing LALBA...Keep 127/143 low off-target sgRNAs...\n",
      "Processing LBX1...Keep 408/459 low off-target sgRNAs...\n",
      "Processing LCT...Keep 2246/2509 low off-target sgRNAs...\n"
     ]
    },
    {
     "name": "stderr",
     "output_type": "stream",
     "text": [
      " 55%|█████▌    | 22/40 [00:39<00:17,  1.04it/s]"
     ]
    },
    {
     "name": "stdout",
     "output_type": "stream",
     "text": [
      "position not found\n"
     ]
    },
    {
     "name": "stderr",
     "output_type": "stream",
     "text": [
      " 65%|██████▌   | 26/40 [00:55<00:45,  3.24s/it]"
     ]
    },
    {
     "name": "stdout",
     "output_type": "stream",
     "text": [
      "Processing MBL2...Keep 235/304 low off-target sgRNAs...\n",
      "Processing MRGPRX4...Keep 121/442 low off-target sgRNAs...\n",
      "Processing MUCL3...Keep 0/1748 low off-target sgRNAs...\n",
      "Processing NANOS2...Keep 205/221 low off-target sgRNAs...\n",
      "Processing NOTO...Keep 336/382 low off-target sgRNAs...\n",
      "Processing PDILT...Keep 565/653 low off-target sgRNAs...\n",
      "Processing PRDM9...Keep 112/1156 low off-target sgRNAs...\n"
     ]
    },
    {
     "name": "stderr",
     "output_type": "stream",
     "text": [
      " 75%|███████▌  | 30/40 [00:57<00:21,  2.16s/it]"
     ]
    },
    {
     "name": "stdout",
     "output_type": "stream",
     "text": [
      "Processing PRLHR...Keep 550/618 low off-target sgRNAs...\n",
      "Processing PRSS33...Keep 352/402 low off-target sgRNAs...\n"
     ]
    },
    {
     "name": "stderr",
     "output_type": "stream",
     "text": [
      " 80%|████████  | 32/40 [01:02<00:17,  2.24s/it]"
     ]
    },
    {
     "name": "stdout",
     "output_type": "stream",
     "text": [
      "Processing RFPL4B...Keep 269/337 low off-target sgRNAs...\n"
     ]
    },
    {
     "name": "stderr",
     "output_type": "stream",
     "text": [
      " 85%|████████▌ | 34/40 [01:06<00:13,  2.18s/it]"
     ]
    },
    {
     "name": "stdout",
     "output_type": "stream",
     "text": [
      "Processing RNASE11...Keep 175/227 low off-target sgRNAs...\n",
      "Processing RPTN...Keep 527/1002 low off-target sgRNAs...\n",
      "Processing SLC6A18...Keep 721/852 low off-target sgRNAs...\n",
      "Processing TEX55...Keep 605/678 low off-target sgRNAs...\n",
      "Processing TMPRSS15...Keep 765/903 low off-target sgRNAs...\n"
     ]
    },
    {
     "name": "stderr",
     "output_type": "stream",
     "text": [
      "100%|██████████| 40/40 [01:17<00:00,  1.94s/it]"
     ]
    },
    {
     "name": "stdout",
     "output_type": "stream",
     "text": [
      "Processing TPD52L3...Keep 130/150 low off-target sgRNAs...\n",
      "Processing VN1R2...Keep 278/473 low off-target sgRNAs...\n"
     ]
    },
    {
     "name": "stderr",
     "output_type": "stream",
     "text": [
      "\n"
     ]
    }
   ],
   "source": [
    "filter_neutral = run_sgFinder(list_gene_neutral, length = 15, tag = 'neutral_15' )"
   ]
  },
  {
   "cell_type": "code",
   "execution_count": 12,
   "id": "730b20bf",
   "metadata": {},
   "outputs": [],
   "source": [
    "### Save filtered dataframe dictionary\n",
    "values_2 = []\n",
    "for keys in filter_15:\n",
    "    values_2.append(len(filter_15[keys]))\n",
    "values_1 = []\n",
    "for keys in filter_neutral:\n",
    "    values_1.append(len(filter_neutral[keys]))\n",
    "filter_ess = pd.DataFrame({'gene':filter_15.keys(),'n_filtered':values_2})\n",
    "filter_neutral = pd.DataFrame({'gene':filter_neutral.keys(),'n_filtered':values_1})\n",
    "filter_ess.to_csv(join(out_path,'ess_15','filter_gene.csv'))\n",
    "filter_neutral.to_csv(join(out_path,'neutral_15','filter_gene.csv'))"
   ]
  },
  {
   "cell_type": "code",
   "execution_count": 260,
   "id": "24e00a9c",
   "metadata": {},
   "outputs": [
    {
     "data": {
      "text/plain": [
       "Seq('CGCTTTCGCGC')"
      ]
     },
     "execution_count": 260,
     "metadata": {},
     "output_type": "execute_result"
    }
   ],
   "source": [
    "# When gene is + and sg is +  .seq[sequence_idx:sequence_idx+11]\n",
    "# When gene is + and sg is - .seq[sequence_idx+12:sequence_idx+23].reverse_complement()\n",
    "# When gene is - (the sequence is -, ATG) and sg is - .seq[sequence_idx-22:sequence_idx-11]\n",
    "# When gene is - and sg is + .seq[sequence_idx-10:sequence_idx+1].reverse_complement()"
   ]
  }
 ],
 "metadata": {
  "kernelspec": {
   "display_name": "synSg",
   "language": "python",
   "name": "synsg"
  },
  "language_info": {
   "codemirror_mode": {
    "name": "ipython",
    "version": 3
   },
   "file_extension": ".py",
   "mimetype": "text/x-python",
   "name": "python",
   "nbconvert_exporter": "python",
   "pygments_lexer": "ipython3",
   "version": "3.7.16"
  }
 },
 "nbformat": 4,
 "nbformat_minor": 5
}
