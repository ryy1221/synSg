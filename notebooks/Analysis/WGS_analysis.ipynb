{
 "cells": [
  {
   "cell_type": "code",
   "execution_count": 2,
   "id": "9aec8938-d767-4cd4-aefa-b4445f675b37",
   "metadata": {},
   "outputs": [],
   "source": [
    "### In this notebook we do whole genome sequencing analysis \n",
    "import pandas as pd\n",
    "from os.path import join\n",
    "data_path = '../data/sequencing/WGS/03.Result_X202SC24094080-Z01-F001_cancer/result/Mutation/SNP/Annotation'\n",
    "output_path = 'Analysis_output'\n",
    "f_prefix = 'WGS_analysis'"
   ]
  },
  {
   "cell_type": "code",
   "execution_count": 2,
   "id": "a962c1a5-2c94-46bf-a858-dcd8e21c78dd",
   "metadata": {},
   "outputs": [],
   "source": [
    "# Function for calculate the allele frequency of heterozygous mutation \n",
    "def calc_allele_freq(df_, colname):\n",
    "    # Process the allele frequency info of the dataframe\n",
    "    split_df = df_[colname].str.split(':', expand = True)\n",
    "    split_df.columns = ['Genotype', 'Allele Count', 'Read Depth', 'GQ', 'PL']\n",
    "    split_df['GQ'] = split_df['GQ'].astype(int)\n",
    "    split_df = split_df[split_df['GQ']>60] # Filter out low quality variants\n",
    "\n",
    "    # Operate only on heterozygous mutations\n",
    "    het_idx = split_df[split_df['Genotype'] == '0/1'].index\n",
    "    allele_count =pd.to_numeric(split_df.loc[het_idx,'Allele Count'].str.split(',').str[1])\n",
    "    allele_depth = pd.to_numeric(split_df.loc[het_idx,'Read Depth'])\n",
    "    return(allele_count.div(allele_depth))"
   ]
  },
  {
   "cell_type": "code",
   "execution_count": null,
   "id": "ad047370-0b9c-4155-a170-4b7911d3c2e9",
   "metadata": {
    "tags": []
   },
   "outputs": [],
   "source": [
    "df_PSMB5 = pd.DataFrame()  # This part is for PSBM5 mutations only\n",
    "\n",
    "for file_name in ['C2_S1','C2_S2','C2_E1','C2_E2']: # Loop through the file names\n",
    "    # Define the fields that we need so that we can locate the mutations\n",
    "    print(f'Start processing {file_name}...')\n",
    "\n",
    "    fields_e1 = ['CHROM', 'POS', 'ID', 'REF', 'ALT', 'GeneName', \n",
    "          'Func', 'Gene', 'ExonicFunc', 'AAChange', 'INFO', 'FORMAT', file_name]\n",
    "    df = pd.read_csv(join(data_path, f'{file_name}.GATK.snp.annovar.hg38_multianno.xls'),\\\n",
    "            usecols=fields_e1, sep = '\\t')\n",
    "    df['name'] = df['CHROM'].astype(str) +'_'+ df['POS'].astype(str)+'_'+df['REF']+'_'+df['ALT']\n",
    "    df = df.set_index('name')\n",
    "    df = df[df['GeneName'] == 'PSMB5'] \n",
    "    \n",
    "    df_PSMB5 = pd.concat([df_PSMB5, df[['CHROM', 'POS', 'ID', 'REF', 'ALT', 'GeneName', \n",
    "          'Func', 'Gene', 'ExonicFunc', 'AAChange', 'INFO']]], axis = 1)\n",
    "    df_PSMB5 = df_PSMB5.loc[:,~df_PSMB5.columns.duplicated()].copy()\n",
    "# df_PSMB5.to_csv(join(output_path, f_prefix+'_analysis_out_PSMB5.csv'))"
   ]
  },
  {
   "cell_type": "code",
   "execution_count": 3,
   "id": "2ba6f124-3039-42e1-8370-fa745f1a21f0",
   "metadata": {
    "tags": []
   },
   "outputs": [
    {
     "name": "stdout",
     "output_type": "stream",
     "text": [
      "Start processing C2_S1...\n",
      "Start processing C2_S2...\n",
      "Start processing C2_E1...\n",
      "Start processing C2_E2...\n"
     ]
    }
   ],
   "source": [
    "merge_df = pd.DataFrame() \n",
    "merge_df_AF = pd.DataFrame() \n",
    "\n",
    "for file_name in ['C2_S1','C2_S2','C2_E1','C2_E2']: # Loop through the file names\n",
    "    # Define the fields that we need so that we can locate the mutations\n",
    "    print(f'Start processing {file_name}...')\n",
    "\n",
    "    fields_e1 = ['CHROM', 'POS', 'ID', 'REF', 'ALT', 'GeneName', \n",
    "          'Func', 'Gene', 'ExonicFunc', 'AAChange', 'INFO', 'FORMAT', file_name]\n",
    "    df = pd.read_csv(join(data_path, f'{file_name}.GATK.snp.annovar.hg38_multianno.xls'),\\\n",
    "            usecols=fields_e1, sep = '\\t')\n",
    "    df['name'] = df['CHROM'].astype(str) +'_'+ df['POS'].astype(str)+'_'+df['REF']+'_'+df['ALT']\n",
    "    df = df.set_index('name')\n",
    "    mut_freq = calc_allele_freq(df, file_name)\n",
    "    assert len(df) > len(mut_freq) # Make sure the function return same length\n",
    "    df.loc[mut_freq.index, f'Allele Freq {file_name}'] = mut_freq\n",
    "    \n",
    "    merge_df_AF = pd.concat([merge_df_AF, df[['CHROM', 'POS', 'ID', 'REF', 'ALT', 'GeneName', \n",
    "          'Func', 'Gene', 'ExonicFunc', 'AAChange', 'INFO',f'Allele Freq {file_name}']]], axis = 1)"
   ]
  },
  {
   "cell_type": "code",
   "execution_count": 36,
   "id": "af07b377-624c-4a06-86be-a387dc9960a1",
   "metadata": {},
   "outputs": [],
   "source": [
    "# delete the duplicated columns, keeping the information and allele frequency\n",
    "merge_df = merge_df_AF.loc[:,~merge_df_AF.columns.duplicated()].copy()\n",
    "# drop the one that don't have start alelle freq\n",
    "merge_df = merge_df.dropna()\n",
    "# merge_df.to_csv(join(output_path, f_prefix+'_analysis_out.csv'))"
   ]
  },
  {
   "cell_type": "code",
   "execution_count": 38,
   "id": "440054c8-e25e-418d-8721-49a2198e31cb",
   "metadata": {},
   "outputs": [
    {
     "data": {
      "text/plain": [
       "1388345"
      ]
     },
     "execution_count": 38,
     "metadata": {},
     "output_type": "execute_result"
    }
   ],
   "source": [
    "len(merge_df)"
   ]
  },
  {
   "cell_type": "code",
   "execution_count": 4,
   "id": "f2982b9b-ec70-43cd-8afb-e799a97d319c",
   "metadata": {},
   "outputs": [],
   "source": [
    "merge_df = merge_df_AF.loc[:,~merge_df_AF.columns.duplicated()].copy()\n",
    "merge_df.to_csv(join(output_path, f_prefix+'_analysis_out_keepna.csv'))"
   ]
  },
  {
   "cell_type": "code",
   "execution_count": 5,
   "id": "879af84a-1676-4c4b-95c9-b314b18699de",
   "metadata": {},
   "outputs": [
    {
     "name": "stderr",
     "output_type": "stream",
     "text": [
      "/storage/group/epo2/default/yur97/conda_envs/synSg/lib/python3.7/site-packages/IPython/core/interactiveshell.py:3457: DtypeWarning: Columns (1,3,4,5,6,7,8,9,10,11) have mixed types.Specify dtype option on import or set low_memory=False.\n",
      "  exec(code_obj, self.user_global_ns, self.user_ns)\n"
     ]
    }
   ],
   "source": [
    "merge_df = pd.read_csv(join(output_path, f_prefix+'_analysis_out_keepna.csv'))"
   ]
  },
  {
   "cell_type": "markdown",
   "id": "d1c9059a-0d51-4d94-b1d8-1405e3e6a2ff",
   "metadata": {},
   "source": [
    "***Filter the dataframe***"
   ]
  },
  {
   "cell_type": "code",
   "execution_count": 9,
   "id": "adc2bfd7-417e-4508-b5cd-6a812a60bb7a",
   "metadata": {},
   "outputs": [],
   "source": [
    "# find K562 CBEd mutations\n",
    "file_name = 'K562_CBEd'\n",
    "fields = ['CHROM', 'POS', 'ID', 'REF', 'ALT', 'GeneName', \n",
    "          'Func', 'Gene', 'ExonicFunc', 'AAChange', 'INFO', 'FORMAT', file_name]\n",
    "df = pd.read_csv(join(data_path, f'{file_name}.GATK.snp.annovar.hg38_multianno.xls'),\\\n",
    "            usecols=fields, sep = '\\t')\n",
    "df['name'] = df['CHROM'].astype(str) +'_'+ df['POS'].astype(str)+'_'+df['REF']+'_'+df['ALT']\n",
    "df = df.set_index('name')\n",
    "CBEd_mut = df.index"
   ]
  },
  {
   "cell_type": "code",
   "execution_count": 14,
   "id": "a39ddaab-a3f0-4051-80ed-318b001a8330",
   "metadata": {},
   "outputs": [
    {
     "data": {
      "text/plain": [
       "Index(['chr1_16298_C_T', 'chr1_30548_T_G', 'chr1_49298_T_C', 'chr1_51479_T_A',\n",
       "       'chr1_51803_T_C', 'chr1_52238_T_G', 'chr1_54366_A_G', 'chr1_54490_G_A',\n",
       "       'chr1_54844_G_A', 'chr1_55164_C_A',\n",
       "       ...\n",
       "       'chrM_14905_G_A', 'chrM_15326_A_G', 'chrM_15452_C_A', 'chrM_15607_A_G',\n",
       "       'chrM_15928_G_A', 'chrM_16126_T_C', 'chrM_16294_C_T', 'chrM_16296_C_T',\n",
       "       'chrM_16324_T_C', 'chrM_16519_T_C'],\n",
       "      dtype='object', name='name', length=3534070)"
      ]
     },
     "execution_count": 14,
     "metadata": {},
     "output_type": "execute_result"
    }
   ],
   "source": [
    "CBEd_mut"
   ]
  },
  {
   "cell_type": "code",
   "execution_count": 17,
   "id": "dce96e50-9168-4c5a-9dd1-8f76ca857868",
   "metadata": {},
   "outputs": [
    {
     "name": "stdout",
     "output_type": "stream",
     "text": [
      "C2_S1\n",
      "87965\n",
      "C2_S2\n",
      "95432\n",
      "C2_E1\n",
      "85251\n",
      "C2_E2\n",
      "87288\n"
     ]
    }
   ],
   "source": [
    "for file_name in ['C2_S1','C2_S2','C2_E1','C2_E2']: # Loop through the file names\n",
    "    index  = merge_df[f'Allele Freq {file_name}'].dropna().index\n",
    "    print(file_name)\n",
    "    print(len([i for i in merge_df.loc[index, 'name'] if i not in CBEd_mut]))"
   ]
  },
  {
   "cell_type": "code",
   "execution_count": 49,
   "id": "1bd3d8ce-6884-4f90-843a-2077f9e44dba",
   "metadata": {},
   "outputs": [],
   "source": [
    "# find mutations in DepMap\n",
    "df_mut = pd.read_csv(join(data_path, 'K562 mutations.csv'))\n",
    "df_mut['name'] = df_mut['Chromosome'].astype(str) +'_'+ df_mut['Position'].astype(str)+'_'+df_mut['Ref Allele']+'_'+df_mut['Alt Allele']\n",
    "df_mut = df_mut.set_index('name')\n",
    "depmap_mut = df_mut.index"
   ]
  },
  {
   "cell_type": "code",
   "execution_count": null,
   "id": "999b6f27-f04c-4a4f-9fd5-7f9c691088dc",
   "metadata": {},
   "outputs": [],
   "source": [
    "merge_df = pd.read_csv(join(output_path, f_prefix+'_analysis_out.csv'), index_col = 0)"
   ]
  },
  {
   "cell_type": "code",
   "execution_count": 53,
   "id": "0c9884f0-a435-4686-bd04-012ca4ee4c52",
   "metadata": {},
   "outputs": [
    {
     "data": {
      "text/plain": [
       "1388345"
      ]
     },
     "execution_count": 53,
     "metadata": {},
     "output_type": "execute_result"
    }
   ],
   "source": [
    "len(merge_df)"
   ]
  },
  {
   "cell_type": "code",
   "execution_count": 62,
   "id": "3172b78a-f125-402e-b166-dc7baee4b648",
   "metadata": {},
   "outputs": [],
   "source": [
    "mut_idx = [i for i in merge_df.index if (i not in CBEd_mut) and (i not in depmap_mut)]"
   ]
  },
  {
   "cell_type": "code",
   "execution_count": 63,
   "id": "b7130fca-7273-4f8b-95d5-6dad9c6554d6",
   "metadata": {},
   "outputs": [
    {
     "data": {
      "text/plain": [
       "25424"
      ]
     },
     "execution_count": 63,
     "metadata": {},
     "output_type": "execute_result"
    }
   ],
   "source": [
    "len(mut_idx) # The number of mutations that are shared across samples"
   ]
  },
  {
   "cell_type": "code",
   "execution_count": 64,
   "id": "5a696683-5c9d-4002-8428-cedb207e96d3",
   "metadata": {},
   "outputs": [],
   "source": [
    "merge_df.loc[mut_idx,:].to_csv(join(output_path, f_prefix+'_analysis_out_filtered.csv'))"
   ]
  },
  {
   "cell_type": "code",
   "execution_count": 73,
   "id": "c5a3a5ee-b69e-4d70-ad95-16b8c2c174b2",
   "metadata": {},
   "outputs": [
    {
     "name": "stdout",
     "output_type": "stream",
     "text": [
      "Start processing C2_S1...\n"
     ]
    }
   ],
   "source": [
    "# We want to keep the mutation information\n",
    "for file_name in ['C2_S1']: # Loop through the file names\n",
    "    # Define the fields that we need so that we can locate the mutations\n",
    "    print(f'Start processing {file_name}...')\n",
    "    df = pd.read_csv(join(data_path, f'{file_name}.GATK.snp.annovar.hg38_multianno.xls'), sep = '\\t')\n",
    "    df['name'] = df['CHROM'].astype(str) +'_'+ df['POS'].astype(str)+'_'+df['REF']+'_'+df['ALT']\n",
    "    df = df.set_index('name')\n",
    "    df = df.loc[mut_idx,:]\n",
    "    \n",
    "df = pd.concat([merge_df, df], axis = 1)\n",
    "df = df.loc[:,~df.columns.duplicated()].copy()\n",
    "df.to_csv(join(output_path, f_prefix+'_filtered_mutation_info.csv'))"
   ]
  },
  {
   "cell_type": "code",
   "execution_count": 83,
   "id": "e6c8cc3b-4ab3-41b5-847f-728db06724cd",
   "metadata": {},
   "outputs": [],
   "source": [
    "### Only keep Essential genes\n",
    "common_ess = pd.read_csv(join(data_path, 'AchillesCommonEssentialControls.csv'))\n",
    "comm_gene = common_ess['Gene'].str.rsplit('(', expand = True)\n",
    "ess_genes = [i.strip(' ') for i in comm_gene[0].to_list()]\n",
    "df[df['GeneName'].isin(ess_genes)].to_csv(join(output_path, f_prefix+'_filtered_mutation_info_ess.csv'))"
   ]
  },
  {
   "cell_type": "code",
   "execution_count": 3,
   "id": "46f02c6e-74a2-4007-ab07-2669e8150572",
   "metadata": {},
   "outputs": [],
   "source": [
    "df = pd.read_csv(join(output_path, f_prefix+'_filtered_mutation_info_ess.csv'))"
   ]
  },
  {
   "cell_type": "code",
   "execution_count": null,
   "id": "6ad5a907-6c3b-468f-a88b-a06d6bba264b",
   "metadata": {},
   "outputs": [],
   "source": [
    "df['']'gnomad_genome_AF'"
   ]
  },
  {
   "cell_type": "code",
   "execution_count": 12,
   "id": "9adf94f2-81fe-4fc5-a720-d12ce85c1107",
   "metadata": {
    "collapsed": true,
    "jupyter": {
     "outputs_hidden": true
    },
    "tags": []
   },
   "outputs": [
    {
     "data": {
      "text/plain": [
       "['name',\n",
       " 'CHROM',\n",
       " 'POS',\n",
       " 'ID',\n",
       " 'REF',\n",
       " 'ALT',\n",
       " 'GeneName',\n",
       " 'Func',\n",
       " 'Gene',\n",
       " 'ExonicFunc',\n",
       " 'AAChange',\n",
       " 'INFO',\n",
       " 'Allele Freq C2_S1',\n",
       " 'Allele Freq C2_S2',\n",
       " 'Allele Freq C2_E1',\n",
       " 'Allele Freq C2_E2',\n",
       " 'Priority',\n",
       " 'QUAL',\n",
       " 'FILTER',\n",
       " 'Description',\n",
       " 'GeneDetail',\n",
       " 'Gencode',\n",
       " 'cpgIslandExt',\n",
       " 'cytoBand',\n",
       " 'wgRna',\n",
       " 'genomicSuperDups',\n",
       " 'Repeat',\n",
       " 'avsnp',\n",
       " 'CLNALLELEID',\n",
       " 'CLNDN',\n",
       " 'CLNDISDB',\n",
       " 'CLNREVSTAT',\n",
       " 'CLNSIG',\n",
       " 'cosmic',\n",
       " 'gwasCatalog',\n",
       " '1000g_SAS',\n",
       " '1000g_EUR',\n",
       " '1000g_AFR',\n",
       " '1000g_AMR',\n",
       " '1000g_EAS',\n",
       " '1000g_ALL',\n",
       " 'esp6500siv2_all',\n",
       " 'gnomad_exome_AF',\n",
       " 'gnomad_exome_AF_raw',\n",
       " 'gnomad_exome_AF_afr',\n",
       " 'gnomad_exome_AF_sas',\n",
       " 'gnomad_exome_AF_amr',\n",
       " 'gnomad_exome_AF_eas',\n",
       " 'gnomad_exome_AF_nfe',\n",
       " 'gnomad_exome_AF_fin',\n",
       " 'gnomad_exome_AF_asj',\n",
       " 'gnomad_exome_AF_oth',\n",
       " 'gnomad_genome_AF',\n",
       " 'gnomad_genome_AF_raw',\n",
       " 'gnomad_genome_AF_afr',\n",
       " 'gnomad_genome_AF_sas',\n",
       " 'gnomad_genome_AF_amr',\n",
       " 'gnomad_genome_AF_eas',\n",
       " 'gnomad_genome_AF_nfe',\n",
       " 'gnomad_genome_AF_fin',\n",
       " 'gnomad_genome_AF_asj',\n",
       " 'gnomad_genome_AF_oth',\n",
       " 'ExAC_ALL',\n",
       " 'ExAC_AFR',\n",
       " 'ExAC_AMR',\n",
       " 'ExAC_EAS',\n",
       " 'ExAC_FIN',\n",
       " 'ExAC_NFE',\n",
       " 'ExAC_OTH',\n",
       " 'ExAC_SAS',\n",
       " 'dbscSNV_ADA_SCORE',\n",
       " 'dbscSNV_RF_SCORE',\n",
       " 'Interpro_domain',\n",
       " 'SIFT',\n",
       " 'Polyphen2_HDIV',\n",
       " 'Polyphen2_HVAR',\n",
       " 'LRT',\n",
       " 'MutationTaster',\n",
       " 'MutationAssessor',\n",
       " 'FATHMM',\n",
       " 'phyloP100way_vertebrate',\n",
       " 'phyloP30way_mammalian',\n",
       " 'SiPhy_29way_logOdds',\n",
       " 'CADD',\n",
       " 'gerp++gt2',\n",
       " 'REVEL',\n",
       " 'FORMAT',\n",
       " 'C2_S1',\n",
       " 'Ori_REF',\n",
       " 'Ori_ALT',\n",
       " 'shared_hom',\n",
       " 'shared_het',\n",
       " 'OMIM',\n",
       " 'GWAS_Pubmed_pValue',\n",
       " 'HGMD_Disease_ID',\n",
       " 'HGMD_Mutation_URL',\n",
       " 'PubMedID',\n",
       " 'GO_BP',\n",
       " 'GO_CC',\n",
       " 'GO_MF',\n",
       " 'KEGG_PATHWAY',\n",
       " 'PID_PATHWAY',\n",
       " 'BIOCARTA_PATHWAY',\n",
       " 'REACTOME_PATHWAY',\n",
       " 'Expression_summary',\n",
       " 'RNA tissue specificity',\n",
       " 'RNA tissue distribution',\n",
       " 'Subcellular_Location',\n",
       " 'RNA tissue specific nTPM']"
      ]
     },
     "execution_count": 12,
     "metadata": {},
     "output_type": "execute_result"
    }
   ],
   "source": [
    "[i for i in df.columns]"
   ]
  },
  {
   "cell_type": "code",
   "execution_count": 22,
   "id": "4d6b40d1-04ba-4e90-ac6e-44a166868712",
   "metadata": {},
   "outputs": [],
   "source": [
    "df[df['Func']=='exonic'].to_csv(join(output_path, f_prefix+'candidate.csv'))"
   ]
  }
 ],
 "metadata": {
  "kernelspec": {
   "display_name": "synSg",
   "language": "python",
   "name": "synsg"
  },
  "language_info": {
   "codemirror_mode": {
    "name": "ipython",
    "version": 3
   },
   "file_extension": ".py",
   "mimetype": "text/x-python",
   "name": "python",
   "nbconvert_exporter": "python",
   "pygments_lexer": "ipython3",
   "version": "3.7.16"
  }
 },
 "nbformat": 4,
 "nbformat_minor": 5
}
