{
 "cells": [
  {
   "cell_type": "code",
   "execution_count": 1,
   "id": "8c1f1a0f-73b3-4771-ae62-aa679353c9cd",
   "metadata": {},
   "outputs": [],
   "source": [
    "### Given the sgRNA name, this notebook mapps the sgRNA and find the before and after sequence \n",
    "import sys\n",
    "sys.path.append('/storage/group/epo2/default/yur97/github/synSg/src')\n",
    "### This notebook simply test if the be-hive model works on a single sequence\n",
    "sys.path.append('/storage/group/epo2/default/yur97/github/')\n",
    "from behive_mapping import *"
   ]
  },
  {
   "cell_type": "code",
   "execution_count": 3,
   "id": "209c83c2-a72c-4eac-b4af-b0f5074d8bda",
   "metadata": {},
   "outputs": [
    {
     "data": {
      "text/html": [
       "<div>\n",
       "<style scoped>\n",
       "    .dataframe tbody tr th:only-of-type {\n",
       "        vertical-align: middle;\n",
       "    }\n",
       "\n",
       "    .dataframe tbody tr th {\n",
       "        vertical-align: top;\n",
       "    }\n",
       "\n",
       "    .dataframe thead th {\n",
       "        text-align: right;\n",
       "    }\n",
       "</style>\n",
       "<table border=\"1\" class=\"dataframe\">\n",
       "  <thead>\n",
       "    <tr style=\"text-align: right;\">\n",
       "      <th></th>\n",
       "      <th>sg_PAM</th>\n",
       "      <th>Genomic location</th>\n",
       "      <th>sg_strand</th>\n",
       "      <th>gene</th>\n",
       "      <th>gene_strand</th>\n",
       "      <th>converted_sgPMA</th>\n",
       "      <th>before</th>\n",
       "      <th>PAM_sg_sequence</th>\n",
       "      <th>after</th>\n",
       "      <th>sequence_strand</th>\n",
       "      <th>predicted logit score</th>\n",
       "      <th>predicted read fraction</th>\n",
       "      <th>50bp_input</th>\n",
       "    </tr>\n",
       "  </thead>\n",
       "  <tbody>\n",
       "    <tr>\n",
       "      <th>73</th>\n",
       "      <td>CGAGGCTGTTTCTATCCCCATGC</td>\n",
       "      <td>chr11:57661083</td>\n",
       "      <td>+</td>\n",
       "      <td>CLP1</td>\n",
       "      <td>+</td>\n",
       "      <td>GCATGGGGATAGAAACAGCCTCG</td>\n",
       "      <td>TCCAAGGACTTCCGGCGGGAATGTAGGGATGAGCGTATCCGTGAGT...</td>\n",
       "      <td>GCATGGGGATAGAAACAGCCTCG</td>\n",
       "      <td>CTTCAATGTCAAATTTTCAGATGTGAAAATCTACAAAGTTGGGGCA...</td>\n",
       "      <td>+</td>\n",
       "      <td>-1.783239</td>\n",
       "      <td>0.085110</td>\n",
       "      <td>GTGAGTATTTTTATGGATTCCGAGGCTGTTTCTATCCCCATGCCTT...</td>\n",
       "    </tr>\n",
       "    <tr>\n",
       "      <th>95</th>\n",
       "      <td>AGGTCCCCGAGTGATGGTAGTGG</td>\n",
       "      <td>chr11:57659815</td>\n",
       "      <td>+</td>\n",
       "      <td>CLP1</td>\n",
       "      <td>+</td>\n",
       "      <td>CCACTACCATCACTCGGGGACCT</td>\n",
       "      <td>CCTCAACACTCACACAGCCTTGGAACAGATGCGGAGGCAAGCGGAA...</td>\n",
       "      <td>CCACTACCATCACTCGGGGACCT</td>\n",
       "      <td>GCCCCACTGATGTGGGCAAGTCTACAGTGTGTCGCCTTCTGCTCAA...</td>\n",
       "      <td>+</td>\n",
       "      <td>-0.628958</td>\n",
       "      <td>0.344470</td>\n",
       "      <td>GCGGAAAAGGAAGAAGAGCGAGGTCCCCGAGTGATGGTAGTGGGCC...</td>\n",
       "    </tr>\n",
       "    <tr>\n",
       "      <th>231</th>\n",
       "      <td>GGAGTGTCCTTGGAGACATAAGC</td>\n",
       "      <td>chr11:57659720</td>\n",
       "      <td>-</td>\n",
       "      <td>CLP1</td>\n",
       "      <td>+</td>\n",
       "      <td>GCTTATGTCTCCAAGGACACTCC</td>\n",
       "      <td>TTTTCCGCTTGCCTCCGCATCTGTTCCAAGGCTGTGTGAGTGTTGA...</td>\n",
       "      <td>GCTTATGTCTCCAAGGACACTCC</td>\n",
       "      <td>CACCTCAGTGCGGCCGCTCAGTTGCACAGAACAGCCATGCCAAGTG...</td>\n",
       "      <td>-</td>\n",
       "      <td>-1.343837</td>\n",
       "      <td>0.152419</td>\n",
       "      <td>TGTTGAGGTAAAGCAACATAGGAGTGTCCTTGGAGACATAAGCCAC...</td>\n",
       "    </tr>\n",
       "    <tr>\n",
       "      <th>338</th>\n",
       "      <td>TTCTCCTCTGTACCCTCGGCAGT</td>\n",
       "      <td>chr11:57661266</td>\n",
       "      <td>-</td>\n",
       "      <td>CLP1</td>\n",
       "      <td>+</td>\n",
       "      <td>ACTGCCGAGGGTACAGAGGAGAA</td>\n",
       "      <td>TGATGCTCCAGGTCCACACTGGTCACCACAATGAAGCCAGCTACAC...</td>\n",
       "      <td>ACTGCCGAGGGTACAGAGGAGAA</td>\n",
       "      <td>GCTAACACTCAGTAGGTGGTGCACCATATCTCGCCCAGGAGTGACA...</td>\n",
       "      <td>-</td>\n",
       "      <td>-1.151061</td>\n",
       "      <td>0.193630</td>\n",
       "      <td>CTACACTTGTCTCGGACAGGTTCTCCTCTGTACCCTCGGCAGTGCT...</td>\n",
       "    </tr>\n",
       "    <tr>\n",
       "      <th>339</th>\n",
       "      <td>CTCCTCTGTACCCTCGGCAGTGC</td>\n",
       "      <td>chr11:57661264</td>\n",
       "      <td>-</td>\n",
       "      <td>CLP1</td>\n",
       "      <td>+</td>\n",
       "      <td>GCACTGCCGAGGGTACAGAGGAG</td>\n",
       "      <td>ATGCTCCAGGTCCACACTGGTCACCACAATGAAGCCAGCTACACTT...</td>\n",
       "      <td>GCACTGCCGAGGGTACAGAGGAG</td>\n",
       "      <td>TAACACTCAGTAGGTGGTGCACCATATCTCGCCCAGGAGTGACAGG...</td>\n",
       "      <td>-</td>\n",
       "      <td>-1.073101</td>\n",
       "      <td>0.212545</td>\n",
       "      <td>ACACTTGTCTCGGACAGGTTCTCCTCTGTACCCTCGGCAGTGCTAA...</td>\n",
       "    </tr>\n",
       "    <tr>\n",
       "      <th>...</th>\n",
       "      <td>...</td>\n",
       "      <td>...</td>\n",
       "      <td>...</td>\n",
       "      <td>...</td>\n",
       "      <td>...</td>\n",
       "      <td>...</td>\n",
       "      <td>...</td>\n",
       "      <td>...</td>\n",
       "      <td>...</td>\n",
       "      <td>...</td>\n",
       "      <td>...</td>\n",
       "      <td>...</td>\n",
       "      <td>...</td>\n",
       "    </tr>\n",
       "    <tr>\n",
       "      <th>41</th>\n",
       "      <td>GTCTGGATGACCGAATCATTCGC</td>\n",
       "      <td>chr3:196937573</td>\n",
       "      <td>-</td>\n",
       "      <td>NCBP2</td>\n",
       "      <td>-</td>\n",
       "      <td>GCGAATGATTCGGTCATCCAGAC</td>\n",
       "      <td>ACTTAAGATATTACTCACGCGCAGATGCGGAAAACGCCATGCGGTA...</td>\n",
       "      <td>GCGAATGATTCGGTCATCCAGAC</td>\n",
       "      <td>ACAGACTGGGACGCAGGCTTTAAGGAGGGCAGGCAATACGGCCGTG...</td>\n",
       "      <td>-</td>\n",
       "      <td>0.562713</td>\n",
       "      <td>0.758426</td>\n",
       "      <td>GCGGTACATAAATGGGACGCGTCTGGATGACCGAATCATTCGCACA...</td>\n",
       "    </tr>\n",
       "    <tr>\n",
       "      <th>389</th>\n",
       "      <td>CGCGGAGTGCGGGCCTGGCGGGG</td>\n",
       "      <td>chr16:88803924</td>\n",
       "      <td>-</td>\n",
       "      <td>CDT1</td>\n",
       "      <td>+</td>\n",
       "      <td>CCCCGCCAGGCCCGCACTCCGCG</td>\n",
       "      <td>GTCCGGGGGCGGCGGGCGGGCGGGCGCGCTTGCGGCTGCCACTGGT...</td>\n",
       "      <td>CCCCGCCAGGCCCGCACTCCGCG</td>\n",
       "      <td>CTGGGGGTGCGGCAGGCCAGCTTGGGCGGCGCGATGCGGGGGGGCC...</td>\n",
       "      <td>-</td>\n",
       "      <td>0.277928</td>\n",
       "      <td>0.671922</td>\n",
       "      <td>ACTGGTAGCGGAGGCCGGGGCGCGGAGTGCGGGCCTGGCGGGGCTG...</td>\n",
       "    </tr>\n",
       "    <tr>\n",
       "      <th>122</th>\n",
       "      <td>CGGCCTCCGCTACCAGTGGCAGC</td>\n",
       "      <td>chr16:88803950</td>\n",
       "      <td>+</td>\n",
       "      <td>CDT1</td>\n",
       "      <td>+</td>\n",
       "      <td>GCTGCCACTGGTAGCGGAGGCCG</td>\n",
       "      <td>TCGCGCCGCCCAAGCTGGCCTGCCGCACCCCCAGCCCCGCCAGGCC...</td>\n",
       "      <td>GCTGCCACTGGTAGCGGAGGCCG</td>\n",
       "      <td>CGCAAGCGCGCCCGCCCGCCCGCCGCCCCCGGACGCGACCAGGCCA...</td>\n",
       "      <td>+</td>\n",
       "      <td>-1.117666</td>\n",
       "      <td>0.201572</td>\n",
       "      <td>CAGGCCCGCACTCCGCGCCCCGGCCTCCGCTACCAGTGGCAGCCGC...</td>\n",
       "    </tr>\n",
       "    <tr>\n",
       "      <th>417</th>\n",
       "      <td>CTGGGATGTCTGGGGCCTCGGGG</td>\n",
       "      <td>chr16:88804562</td>\n",
       "      <td>-</td>\n",
       "      <td>CDT1</td>\n",
       "      <td>+</td>\n",
       "      <td>CCCCGAGGCCCCAGACATCCCAG</td>\n",
       "      <td>GGGGCGGCTGACCTGCTGCCGGGGTGGATTTCTTTATCTTCTGGCC...</td>\n",
       "      <td>CCCCGAGGCCCCAGACATCCCAG</td>\n",
       "      <td>GTACTGGGGCTGGAAACCTGGTGGGAGGGACCCCAAGGGTGAACTC...</td>\n",
       "      <td>-</td>\n",
       "      <td>-0.390046</td>\n",
       "      <td>0.429212</td>\n",
       "      <td>CTGGCCCGGAGAAGGGCAGGCTGGGATGTCTGGGGCCTCGGGGGTA...</td>\n",
       "    </tr>\n",
       "    <tr>\n",
       "      <th>589</th>\n",
       "      <td>GGGTGGATTTCTTTATCTTCTGG</td>\n",
       "      <td>chr16:88804601</td>\n",
       "      <td>-</td>\n",
       "      <td>CDT1</td>\n",
       "      <td>+</td>\n",
       "      <td>CCAGAAGATAAAGAAATCCACCC</td>\n",
       "      <td>AGGCCCCGCCCCTCACCTGGTCCTGCGCGGATGTCAGGTGGGGCGG...</td>\n",
       "      <td>CCAGAAGATAAAGAAATCCACCC</td>\n",
       "      <td>CCCGGAGAAGGGCAGGCTGGGATGTCTGGGGCCTCGGGGGTACTGG...</td>\n",
       "      <td>-</td>\n",
       "      <td>-0.133180</td>\n",
       "      <td>0.525037</td>\n",
       "      <td>GGGCGGCTGACCTGCTGCCGGGGTGGATTTCTTTATCTTCTGGCCC...</td>\n",
       "    </tr>\n",
       "  </tbody>\n",
       "</table>\n",
       "<p>2366 rows × 13 columns</p>\n",
       "</div>"
      ],
      "text/plain": [
       "                      sg_PAM Genomic location sg_strand   gene gene_strand  \\\n",
       "73   CGAGGCTGTTTCTATCCCCATGC   chr11:57661083         +   CLP1           +   \n",
       "95   AGGTCCCCGAGTGATGGTAGTGG   chr11:57659815         +   CLP1           +   \n",
       "231  GGAGTGTCCTTGGAGACATAAGC   chr11:57659720         -   CLP1           +   \n",
       "338  TTCTCCTCTGTACCCTCGGCAGT   chr11:57661266         -   CLP1           +   \n",
       "339  CTCCTCTGTACCCTCGGCAGTGC   chr11:57661264         -   CLP1           +   \n",
       "..                       ...              ...       ...    ...         ...   \n",
       "41   GTCTGGATGACCGAATCATTCGC   chr3:196937573         -  NCBP2           -   \n",
       "389  CGCGGAGTGCGGGCCTGGCGGGG   chr16:88803924         -   CDT1           +   \n",
       "122  CGGCCTCCGCTACCAGTGGCAGC   chr16:88803950         +   CDT1           +   \n",
       "417  CTGGGATGTCTGGGGCCTCGGGG   chr16:88804562         -   CDT1           +   \n",
       "589  GGGTGGATTTCTTTATCTTCTGG   chr16:88804601         -   CDT1           +   \n",
       "\n",
       "             converted_sgPMA  \\\n",
       "73   GCATGGGGATAGAAACAGCCTCG   \n",
       "95   CCACTACCATCACTCGGGGACCT   \n",
       "231  GCTTATGTCTCCAAGGACACTCC   \n",
       "338  ACTGCCGAGGGTACAGAGGAGAA   \n",
       "339  GCACTGCCGAGGGTACAGAGGAG   \n",
       "..                       ...   \n",
       "41   GCGAATGATTCGGTCATCCAGAC   \n",
       "389  CCCCGCCAGGCCCGCACTCCGCG   \n",
       "122  GCTGCCACTGGTAGCGGAGGCCG   \n",
       "417  CCCCGAGGCCCCAGACATCCCAG   \n",
       "589  CCAGAAGATAAAGAAATCCACCC   \n",
       "\n",
       "                                                before  \\\n",
       "73   TCCAAGGACTTCCGGCGGGAATGTAGGGATGAGCGTATCCGTGAGT...   \n",
       "95   CCTCAACACTCACACAGCCTTGGAACAGATGCGGAGGCAAGCGGAA...   \n",
       "231  TTTTCCGCTTGCCTCCGCATCTGTTCCAAGGCTGTGTGAGTGTTGA...   \n",
       "338  TGATGCTCCAGGTCCACACTGGTCACCACAATGAAGCCAGCTACAC...   \n",
       "339  ATGCTCCAGGTCCACACTGGTCACCACAATGAAGCCAGCTACACTT...   \n",
       "..                                                 ...   \n",
       "41   ACTTAAGATATTACTCACGCGCAGATGCGGAAAACGCCATGCGGTA...   \n",
       "389  GTCCGGGGGCGGCGGGCGGGCGGGCGCGCTTGCGGCTGCCACTGGT...   \n",
       "122  TCGCGCCGCCCAAGCTGGCCTGCCGCACCCCCAGCCCCGCCAGGCC...   \n",
       "417  GGGGCGGCTGACCTGCTGCCGGGGTGGATTTCTTTATCTTCTGGCC...   \n",
       "589  AGGCCCCGCCCCTCACCTGGTCCTGCGCGGATGTCAGGTGGGGCGG...   \n",
       "\n",
       "             PAM_sg_sequence  \\\n",
       "73   GCATGGGGATAGAAACAGCCTCG   \n",
       "95   CCACTACCATCACTCGGGGACCT   \n",
       "231  GCTTATGTCTCCAAGGACACTCC   \n",
       "338  ACTGCCGAGGGTACAGAGGAGAA   \n",
       "339  GCACTGCCGAGGGTACAGAGGAG   \n",
       "..                       ...   \n",
       "41   GCGAATGATTCGGTCATCCAGAC   \n",
       "389  CCCCGCCAGGCCCGCACTCCGCG   \n",
       "122  GCTGCCACTGGTAGCGGAGGCCG   \n",
       "417  CCCCGAGGCCCCAGACATCCCAG   \n",
       "589  CCAGAAGATAAAGAAATCCACCC   \n",
       "\n",
       "                                                 after sequence_strand  \\\n",
       "73   CTTCAATGTCAAATTTTCAGATGTGAAAATCTACAAAGTTGGGGCA...               +   \n",
       "95   GCCCCACTGATGTGGGCAAGTCTACAGTGTGTCGCCTTCTGCTCAA...               +   \n",
       "231  CACCTCAGTGCGGCCGCTCAGTTGCACAGAACAGCCATGCCAAGTG...               -   \n",
       "338  GCTAACACTCAGTAGGTGGTGCACCATATCTCGCCCAGGAGTGACA...               -   \n",
       "339  TAACACTCAGTAGGTGGTGCACCATATCTCGCCCAGGAGTGACAGG...               -   \n",
       "..                                                 ...             ...   \n",
       "41   ACAGACTGGGACGCAGGCTTTAAGGAGGGCAGGCAATACGGCCGTG...               -   \n",
       "389  CTGGGGGTGCGGCAGGCCAGCTTGGGCGGCGCGATGCGGGGGGGCC...               -   \n",
       "122  CGCAAGCGCGCCCGCCCGCCCGCCGCCCCCGGACGCGACCAGGCCA...               +   \n",
       "417  GTACTGGGGCTGGAAACCTGGTGGGAGGGACCCCAAGGGTGAACTC...               -   \n",
       "589  CCCGGAGAAGGGCAGGCTGGGATGTCTGGGGCCTCGGGGGTACTGG...               -   \n",
       "\n",
       "     predicted logit score  predicted read fraction  \\\n",
       "73               -1.783239                 0.085110   \n",
       "95               -0.628958                 0.344470   \n",
       "231              -1.343837                 0.152419   \n",
       "338              -1.151061                 0.193630   \n",
       "339              -1.073101                 0.212545   \n",
       "..                     ...                      ...   \n",
       "41                0.562713                 0.758426   \n",
       "389               0.277928                 0.671922   \n",
       "122              -1.117666                 0.201572   \n",
       "417              -0.390046                 0.429212   \n",
       "589              -0.133180                 0.525037   \n",
       "\n",
       "                                            50bp_input  \n",
       "73   GTGAGTATTTTTATGGATTCCGAGGCTGTTTCTATCCCCATGCCTT...  \n",
       "95   GCGGAAAAGGAAGAAGAGCGAGGTCCCCGAGTGATGGTAGTGGGCC...  \n",
       "231  TGTTGAGGTAAAGCAACATAGGAGTGTCCTTGGAGACATAAGCCAC...  \n",
       "338  CTACACTTGTCTCGGACAGGTTCTCCTCTGTACCCTCGGCAGTGCT...  \n",
       "339  ACACTTGTCTCGGACAGGTTCTCCTCTGTACCCTCGGCAGTGCTAA...  \n",
       "..                                                 ...  \n",
       "41   GCGGTACATAAATGGGACGCGTCTGGATGACCGAATCATTCGCACA...  \n",
       "389  ACTGGTAGCGGAGGCCGGGGCGCGGAGTGCGGGCCTGGCGGGGCTG...  \n",
       "122  CAGGCCCGCACTCCGCGCCCCGGCCTCCGCTACCAGTGGCAGCCGC...  \n",
       "417  CTGGCCCGGAGAAGGGCAGGCTGGGATGTCTGGGGCCTCGGGGGTA...  \n",
       "589  GGGCGGCTGACCTGCTGCCGGGGTGGATTTCTTTATCTTCTGGCCC...  \n",
       "\n",
       "[2366 rows x 13 columns]"
      ]
     },
     "execution_count": 3,
     "metadata": {},
     "output_type": "execute_result"
    }
   ],
   "source": [
    "l_sg_df"
   ]
  },
  {
   "cell_type": "code",
   "execution_count": 2,
   "id": "4cc3d9d5-0a6b-474d-babe-bb44b061eec8",
   "metadata": {
    "tags": []
   },
   "outputs": [
    {
     "name": "stdout",
     "output_type": "stream",
     "text": [
      "Initializing models for ABE...\n"
     ]
    },
    {
     "name": "stderr",
     "output_type": "stream",
     "text": [
      "/storage/group/epo2/default/yur97/conda_envs/behive/lib/python3.7/site-packages/sklearn/ensemble/gradient_boosting.py:34: DeprecationWarning: `np.bool` is a deprecated alias for the builtin `bool`. To silence this warning, use `bool` by itself. Doing this will not modify any behavior and is safe. If you specifically wanted the numpy scalar type, use `np.bool_` here.\n",
      "Deprecated in NumPy 1.20; for more details and guidance: https://numpy.org/devdocs/release/1.20.0-notes.html#deprecations\n",
      "  from ._gradient_boosting import predict_stages\n",
      "/storage/group/epo2/default/yur97/conda_envs/behive/lib/python3.7/site-packages/sklearn/ensemble/gradient_boosting.py:34: DeprecationWarning: `np.bool` is a deprecated alias for the builtin `bool`. To silence this warning, use `bool` by itself. Doing this will not modify any behavior and is safe. If you specifically wanted the numpy scalar type, use `np.bool_` here.\n",
      "Deprecated in NumPy 1.20; for more details and guidance: https://numpy.org/devdocs/release/1.20.0-notes.html#deprecations\n",
      "  from ._gradient_boosting import predict_stages\n",
      "  0%|          | 0/2366 [00:00<?, ?it/s]"
     ]
    },
    {
     "name": "stdout",
     "output_type": "stream",
     "text": [
      "Device: cpu\n",
      "Model successfully initialized. Settings:\n",
      "\tcelltype: mES\n",
      "\tbase_editor: ABE\n",
      "Model successfully initialized. Settings:\n",
      "\tcelltype: mES\n",
      "\tbase_editor: ABE\n",
      "Processing sequences and predicting efficiency...\n"
     ]
    },
    {
     "name": "stderr",
     "output_type": "stream",
     "text": [
      "100%|██████████| 2366/2366 [14:36<00:00,  2.70it/s]\n"
     ]
    },
    {
     "name": "stdout",
     "output_type": "stream",
     "text": [
      "Saved context score dataframe to processed/ABE_['SYN', 'MIS']_context_score.csv\n"
     ]
    }
   ],
   "source": [
    "# Set up constants\n",
    "BE = 'ABE'  # Base Editor type, e.g., ABE or CBE\n",
    "mutation_category = ['SYN','MIS']  # Options: 'SYN' or 'MIS'\n",
    "df_reads_path = f'/storage/group/epo2/default/yur97/github/synSg/data/sequencing/Library/read_count/K562_DN1_{BE}_df.csv'\n",
    "finder_path = '/storage/group/epo2/default/yur97/github/synSg/data/sg_Finder'\n",
    "output_dir = 'processed'\n",
    "\n",
    "# Step 1: Initialize models\n",
    "try:\n",
    "    print(f\"Initializing models for {BE}...\")\n",
    "    init_models(BE)\n",
    "except Exception as e:\n",
    "    print(f\"Error initializing models: {e}\")\n",
    "    raise\n",
    "\n",
    "# Step 2: Process sequences and predict efficiency\n",
    "try:\n",
    "    print(\"Processing sequences and predicting efficiency...\")\n",
    "    l_sg_df = merge_predictions(df_ABE, mutation_category, BE)\n",
    "    \n",
    "    # Save results to file\n",
    "    output_file = f'{output_dir}/{BE}_{mutation_category}_context_score.csv'\n",
    "    l_sg_df.to_csv(output_file)\n",
    "    print(f\"Saved context score dataframe to {output_file}\")\n",
    "except Exception as e:\n",
    "    print(f\"Error in sequence processing or prediction: {e}\")\n",
    "    raise\n"
   ]
  },
  {
   "cell_type": "code",
   "execution_count": 3,
   "id": "18b1a7eb-55b9-4b50-8eaa-30a019edaa5d",
   "metadata": {},
   "outputs": [
    {
     "name": "stderr",
     "output_type": "stream",
     "text": [
      "  0%|          | 0/232 [00:00<?, ?it/s]"
     ]
    },
    {
     "name": "stdout",
     "output_type": "stream",
     "text": [
      "Predicting the read fraction and combining with sequencing data...\n"
     ]
    },
    {
     "name": "stderr",
     "output_type": "stream",
     "text": [
      "100%|██████████| 232/232 [00:04<00:00, 47.51it/s]\n"
     ]
    },
    {
     "name": "stdout",
     "output_type": "stream",
     "text": [
      "Filtering rows within mean ± 2 standard deviations...\n",
      "Estimating the total number of mutations...\n",
      "Estimated total number of mutations: 314\n",
      "Estimated total number of mutations: 314\n"
     ]
    }
   ],
   "source": [
    "# Set up constants\n",
    "BE = 'CBE'  # Base Editor type, e.g., ABE or CBE\n",
    "mutation_category = 'MIS'  # Options: 'SYN' or 'MIS'\n",
    "df_reads_path = f'/storage/group/epo2/default/yur97/github/synSg/data/sequencing/Library/read_count/K562_DN1_{BE}_df.csv'\n",
    "finder_path = '/storage/group/epo2/default/yur97/github/synSg/data/sg_Finder'\n",
    "output_dir = 'processed'\n",
    "\n",
    "output_file = f'{output_dir}/{BE}_{mutation_category}_context_score.csv'\n",
    "\n",
    "# Step 3: Predict the read fraction\n",
    "print(\"Predicting the read fraction and combining with sequencing data...\")\n",
    "l_sg_df = pd.read_csv(output_file, index_col=0)\n",
    "# Combine predicted fractions with actual read data\n",
    "df_reads_frac = get_df_fraction(l_sg_df, df_ABE, mutation_category, df_reads_path, ['count_KA1_DN1','count_KA2_DN1'])\n",
    "# Get mutation counts from the finder files\n",
    "df_mutation_count = get_mutation_count(df_ABE, mutation_category, finder_path, BE)\n",
    "# Merge the read fractions and mutation counts\n",
    "df_final = merge_dataframes(df_reads_frac, df_mutation_count)\n",
    "\n",
    "# Step 4: Filter results based on K562 read fractions\n",
    "print(\"Filtering rows within mean ± 2 standard deviations...\")\n",
    "filter_idx1 = filter_within_std(df_final, 'frac_1')\n",
    "filter_idx2 = filter_within_std(df_final, 'frac_2')\n",
    "filter_idx = filter_idx1.intersection(filter_idx2)\n",
    "df_final = df_final.loc[filter_idx]\n",
    "df_final.to_csv(f'{output_dir}/{BE}_{mutation_category}_final.csv')\n",
    "\n",
    "# Step 5: Estimate total number of mutations\n",
    "print(\"Estimating the total number of mutations...\")\n",
    "mutation_n = estimate_mutation_number(df_final)\n",
    "print(f\"Estimated total number of mutations: {mutation_n}\")\n",
    "\n",
    "# Step 5: Estimate total number of mutations\n",
    "mutation_n = estimate_mutation_number(df_final)\n",
    "print(f\"Estimated total number of mutations: {mutation_n}\")"
   ]
  },
  {
   "cell_type": "code",
   "execution_count": 7,
   "id": "717c230b-40a5-43e5-bfbf-cfacac6f923e",
   "metadata": {
    "tags": []
   },
   "outputs": [
    {
     "name": "stderr",
     "output_type": "stream",
     "text": [
      "  0%|          | 1/2134 [00:00<03:37,  9.81it/s]"
     ]
    },
    {
     "name": "stdout",
     "output_type": "stream",
     "text": [
      "Initializing models for ABE...\n",
      "Model successfully initialized. Settings:\n",
      "\tcelltype: mES\n",
      "\tbase_editor: ABE\n",
      "Model successfully initialized. Settings:\n",
      "\tcelltype: mES\n",
      "\tbase_editor: ABE\n",
      "Processing sequences and predicting efficiency...\n"
     ]
    },
    {
     "name": "stderr",
     "output_type": "stream",
     "text": [
      "100%|██████████| 2134/2134 [12:09<00:00,  2.93it/s]\n",
      "  0%|          | 0/2134 [00:00<?, ?it/s]"
     ]
    },
    {
     "name": "stdout",
     "output_type": "stream",
     "text": [
      "Saved context score dataframe to processed/ABE_SYN_context_score.csv\n",
      "Predicting the read fraction and combining with sequencing data...\n"
     ]
    },
    {
     "name": "stderr",
     "output_type": "stream",
     "text": [
      "100%|██████████| 2134/2134 [00:16<00:00, 133.35it/s]\n"
     ]
    },
    {
     "name": "stdout",
     "output_type": "stream",
     "text": [
      "Filtering rows within mean ± 2 standard deviations...\n",
      "Estimating the total number of mutations...\n",
      "Estimated total number of mutations: 2964\n"
     ]
    }
   ],
   "source": [
    "# Set up constants\n",
    "BE = 'ABE'  # Base Editor type, e.g., ABE or CBE\n",
    "mutation_category = 'SYN'  # Options: 'SYN' or 'MIS'\n",
    "df_reads_path = f'/storage/group/epo2/default/yur97/github/synSg/data/sequencing/Library/read_count/K562_DN1_{BE}_df.csv'\n",
    "finder_path = '/storage/group/epo2/default/yur97/github/synSg/data/sg_Finder'\n",
    "output_dir = 'processed'\n",
    "\n",
    "# Step 1: Initialize models\n",
    "try:\n",
    "    print(f\"Initializing models for {BE}...\")\n",
    "    init_models(BE)\n",
    "except Exception as e:\n",
    "    print(f\"Error initializing models: {e}\")\n",
    "    raise\n",
    "\n",
    "# Step 2: Process sequences and predict efficiency\n",
    "try:\n",
    "    print(\"Processing sequences and predicting efficiency...\")\n",
    "    l_sg_df = merge_predictions(df_ABE, mutation_category, BE)\n",
    "    \n",
    "    # Save results to file\n",
    "    output_file = f'{output_dir}/{BE}_{mutation_category}_context_score.csv'\n",
    "    l_sg_df.to_csv(output_file)\n",
    "    print(f\"Saved context score dataframe to {output_file}\")\n",
    "except Exception as e:\n",
    "    print(f\"Error in sequence processing or prediction: {e}\")\n",
    "    raise"
   ]
  },
  {
   "cell_type": "code",
   "execution_count": 8,
   "id": "c49b3da9-1084-48c6-97eb-54ab0ef19bcd",
   "metadata": {},
   "outputs": [
    {
     "name": "stderr",
     "output_type": "stream",
     "text": [
      "  0%|          | 0/2134 [00:00<?, ?it/s]"
     ]
    },
    {
     "name": "stdout",
     "output_type": "stream",
     "text": [
      "Predicting the read fraction and combining with sequencing data...\n"
     ]
    },
    {
     "name": "stderr",
     "output_type": "stream",
     "text": [
      "100%|██████████| 2134/2134 [00:15<00:00, 134.18it/s]\n"
     ]
    },
    {
     "name": "stdout",
     "output_type": "stream",
     "text": [
      "Filtering rows within mean ± 2 standard deviations...\n",
      "Estimating the total number of mutations...\n",
      "Estimated total number of mutations: 2964\n",
      "Estimated total number of mutations: 2964\n"
     ]
    }
   ],
   "source": [
    "# Set up constants\n",
    "BE = 'ABE'  # Base Editor type, e.g., ABE or CBE\n",
    "mutation_category = 'SYN'  # Options: 'SYN' or 'MIS'\n",
    "df_reads_path = f'/storage/group/epo2/default/yur97/github/synSg/data/sequencing/Library/read_count/K562_DN1_{BE}_df.csv'\n",
    "finder_path = '/storage/group/epo2/default/yur97/github/synSg/data/sg_Finder'\n",
    "output_dir = 'processed'\n",
    "\n",
    "output_file = f'{output_dir}/{BE}_{mutation_category}_context_score.csv'\n",
    "\n",
    "# Step 3: Predict the read fraction\n",
    "print(\"Predicting the read fraction and combining with sequencing data...\")\n",
    "l_sg_df = pd.read_csv(output_file, index_col=0)\n",
    "# Combine predicted fractions with actual read data\n",
    "df_reads_frac = get_df_fraction(l_sg_df, df_ABE, mutation_category, df_reads_path, ['count_KA1_DN1','count_KA2_DN1'])\n",
    "# Get mutation counts from the finder files\n",
    "df_mutation_count = get_mutation_count(df_ABE, mutation_category, finder_path, BE)\n",
    "# Merge the read fractions and mutation counts\n",
    "df_final = merge_dataframes(df_reads_frac, df_mutation_count)\n",
    "\n",
    "# Step 4: Filter results based on K562 read fractions\n",
    "print(\"Filtering rows within mean ± 2 standard deviations...\")\n",
    "filter_idx1 = filter_within_std(df_final, 'frac_1')\n",
    "filter_idx2 = filter_within_std(df_final, 'frac_2')\n",
    "filter_idx = filter_idx1.intersection(filter_idx2)\n",
    "df_final = df_final.loc[filter_idx]\n",
    "df_final.to_csv(f'{output_dir}/{BE}_{mutation_category}_final.csv')\n",
    "\n",
    "# Step 5: Estimate total number of mutations\n",
    "print(\"Estimating the total number of mutations...\")\n",
    "mutation_n = estimate_mutation_number(df_final)\n",
    "print(f\"Estimated total number of mutations: {mutation_n}\")\n",
    "\n",
    "# Step 5: Estimate total number of mutations\n",
    "\n",
    "mutation_n = estimate_mutation_number(df_final)\n",
    "print(f\"Estimated total number of mutations: {mutation_n}\")"
   ]
  },
  {
   "cell_type": "code",
   "execution_count": 2,
   "id": "4522bec8-973e-49c9-bb63-181a279ffc33",
   "metadata": {
    "tags": []
   },
   "outputs": [
    {
     "name": "stderr",
     "output_type": "stream",
     "text": [
      "/storage/group/epo2/default/yur97/conda_envs/behive/lib/python3.7/site-packages/sklearn/ensemble/gradient_boosting.py:34: DeprecationWarning: `np.bool` is a deprecated alias for the builtin `bool`. To silence this warning, use `bool` by itself. Doing this will not modify any behavior and is safe. If you specifically wanted the numpy scalar type, use `np.bool_` here.\n",
      "Deprecated in NumPy 1.20; for more details and guidance: https://numpy.org/devdocs/release/1.20.0-notes.html#deprecations\n",
      "  from ._gradient_boosting import predict_stages\n",
      "/storage/group/epo2/default/yur97/conda_envs/behive/lib/python3.7/site-packages/sklearn/ensemble/gradient_boosting.py:34: DeprecationWarning: `np.bool` is a deprecated alias for the builtin `bool`. To silence this warning, use `bool` by itself. Doing this will not modify any behavior and is safe. If you specifically wanted the numpy scalar type, use `np.bool_` here.\n",
      "Deprecated in NumPy 1.20; for more details and guidance: https://numpy.org/devdocs/release/1.20.0-notes.html#deprecations\n",
      "  from ._gradient_boosting import predict_stages\n",
      "  0%|          | 0/3895 [00:00<?, ?it/s]"
     ]
    },
    {
     "name": "stdout",
     "output_type": "stream",
     "text": [
      "Device: cpu\n",
      "Model successfully initialized. Settings:\n",
      "\tcelltype: mES\n",
      "\tbase_editor: BE4\n",
      "Model successfully initialized. Settings:\n",
      "\tcelltype: mES\n",
      "\tbase_editor: BE4\n",
      "Processing sequences and predicting efficiency...\n"
     ]
    },
    {
     "name": "stderr",
     "output_type": "stream",
     "text": [
      "100%|██████████| 3895/3895 [29:49<00:00,  2.18it/s]\n"
     ]
    },
    {
     "name": "stdout",
     "output_type": "stream",
     "text": [
      "Saved context score dataframe to processed/CBE_['SYN', 'MIS']_context_score.csv\n"
     ]
    }
   ],
   "source": [
    "# Set up constants\n",
    "BE = 'CBE'  # Base Editor type, e.g., ABE or CBE\n",
    "mutation_category = ['SYN', 'MIS']  # Options: 'SYN' or 'MIS'\n",
    "df_reads_path = f'/storage/group/epo2/default/yur97/github/synSg/data/sequencing/Library/read_count/K562_DN1_{BE}_df.csv'\n",
    "finder_path = '/storage/group/epo2/default/yur97/github/synSg/data/sg_Finder'\n",
    "output_dir = 'processed'\n",
    "\n",
    "# Step 1: Initialize models\n",
    "init_models('BE4')\n",
    "\n",
    "# Step 2: Process sequences and predict efficiency\n",
    "print(\"Processing sequences and predicting efficiency...\")\n",
    "l_sg_df = merge_predictions(df_CBE, mutation_category, BE)\n",
    "\n",
    "# Save results to file\n",
    "output_file = f'{output_dir}/{BE}_{mutation_category}_context_score.csv'\n",
    "l_sg_df.to_csv(output_file)\n",
    "print(f\"Saved context score dataframe to {output_file}\")"
   ]
  },
  {
   "cell_type": "code",
   "execution_count": 2,
   "id": "645a43a9-2894-4cdd-a42f-24c06b065cf3",
   "metadata": {},
   "outputs": [
    {
     "name": "stderr",
     "output_type": "stream",
     "text": [
      "  0%|          | 0/3528 [00:00<?, ?it/s]"
     ]
    },
    {
     "name": "stdout",
     "output_type": "stream",
     "text": [
      "Predicting the read fraction and combining with sequencing data...\n"
     ]
    },
    {
     "name": "stderr",
     "output_type": "stream",
     "text": [
      "100%|██████████| 3528/3528 [00:34<00:00, 103.51it/s]\n"
     ]
    },
    {
     "name": "stdout",
     "output_type": "stream",
     "text": [
      "Filtering rows within mean ± 2 standard deviations...\n",
      "Estimating the total number of mutations...\n",
      "Estimated total number of mutations: 5594\n",
      "Estimated total number of mutations: 5594\n"
     ]
    }
   ],
   "source": [
    "output_file = f'{output_dir}/{BE}_{mutation_category}_context_score.csv'\n",
    "\n",
    "# Step 3: Predict the read fraction\n",
    "print(\"Predicting the read fraction and combining with sequencing data...\")\n",
    "l_sg_df = pd.read_csv(output_file, index_col=0)\n",
    "# Combine predicted fractions with actual read data\n",
    "df_reads_frac = get_df_fraction(l_sg_df, df_CBE, mutation_category, df_reads_path, ['count_KC1_DN1','count_KC2_DN1'])\n",
    "# Get mutation counts from the finder files\n",
    "df_mutation_count = get_mutation_count(df_CBE, mutation_category, finder_path, BE)\n",
    "# Merge the read fractions and mutation counts\n",
    "df_final = merge_dataframes(df_reads_frac, df_mutation_count)\n",
    "\n",
    "# Step 4: Filter results based on K562 read fractions\n",
    "print(\"Filtering rows within mean ± 2 standard deviations...\")\n",
    "filter_idx1 = filter_within_std(df_final, 'frac_1')\n",
    "filter_idx2 = filter_within_std(df_final, 'frac_2')\n",
    "filter_idx = filter_idx1.intersection(filter_idx2)\n",
    "df_final = df_final.loc[filter_idx]\n",
    "df_final.to_csv(f'{output_dir}/{BE}_{mutation_category}_final.csv')\n",
    "\n",
    "# Step 5: Estimate total number of mutations\n",
    "print(\"Estimating the total number of mutations...\")\n",
    "mutation_n = estimate_mutation_number(df_final)\n",
    "print(f\"Estimated total number of mutations: {mutation_n}\")\n",
    "\n",
    "mutation_n = estimate_mutation_number(df_final)\n",
    "print(f\"Estimated total number of mutations: {mutation_n}\")"
   ]
  },
  {
   "cell_type": "code",
   "execution_count": 3,
   "id": "498751d8-d56d-4892-936e-9d927344c4f3",
   "metadata": {},
   "outputs": [
    {
     "name": "stderr",
     "output_type": "stream",
     "text": [
      "/storage/group/epo2/default/yur97/conda_envs/behive/lib/python3.7/site-packages/sklearn/ensemble/gradient_boosting.py:34: DeprecationWarning: `np.bool` is a deprecated alias for the builtin `bool`. To silence this warning, use `bool` by itself. Doing this will not modify any behavior and is safe. If you specifically wanted the numpy scalar type, use `np.bool_` here.\n",
      "Deprecated in NumPy 1.20; for more details and guidance: https://numpy.org/devdocs/release/1.20.0-notes.html#deprecations\n",
      "  from ._gradient_boosting import predict_stages\n",
      "/storage/group/epo2/default/yur97/conda_envs/behive/lib/python3.7/site-packages/sklearn/ensemble/gradient_boosting.py:34: DeprecationWarning: `np.bool` is a deprecated alias for the builtin `bool`. To silence this warning, use `bool` by itself. Doing this will not modify any behavior and is safe. If you specifically wanted the numpy scalar type, use `np.bool_` here.\n",
      "Deprecated in NumPy 1.20; for more details and guidance: https://numpy.org/devdocs/release/1.20.0-notes.html#deprecations\n",
      "  from ._gradient_boosting import predict_stages\n",
      "  0%|          | 0/367 [00:00<?, ?it/s]"
     ]
    },
    {
     "name": "stdout",
     "output_type": "stream",
     "text": [
      "Device: cpu\n",
      "Model successfully initialized. Settings:\n",
      "\tcelltype: mES\n",
      "\tbase_editor: BE4\n",
      "Model successfully initialized. Settings:\n",
      "\tcelltype: mES\n",
      "\tbase_editor: BE4\n",
      "Processing sequences and predicting efficiency...\n"
     ]
    },
    {
     "name": "stderr",
     "output_type": "stream",
     "text": [
      "100%|██████████| 367/367 [02:22<00:00,  2.57it/s]\n"
     ]
    },
    {
     "name": "stdout",
     "output_type": "stream",
     "text": [
      "Saved context score dataframe to processed/CBE_MIS_context_score.csv\n"
     ]
    }
   ],
   "source": [
    "# Set up constants\n",
    "BE = 'CBE'  # Base Editor type, e.g., ABE or CBE\n",
    "mutation_category = 'MIS'  # Options: 'SYN' or 'MIS'\n",
    "df_reads_path = f'/storage/group/epo2/default/yur97/github/synSg/data/sequencing/Library/read_count/K562_DN1_{BE}_df.csv'\n",
    "finder_path = '/storage/group/epo2/default/yur97/github/synSg/data/sg_Finder'\n",
    "output_dir = 'processed'\n",
    "\n",
    "# Step 1: Initialize models\n",
    "init_models('BE4')\n",
    "\n",
    "# Step 2: Process sequences and predict efficiency\n",
    "print(\"Processing sequences and predicting efficiency...\")\n",
    "l_sg_df = merge_predictions(df_CBE, mutation_category, BE)\n",
    "\n",
    "# Save results to file\n",
    "output_file = f'{output_dir}/{BE}_{mutation_category}_context_score.csv'\n",
    "l_sg_df.to_csv(output_file)\n",
    "print(f\"Saved context score dataframe to {output_file}\")"
   ]
  },
  {
   "cell_type": "code",
   "execution_count": 4,
   "id": "ccb5b75d-bfc5-4e9f-859b-d2c51e728e24",
   "metadata": {},
   "outputs": [
    {
     "name": "stderr",
     "output_type": "stream",
     "text": [
      "  0%|          | 0/367 [00:00<?, ?it/s]"
     ]
    },
    {
     "name": "stdout",
     "output_type": "stream",
     "text": [
      "Predicting the read fraction and combining with sequencing data...\n"
     ]
    },
    {
     "name": "stderr",
     "output_type": "stream",
     "text": [
      "100%|██████████| 367/367 [00:03<00:00, 99.47it/s] \n"
     ]
    },
    {
     "name": "stdout",
     "output_type": "stream",
     "text": [
      "Filtering rows within mean ± 2 standard deviations...\n",
      "Estimating the total number of mutations...\n",
      "Estimated total number of mutations: 564\n",
      "Estimated total number of mutations: 564\n"
     ]
    }
   ],
   "source": [
    "output_file = f'{output_dir}/{BE}_{mutation_category}_context_score.csv'\n",
    "\n",
    "# Step 3: Predict the read fraction\n",
    "print(\"Predicting the read fraction and combining with sequencing data...\")\n",
    "l_sg_df = pd.read_csv(output_file, index_col=0)\n",
    "# Combine predicted fractions with actual read data\n",
    "df_reads_frac = get_df_fraction(l_sg_df, df_CBE, mutation_category, df_reads_path, ['count_KC1_DN1','count_KC2_DN1'])\n",
    "# Get mutation counts from the finder files\n",
    "df_mutation_count = get_mutation_count(df_CBE, mutation_category, finder_path, BE)\n",
    "# Merge the read fractions and mutation counts\n",
    "df_final = merge_dataframes(df_reads_frac, df_mutation_count)\n",
    "\n",
    "# Step 4: Filter results based on K562 read fractions\n",
    "print(\"Filtering rows within mean ± 2 standard deviations...\")\n",
    "filter_idx1 = filter_within_std(df_final, 'frac_1')\n",
    "filter_idx2 = filter_within_std(df_final, 'frac_2')\n",
    "filter_idx = filter_idx1.intersection(filter_idx2)\n",
    "df_final = df_final.loc[filter_idx]\n",
    "df_final.to_csv(f'{output_dir}/{BE}_{mutation_category}_final.csv')\n",
    "\n",
    "# Step 5: Estimate total number of mutations\n",
    "print(\"Estimating the total number of mutations...\")\n",
    "mutation_n = estimate_mutation_number(df_final)\n",
    "print(f\"Estimated total number of mutations: {mutation_n}\")\n",
    "\n",
    "# Step 5: Estimate total number of mutations\n",
    "\n",
    "mutation_n = estimate_mutation_number(df_final)\n",
    "print(f\"Estimated total number of mutations: {mutation_n}\")"
   ]
  }
 ],
 "metadata": {
  "kernelspec": {
   "display_name": "behive",
   "language": "python",
   "name": "behive"
  },
  "language_info": {
   "codemirror_mode": {
    "name": "ipython",
    "version": 3
   },
   "file_extension": ".py",
   "mimetype": "text/x-python",
   "name": "python",
   "nbconvert_exporter": "python",
   "pygments_lexer": "ipython3",
   "version": "3.7.12"
  }
 },
 "nbformat": 4,
 "nbformat_minor": 5
}
