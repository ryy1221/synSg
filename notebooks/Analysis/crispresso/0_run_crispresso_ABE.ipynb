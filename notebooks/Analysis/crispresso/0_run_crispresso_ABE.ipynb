{
 "cells": [
  {
   "cell_type": "code",
   "execution_count": null,
   "id": "b4a5a108-9fff-48b1-8029-06c6e7ff0393",
   "metadata": {},
   "outputs": [],
   "source": [
    "### This notebook is for processing singleSgRNA sequencing data"
   ]
  },
  {
   "cell_type": "code",
   "execution_count": 1,
   "id": "c76a8ede-3430-43cc-9130-330c7debdc70",
   "metadata": {},
   "outputs": [],
   "source": [
    "from os.path import join\n",
    "from os import listdir\n",
    "import subprocess\n",
    "import pandas as pd"
   ]
  },
  {
   "cell_type": "code",
   "execution_count": 4,
   "id": "d5d515fa-7fab-4f8f-8f0f-3f49452dee9c",
   "metadata": {},
   "outputs": [],
   "source": [
    "input_path = '../../data/sequencing/singleSg/'\n",
    "fasta_name = 'ABE/30-1048858157/00_fastq' # fasta file path\n",
    "pbs_name = '../../src/crispresso.pbs' # Job file path"
   ]
  },
  {
   "cell_type": "code",
   "execution_count": 5,
   "id": "991e2e4d-379d-4491-b10f-a062bc856130",
   "metadata": {
    "tags": []
   },
   "outputs": [],
   "source": [
    "# Read the information for the samples\n",
    "info_file = pd.read_csv(join(input_path,'ABE','SampleInfo.csv'), index_col = 0)"
   ]
  },
  {
   "cell_type": "code",
   "execution_count": 7,
   "id": "3d5289bb-51c2-47bd-a098-d61a309e3644",
   "metadata": {},
   "outputs": [],
   "source": [
    "# Set output folder path\n",
    "out_path = join(input_path, 'June24SingleSg','crispresso_out')\n",
    "\n",
    "# Compile information for running crispresso in a loop\n",
    "for i in range(len(info_file))[36::]:\n",
    "    fID = info_file.iloc[i,:].name #fID matches the fastafile name\n",
    "    \n",
    "    [Freads,Rreads] = [join(input_path,fasta_name,f) for f in listdir(join(input_path,fasta_name)) if f.split('_')[0] == str(fID)]\n",
    "    \n",
    "    name, day, rep, sg, amplicon, amplicon_start, exon_rf = info_file.iloc[i,:]\n",
    "    \n",
    "    name_analysis = name+'_D'+str(day)+'_'+str(rep)# set a new name for the output file\n",
    "    # qsub_command = f'qsub -v R1={Freads},R2={Rreads},AMP={amplicon},SG={sg},NAME={name_analysis},OUTPUT={out_path}, -A open {pbs_name}'\n",
    "    # print(qsub_command)\n",
    "    # exit_status = subprocess.call(qsub_command, shell=True)\n",
    "    # if exit_status is 1:  # Check to make sure the job submitted\n",
    "    #     print(f'Job {qsub_command} failed to submit')"
   ]
  }
 ],
 "metadata": {
  "kernelspec": {
   "display_name": "synSg",
   "language": "python",
   "name": "synsg"
  },
  "language_info": {
   "codemirror_mode": {
    "name": "ipython",
    "version": 3
   },
   "file_extension": ".py",
   "mimetype": "text/x-python",
   "name": "python",
   "nbconvert_exporter": "python",
   "pygments_lexer": "ipython3",
   "version": "3.7.16"
  }
 },
 "nbformat": 4,
 "nbformat_minor": 5
}
