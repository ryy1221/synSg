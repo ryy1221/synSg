{
 "cells": [
  {
   "cell_type": "code",
   "execution_count": 1,
   "id": "a854b0ed-ea9c-4cc6-a534-b47e1502b701",
   "metadata": {},
   "outputs": [],
   "source": [
    "### This notebook create a pandas dataframe for mutational consequences\n",
    "import pandas as pd\n",
    "import os\n",
    "from os.path import join"
   ]
  },
  {
   "cell_type": "code",
   "execution_count": 2,
   "id": "8298a154-3754-4b1e-aebd-1065ee6f8816",
   "metadata": {},
   "outputs": [],
   "source": [
    "def get_detail_mutation_df(BE, categ, data_path='../../data', sg_finder_path='../../data/sg_Finder'):\n",
    "    \"\"\"\n",
    "    Extracts and groups mutation details based on a specified base editor (BE) and mutation category.\n",
    "\n",
    "    Parameters:\n",
    "    - BE (str): Base editor name (e.g., 'ABE', 'CBE').\n",
    "    - categ (str): Mutation category to filter (e.g., 'synonymous', 'missense').\n",
    "    - data_path (str): Path to the mutation data CSV files.\n",
    "    - sg_finder_path (str): Path to the sgRNA Finder output.\n",
    "\n",
    "    Returns:\n",
    "    - pd.DataFrame: Grouped mutation details per sgRNA.\n",
    "    \"\"\"\n",
    "    be = BE.lower()\n",
    "    \n",
    "    # Load mutation data\n",
    "    df = pd.read_csv(join(data_path, f'complete_{BE}_df.csv'))\n",
    "    \n",
    "    # Filter based on mutation category\n",
    "    df_filtered = df[df['categ'].isin(categ)]\n",
    "\n",
    "    # Process sgRNAs (remove leading 'g' if present)\n",
    "    df_filtered['sgRNA'] = df_filtered['sgRNA'].apply(lambda x: x[1:] if x.startswith('g') else x)\n",
    "    \n",
    "    # Initialize list to store data\n",
    "    list_consequences = []\n",
    "    # Iterate over genes and sgRNAs\n",
    "    for gene, sgRNA in zip(df_filtered['gene'], df_filtered['sgRNA']):\n",
    "        file_path = join(sg_finder_path, gene, 'ess_15', f'df_{be}_detail.csv')\n",
    "        \n",
    "        if not os.path.exists(file_path):\n",
    "            print(f\"Warning: File not found for gene {gene}, sgRNA {sgRNA}\")\n",
    "            continue  # Skip missing files\n",
    "        \n",
    "        # Load detailed mutation data\n",
    "        mut_detail = pd.read_csv(file_path)\n",
    "        mut_detail_sg = mut_detail[mut_detail['sgRNA'] == sgRNA]\n",
    "        \n",
    "        if not mut_detail_sg.empty:\n",
    "            list_consequences.append(mut_detail_sg)\n",
    "\n",
    "    # Concatenate all mutation data\n",
    "    if not list_consequences:\n",
    "        print(\"No valid mutation details found.\")\n",
    "        return pd.DataFrame()  # Return empty DataFrame if no valid data\n",
    "\n",
    "    df_combined = pd.concat(list_consequences, axis=0)\n",
    "    return(df_combined)"
   ]
  },
  {
   "cell_type": "code",
   "execution_count": 3,
   "id": "bca11666-ded7-4fd3-b2b3-b22b5bde011c",
   "metadata": {},
   "outputs": [],
   "source": [
    "def save_group_detail(df_combined, data_path = '../../data', BE = None, categ = None):\n",
    "    df_grouped = df_combined.groupby('sgRNA').agg({\n",
    "    'gene': 'first',  # Assume gene is unique per sgRNA\n",
    "    'transcript': 'first',\n",
    "    'chrom': 'first',\n",
    "    'edit_genome_pos': list,  # Store all edit positions\n",
    "    'Synonymous': list,\n",
    "    'Codon_Change': list,\n",
    "    'AA_change': list,\n",
    "    'AA_pos': list\n",
    "}).reset_index()\n",
    "    df_grouped.to_csv(join(data_path, f'{BE}_{categ}_detail.csv'))\n",
    "    print(f'File saved to {BE}_{categ}_detail.csv')\n",
    "    \n",
    "def get_sg_detail(df_combined, \n",
    "                  BE = None, categ = None):\n",
    "    df_grouped = df_combined.groupby('sgRNA').agg({\n",
    "    'gene': 'first',  # Assume gene is unique per sgRNA\n",
    "    'transcript': 'first',    \n",
    "    'chrom': 'first',\n",
    "    'edit_genome_pos': list,  # Store all edit positions\n",
    "    'Synonymous': list,\n",
    "    'sg_strand':'first',\n",
    "    'gene_strand':'first'}).reset_index()\n",
    "    return(df_grouped)"
   ]
  },
  {
   "cell_type": "code",
   "execution_count": 9,
   "id": "aa90c3c6-ff8f-4d0a-9d6e-74705f8372f4",
   "metadata": {},
   "outputs": [
    {
     "name": "stderr",
     "output_type": "stream",
     "text": [
      "/storage/group/epo2/default/yur97/conda_envs/synSg/lib/python3.7/site-packages/ipykernel_launcher.py:23: SettingWithCopyWarning: \n",
      "A value is trying to be set on a copy of a slice from a DataFrame.\n",
      "Try using .loc[row_indexer,col_indexer] = value instead\n",
      "\n",
      "See the caveats in the documentation: https://pandas.pydata.org/pandas-docs/stable/user_guide/indexing.html#returning-a-view-versus-a-copy\n",
      "/storage/group/epo2/default/yur97/conda_envs/synSg/lib/python3.7/site-packages/ipykernel_launcher.py:12: SettingWithCopyWarning: \n",
      "A value is trying to be set on a copy of a slice from a DataFrame.\n",
      "Try using .loc[row_indexer,col_indexer] = value instead\n",
      "\n",
      "See the caveats in the documentation: https://pandas.pydata.org/pandas-docs/stable/user_guide/indexing.html#returning-a-view-versus-a-copy\n",
      "  if sys.path[0] == \"\":\n"
     ]
    }
   ],
   "source": [
    "categ_ = ['SYN','MIS']\n",
    "BE = 'ABE'\n",
    "\n",
    "df_combined_ = get_detail_mutation_df(BE,categ_)\n",
    "# save_group_detail(df_combined_, BE='ABE', categ = 'MIS')\n",
    "\n",
    "df_grouped = get_sg_detail(df_combined_, BE = 'ABE', categ = categ_)\n",
    "df = pd.read_csv(join(f'../../data/complete_{BE}_df.csv'))\n",
    "\n",
    "# Filter based on mutation category\n",
    "df_filtered = df[df['categ'].isin(categ_)]\n",
    "df_filtered['sgRNA_'] = df_filtered['sgRNA'].apply(lambda x: x[1:] if x.startswith('g') else x)\n",
    "\n",
    "crispresso_path = '../../data/sequencing/singleSg'\n",
    "df_ = pd.concat([df_filtered[['name', 'sgRNA_','sgRNA','categ']].set_index('sgRNA_'), df_grouped.set_index('sgRNA')], axis = 1).reset_index()\n",
    "df_[['sgRNA', 'gene', 'categ','name', 'edit_genome_pos', 'chrom', 'gene_strand','sg_strand']].reset_index().to_csv(join(crispresso_path, f'{BE}_detail.csv'))"
   ]
  },
  {
   "cell_type": "code",
   "execution_count": 10,
   "id": "c7882170-f4c4-4882-8199-73e5bf0d3016",
   "metadata": {},
   "outputs": [
    {
     "name": "stderr",
     "output_type": "stream",
     "text": [
      "/storage/group/epo2/default/yur97/conda_envs/synSg/lib/python3.7/site-packages/ipykernel_launcher.py:23: SettingWithCopyWarning: \n",
      "A value is trying to be set on a copy of a slice from a DataFrame.\n",
      "Try using .loc[row_indexer,col_indexer] = value instead\n",
      "\n",
      "See the caveats in the documentation: https://pandas.pydata.org/pandas-docs/stable/user_guide/indexing.html#returning-a-view-versus-a-copy\n",
      "/storage/group/epo2/default/yur97/conda_envs/synSg/lib/python3.7/site-packages/ipykernel_launcher.py:12: SettingWithCopyWarning: \n",
      "A value is trying to be set on a copy of a slice from a DataFrame.\n",
      "Try using .loc[row_indexer,col_indexer] = value instead\n",
      "\n",
      "See the caveats in the documentation: https://pandas.pydata.org/pandas-docs/stable/user_guide/indexing.html#returning-a-view-versus-a-copy\n",
      "  if sys.path[0] == \"\":\n"
     ]
    }
   ],
   "source": [
    "categ_ = ['SYN','MIS']\n",
    "BE = 'CBE'\n",
    "\n",
    "df_combined_ = get_detail_mutation_df(BE,categ_)\n",
    "# save_group_detail(df_combined_, BE='ABE', categ = 'MIS')\n",
    "\n",
    "df_grouped = get_sg_detail(df_combined_, BE = BE, categ = categ_)\n",
    "df = pd.read_csv(join(f'../../data/complete_{BE}_df.csv'))\n",
    "\n",
    "# Filter based on mutation category\n",
    "df_filtered = df[df['categ'].isin(categ_)]\n",
    "df_filtered['sgRNA_'] = df_filtered['sgRNA'].apply(lambda x: x[1:] if x.startswith('g') else x)\n",
    "\n",
    "crispresso_path = '../../data/sequencing/singleSg'\n",
    "df_ = pd.concat([df_filtered[['name', 'sgRNA_','sgRNA','categ']].set_index('sgRNA_'), df_grouped.set_index('sgRNA')], axis = 1).reset_index()\n",
    "df_[['sgRNA', 'gene', 'categ','name', 'edit_genome_pos', 'chrom', 'gene_strand','sg_strand']].reset_index().to_csv(join(crispresso_path, f'{BE}_detail.csv'))"
   ]
  },
  {
   "cell_type": "code",
   "execution_count": null,
   "id": "e4c4dd2c-e095-48c5-8210-bd983105247e",
   "metadata": {},
   "outputs": [],
   "source": []
  }
 ],
 "metadata": {
  "kernelspec": {
   "display_name": "synSg",
   "language": "python",
   "name": "synsg"
  },
  "language_info": {
   "codemirror_mode": {
    "name": "ipython",
    "version": 3
   },
   "file_extension": ".py",
   "mimetype": "text/x-python",
   "name": "python",
   "nbconvert_exporter": "python",
   "pygments_lexer": "ipython3",
   "version": "3.7.16"
  }
 },
 "nbformat": 4,
 "nbformat_minor": 5
}
