{
 "cells": [
  {
   "cell_type": "markdown",
   "metadata": {},
   "source": [
    "# Golden Gate Cloning oligos of Remaining BCR-ABL"
   ]
  },
  {
   "cell_type": "code",
   "execution_count": 1,
   "metadata": {},
   "outputs": [],
   "source": [
    "import os\n",
    "import pandas as pd"
   ]
  },
  {
   "cell_type": "code",
   "execution_count": 2,
   "metadata": {},
   "outputs": [],
   "source": [
    "def RevComplment(s): #Case-senstive reverse complmnentarty conversion\n",
    "    comp = []\n",
    "    for i in s[::-1]:\n",
    "        if i == 'a':\n",
    "            comp.append('t')\n",
    "        if i == 'A':\n",
    "            comp.append('T')\n",
    "        if i == 't':\n",
    "            comp.append('a')\n",
    "        if i == 'T':\n",
    "            comp.append('A')\n",
    "        if i == 'c':\n",
    "            comp.append('g')\n",
    "        if i == 'C':\n",
    "            comp.append('G')\n",
    "        if i == 'g':\n",
    "            comp.append('c')\n",
    "        if i == 'G':\n",
    "            comp.append('C')\n",
    "    return ''.join(comp)"
   ]
  },
  {
   "cell_type": "code",
   "execution_count": 3,
   "metadata": {},
   "outputs": [],
   "source": [
    "def PAMless_gRNA(gene): #creates all possible gRNA no PAM requriment\n",
    "    W = 20 #window is the size of sgRNA\n",
    "    sgRNA_pos = [] #list of sgRNAs for the positive strand\n",
    "    for seq in gene:\n",
    "        for n in range((len(seq)-W)):\n",
    "            sgRNA_pos.append(seq[n:(n+W)])\n",
    "    #Create reverese complement of sgRNAs\n",
    "    sgRNA = [] #list of sgRNAs for the positive strand\n",
    "    for sg in sgRNA_pos:\n",
    "        sgRNA.append(sg) #store positive strand sgRNA\n",
    "        neg_sg = RevComplment(sg) #reverse complment of the positive strand sgRNA\n",
    "        sgRNA.append(neg_sg) #store negative strand sgRNA\n",
    "    sgRNA = list(set(sgRNA))\n",
    "    return(sgRNA)"
   ]
  },
  {
   "cell_type": "code",
   "execution_count": 4,
   "metadata": {},
   "outputs": [],
   "source": [
    "#Filter out oligo contains BsmBI cut site \n",
    "#Also filter U6 transcriptional termination poly T signal\n",
    "def RestrictedSiteFilter(oligo_pool, BlackList = ['CGTCTC', 'GAGACG', 'TTTTT']):\n",
    "    clean_oligos = []\n",
    "    for oligo in oligo_pool:\n",
    "        #Check if any blacklisted sites\n",
    "        if not any(site in oligo for site in BlackList):\n",
    "            clean_oligos.append(oligo)\n",
    "        else:\n",
    "            continue\n",
    "    return(clean_oligos)"
   ]
  },
  {
   "cell_type": "code",
   "execution_count": 5,
   "metadata": {},
   "outputs": [],
   "source": [
    "#Add amplifcation and BsmBI cut site adapters\n",
    "  #Forward Primer + BsmBI cut Site + oligo + BsmBI cut Sute + Reverse Primer\n",
    "#U6 promoter can start with either A or G, so need to add extra G in sgRNA\n",
    "def Amp_Adaptors(oligo_pool, Forward, Reverse):\n",
    "    adapted_oligos = []\n",
    "    for oligo in oligo_pool:\n",
    "        if oligo[0].upper() == 'A' or oligo[0].upper() == 'G': #no extra G\n",
    "            adapted_o = Forward + 'CGTCTCACACC' + oligo + 'GTTTCGAGACG' + RevComplment(Reverse)\n",
    "            adapted_oligos.append(adapted_o)\n",
    "        else: #extra G on all other sgRNAs\n",
    "            adapted_o = Forward + 'CGTCTCACACCG' + oligo + 'GTTTCGAGACG' + RevComplment(Reverse)\n",
    "            adapted_oligos.append(adapted_o)\n",
    "    return(adapted_oligos)"
   ]
  },
  {
   "cell_type": "code",
   "execution_count": 6,
   "metadata": {},
   "outputs": [],
   "source": [
    "#Add amplifcation and BsmBI cut site adapter\n",
    "#U6 promoter can start with either A or G\n",
    "def Amp_Adaptors2(oligo_pool, Forward, Reverse):\n",
    "    adapted_oligos = []\n",
    "    for oligo1, oligo2 in list(zip(oligo_pool[::2], oligo_pool[1::2])):\n",
    "        #Oligo 1\n",
    "        if oligo1[0].upper() == 'A' or oligo1[0].upper() == 'G': #no extra G\n",
    "            cut_o1 = 'CGTCTCACACC' + oligo1 + 'GTTTCGAGA'\n",
    "        if oligo1[0].upper() == 'C' or oligo1[0].upper() == 'T': #extra G\n",
    "            cut_o1 = 'CGTCTCACACCG' + oligo1 + 'GTTTCGAGA'\n",
    "        #Oligo 2\n",
    "        if oligo2[0].upper() == 'A' or oligo2[0].upper() == 'G': #no extra G\n",
    "            cut_o2 = 'CGTCTCTCACC' + oligo2 + 'GTTTAGAGACG'\n",
    "        if oligo2[0].upper() == 'C' or oligo2[0].upper() == 'T': #extra G\n",
    "            cut_o2 = 'CGTCTCTCACCG' + oligo2 + 'GTTTAGAGACG'\n",
    "        adapted_oligos.append((Forward + cut_o1 + cut_o2 + RevComplment(Reverse)))\n",
    "    return(adapted_oligos)"
   ]
  },
  {
   "cell_type": "markdown",
   "metadata": {},
   "source": [
    "## Combine all sgRNAs into Oligos"
   ]
  },
  {
   "cell_type": "code",
   "execution_count": 21,
   "metadata": {},
   "outputs": [],
   "source": [
    "#open excel file from CHOP CHOP 'G' PAM of \n",
    "path =r'C:\\Users\\Relentless\\OneDrive - The Pennsylvania State University\\Desktop\\Pritchard Lab\\BCRABL NG Screen\\PythonBCRABLmutAnalysis\\Remaining genomic and refseq sgRNA'\n",
    "os.chdir(path)"
   ]
  },
  {
   "cell_type": "code",
   "execution_count": 23,
   "metadata": {},
   "outputs": [],
   "source": [
    "CHOP= pd.read_csv(\"Remaining BCRABL sgRNA.txt\",  sep='\\t')"
   ]
  },
  {
   "cell_type": "code",
   "execution_count": 24,
   "metadata": {},
   "outputs": [
    {
     "data": {
      "text/html": [
       "<div>\n",
       "<style scoped>\n",
       "    .dataframe tbody tr th:only-of-type {\n",
       "        vertical-align: middle;\n",
       "    }\n",
       "\n",
       "    .dataframe tbody tr th {\n",
       "        vertical-align: top;\n",
       "    }\n",
       "\n",
       "    .dataframe thead th {\n",
       "        text-align: right;\n",
       "    }\n",
       "</style>\n",
       "<table border=\"1\" class=\"dataframe\">\n",
       "  <thead>\n",
       "    <tr style=\"text-align: right;\">\n",
       "      <th></th>\n",
       "      <th>Name</th>\n",
       "      <th>Target sequence</th>\n",
       "      <th>Genomic location</th>\n",
       "      <th>Strand</th>\n",
       "      <th>GC content (%)</th>\n",
       "      <th>Self-complementarity</th>\n",
       "      <th>MM0</th>\n",
       "      <th>MM1</th>\n",
       "      <th>MM2</th>\n",
       "      <th>MM3</th>\n",
       "      <th>Efficiency</th>\n",
       "      <th>sgRNA</th>\n",
       "    </tr>\n",
       "  </thead>\n",
       "  <tbody>\n",
       "    <tr>\n",
       "      <th>0</th>\n",
       "      <td>ABL1_1</td>\n",
       "      <td>TGTTCCCCCCTTTCTCTTCCAGA</td>\n",
       "      <td>chr9:130854042</td>\n",
       "      <td>+</td>\n",
       "      <td>55</td>\n",
       "      <td>0</td>\n",
       "      <td>0</td>\n",
       "      <td>0</td>\n",
       "      <td>9</td>\n",
       "      <td>210</td>\n",
       "      <td>0</td>\n",
       "      <td>TGTTCCCCCCTTTCTCTTCC</td>\n",
       "    </tr>\n",
       "    <tr>\n",
       "      <th>1</th>\n",
       "      <td>ABL1_2</td>\n",
       "      <td>TCCCCCCTTTCTCTTCCAGAAGC</td>\n",
       "      <td>chr9:130854045</td>\n",
       "      <td>+</td>\n",
       "      <td>55</td>\n",
       "      <td>0</td>\n",
       "      <td>0</td>\n",
       "      <td>0</td>\n",
       "      <td>9</td>\n",
       "      <td>&gt;=132</td>\n",
       "      <td>0</td>\n",
       "      <td>TCCCCCCTTTCTCTTCCAGA</td>\n",
       "    </tr>\n",
       "    <tr>\n",
       "      <th>2</th>\n",
       "      <td>ABL1_3</td>\n",
       "      <td>GGCTTCTGGAAGAGAAAGGGGGG</td>\n",
       "      <td>chr9:130854046</td>\n",
       "      <td>-</td>\n",
       "      <td>55</td>\n",
       "      <td>0</td>\n",
       "      <td>0</td>\n",
       "      <td>1</td>\n",
       "      <td>10</td>\n",
       "      <td>171</td>\n",
       "      <td>0</td>\n",
       "      <td>GGCTTCTGGAAGAGAAAGGG</td>\n",
       "    </tr>\n",
       "    <tr>\n",
       "      <th>3</th>\n",
       "      <td>ABL1_4</td>\n",
       "      <td>GGGCTTCTGGAAGAGAAAGGGGG</td>\n",
       "      <td>chr9:130854047</td>\n",
       "      <td>-</td>\n",
       "      <td>55</td>\n",
       "      <td>1</td>\n",
       "      <td>0</td>\n",
       "      <td>2</td>\n",
       "      <td>13</td>\n",
       "      <td>171</td>\n",
       "      <td>0</td>\n",
       "      <td>GGGCTTCTGGAAGAGAAAGG</td>\n",
       "    </tr>\n",
       "    <tr>\n",
       "      <th>4</th>\n",
       "      <td>ABL1_5</td>\n",
       "      <td>AGGGCTTCTGGAAGAGAAAGGGG</td>\n",
       "      <td>chr9:130854048</td>\n",
       "      <td>-</td>\n",
       "      <td>50</td>\n",
       "      <td>1</td>\n",
       "      <td>0</td>\n",
       "      <td>0</td>\n",
       "      <td>8</td>\n",
       "      <td>196</td>\n",
       "      <td>0</td>\n",
       "      <td>AGGGCTTCTGGAAGAGAAAG</td>\n",
       "    </tr>\n",
       "  </tbody>\n",
       "</table>\n",
       "</div>"
      ],
      "text/plain": [
       "     Name          Target sequence Genomic location Strand  GC content (%)  \\\n",
       "0  ABL1_1  TGTTCCCCCCTTTCTCTTCCAGA   chr9:130854042      +              55   \n",
       "1  ABL1_2  TCCCCCCTTTCTCTTCCAGAAGC   chr9:130854045      +              55   \n",
       "2  ABL1_3  GGCTTCTGGAAGAGAAAGGGGGG   chr9:130854046      -              55   \n",
       "3  ABL1_4  GGGCTTCTGGAAGAGAAAGGGGG   chr9:130854047      -              55   \n",
       "4  ABL1_5  AGGGCTTCTGGAAGAGAAAGGGG   chr9:130854048      -              50   \n",
       "\n",
       "   Self-complementarity  MM0  MM1  MM2    MM3  Efficiency  \\\n",
       "0                     0    0    0    9    210           0   \n",
       "1                     0    0    0    9  >=132           0   \n",
       "2                     0    0    1   10    171           0   \n",
       "3                     1    0    2   13    171           0   \n",
       "4                     1    0    0    8    196           0   \n",
       "\n",
       "                  sgRNA  \n",
       "0  TGTTCCCCCCTTTCTCTTCC  \n",
       "1  TCCCCCCTTTCTCTTCCAGA  \n",
       "2  GGCTTCTGGAAGAGAAAGGG  \n",
       "3  GGGCTTCTGGAAGAGAAAGG  \n",
       "4  AGGGCTTCTGGAAGAGAAAG  "
      ]
     },
     "execution_count": 24,
     "metadata": {},
     "output_type": "execute_result"
    }
   ],
   "source": [
    "CHOP.head()"
   ]
  },
  {
   "cell_type": "code",
   "execution_count": 26,
   "metadata": {},
   "outputs": [],
   "source": [
    "ALL_sgRNA = CHOP['sgRNA'].values.tolist()"
   ]
  },
  {
   "cell_type": "code",
   "execution_count": 27,
   "metadata": {},
   "outputs": [
    {
     "data": {
      "text/plain": [
       "1147"
      ]
     },
     "execution_count": 27,
     "metadata": {},
     "output_type": "execute_result"
    }
   ],
   "source": [
    "len(ALL_sgRNA)"
   ]
  },
  {
   "cell_type": "markdown",
   "metadata": {},
   "source": [
    "### Remove BsmBI sites created by addition of adapters"
   ]
  },
  {
   "cell_type": "code",
   "execution_count": 28,
   "metadata": {},
   "outputs": [],
   "source": [
    "#Single oligo format without primers\n",
    "ALLgRNA_noprime = Amp_Adaptors(ALL_sgRNA, \"\", \"\")"
   ]
  },
  {
   "cell_type": "code",
   "execution_count": 30,
   "metadata": {},
   "outputs": [],
   "source": [
    "#Chceck if addition of BsmBI cut sites creates an additional cutsite \n",
    "sgALL_NoCUT3 = []\n",
    "for i in range(len(ALLgRNA_noprime)):\n",
    "    Sense_count = ALLgRNA_noprime[i].count('CGTCTC')\n",
    "    Anti_count = ALLgRNA_noprime[i].count('GAGACG')\n",
    "    if ((Sense_count == 1) & (Anti_count == 1)):\n",
    "        sgALL_NoCUT3.append(ALL_sgRNA[i])"
   ]
  },
  {
   "cell_type": "code",
   "execution_count": 32,
   "metadata": {},
   "outputs": [
    {
     "data": {
      "text/plain": [
       "15"
      ]
     },
     "execution_count": 32,
     "metadata": {},
     "output_type": "execute_result"
    }
   ],
   "source": [
    "len(ALL_sgRNA)-len(sgALL_NoCUT3)"
   ]
  },
  {
   "cell_type": "markdown",
   "metadata": {},
   "source": [
    "Lost 15 sgRNA due to BsmBI site"
   ]
  },
  {
   "cell_type": "code",
   "execution_count": 33,
   "metadata": {},
   "outputs": [],
   "source": [
    "#Save Fasta for cross refrences\n",
    "with open('Remaining sgRNA that passed QC.txt', 'w') as f:\n",
    "    for i in range(len(sgALL_NoCUT3)):\n",
    "        f.write(sgALL_NoCUT3[i])\n",
    "        f.write('\\n')"
   ]
  },
  {
   "cell_type": "code",
   "execution_count": 34,
   "metadata": {},
   "outputs": [],
   "source": [
    "import random"
   ]
  },
  {
   "cell_type": "code",
   "execution_count": 35,
   "metadata": {},
   "outputs": [
    {
     "data": {
      "text/plain": [
       "1132"
      ]
     },
     "execution_count": 35,
     "metadata": {},
     "output_type": "execute_result"
    }
   ],
   "source": [
    "len(sgALL_NoCUT3)"
   ]
  },
  {
   "cell_type": "code",
   "execution_count": 37,
   "metadata": {},
   "outputs": [],
   "source": [
    "#Randomize the order of sgRNAs in the pools\n",
    "rand_sgALL= random.sample(sgALL_NoCUT3, len(sgALL_NoCUT3))"
   ]
  },
  {
   "cell_type": "code",
   "execution_count": 38,
   "metadata": {},
   "outputs": [],
   "source": [
    "sgALL_oligos_NotPrimed = Amp_Adaptors2(rand_sgALL,\"\",\"\")"
   ]
  },
  {
   "cell_type": "code",
   "execution_count": 39,
   "metadata": {},
   "outputs": [],
   "source": [
    "#Save Fasta for cross refrences agaisnt potential primers\n",
    "with open('Remaining_NotPrimed.fasta', 'w') as f:\n",
    "    for i in range(len(sgALL_oligos_NotPrimed)):\n",
    "        f.write('>'+ 'Seq' + str(i))\n",
    "        f.write('\\n')\n",
    "        f.write(sgALL_oligos_NotPrimed[i])\n",
    "        f.write('\\n')"
   ]
  },
  {
   "cell_type": "markdown",
   "metadata": {},
   "source": [
    "## Primer Design"
   ]
  },
  {
   "cell_type": "code",
   "execution_count": 40,
   "metadata": {},
   "outputs": [],
   "source": [
    "import random\n",
    "import primer3 as p3"
   ]
  },
  {
   "cell_type": "markdown",
   "metadata": {},
   "source": [
    "Criteria I care for:\n",
    "    1. GC clamp (at least 2 bases (C or G) found in the last 5 bases)\n",
    "    2. Balanced GC content is 50%\n",
    "    3. Melting temp to be about 57\n",
    "    4. No BsmBI cut site\n",
    "    5. Starts with GC"
   ]
  },
  {
   "cell_type": "code",
   "execution_count": 42,
   "metadata": {},
   "outputs": [],
   "source": [
    "Bases = ['A', 'C', 'T', 'G']"
   ]
  },
  {
   "cell_type": "code",
   "execution_count": 43,
   "metadata": {},
   "outputs": [],
   "source": [
    "BadSites = ['CGTCTC', 'GAGACG', 'AAAA', 'CCCC', 'TTTT', 'GGGG']"
   ]
  },
  {
   "cell_type": "code",
   "execution_count": 44,
   "metadata": {},
   "outputs": [],
   "source": [
    "PossiblePrimer = []\n",
    "while len(PossiblePrimer) < 200000:\n",
    "    primer = random.choice(['C','G']) + ''.join(random.choice(Bases) for i in range(17)) + 'CG'\n",
    "    #Check if it contains cut sites or repeat\n",
    "    if not any(bad in primer for bad in BadSites):\n",
    "        #Balanced GC Content\n",
    "        if (primer.count('C') + primer.count('G')) == 10:\n",
    "            #GC Clamp \n",
    "            if 4 > (primer.count('C', 15, 20) + primer.count('G', 15, 20)):\n",
    "                #Hairpin\n",
    "                if p3.calcHairpin(primer).tm < 10:\n",
    "                    #Homodimer\n",
    "                    if p3.calcHomodimer(primer).tm < 10:\n",
    "                        PossiblePrimer.append(primer)\n",
    "    #remove duplicates\n",
    "PossiblePrimer = list(set(PossiblePrimer))"
   ]
  },
  {
   "cell_type": "code",
   "execution_count": 45,
   "metadata": {},
   "outputs": [
    {
     "data": {
      "text/plain": [
       "199982"
      ]
     },
     "execution_count": 45,
     "metadata": {},
     "output_type": "execute_result"
    }
   ],
   "source": [
    "len(PossiblePrimer)"
   ]
  },
  {
   "cell_type": "code",
   "execution_count": 46,
   "metadata": {},
   "outputs": [],
   "source": [
    "with open('PossiblePrimers.fasta', 'w') as f:\n",
    "    for i in PossiblePrimer:\n",
    "        f.write('>'+i)\n",
    "        f.write('\\n')\n",
    "        f.write(i)\n",
    "        f.write('\\n')"
   ]
  },
  {
   "cell_type": "markdown",
   "metadata": {},
   "source": [
    "makeblastdb -in Remaining_NotPrimed.fasta -dbtype nucl -parse_seqids -max_file_sz 4000000000\n",
    "\n",
    "blastn -query PossiblePrimers.fasta -db Remaining_NotPrimed.fasta -out Blast_Primer.txt -word_size 7 -dust no"
   ]
  },
  {
   "cell_type": "code",
   "execution_count": 47,
   "metadata": {},
   "outputs": [],
   "source": [
    "os.chdir(r'C:\\Users\\Relentless\\OneDrive - The Pennsylvania State University\\Desktop\\Pritchard Lab\\BCRABL NG Screen\\PythonBCRABLmutAnalysis\\Remaining genomic and refseq sgRNA\\BCR Primer Search')"
   ]
  },
  {
   "cell_type": "code",
   "execution_count": 48,
   "metadata": {},
   "outputs": [],
   "source": [
    "BLAST_Primer= open(\"Blast_Primer.txt\", \"r\").read().splitlines()"
   ]
  },
  {
   "cell_type": "code",
   "execution_count": 49,
   "metadata": {},
   "outputs": [],
   "source": [
    "BlastQueryPrimer = []\n",
    "for i in range(len(BLAST_Primer)):\n",
    "    if 'Query=' in BLAST_Primer[i]:\n",
    "        Qseq = BLAST_Primer[i][-20:]\n",
    "        if 'No hits found' in BLAST_Primer[i+5]: #if no matches\n",
    "            BlastQueryPrimer.append([Qseq, 100, 100])\n",
    "            continue\n",
    "        if 'Seq' in BLAST_Primer[i+6]: #Check for first match\n",
    "            M0 = BLAST_Primer[i+6][-5:]\n",
    "        if 'Seq' in BLAST_Primer[i+7]: #Check for second match\n",
    "            M1 = BLAST_Primer[i+7][-5:]\n",
    "        if 'Seq' not in BLAST_Primer[i+7]: #Check if no second match\n",
    "            M1 = 100\n",
    "        BlastQueryPrimer.append([Qseq, M0, M1])"
   ]
  },
  {
   "cell_type": "code",
   "execution_count": 50,
   "metadata": {},
   "outputs": [],
   "source": [
    "#Extracting primers that do not bind to any of the oligo-adapted seqs\n",
    "PossiblePrimers2 = []\n",
    "for i in BlastQueryPrimer:\n",
    "    if i[1] == 100:\n",
    "        PossiblePrimers2.append(i[0])"
   ]
  },
  {
   "cell_type": "code",
   "execution_count": 51,
   "metadata": {},
   "outputs": [
    {
     "data": {
      "text/plain": [
       "26288"
      ]
     },
     "execution_count": 51,
     "metadata": {},
     "output_type": "execute_result"
    }
   ],
   "source": [
    "len(PossiblePrimers2)"
   ]
  },
  {
   "cell_type": "code",
   "execution_count": 54,
   "metadata": {},
   "outputs": [
    {
     "ename": "KeyboardInterrupt",
     "evalue": "",
     "output_type": "error",
     "traceback": [
      "\u001b[1;31m---------------------------------------------------------------------------\u001b[0m",
      "\u001b[1;31mKeyboardInterrupt\u001b[0m                         Traceback (most recent call last)",
      "\u001b[1;32m<ipython-input-54-867e3a01d66e>\u001b[0m in \u001b[0;36m<module>\u001b[1;34m\u001b[0m\n\u001b[0;32m      5\u001b[0m     \u001b[1;32mfor\u001b[0m \u001b[0moligo\u001b[0m \u001b[1;32min\u001b[0m \u001b[0msgALL_oligos_NotPrimed\u001b[0m\u001b[1;33m:\u001b[0m\u001b[1;33m\u001b[0m\u001b[1;33m\u001b[0m\u001b[0m\n\u001b[0;32m      6\u001b[0m         \u001b[0msenseTM\u001b[0m \u001b[1;33m=\u001b[0m \u001b[0mp3\u001b[0m\u001b[1;33m.\u001b[0m\u001b[0mcalcHeterodimer\u001b[0m\u001b[1;33m(\u001b[0m\u001b[0mi\u001b[0m\u001b[1;33m,\u001b[0m \u001b[0moligo\u001b[0m\u001b[1;33m)\u001b[0m\u001b[1;33m.\u001b[0m\u001b[0mtm\u001b[0m\u001b[1;33m\u001b[0m\u001b[1;33m\u001b[0m\u001b[0m\n\u001b[1;32m----> 7\u001b[1;33m         \u001b[0mantiTM\u001b[0m \u001b[1;33m=\u001b[0m \u001b[0mp3\u001b[0m\u001b[1;33m.\u001b[0m\u001b[0mcalcHeterodimer\u001b[0m\u001b[1;33m(\u001b[0m\u001b[0mi\u001b[0m\u001b[1;33m,\u001b[0m \u001b[0mRevComplment\u001b[0m\u001b[1;33m(\u001b[0m\u001b[0moligo\u001b[0m\u001b[1;33m)\u001b[0m\u001b[1;33m)\u001b[0m\u001b[1;33m.\u001b[0m\u001b[0mtm\u001b[0m\u001b[1;33m\u001b[0m\u001b[1;33m\u001b[0m\u001b[0m\n\u001b[0m\u001b[0;32m      8\u001b[0m         \u001b[0mHetero_List_S\u001b[0m\u001b[1;33m.\u001b[0m\u001b[0mappend\u001b[0m\u001b[1;33m(\u001b[0m\u001b[0msenseTM\u001b[0m\u001b[1;33m)\u001b[0m\u001b[1;33m\u001b[0m\u001b[1;33m\u001b[0m\u001b[0m\n\u001b[0;32m      9\u001b[0m         \u001b[0mHetero_List_A\u001b[0m\u001b[1;33m.\u001b[0m\u001b[0mappend\u001b[0m\u001b[1;33m(\u001b[0m\u001b[0mantiTM\u001b[0m\u001b[1;33m)\u001b[0m\u001b[1;33m\u001b[0m\u001b[1;33m\u001b[0m\u001b[0m\n",
      "\u001b[1;32m~\\Anaconda2\\lib\\site-packages\\primer3\\bindings.py\u001b[0m in \u001b[0;36mcalcHeterodimer\u001b[1;34m(seq1, seq2, mv_conc, dv_conc, dntp_conc, dna_conc, temp_c, max_loop, output_structure)\u001b[0m\n\u001b[0;32m    166\u001b[0m     '''\n\u001b[0;32m    167\u001b[0m     \u001b[0m_setThermoArgs\u001b[0m\u001b[1;33m(\u001b[0m\u001b[1;33m**\u001b[0m\u001b[0mlocals\u001b[0m\u001b[1;33m(\u001b[0m\u001b[1;33m)\u001b[0m\u001b[1;33m)\u001b[0m\u001b[1;33m\u001b[0m\u001b[1;33m\u001b[0m\u001b[0m\n\u001b[1;32m--> 168\u001b[1;33m     \u001b[1;32mreturn\u001b[0m \u001b[0m_THERMO_ANALYSIS\u001b[0m\u001b[1;33m.\u001b[0m\u001b[0mcalcHeterodimer\u001b[0m\u001b[1;33m(\u001b[0m\u001b[0mseq1\u001b[0m\u001b[1;33m,\u001b[0m \u001b[0mseq2\u001b[0m\u001b[1;33m,\u001b[0m \u001b[0moutput_structure\u001b[0m\u001b[1;33m)\u001b[0m\u001b[1;33m.\u001b[0m\u001b[0mcheckExc\u001b[0m\u001b[1;33m(\u001b[0m\u001b[1;33m)\u001b[0m\u001b[1;33m\u001b[0m\u001b[1;33m\u001b[0m\u001b[0m\n\u001b[0m\u001b[0;32m    169\u001b[0m \u001b[1;33m\u001b[0m\u001b[0m\n\u001b[0;32m    170\u001b[0m \u001b[1;33m\u001b[0m\u001b[0m\n",
      "\u001b[1;31mKeyboardInterrupt\u001b[0m: "
     ]
    }
   ],
   "source": [
    "PrimerHeteroTM = []\n",
    "for i in PossiblePrimers2:\n",
    "    Hetero_List_S = []\n",
    "    Hetero_List_A = []\n",
    "    for oligo in sgALL_oligos_NotPrimed:\n",
    "        senseTM = p3.calcHeterodimer(i, oligo).tm\n",
    "        antiTM = p3.calcHeterodimer(i, RevComplment(oligo)).tm\n",
    "        Hetero_List_S.append(senseTM)\n",
    "        Hetero_List_A.append(antiTM)\n",
    "    PrimerHeteroTM.append([i, max(Hetero_List_S), max(Hetero_List_A)])"
   ]
  },
  {
   "cell_type": "code",
   "execution_count": 55,
   "metadata": {},
   "outputs": [
    {
     "data": {
      "text/plain": [
       "3120"
      ]
     },
     "execution_count": 55,
     "metadata": {},
     "output_type": "execute_result"
    }
   ],
   "source": [
    "len(PrimerHeteroTM)"
   ]
  },
  {
   "cell_type": "code",
   "execution_count": 65,
   "metadata": {},
   "outputs": [],
   "source": [
    "#Primers that are unlikely to bind oligos\n",
    "GoodPrimer = []\n",
    "for i,m,n in PrimerHeteroTM:\n",
    "    if m < 18:\n",
    "        if n < 18:\n",
    "            GoodPrimer.append(i)"
   ]
  },
  {
   "cell_type": "code",
   "execution_count": 66,
   "metadata": {},
   "outputs": [
    {
     "data": {
      "text/plain": [
       "49"
      ]
     },
     "execution_count": 66,
     "metadata": {},
     "output_type": "execute_result"
    }
   ],
   "source": [
    "len(GoodPrimer)"
   ]
  },
  {
   "cell_type": "code",
   "execution_count": 67,
   "metadata": {},
   "outputs": [],
   "source": [
    "#Check for primer dimer with eachother\n",
    "GoodPrimerCheck = []\n",
    "for i in GoodPrimer:\n",
    "    PrimeA = p3.calcTm(i)\n",
    "    for m in GoodPrimer:\n",
    "        PrimeB = p3.calcTm(m)\n",
    "        HD_S = p3.calcHeterodimer(i, m).tm\n",
    "        HD_A = p3.calcHeterodimer(i, RevComplment(m)).tm\n",
    "        HD_sum = (HD_S + HD_A)\n",
    "        Tm_diff = abs((PrimeA-PrimeB))\n",
    "        GoodPrimerCheck.append([i,PrimeA,m,PrimeB,HD_S, HD_A, HD_sum, Tm_diff])"
   ]
  },
  {
   "cell_type": "code",
   "execution_count": 68,
   "metadata": {},
   "outputs": [],
   "source": [
    "coln = ['Primer A', 'Tm A', 'Primer B', 'Tm B', 'Sense Tm', 'AntiSense B Tm', 'SenseAnti Sum', 'Tm Dif']\n",
    "GoodPrimer_DF = pd.DataFrame(GoodPrimerCheck, columns=coln)"
   ]
  },
  {
   "cell_type": "code",
   "execution_count": 69,
   "metadata": {},
   "outputs": [
    {
     "data": {
      "text/html": [
       "<div>\n",
       "<style scoped>\n",
       "    .dataframe tbody tr th:only-of-type {\n",
       "        vertical-align: middle;\n",
       "    }\n",
       "\n",
       "    .dataframe tbody tr th {\n",
       "        vertical-align: top;\n",
       "    }\n",
       "\n",
       "    .dataframe thead th {\n",
       "        text-align: right;\n",
       "    }\n",
       "</style>\n",
       "<table border=\"1\" class=\"dataframe\">\n",
       "  <thead>\n",
       "    <tr style=\"text-align: right;\">\n",
       "      <th></th>\n",
       "      <th>Primer A</th>\n",
       "      <th>Tm A</th>\n",
       "      <th>Primer B</th>\n",
       "      <th>Tm B</th>\n",
       "      <th>Sense Tm</th>\n",
       "      <th>AntiSense B Tm</th>\n",
       "      <th>SenseAnti Sum</th>\n",
       "      <th>Tm Dif</th>\n",
       "    </tr>\n",
       "  </thead>\n",
       "  <tbody>\n",
       "    <tr>\n",
       "      <th>1173</th>\n",
       "      <td>CCCTTGAACCTAGATTACCG</td>\n",
       "      <td>49.209696</td>\n",
       "      <td>GGCGACACTACTGTATATCG</td>\n",
       "      <td>49.718704</td>\n",
       "      <td>-54.602413</td>\n",
       "      <td>-78.145295</td>\n",
       "      <td>-132.747708</td>\n",
       "      <td>0.509009</td>\n",
       "    </tr>\n",
       "    <tr>\n",
       "      <th>984</th>\n",
       "      <td>CAGGAGTCACATTAGTACCG</td>\n",
       "      <td>49.346865</td>\n",
       "      <td>CCTAAGTAGTTGAGGGATCG</td>\n",
       "      <td>48.673823</td>\n",
       "      <td>-70.571114</td>\n",
       "      <td>-59.651907</td>\n",
       "      <td>-130.223020</td>\n",
       "      <td>0.673042</td>\n",
       "    </tr>\n",
       "    <tr>\n",
       "      <th>2094</th>\n",
       "      <td>GCTTCCATACCTAACTCTCG</td>\n",
       "      <td>49.407329</td>\n",
       "      <td>GGCGATTGTCAGTCTATACG</td>\n",
       "      <td>50.279928</td>\n",
       "      <td>-50.443281</td>\n",
       "      <td>-77.153088</td>\n",
       "      <td>-127.596369</td>\n",
       "      <td>0.872599</td>\n",
       "    </tr>\n",
       "    <tr>\n",
       "      <th>1534</th>\n",
       "      <td>CAGTACCCTAGTTGTAACCG</td>\n",
       "      <td>49.238659</td>\n",
       "      <td>GTGCCTAAAGAGTCATTCCG</td>\n",
       "      <td>50.571463</td>\n",
       "      <td>-90.354006</td>\n",
       "      <td>-34.220557</td>\n",
       "      <td>-124.574563</td>\n",
       "      <td>1.332804</td>\n",
       "    </tr>\n",
       "    <tr>\n",
       "      <th>2184</th>\n",
       "      <td>CAGTCGCTATATCCTAGTCG</td>\n",
       "      <td>48.821288</td>\n",
       "      <td>GGTGTCATGTGTCTAACTCG</td>\n",
       "      <td>50.285355</td>\n",
       "      <td>-77.270477</td>\n",
       "      <td>-44.371042</td>\n",
       "      <td>-121.641519</td>\n",
       "      <td>1.464067</td>\n",
       "    </tr>\n",
       "  </tbody>\n",
       "</table>\n",
       "</div>"
      ],
      "text/plain": [
       "                  Primer A       Tm A              Primer B       Tm B  \\\n",
       "1173  CCCTTGAACCTAGATTACCG  49.209696  GGCGACACTACTGTATATCG  49.718704   \n",
       "984   CAGGAGTCACATTAGTACCG  49.346865  CCTAAGTAGTTGAGGGATCG  48.673823   \n",
       "2094  GCTTCCATACCTAACTCTCG  49.407329  GGCGATTGTCAGTCTATACG  50.279928   \n",
       "1534  CAGTACCCTAGTTGTAACCG  49.238659  GTGCCTAAAGAGTCATTCCG  50.571463   \n",
       "2184  CAGTCGCTATATCCTAGTCG  48.821288  GGTGTCATGTGTCTAACTCG  50.285355   \n",
       "\n",
       "       Sense Tm  AntiSense B Tm  SenseAnti Sum    Tm Dif  \n",
       "1173 -54.602413      -78.145295    -132.747708  0.509009  \n",
       "984  -70.571114      -59.651907    -130.223020  0.673042  \n",
       "2094 -50.443281      -77.153088    -127.596369  0.872599  \n",
       "1534 -90.354006      -34.220557    -124.574563  1.332804  \n",
       "2184 -77.270477      -44.371042    -121.641519  1.464067  "
      ]
     },
     "execution_count": 69,
     "metadata": {},
     "output_type": "execute_result"
    }
   ],
   "source": [
    "GoodPrimer_DF.sort_values(by='SenseAnti Sum').head()"
   ]
  },
  {
   "cell_type": "markdown",
   "metadata": {},
   "source": [
    "# Add best primers to oligos!"
   ]
  },
  {
   "cell_type": "code",
   "execution_count": 70,
   "metadata": {},
   "outputs": [],
   "source": [
    "F1 = 'CCCTTGAACCTAGATTACCG'\n",
    "R1 = 'GGCGACACTACTGTATATCG'"
   ]
  },
  {
   "cell_type": "code",
   "execution_count": 71,
   "metadata": {},
   "outputs": [],
   "source": [
    "LikestPrimer = [F1, R1]"
   ]
  },
  {
   "cell_type": "code",
   "execution_count": 73,
   "metadata": {},
   "outputs": [],
   "source": [
    "PrimerHeteroTM2 = []\n",
    "for i in LikestPrimer:\n",
    "    Hetero_List = []\n",
    "    for oligo in sgALL_oligos_NotPrimed:\n",
    "        Hetero_List.append(p3.calcHeterodimer(i, oligo).tm)\n",
    "    PrimerHeteroTM2.append([i, max(Hetero_List)])"
   ]
  },
  {
   "cell_type": "code",
   "execution_count": 74,
   "metadata": {},
   "outputs": [
    {
     "data": {
      "text/plain": [
       "-78.14529450463706"
      ]
     },
     "execution_count": 74,
     "metadata": {},
     "output_type": "execute_result"
    }
   ],
   "source": [
    "p3.calcHeterodimerTm(F1,RevComplment(R1))"
   ]
  },
  {
   "cell_type": "code",
   "execution_count": 76,
   "metadata": {},
   "outputs": [],
   "source": [
    "Final_ALL_oligos = Amp_Adaptors2(rand_sgALL,F1[:18],R1[:18])"
   ]
  },
  {
   "cell_type": "code",
   "execution_count": 77,
   "metadata": {},
   "outputs": [
    {
     "data": {
      "text/plain": [
       "'CCCTTGAACCTAGATTACCGTCTCACACCGTGCAGCTCCTTGGTGAGTAGTTTCGAGACGTCTCTCACCACTGCTTCTGATGGCAAGGTGTTTAGAGACGATATACAGTAGTGTCGCC'"
      ]
     },
     "execution_count": 77,
     "metadata": {},
     "output_type": "execute_result"
    }
   ],
   "source": [
    "Final_ALL_oligos[0]"
   ]
  },
  {
   "cell_type": "code",
   "execution_count": 81,
   "metadata": {},
   "outputs": [],
   "source": [
    "with open('BCR_Remianing_Primed20220815.csv', 'w') as f:\n",
    "    for i in range(len(Final_ALL_oligos)):\n",
    "        CTRLn = 'BCR_' + str(i)\n",
    "        f.write(CTRLn + ',' + Final_ALL_oligos[i])\n",
    "        f.write('\\n')"
   ]
  },
  {
   "cell_type": "code",
   "execution_count": 79,
   "metadata": {},
   "outputs": [
    {
     "data": {
      "text/plain": [
       "1132"
      ]
     },
     "execution_count": 79,
     "metadata": {},
     "output_type": "execute_result"
    }
   ],
   "source": [
    "len(sgALL_NoCUT3)"
   ]
  },
  {
   "cell_type": "code",
   "execution_count": 80,
   "metadata": {},
   "outputs": [
    {
     "data": {
      "text/plain": [
       "566"
      ]
     },
     "execution_count": 80,
     "metadata": {},
     "output_type": "execute_result"
    }
   ],
   "source": [
    "len(Final_ALL_oligos)"
   ]
  },
  {
   "cell_type": "code",
   "execution_count": null,
   "metadata": {},
   "outputs": [],
   "source": []
  }
 ],
 "metadata": {
  "kernelspec": {
   "display_name": "Python 3 (ipykernel)",
   "language": "python",
   "name": "python3"
  },
  "language_info": {
   "codemirror_mode": {
    "name": "ipython",
    "version": 3
   },
   "file_extension": ".py",
   "mimetype": "text/x-python",
   "name": "python",
   "nbconvert_exporter": "python",
   "pygments_lexer": "ipython3",
   "version": "3.7.12"
  }
 },
 "nbformat": 4,
 "nbformat_minor": 2
}
