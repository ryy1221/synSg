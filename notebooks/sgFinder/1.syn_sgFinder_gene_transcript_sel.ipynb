{
 "cells": [
  {
   "cell_type": "code",
   "execution_count": 1,
   "id": "0108d5da",
   "metadata": {},
   "outputs": [],
   "source": [
    "### This note book is for selecting the essential genes in the screen\n",
    "import pandas as pd\n",
    "import re\n",
    "from os import listdir\n",
    "from os.path import join\n",
    "import pickle"
   ]
  },
  {
   "cell_type": "code",
   "execution_count": 2,
   "id": "5a1469ef",
   "metadata": {},
   "outputs": [],
   "source": [
    "def sel_by_quantl(df, direction, quantile = 0.75):\n",
    "    if direction == 'higher':\n",
    "        sel_idx = df[df>df.quantile(quantile)].dropna().index\n",
    "    elif direction == 'lower':\n",
    "        sel_idx = df[df<df.quantile(quantile)].dropna().index\n",
    "        \n",
    "    sel_gene = set([x.split(' ')[0] for x in sel_idx])\n",
    "    return(sel_gene)"
   ]
  },
  {
   "cell_type": "code",
   "execution_count": 3,
   "id": "b29bc700",
   "metadata": {},
   "outputs": [],
   "source": [
    "# # How did I process the K562 gene effect score\n",
    "# df_effect = pd.read_csv('../data/22Q2_gene_effect/CRISPR_gene_effect.csv', index_col = 0)\n",
    "# # So K562 = ACH-000551, get K562 specific gene scores\n",
    "# df_effect_k562 = df_effect.loc['ACH-000551',:]\n",
    "# df_effect_k562.to_csv('./gene_effect_k562.csv')"
   ]
  },
  {
   "cell_type": "code",
   "execution_count": 4,
   "id": "fb4ed815",
   "metadata": {},
   "outputs": [],
   "source": [
    "path= '../../data/22Q2_gene_effect/'"
   ]
  },
  {
   "cell_type": "markdown",
   "id": "e5ad1595",
   "metadata": {},
   "source": [
    "***We take the intersection of genes that:***\n",
    "1. Are essential (Union/intersection? of K562 essential and common essential)\n",
    "2. Synonymous mutations are depleted\n",
    "3. Express in K562"
   ]
  },
  {
   "cell_type": "code",
   "execution_count": 5,
   "id": "973b9406",
   "metadata": {},
   "outputs": [],
   "source": [
    "### Common essential genes###\n",
    "df_comm_ess = pd.read_csv(join(path, 'common_essentials.csv'))\n",
    "comm_ess_genes = df_comm_ess['gene'].apply(lambda x: x.split('(')[0].split(' ')[0]).unique()\n",
    "df_non_ess = pd.read_csv(join(path,'nonessentials.csv'))\n",
    "noness_genes = df_non_ess['gene'].apply(lambda x: x.split('(')[0].split(' ')[0]).unique()"
   ]
  },
  {
   "cell_type": "code",
   "execution_count": 6,
   "id": "76541a3d",
   "metadata": {
    "scrolled": true,
    "tags": []
   },
   "outputs": [
    {
     "data": {
      "text/plain": [
       "array([[<AxesSubplot:title={'center':'ACH-000551'}>]], dtype=object)"
      ]
     },
     "execution_count": 6,
     "metadata": {},
     "output_type": "execute_result"
    },
    {
     "data": {
      "image/png": "[encoded data removed]",
      "text/plain": [
       "<Figure size 640x480 with 1 Axes>"
      ]
     },
     "metadata": {},
     "output_type": "display_data"
    }
   ],
   "source": [
    "### Check how much of the common essential overlap with K562 essential genes\n",
    "df_effect_k562 = pd.read_csv(join(path,'gene_effect_k562.csv'), index_col = 0)\n",
    "idx_genes = [i.split('(')[0].split(' ')[0] for i in df_effect_k562.index]\n",
    "df_effect_k562['genes'] = idx_genes\n",
    "df_effect_k562 = df_effect_k562.set_index('genes')\n",
    "# df_effect_k562.describe() # std is quite large, almost 50% of the genes are somewhat essential\n",
    "df_effect_k562.hist(bins = 20) # There's a step around -0.5, that take that"
   ]
  },
  {
   "cell_type": "code",
   "execution_count": 7,
   "id": "2d0ca54b",
   "metadata": {},
   "outputs": [
    {
     "data": {
      "text/plain": [
       "ACH-000551   -2.039344\n",
       "Name: 0.01, dtype: float64"
      ]
     },
     "execution_count": 7,
     "metadata": {},
     "output_type": "execute_result"
    }
   ],
   "source": [
    "df_effect_k562.quantile(0.01)"
   ]
  },
  {
   "cell_type": "code",
   "execution_count": 8,
   "id": "d37cffa2",
   "metadata": {},
   "outputs": [
    {
     "name": "stdout",
     "output_type": "stream",
     "text": [
      "There are 174 essential K562 genes and 1247 common essential genes\n"
     ]
    }
   ],
   "source": [
    "# Select and compare between common essential and K562 essential\n",
    "ess_k562 = df_effect_k562[df_effect_k562 < df_effect_k562.quantile(0.01)].dropna().index\n",
    "# ess_k562 = df_effect_k562[df_effect_k562 < df_effect_k562.quantile(0.5)].dropna().index\n",
    "print(f'There are {len(ess_k562)} essential K562 genes and {len(comm_ess_genes)} common essential genes')"
   ]
  },
  {
   "cell_type": "code",
   "execution_count": 9,
   "id": "5c908794",
   "metadata": {
    "scrolled": true
   },
   "outputs": [
    {
     "name": "stdout",
     "output_type": "stream",
     "text": [
      "128 of common essential genes in K562 essential genes\n"
     ]
    }
   ],
   "source": [
    "ess_gene = ess_k562.intersection(comm_ess_genes)\n",
    "print(f'{len(ess_k562.intersection(comm_ess_genes))} of common essential genes in K562 essential genes')"
   ]
  },
  {
   "cell_type": "markdown",
   "id": "a8357b97",
   "metadata": {},
   "source": [
    "***Sort the intersection of genes and get top 100 list***"
   ]
  },
  {
   "cell_type": "code",
   "execution_count": 9,
   "id": "cd5c96b5",
   "metadata": {},
   "outputs": [],
   "source": [
    "# top100_ess = list(df_effect_k562.loc[ess_gene,:].sort_values('ACH-000551').head(100).index)"
   ]
  },
  {
   "cell_type": "code",
   "execution_count": 10,
   "id": "2a5dd182",
   "metadata": {},
   "outputs": [],
   "source": [
    "# with open('../data/output/K562_comm_ess_100.txt','w') as f:\n",
    "#     for genes in top100_ess:\n",
    "#         f.write(genes+'\\n')\n",
    "        \n",
    "# more_ess = [i for i in ess_gene if i not in top100_ess]\n",
    "# with open('../data/output/K562_comm_ess_more.txt','w') as f:\n",
    "#     for genes in more_ess:\n",
    "#         f.write(genes+'\\n')\n",
    "        \n",
    "with open('../../data/output/K562_comm_ess.txt','w') as f:\n",
    "    for genes in ess_gene:\n",
    "        f.write(genes+'\\n')"
   ]
  },
  {
   "cell_type": "markdown",
   "id": "fe401482",
   "metadata": {},
   "source": [
    "***Get neutral gene list(Intersection between common non essential and K562 nonessentials)***"
   ]
  },
  {
   "cell_type": "code",
   "execution_count": 12,
   "id": "da60f624",
   "metadata": {},
   "outputs": [],
   "source": [
    "df_non_ess = pd.read_csv(join(path,'nonessentials.csv'))\n",
    "noness_genes = df_non_ess['gene'].apply(lambda x: x.split('(')[0].split(' ')[0]).unique()"
   ]
  },
  {
   "cell_type": "code",
   "execution_count": 13,
   "id": "7fe113b4",
   "metadata": {},
   "outputs": [],
   "source": [
    "neutral_list = list(df_effect_k562[(df_effect_k562['ACH-000551']>-0.01)&\\\n",
    "                                   (df_effect_k562['ACH-000551']<0.01)].index)"
   ]
  },
  {
   "cell_type": "code",
   "execution_count": 14,
   "id": "c8f6087d",
   "metadata": {},
   "outputs": [],
   "source": [
    "neutral_list = (set(noness_genes).intersection(set(neutral_list)))"
   ]
  },
  {
   "cell_type": "code",
   "execution_count": 15,
   "id": "af89fa93",
   "metadata": {},
   "outputs": [
    {
     "name": "stdout",
     "output_type": "stream",
     "text": [
      "41 of non essential genes in K562 essential genes\n"
     ]
    }
   ],
   "source": [
    "print(f'{len(neutral_list)} of non essential genes in K562 essential genes')"
   ]
  },
  {
   "cell_type": "code",
   "execution_count": 17,
   "id": "711c111a",
   "metadata": {},
   "outputs": [],
   "source": [
    "with open('../../data/output/K562_neutral.txt','w') as f:\n",
    "    for genes in neutral_list:\n",
    "        f.write(genes+'\\n')"
   ]
  },
  {
   "cell_type": "markdown",
   "id": "5b46ffe2",
   "metadata": {},
   "source": [
    "***Filter out transcripts/genes that are not expressed***"
   ]
  },
  {
   "cell_type": "code",
   "execution_count": 9,
   "id": "5f482dcc",
   "metadata": {},
   "outputs": [],
   "source": [
    "# df_transcript_exp = pd.read_csv('../data/22Q2_gene_effect/K562_tpm.csv', index_col = 0,header = None)\n",
    "# df_transcript_exp_header = pd.read_csv('../data/22Q2_gene_effect/K562_tpm_header.csv', index_col = 0)\n",
    "# df_transcript_exp.columns = df_transcript_exp_header.columns\n",
    "# pickle.dump(df_transcript_exp,open(join(path, 'K562_tpm.pkl'),'wb'))\n",
    "\n",
    "df_transcript_exp = pickle.load(open(join(path,'K562_tpm.pkl'),'rb'))"
   ]
  },
  {
   "cell_type": "code",
   "execution_count": 10,
   "id": "8f1517f8",
   "metadata": {},
   "outputs": [],
   "source": [
    "# We filter out transcripts in K562 that are expressed very low, This is TPM data downloaded from 22Q2 \n",
    "# Organize the dataframe..\n",
    "df_transcript_exp = df_transcript_exp.transpose().reset_index()\n",
    "splitted_transcript_cols = df_transcript_exp['index'].str.split('\\(|\\)', expand = True)\n",
    "df_transcript_exp = df_transcript_exp.drop(columns ='index')\n",
    "df_transcript_exp['gene'] = splitted_transcript_cols[0]\n",
    "df_transcript_exp['ensembl_transcript'] = splitted_transcript_cols[1]\n",
    "df_transcript_exp = df_transcript_exp.dropna()"
   ]
  },
  {
   "cell_type": "code",
   "execution_count": 11,
   "id": "f29dec58",
   "metadata": {},
   "outputs": [],
   "source": [
    "# All measured genes in K562\n",
    "gene_lists = [x.strip(' ') for x in df_transcript_exp.gene.unique()]\n",
    "\n",
    "# half of the transcripts TPM = 0, let's first filter them out\n",
    "df_trsp_exp_sel = df_transcript_exp[df_transcript_exp['ACH-000551']>0]\n",
    "\n",
    "exp_genes = [x.strip(' ') for x in df_trsp_exp_sel.gene.unique()]\n",
    "exp_transcripts = [x.strip(' ') for x in df_trsp_exp_sel.ensembl_transcript.unique()]"
   ]
  },
  {
   "cell_type": "code",
   "execution_count": 24,
   "id": "f653bd9c",
   "metadata": {},
   "outputs": [],
   "source": [
    "# MANE file downloaded from: https://ftp.ncbi.nlm.nih.gov/refseq/MANE/MANE_human/current/\n",
    "# This part map the ensembl transcriptID to refseq ID\n",
    "df_mane = pd.read_csv('../../data/MANE/MANE.GRCh38.v1.0.refseq_genomic.gtf', sep = '\\t')\n",
    "df_mane_ref_embs = df_mane[df_mane['gene'] == 'transcript'].iloc[:,8].str.split(';', expand=True)\n",
    "df_mane_ref_embs = pd.concat([df_mane_ref_embs,df_mane.iloc[df_mane_ref_embs.index,[3,4]]], axis = 1)\n",
    "mane_trsp_id = df_mane_ref_embs.iloc[:,2].apply(lambda x: x.split('Ensembl:')[-1].split('\"')[0].split('.')[0])\n",
    "mane_refseq_id = df_mane_ref_embs.iloc[:,1].apply(lambda x: x.split('transcript_id \"')[-1].split('\"')[0].split('.')[0])\n",
    "if len(mane_trsp_id) == len(mane_refseq_id):\n",
    "    df_refseq_emb = pd.DataFrame({'Ensembl':mane_trsp_id,\n",
    "                                 'refSeq':mane_refseq_id,\n",
    "                                 'Gene_name':df_mane_ref_embs[0],\n",
    "                                'Start':df_mane_ref_embs.iloc[:,-2],\n",
    "                                'End':df_mane_ref_embs.iloc[:,-1]})"
   ]
  },
  {
   "cell_type": "code",
   "execution_count": 39,
   "id": "872c1d40",
   "metadata": {},
   "outputs": [],
   "source": [
    "# df_refseq_emb.to_csv('MANE_esm_refseq_gene.csv')"
   ]
  },
  {
   "cell_type": "code",
   "execution_count": 26,
   "id": "1d15595d",
   "metadata": {},
   "outputs": [],
   "source": [
    "# Save the list of expressed transcripts; use as filters later\n",
    "exp_trsp_refseq = list(df_refseq_emb[df_refseq_emb['Ensembl'].isin(exp_transcripts)].refSeq)\n",
    "pickle.dump(exp_trsp_refseq, open(join(path,'expressed_transcripts.pkl'),'wb'))"
   ]
  },
  {
   "cell_type": "markdown",
   "id": "27b4a8a0-f13d-4e42-a3c9-058a162635ee",
   "metadata": {},
   "source": [
    "### Identify the negatively selected genes in gnomad"
   ]
  },
  {
   "cell_type": "code",
   "execution_count": 3,
   "id": "c7d22d1e-4a27-40c0-b41b-36a14bdbd822",
   "metadata": {},
   "outputs": [],
   "source": [
    "gnomad = pd.read_csv('../../data/gnomad.v4.1.constraint_metrics.tsv', sep = '\\t')"
   ]
  },
  {
   "cell_type": "code",
   "execution_count": 17,
   "id": "3b21ea48-c230-4e54-a0f1-ef9206c74ac7",
   "metadata": {},
   "outputs": [],
   "source": [
    "sub_df = gnomad[gnomad['gene'].isin(ess_gene)]\n",
    "sub_df = sub_df[(sub_df['mane_select'] == True) & (sub_df['canonical'] == True)]\n",
    "sub_df = sub_df[sub_df['transcript_type'] == 'protein_coding']"
   ]
  },
  {
   "cell_type": "code",
   "execution_count": 21,
   "id": "39fc2bb0-71fe-4aba-8133-9d55bf98711b",
   "metadata": {},
   "outputs": [
    {
     "data": {
      "text/plain": [
       "124"
      ]
     },
     "execution_count": 21,
     "metadata": {},
     "output_type": "execute_result"
    }
   ],
   "source": [
    "sub_df[sub_df['mis.z_score']>2]/len(sub_df)\n",
    "sub_df[sub_df['lof.pLI']>0.9]/len(sub_df)"
   ]
  },
  {
   "cell_type": "code",
   "execution_count": 24,
   "id": "0829ff7e-67c3-4f85-9cc2-d78109bb724f",
   "metadata": {},
   "outputs": [
    {
     "name": "stdout",
     "output_type": "stream",
     "text": [
      "EIF3I\n",
      "HCFC1\n",
      "RPS4X\n",
      "UBA1\n"
     ]
    }
   ],
   "source": [
    "for i in ess_gene:\n",
    "    if i not in sub_df['gene'].unique():\n",
    "        print(i)"
   ]
  }
 ],
 "metadata": {
  "kernelspec": {
   "display_name": "synSg",
   "language": "python",
   "name": "synsg"
  },
  "language_info": {
   "codemirror_mode": {
    "name": "ipython",
    "version": 3
   },
   "file_extension": ".py",
   "mimetype": "text/x-python",
   "name": "python",
   "nbconvert_exporter": "python",
   "pygments_lexer": "ipython3",
   "version": "3.7.16"
  },
  "vscode": {
   "interpreter": {
    "hash": "98f2c80b44341bd73b1f9d8216a15e5e62a08b78aedde5e7e2a556ca5684e5c3"
   }
  }
 },
 "nbformat": 4,
 "nbformat_minor": 5
}
