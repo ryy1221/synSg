{
 "cells": [
  {
   "cell_type": "code",
   "execution_count": null,
   "id": "21e782d9",
   "metadata": {},
   "outputs": [],
   "source": [
    "### This notebook contains code that filter sgRNAs that only edit synonymous mutations for the whole genome windows\n",
    "import os\n",
    "import sys\n",
    "sys.path.append('../')\n",
    "from itertools import chain,product\n",
    "import pandas as pd\n",
    "import syn_sgFinder\n",
    "from tqdm import tqdm\n",
    "from itertools import product\n",
    "from os.path import exists, join\n",
    "from os import makedirs\n",
    "from pandas.errors import EmptyDataError\n",
    "from multiprocessing import Pool, Manager"
   ]
  },
  {
   "cell_type": "code",
   "execution_count": null,
   "id": "e52bff07",
   "metadata": {},
   "outputs": [],
   "source": [
    "%load_ext autoreload\n",
    "%autoreload 2"
   ]
  },
  {
   "cell_type": "code",
   "execution_count": 44,
   "id": "7df467da",
   "metadata": {
    "tags": []
   },
   "outputs": [],
   "source": [
    "out_path = '../../data/output_genome/sg_Finder'\n",
    "mrna_path = '../../data/MANE'\n",
    "\n",
    "# Load all expressed transcripts\n",
    "# genelist = pd.read_csv('../chopchop/mart_export.txt', header =None)\n",
    "list_exp_trsp = pickle.load(open('../../data/22Q2_gene_effect/expressed_transcripts.pkl','rb'))\n",
    "# Parse mRNA sequence dictionary, for use when sequence aligned to intron-exon junctions\n",
    "record_dict = SeqIO.to_dict(SeqIO.parse(join(mrna_path,'MANE.GRCh38.v1.0.refseq_rna.fna'), \"fasta\"))"
   ]
  },
  {
   "cell_type": "code",
   "execution_count": 90,
   "id": "50e26b71",
   "metadata": {
    "scrolled": true
   },
   "outputs": [],
   "source": [
    "# Global lock for tqdm (ensures progress bar updates properly in multiprocessing)\n",
    "lock = Lock()\n",
    "\n",
    "def process_gene(gene, length, tag, sg_p, out_path, record_dict, list_exp_trsp, shared_empty_genes):\n",
    "    df_synsg_abe = pd.DataFrame()\n",
    "    df_synsg_cbe = pd.DataFrame()\n",
    "    \"\"\"Process a single gene safely, skipping errors and returning DataFrames.\"\"\"\n",
    "    try:\n",
    "        if not exists(join(out_path, gene, tag)):\n",
    "            makedirs(join(out_path, gene, tag))\n",
    "\n",
    "        # Get gene transcript, sequence information\n",
    "        sg_gene = syn_sgFinder.sgFinder_gene(gene, sg_path=sg_p)\n",
    "        sg_gene.gene_cds_proc(record_dict, list_exp_trsp)  # Filter non-expressed transcripts\n",
    "\n",
    "        # Initialize DataFrames\n",
    "        df_synsg_abe_dt = pd.DataFrame()\n",
    "        df_synsg_cbe_dt = pd.DataFrame()\n",
    "\n",
    "        for idx, transcript in product(sg_gene.sg_file.index, sg_gene.dict_exons.keys()):\n",
    "            sg_trsp = syn_sgFinder.sgFinder_transcript(sg_gene.gene, idx, transcript)\n",
    "            check_point = sg_trsp.process_BE_window(sg_gene, {}, window_length=length)\n",
    "\n",
    "            if check_point:\n",
    "                sg_trsp.all_pos_consq(sg_gene)\n",
    "                df_synsg_abe = df_synsg_abe.append(sg_trsp.df_abe,ignore_index = True)\n",
    "                df_synsg_cbe = df_synsg_cbe.append(sg_trsp.df_cbe,ignore_index = True)\n",
    "                \n",
    "                df_synsg_abe_dt = df_synsg_abe_dt.append(sg_trsp.df_abe_ind,ignore_index = True)\n",
    "                df_synsg_cbe_dt = df_synsg_cbe_dt.append(sg_trsp.df_cbe_ind,ignore_index = True)\n",
    "\n",
    "        df_synsg_abe_dt.to_csv(join(out_path,gene,tag,f'df_abe_detail.csv'))\n",
    "        df_synsg_cbe_dt.to_csv(join(out_path,gene,tag,f'df_cbe_detail.csv'))\n",
    "\n",
    "        return df_synsg_abe, df_synsg_cbe\n",
    "    \n",
    "    except Exception as e:\n",
    "        with lock:\n",
    "            print(f\"Skipping gene {gene} due to error: {e}\")\n",
    "        shared_empty_genes.append(gene)\n",
    "        return pd.DataFrame(), pd.DataFrame()  # Return empty DataFrames\n",
    "\n",
    "\n",
    "def run_sgFinder(input_genes, length, tag='ess', sg_p='../data/output_genome/sg_out'):\n",
    "    \"\"\"Parallelized sgFinder with error handling and tqdm progress bar.\"\"\"\n",
    "    out_path = '../../data/output_genome/sg_Finder'\n",
    "    \n",
    "    manager = Manager()\n",
    "    shared_empty_genes = manager.list()\n",
    "    shared_dict_filter = manager.dict()  # Shared dictionary for filtering sgRNAs\n",
    "\n",
    "    # Parallel execution\n",
    "    with Pool(processes=os.cpu_count()) as pool:\n",
    "        results = pool.starmap(\n",
    "            process_gene,\n",
    "            [(gene, length, tag, sg_p, out_path, record_dict,list_exp_trsp, shared_empty_genes) for gene in input_genes]\n",
    "        )\n",
    "    return (results)"
   ]
  },
  {
   "cell_type": "code",
   "execution_count": null,
   "id": "50290a5d-ec69-4c81-9357-a2cd36243ba5",
   "metadata": {
    "tags": []
   },
   "outputs": [],
   "source": [
    "name = 'aa'\n",
    "with open(f'../../chopchop/whole_genome_genes/mart_export_{name}', \"r\") as f:\n",
    "    genes = [line.strip() for line in f if line.strip()]\n",
    "res = run_sgFinder(genes, length = 15, tag = 'ess_15' )\n",
    "df_synsg_abe = pd.concat([res[i][0] for i in range(0, len(res), 2) ], ignore_index=True)\n",
    "df_synsg_cbe = pd.concat([res[i+1][0] for i in range(0, len(res)-1, 2)], ignore_index=True)\n",
    "ABE_synsg = df_synsg_abe[df_synsg_abe['syn_or_not'].apply(lambda x: isinstance(x, list) and all(x) & any(x))]\n",
    "CBE_synsg = df_synsg_cbe[df_synsg_cbe['syn_or_not'].apply(lambda x: isinstance(x, list) and all(x) & any(x))]"
   ]
  },
  {
   "cell_type": "code",
   "execution_count": 105,
   "id": "f6757030-9d57-4ab1-905c-7eb28bc179f1",
   "metadata": {},
   "outputs": [],
   "source": [
    "ABE_synsg.to_csv(join(out_path, f'ABE_synsg_{name}.csv'), index=False)\n",
    "CBE_synsg.to_csv(join(out_path,  f'CBE_synsg_{name}.csv'), index=False)"
   ]
  }
 ],
 "metadata": {
  "kernelspec": {
   "display_name": "synSg",
   "language": "python",
   "name": "synsg"
  },
  "language_info": {
   "codemirror_mode": {
    "name": "ipython",
    "version": 3
   },
   "file_extension": ".py",
   "mimetype": "text/x-python",
   "name": "python",
   "nbconvert_exporter": "python",
   "pygments_lexer": "ipython3",
   "version": "3.7.16"
  }
 },
 "nbformat": 4,
 "nbformat_minor": 5
}
