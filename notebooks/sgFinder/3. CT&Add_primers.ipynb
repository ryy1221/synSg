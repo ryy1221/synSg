{
 "cells": [
  {
   "cell_type": "code",
   "execution_count": 1,
   "id": "4b448ef4",
   "metadata": {},
   "outputs": [],
   "source": [
    "### This notebook select empty window and safe harbor sgRNAs and find the optimal primers to the sgRNA sequences\n",
    "import pandas as pd\n",
    "import sys\n",
    "sys.path.append('../')\n",
    "from src.utils import *\n",
    "import random"
   ]
  },
  {
   "cell_type": "code",
   "execution_count": 2,
   "id": "171fc902",
   "metadata": {},
   "outputs": [],
   "source": [
    "%load_ext autoreload\n",
    "%autoreload 2"
   ]
  },
  {
   "cell_type": "code",
   "execution_count": 5,
   "id": "a52fa1b6",
   "metadata": {},
   "outputs": [],
   "source": [
    "out_path = '../../data/sg_Finder'\n",
    "\n",
    "ABE_synsg = org_sgdf(join(out_path,'ess_15','ABE_synsg.csv'))\n",
    "CBE_synsg = org_sgdf(join(out_path,'ess_15','CBE_synsg.csv'))\n",
    "neutral_ABE_synsg = org_sgdf(join(out_path,'ess_15','ABE_synsg.csv'))\n",
    "neutral_CBE_synsg = org_sgdf(join(out_path,'ess_15','CBE_synsg.csv'))"
   ]
  },
  {
   "cell_type": "code",
   "execution_count": 6,
   "id": "3f3b744d-34f1-4013-9c9b-6f52ba4be6ac",
   "metadata": {},
   "outputs": [
    {
     "name": "stdout",
     "output_type": "stream",
     "text": [
      "There are 2134 ABE sgRNA and 3528 CBE sgRNA\n"
     ]
    }
   ],
   "source": [
    "print(f'There are {len(ABE_synsg)} ABE sgRNA and {len(CBE_synsg)} CBE sgRNA')"
   ]
  },
  {
   "cell_type": "code",
   "execution_count": 7,
   "id": "3c679049",
   "metadata": {},
   "outputs": [
    {
     "ename": "NameError",
     "evalue": "name 'sel_empty_window' is not defined",
     "output_type": "error",
     "traceback": [
      "\u001b[0;31m---------------------------------------------------------------------------\u001b[0m",
      "\u001b[0;31mNameError\u001b[0m                                 Traceback (most recent call last)",
      "\u001b[0;32m/tmp/ipykernel_77094/4026661349.py\u001b[0m in \u001b[0;36m<module>\u001b[0;34m\u001b[0m\n\u001b[1;32m      2\u001b[0m \u001b[0mCBE_etywind\u001b[0m \u001b[0;34m=\u001b[0m \u001b[0morg_sgdf\u001b[0m\u001b[0;34m(\u001b[0m\u001b[0mjoin\u001b[0m\u001b[0;34m(\u001b[0m\u001b[0mout_path\u001b[0m\u001b[0;34m,\u001b[0m\u001b[0;34m'ess_15'\u001b[0m\u001b[0;34m,\u001b[0m\u001b[0;34m'CBE_CT.csv'\u001b[0m\u001b[0;34m)\u001b[0m\u001b[0;34m)\u001b[0m\u001b[0;34m\u001b[0m\u001b[0;34m\u001b[0m\u001b[0m\n\u001b[1;32m      3\u001b[0m \u001b[0;31m# Select empty window sg for at least one sg per gene\u001b[0m\u001b[0;34m\u001b[0m\u001b[0;34m\u001b[0m\u001b[0;34m\u001b[0m\u001b[0m\n\u001b[0;32m----> 4\u001b[0;31m \u001b[0msel_ABE_etywind\u001b[0m \u001b[0;34m=\u001b[0m \u001b[0msel_empty_window\u001b[0m\u001b[0;34m(\u001b[0m\u001b[0mABE_etywind\u001b[0m\u001b[0;34m)\u001b[0m\u001b[0;34m\u001b[0m\u001b[0;34m\u001b[0m\u001b[0m\n\u001b[0m\u001b[1;32m      5\u001b[0m \u001b[0msel_CBE_etywind\u001b[0m \u001b[0;34m=\u001b[0m \u001b[0msel_empty_window\u001b[0m\u001b[0;34m(\u001b[0m\u001b[0mCBE_etywind\u001b[0m\u001b[0;34m)\u001b[0m\u001b[0;34m\u001b[0m\u001b[0;34m\u001b[0m\u001b[0m\n",
      "\u001b[0;31mNameError\u001b[0m: name 'sel_empty_window' is not defined"
     ]
    }
   ],
   "source": [
    "ABE_etywind = org_sgdf(join(out_path,'ess_15','ABE_CT.csv'))\n",
    "CBE_etywind = org_sgdf(join(out_path,'ess_15','CBE_CT.csv'))\n",
    "# Select empty window sg for at least one sg per gene\n",
    "sel_ABE_etywind = sel_empty_window(ABE_etywind)\n",
    "sel_CBE_etywind = sel_empty_window(CBE_etywind)"
   ]
  },
  {
   "cell_type": "code",
   "execution_count": null,
   "id": "add5fa4e-0002-44fa-b26f-2c01a092be78",
   "metadata": {},
   "outputs": [],
   "source": [
    "print(f'There are {len(sel_ABE_etywind)} control ABE sg and {len(sel_CBE_etywind)} control CBE sg')"
   ]
  },
  {
   "cell_type": "code",
   "execution_count": 11,
   "id": "d0be193b",
   "metadata": {},
   "outputs": [
    {
     "name": "stdout",
     "output_type": "stream",
     "text": [
      "There are 238 control ABE sg and 236 control CBE sg\n"
     ]
    }
   ],
   "source": [
    "print(f'There are {len(sel_ABE_etywind)} control ABE sg and {len(sel_CBE_etywind)} control CBE sg')"
   ]
  },
  {
   "cell_type": "code",
   "execution_count": 7,
   "id": "95f18825",
   "metadata": {},
   "outputs": [],
   "source": [
    "df_AAVS1 = readnCT('Final_sgAAVS1.txt',sel = True)\n",
    "df_CCR5 = readnCT('Final_sgCCR5.txt',sel = True)\n",
    "df_NT = readnCT('Final_sgNT.txt',sel = True)"
   ]
  },
  {
   "cell_type": "code",
   "execution_count": 22,
   "id": "764dcfa4",
   "metadata": {},
   "outputs": [
    {
     "data": {
      "text/plain": [
       "120"
      ]
     },
     "execution_count": 22,
     "metadata": {},
     "output_type": "execute_result"
    }
   ],
   "source": [
    "len(df_AAVS1)+len(df_CCR5)+len(df_NT)"
   ]
  },
  {
   "cell_type": "code",
   "execution_count": 9,
   "id": "b27339f9",
   "metadata": {},
   "outputs": [],
   "source": [
    "### Combine negative control and sample together!\n",
    "df_abe = pd.concat([ABE_synsg, sel_ABE_etywind, df_AAVS1,df_CCR5,df_NT], axis = 0).reset_index()\n",
    "df_cbe = pd.concat([CBE_synsg, sel_CBE_etywind, df_AAVS1,df_CCR5,df_NT], axis = 0).reset_index()"
   ]
  },
  {
   "cell_type": "code",
   "execution_count": 23,
   "id": "7c13c064",
   "metadata": {},
   "outputs": [
    {
     "data": {
      "text/plain": [
       "3941"
      ]
     },
     "execution_count": 23,
     "metadata": {},
     "output_type": "execute_result"
    }
   ],
   "source": [
    "len(df_abe)"
   ]
  },
  {
   "cell_type": "code",
   "execution_count": 24,
   "id": "24a97875",
   "metadata": {},
   "outputs": [
    {
     "data": {
      "text/plain": [
       "6785"
      ]
     },
     "execution_count": 24,
     "metadata": {},
     "output_type": "execute_result"
    }
   ],
   "source": [
    "len(df_cbe)"
   ]
  },
  {
   "cell_type": "code",
   "execution_count": 12,
   "id": "33e0b8fc",
   "metadata": {},
   "outputs": [],
   "source": [
    "### Positive control set: sg from screen result in enrich/deplete fitness\n",
    "sglabel = pd.read_csv(join(ivan_path,'BCRABBL.csv'))\n",
    "labels = sglabel[~sglabel[['sgNAME', 'sgRNA Seq']].duplicated()][['sgNAME', 'sgRNA Seq']].set_index('sgNAME')\n",
    "list_posCT_ABE = getpCT('K562_CD_Fitness.gene_summary.txt', [5,30], labels)\n",
    "list_posCT_CBE = getpCT('K562_AB_Fitness.gene_summary.txt', [1,25], labels)\n",
    "df_pCT_ABE = make_sg_df(list_posCT_ABE,'BCRABL')\n",
    "df_pCT_CBE = make_sg_df(list_posCT_CBE,'BCRABL')"
   ]
  },
  {
   "cell_type": "code",
   "execution_count": 16,
   "id": "a473b92e",
   "metadata": {},
   "outputs": [
    {
     "data": {
      "text/plain": [
       "50"
      ]
     },
     "execution_count": 16,
     "metadata": {},
     "output_type": "execute_result"
    }
   ],
   "source": [
    "len(df_pCT_ABE)"
   ]
  },
  {
   "cell_type": "code",
   "execution_count": 17,
   "id": "130d04d3",
   "metadata": {},
   "outputs": [
    {
     "data": {
      "text/plain": [
       "45"
      ]
     },
     "execution_count": 17,
     "metadata": {},
     "output_type": "execute_result"
    }
   ],
   "source": [
    "len(df_pCT_CBE)"
   ]
  },
  {
   "cell_type": "code",
   "execution_count": null,
   "id": "9e2c3279",
   "metadata": {},
   "outputs": [],
   "source": [
    "# ABE : negative, posCTABE, sample set\n",
    "# CBE: negative, posCT CBE, sample set\n",
    "# Four primers : one for negative+sample ABE, negative+sample CBE, pos ABE, posCBE"
   ]
  },
  {
   "cell_type": "code",
   "execution_count": 14,
   "id": "343ecfaa",
   "metadata": {},
   "outputs": [
    {
     "name": "stdout",
     "output_type": "stream",
     "text": [
      "1940 ABE sg groups and 3373 CBE sg groups\n"
     ]
    }
   ],
   "source": [
    "list_abe = list(df_abe.sgRNA);list_cbe = list(df_cbe.sgRNA)\n",
    "rABE_noprimer_list,rABE_pass_list = get_noprimer_list(list_abe)\n",
    "rCBE_noprimer_list,rCBE_pass_list = get_noprimer_list(list_cbe)\n",
    "print(f'{len(rABE_noprimer_list)} ABE sg groups and {len(rCBE_noprimer_list)} CBE sg groups')"
   ]
  },
  {
   "cell_type": "code",
   "execution_count": 15,
   "id": "c08d664e",
   "metadata": {},
   "outputs": [
    {
     "name": "stdout",
     "output_type": "stream",
     "text": [
      "25 ABE positive controlsg groups and 21 CBE positive control sg groups\n"
     ]
    }
   ],
   "source": [
    "rABE_noprimer_list_pos,rABEpos_pass_list = get_noprimer_list(list_posCT_ABE)\n",
    "rCBE_noprimer_list_pos,rCBEpos_pass_list = get_noprimer_list(list_posCT_CBE)\n",
    "print(f'{len(rABE_noprimer_list_pos)} ABE positive control\\\n",
    "sg groups and {len(rCBE_noprimer_list_pos)} CBE positive control sg groups')"
   ]
  },
  {
   "cell_type": "code",
   "execution_count": 114,
   "id": "fc54efdf",
   "metadata": {},
   "outputs": [],
   "source": [
    "#Save Fasta for cross refrences agaisnt potential primers\n",
    "write_noprime_list('rREsg_ABE.fasta',rABE_noprimer_list)\n",
    "write_noprime_list('rREsg_CBE.fasta',rCBE_noprimer_list)\n",
    "write_noprime_list('rREsg_CBE_pCT.fasta',rCBE_noprimer_list_pos)\n",
    "write_noprime_list('rREsg_ABE_pCT.fasta',rABE_noprimer_list_pos)"
   ]
  },
  {
   "cell_type": "markdown",
   "id": "06b0e6f5",
   "metadata": {},
   "source": [
    "***Get some statistics about gene and their sgRNAs***"
   ]
  },
  {
   "cell_type": "code",
   "execution_count": null,
   "id": "32d64482",
   "metadata": {},
   "outputs": [],
   "source": [
    "# Load all expressed transcripts\n",
    "f_genelist = pd.read_csv('../../data/output/k562_comm_ess.txt', header =None)\n",
    "list_exp_trsp = pickle.load(open('../../data/22Q2_gene_effect/expressed_transcripts.pkl','rb'))\n",
    "# Parse mRNA sequence dictionary, for use when sequence aligned to intron-exon junctions\n",
    "record_dict = SeqIO.to_dict(SeqIO.parse(join(mrna_path,'GRCh38_latest_rna.fna'), \"fasta\"))"
   ]
  },
  {
   "cell_type": "markdown",
   "id": "1de88200",
   "metadata": {},
   "source": [
    "***Blast n all possible primers***"
   ]
  },
  {
   "cell_type": "code",
   "execution_count": null,
   "id": "240ac1eb",
   "metadata": {},
   "outputs": [],
   "source": [
    "# cd /data/output/primers\n",
    "# makeblastdb -in rREsg_ABE.fasta -dbtype nucl -parse_seqids -max_file_sz 4000000000\n",
    "# blastn -query PossiblePrimers.fasta -db rREsg_ABE.fasta -out Blast_Primer_ABE.txt -word_size 7 -dust no\n",
    "\n",
    "# makeblastdb -in rREsg_CBE.fasta -dbtype nucl -parse_seqids -max_file_sz 4000000000\n",
    "# blastn -query PossiblePrimers.fasta -db rREsg_CBE.fasta -out Blast_Primer_CBE.txt -word_size 7 -dust no\n",
    "\n",
    "#or\n",
    "# blastn -query PossiblePrimers.fasta -db rREsg_CBE.fasta -out Blast_Primer_CBE.txt -word_size 7 -dust no -outfmt \"6 qseqid sseqid pident length mismatch gapopen qstart qend sstart send evalue bitscore staxids\"\n",
    "#https://www.biostars.org/p/141781/\n"
   ]
  },
  {
   "cell_type": "code",
   "execution_count": null,
   "id": "fbed4636",
   "metadata": {},
   "outputs": [],
   "source": [
    "BlastQueryPrimer_ABE = read_blast_res('Blast_Primer_ABE.txt')\n",
    "BlastQueryPrimer_CBE = read_blast_res('Blast_Primer_CBE.txt')"
   ]
  },
  {
   "cell_type": "code",
   "execution_count": null,
   "id": "062b5f71",
   "metadata": {},
   "outputs": [],
   "source": [
    "PrimerHeteroTM_ABE = calc_TM(BlastQueryPrimer_ABE[0:50],rABE_noprimer_list)\n",
    "PrimerHeteroTM_CBE = calc_TM(BlastQueryPrimer_CBE[0:50],rCBE_noprimer_list)"
   ]
  },
  {
   "cell_type": "code",
   "execution_count": null,
   "id": "70043589",
   "metadata": {},
   "outputs": [],
   "source": [
    "GoodPrimer_ABE = sel_primers(22,PrimerHeteroTM_ABE)\n",
    "GoodPrimer_CBE = sel_primers(22,PrimerHeteroTM_CBE)"
   ]
  },
  {
   "cell_type": "code",
   "execution_count": null,
   "id": "c4a535c8",
   "metadata": {},
   "outputs": [],
   "source": [
    "Fwd,Rev,oligoTM, primerTM = calc_best_primerTM(GoodPrimer_CBE, rCBE_noprimer_list)"
   ]
  },
  {
   "cell_type": "code",
   "execution_count": null,
   "id": "bbccfb79",
   "metadata": {},
   "outputs": [],
   "source": [
    "CBE_final_seq = attach_group_primer(rABE_pass_list,Fwd[:18],Rev[:18])"
   ]
  },
  {
   "cell_type": "markdown",
   "id": "9e416d7a",
   "metadata": {},
   "source": [
    "***Design Primer***  \n",
    "Actually should be a seperate part  \n",
    "Doesn't need to run this part!"
   ]
  },
  {
   "cell_type": "code",
   "execution_count": 36,
   "id": "0d597326",
   "metadata": {},
   "outputs": [],
   "source": [
    "random.seed(1)"
   ]
  },
  {
   "cell_type": "code",
   "execution_count": 63,
   "id": "252efaf1",
   "metadata": {},
   "outputs": [],
   "source": [
    "# Theoretically, a length of 20, # allele =4 has 4^20 possible sequences, 200000 is < 4^9\n",
    "# But that's already a lot\n",
    "# From Ivan:\n",
    "PossiblePrimer = [] \n",
    "while len(PossiblePrimer) < 200000:\n",
    "    primer = random.choice(['C','G']) + ''.join(random.choice(['A','G','C','T']) for i in range(17)) + 'CG'\n",
    "    #Check if it contains cut sites or repeat\n",
    "    if not any(bad in primer for bad in BadSites):\n",
    "        #Balanced GC Content\n",
    "        if (primer.count('C') + primer.count('G')) == 10:\n",
    "            #GC Clamp \n",
    "            if 4 > (primer.count('C', 15, 20) + primer.count('G', 15, 20)):\n",
    "                #Hairpin\n",
    "                if p3.calcHairpin(primer).tm < 10:\n",
    "                    #Homodimer\n",
    "                    if p3.calcHomodimer(primer).tm < 10:\n",
    "                        PossiblePrimer.append(primer)\n",
    "    #remove duplicates\n",
    "PossiblePrimer = list(set(PossiblePrimer))"
   ]
  },
  {
   "cell_type": "code",
   "execution_count": 66,
   "id": "e1870952",
   "metadata": {},
   "outputs": [
    {
     "data": {
      "text/plain": [
       "199982"
      ]
     },
     "execution_count": 66,
     "metadata": {},
     "output_type": "execute_result"
    }
   ],
   "source": [
    "len(PossiblePrimer) # This actually means the search is saturated"
   ]
  },
  {
   "cell_type": "code",
   "execution_count": 65,
   "id": "43162101",
   "metadata": {},
   "outputs": [],
   "source": [
    "with open('../../data/output/primers/PossiblePrimers.fasta', 'w') as f:\n",
    "    for i in PossiblePrimer:\n",
    "        f.write('>'+i)\n",
    "        f.write('\\n')\n",
    "        f.write(i)\n",
    "        f.write('\\n')"
   ]
  }
 ],
 "metadata": {
  "kernelspec": {
   "display_name": "synSg",
   "language": "python",
   "name": "synsg"
  },
  "language_info": {
   "codemirror_mode": {
    "name": "ipython",
    "version": 3
   },
   "file_extension": ".py",
   "mimetype": "text/x-python",
   "name": "python",
   "nbconvert_exporter": "python",
   "pygments_lexer": "ipython3",
   "version": "3.7.16"
  }
 },
 "nbformat": 4,
 "nbformat_minor": 5
}
